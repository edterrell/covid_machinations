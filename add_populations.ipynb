{
 "cells": [
  {
   "cell_type": "code",
   "execution_count": 237,
   "id": "9836a680-f8ed-4a14-aaba-bdc427bb656d",
   "metadata": {},
   "outputs": [],
   "source": [
    "import pandas as pd\n",
    "import openpyxl #for reading or saving to Excel\n",
    "import xlsxwriter\n",
    "import sys\n",
    "\n",
    "import state_country_dicts as scd\n",
    "import requests\n",
    "from bs4 import BeautifulSoup as bs\n",
    "# import regular expressions\n",
    "import re \n",
    "import time"
   ]
  },
  {
   "cell_type": "code",
   "execution_count": 2,
   "id": "f0c47b3b-dd0c-46b5-bb57-6f8ef96912be",
   "metadata": {},
   "outputs": [],
   "source": [
    "def clean_up (number_str):\n",
    "    '''This is a clean up routine so that only numeric characters remain'''\n",
    "    number_str = number_str.replace(',', '').replace('null','0').rstrip(']').lstrip(\"'\")\n",
    "    return int(number_str)"
   ]
  },
  {
   "cell_type": "code",
   "execution_count": 3,
   "id": "1b2a8546-2a45-444d-9452-eb61f1a04e02",
   "metadata": {},
   "outputs": [
    {
     "data": {
      "text/plain": [
       "'/Users/edwardterrell/Desktop/covid_machinations'"
      ]
     },
     "execution_count": 3,
     "metadata": {},
     "output_type": "execute_result"
    }
   ],
   "source": [
    "pwd"
   ]
  },
  {
   "cell_type": "code",
   "execution_count": 4,
   "id": "33067afd-11bf-4d4a-8708-e30b9bfebc12",
   "metadata": {},
   "outputs": [
    {
     "name": "stdout",
     "output_type": "stream",
     "text": [
      "end changed to yesterday: 2022-01-09 11:49:53.312010\n"
     ]
    },
    {
     "data": {
      "text/plain": [
       "694"
      ]
     },
     "execution_count": 4,
     "metadata": {},
     "output_type": "execute_result"
    }
   ],
   "source": [
    "# The start dates for U.S.states and for countries are different so must be accounted for\n",
    "# st_start = pd.Timestamp('2020/3/13')\n",
    "c_start = pd.Timestamp('2020/2/16')\n",
    "\n",
    "# set end time to yesterday\n",
    "\n",
    "#day == pd.Timestamp.today().strftime('%Y-%m-%d')\n",
    "end = pd.Timestamp.today() - pd.Timedelta(days=1)\n",
    "print(f'end changed to yesterday: {end}')\n",
    "#else:\n",
    "#   end = pd.Timestamp.today()\n",
    "#    print(f'end changed to {end}')\n",
    "    \n",
    "# set the index to the appropriate date range for states and countries\n",
    "#st_index = pd.date_range(st_start, end)\n",
    "c_index = pd.date_range(c_start, end)\n",
    "#len(st_index)\n",
    "len(c_index)\n",
    "\n",
    "# list comprehension to extract just the state initials from the dict\n",
    "#st_list = list(state_dict.values())\n",
    "\n",
    "# create an empty pandas df with column headers from state_dict\n",
    "#state = pd.DataFrame(columns = st_list,index=st_index)\n",
    "#state.sort_index(ascending = False).head()\n",
    "#state.shape"
   ]
  },
  {
   "cell_type": "code",
   "execution_count": 7,
   "id": "7e424217-58ff-4106-8200-a662a1c4f22e",
   "metadata": {},
   "outputs": [
    {
     "name": "stdin",
     "output_type": "stream",
     "text": [
      "Enter country codes seperated by a space: \n"
     ]
    },
    {
     "name": "stdout",
     "output_type": "stream",
     "text": [
      "{'spain': 'ES', 'france': 'FR', 'italy': 'IT'}\n",
      "\n"
     ]
    }
   ],
   "source": [
    "\n",
    "# creates a custom country dict\n",
    "c_string = input('Enter country codes seperated by a space:') or 'fr it es'\n",
    "clist = scd.custom_list (c_string)\n",
    "\n",
    "country_dict = {key: value for key, value in scd.all_countries.items() if value in clist}\n",
    "print(country_dict)\n",
    "\n",
    "print()"
   ]
  },
  {
   "cell_type": "code",
   "execution_count": 8,
   "id": "d18ce647-e0f1-4bb7-9d91-43e508add732",
   "metadata": {},
   "outputs": [
    {
     "data": {
      "text/plain": [
       "['ES', 'FR', 'IT']"
      ]
     },
     "execution_count": 8,
     "metadata": {},
     "output_type": "execute_result"
    }
   ],
   "source": [
    "c_list = list(country_dict.values())\n",
    "c_list"
   ]
  },
  {
   "cell_type": "code",
   "execution_count": 7,
   "id": "27b5b068-b4bc-43b8-bc36-2f597dff0655",
   "metadata": {},
   "outputs": [
    {
     "data": {
      "text/html": [
       "<div>\n",
       "<style scoped>\n",
       "    .dataframe tbody tr th:only-of-type {\n",
       "        vertical-align: middle;\n",
       "    }\n",
       "\n",
       "    .dataframe tbody tr th {\n",
       "        vertical-align: top;\n",
       "    }\n",
       "\n",
       "    .dataframe thead th {\n",
       "        text-align: right;\n",
       "    }\n",
       "</style>\n",
       "<table border=\"1\" class=\"dataframe\">\n",
       "  <thead>\n",
       "    <tr style=\"text-align: right;\">\n",
       "      <th></th>\n",
       "      <th>ES</th>\n",
       "      <th>FR</th>\n",
       "      <th>IT</th>\n",
       "    </tr>\n",
       "  </thead>\n",
       "  <tbody>\n",
       "    <tr>\n",
       "      <th>2022-01-04</th>\n",
       "      <td>NaN</td>\n",
       "      <td>NaN</td>\n",
       "      <td>NaN</td>\n",
       "    </tr>\n",
       "    <tr>\n",
       "      <th>2022-01-03</th>\n",
       "      <td>NaN</td>\n",
       "      <td>NaN</td>\n",
       "      <td>NaN</td>\n",
       "    </tr>\n",
       "    <tr>\n",
       "      <th>2022-01-02</th>\n",
       "      <td>NaN</td>\n",
       "      <td>NaN</td>\n",
       "      <td>NaN</td>\n",
       "    </tr>\n",
       "    <tr>\n",
       "      <th>2022-01-01</th>\n",
       "      <td>NaN</td>\n",
       "      <td>NaN</td>\n",
       "      <td>NaN</td>\n",
       "    </tr>\n",
       "    <tr>\n",
       "      <th>2021-12-31</th>\n",
       "      <td>NaN</td>\n",
       "      <td>NaN</td>\n",
       "      <td>NaN</td>\n",
       "    </tr>\n",
       "  </tbody>\n",
       "</table>\n",
       "</div>"
      ],
      "text/plain": [
       "             ES   FR   IT\n",
       "2022-01-04  NaN  NaN  NaN\n",
       "2022-01-03  NaN  NaN  NaN\n",
       "2022-01-02  NaN  NaN  NaN\n",
       "2022-01-01  NaN  NaN  NaN\n",
       "2021-12-31  NaN  NaN  NaN"
      ]
     },
     "execution_count": 7,
     "metadata": {},
     "output_type": "execute_result"
    }
   ],
   "source": [
    "# create an empty pandas df with column headers from country_dict, using the starting dates for the country as index\n",
    "country = pd.DataFrame(columns = c_list,index=c_index)\n",
    "country.sort_index(ascending = False).head()"
   ]
  },
  {
   "cell_type": "code",
   "execution_count": 9,
   "id": "272f75cd-a146-42e6-9923-928eaa28024d",
   "metadata": {},
   "outputs": [
    {
     "name": "stdout",
     "output_type": "stream",
     "text": [
      "https://www.worldometers.info/coronavirus/country/spain\n"
     ]
    },
    {
     "ename": "NameError",
     "evalue": "name 'country' is not defined",
     "output_type": "error",
     "traceback": [
      "\u001b[0;31m--------------------\u001b[0m",
      "\u001b[0;31mNameError\u001b[0mTraceback (most recent call last)",
      "\u001b[0;32m<ipython-input-9-5c8fc7ebf826>\u001b[0m in \u001b[0;36m<module>\u001b[0;34m\u001b[0m\n\u001b[1;32m     35\u001b[0m \u001b[0;34m\u001b[0m\u001b[0m\n\u001b[1;32m     36\u001b[0m     \u001b[0;31m# merge countries into the existing df and apply the function clean_up to convert strings to ints\u001b[0m\u001b[0;34m\u001b[0m\u001b[0;34m\u001b[0m\u001b[0;34m\u001b[0m\u001b[0m\n\u001b[0;32m---> 37\u001b[0;31m     \u001b[0mcountry\u001b[0m\u001b[0;34m[\u001b[0m\u001b[0mvalue\u001b[0m\u001b[0;34m]\u001b[0m \u001b[0;34m=\u001b[0m \u001b[0mprevious_cases\u001b[0m\u001b[0;34m\u001b[0m\u001b[0;34m\u001b[0m\u001b[0m\n\u001b[0m\u001b[1;32m     38\u001b[0m     \u001b[0mcountry\u001b[0m\u001b[0;34m[\u001b[0m\u001b[0mvalue\u001b[0m\u001b[0;34m]\u001b[0m \u001b[0;34m=\u001b[0m \u001b[0mcountry\u001b[0m\u001b[0;34m[\u001b[0m\u001b[0mvalue\u001b[0m\u001b[0;34m]\u001b[0m\u001b[0;34m.\u001b[0m\u001b[0mfillna\u001b[0m\u001b[0;34m(\u001b[0m\u001b[0;36m0\u001b[0m\u001b[0;34m)\u001b[0m\u001b[0;34m.\u001b[0m\u001b[0mapply\u001b[0m\u001b[0;34m(\u001b[0m\u001b[0mclean_up\u001b[0m\u001b[0;34m)\u001b[0m\u001b[0;34m\u001b[0m\u001b[0;34m\u001b[0m\u001b[0m\n\u001b[1;32m     39\u001b[0m \u001b[0;34m\u001b[0m\u001b[0m\n",
      "\u001b[0;31mNameError\u001b[0m: name 'country' is not defined"
     ]
    }
   ],
   "source": [
    "base_url='https://www.worldometers.info/coronavirus/country/'\n",
    "# Here the keys are the country names and the values are the 2-letter abbreviation\n",
    "for key, value in country_dict.items():\n",
    "    url = base_url+key\n",
    "    print(url)\n",
    "\n",
    "    # scrape web page for country info and assign to soup\n",
    "    response = requests.get(url)\n",
    "    #response.status_code\n",
    "    page = response.text\n",
    "    #print(response.text[:400])\n",
    "    soup = bs(page)\n",
    "    \n",
    "    # Find block of text/data near 'graph-cases-daily' \n",
    "    re_graph = re.compile('graph-cases')\n",
    "    dat = soup.find(text=re_graph)\n",
    "   \n",
    "    try:\n",
    "        data = soup.find(text=re_graph).parent\n",
    "    except:\n",
    "        print(f'Unable to find {url}')\n",
    "        print()\n",
    "        break\n",
    "\n",
    "    # Regex to pull out data chunk out of the larger soup like data\n",
    "    myregex = re.compile (r'data:.*\\]')\n",
    "    mo = myregex.search(str(data))\n",
    "\n",
    "    #mo.group() is a string so easy to get rid of the first entry\n",
    "    country_previous_cases = mo.group().split(',')[1:]\n",
    "    #print(country_previous_cases)\n",
    "    previous_cases = [\"0\" if i == 'null' else i for i in country_previous_cases]\n",
    "    \n",
    "    len(previous_cases)\n",
    "\n",
    "    # merge countries into the existing df and apply the function clean_up to convert strings to ints\n",
    "    country[value] = previous_cases\n",
    "    country[value] = country[value].fillna(0).apply(clean_up)\n",
    "    \n",
    "    time.sleep(2)\n",
    "country.clip(lower=0,inplace=True) #large negative number removed for better graphic clarity\n",
    "country.sort_index(ascending = False).head()"
   ]
  },
  {
   "cell_type": "markdown",
   "id": "0d137689-1094-4a72-9d31-87151568792c",
   "metadata": {},
   "source": [
    "### Scrape Section"
   ]
  },
  {
   "cell_type": "code",
   "execution_count": 339,
   "id": "f15983d6-3ec7-457f-b3ce-78b4e0c3f0e0",
   "metadata": {},
   "outputs": [
    {
     "name": "stdout",
     "output_type": "stream",
     "text": [
      "200\n"
     ]
    }
   ],
   "source": [
    "url='https://www.worldometers.info/coronavirus/'\n",
    "# scrape web page for table\n",
    "response = requests.get(url)\n",
    "print(response.status_code)\n",
    "page = response.text\n",
    "soup = bs(page)"
   ]
  },
  {
   "cell_type": "code",
   "execution_count": 266,
   "id": "db3aa435-b6f8-411e-9d4c-83b5d746ca76",
   "metadata": {},
   "outputs": [
    {
     "name": "stdout",
     "output_type": "stream",
     "text": [
      "country_names is length 221\n",
      "country_href (country_list2) is length 221\n"
     ]
    }
   ],
   "source": [
    "country_href = [item for item in soup.find('tbody').find_all(class_='mt_a')]\n",
    "country_names = [item.text for item in soup.find('tbody').find_all(class_='mt_a')]\n",
    "print (f'country_names is length {len(country_names)}')\n",
    "print (f'country_href (country_list2) is length {len(country_href)}')"
   ]
  },
  {
   "cell_type": "code",
   "execution_count": 267,
   "id": "793aac7f-51e2-4da3-a6f9-3034f4c1fdcf",
   "metadata": {},
   "outputs": [
    {
     "data": {
      "text/plain": [
       "[<a class=\"mt_a\" href=\"country/samoa/\">Samoa</a>,\n",
       " <a class=\"mt_a\" href=\"country/saint-helena/\">Saint Helena</a>,\n",
       " <a class=\"mt_a\" href=\"country/micronesia/\">Micronesia</a>,\n",
       " <a class=\"mt_a\" href=\"country/tonga/\">Tonga</a>,\n",
       " <a class=\"mt_a\" href=\"country/china/\">China</a>]"
      ]
     },
     "execution_count": 267,
     "metadata": {},
     "output_type": "execute_result"
    }
   ],
   "source": [
    "country_href[-5:]"
   ]
  },
  {
   "cell_type": "code",
   "execution_count": 268,
   "id": "cdf56a99-c446-40c5-ae31-7c88bc6a441b",
   "metadata": {},
   "outputs": [],
   "source": [
    "country_list2 = []\n",
    "for item in country_href:\n",
    "    country_list2.append(item['href'][8:-1])"
   ]
  },
  {
   "cell_type": "code",
   "execution_count": 269,
   "id": "83a16072-b9a7-40e6-b873-6e71734bf450",
   "metadata": {},
   "outputs": [
    {
     "data": {
      "text/plain": [
       "['samoa', 'saint-helena', 'micronesia', 'tonga', 'china']"
      ]
     },
     "execution_count": 269,
     "metadata": {},
     "output_type": "execute_result"
    }
   ],
   "source": [
    "country_list2[-5:]"
   ]
  },
  {
   "cell_type": "code",
   "execution_count": 270,
   "id": "173fb679-69cd-47a9-b211-9b484813200f",
   "metadata": {},
   "outputs": [
    {
     "data": {
      "text/plain": [
       "['Samoa', 'Saint Helena', 'Micronesia', 'Tonga', 'China']"
      ]
     },
     "execution_count": 270,
     "metadata": {},
     "output_type": "execute_result"
    }
   ],
   "source": [
    "country_names[-5:]"
   ]
  },
  {
   "cell_type": "code",
   "execution_count": 271,
   "id": "6a0c25ce-365b-4681-b4e7-4ec97bc569d3",
   "metadata": {},
   "outputs": [
    {
     "data": {
      "text/plain": [
       "(221, 1)"
      ]
     },
     "execution_count": 271,
     "metadata": {},
     "output_type": "execute_result"
    }
   ],
   "source": [
    "df = pd.DataFrame({'country':country_list2,'country_names':country_names})\n",
    "df.set_index('country', inplace=True)\n",
    "df.shape"
   ]
  },
  {
   "cell_type": "code",
   "execution_count": 62,
   "id": "7b79c253-98c1-4a33-9196-8696270c47c6",
   "metadata": {},
   "outputs": [
    {
     "data": {
      "text/html": [
       "<div>\n",
       "<style scoped>\n",
       "    .dataframe tbody tr th:only-of-type {\n",
       "        vertical-align: middle;\n",
       "    }\n",
       "\n",
       "    .dataframe tbody tr th {\n",
       "        vertical-align: top;\n",
       "    }\n",
       "\n",
       "    .dataframe thead th {\n",
       "        text-align: right;\n",
       "    }\n",
       "</style>\n",
       "<table border=\"1\" class=\"dataframe\">\n",
       "  <thead>\n",
       "    <tr style=\"text-align: right;\">\n",
       "      <th></th>\n",
       "      <th>country_names</th>\n",
       "    </tr>\n",
       "    <tr>\n",
       "      <th>country</th>\n",
       "      <th></th>\n",
       "    </tr>\n",
       "  </thead>\n",
       "  <tbody>\n",
       "    <tr>\n",
       "      <th>samoa</th>\n",
       "      <td>Samoa</td>\n",
       "    </tr>\n",
       "    <tr>\n",
       "      <th>saint-helena</th>\n",
       "      <td>Saint Helena</td>\n",
       "    </tr>\n",
       "    <tr>\n",
       "      <th>micronesia</th>\n",
       "      <td>Micronesia</td>\n",
       "    </tr>\n",
       "    <tr>\n",
       "      <th>tonga</th>\n",
       "      <td>Tonga</td>\n",
       "    </tr>\n",
       "    <tr>\n",
       "      <th>china</th>\n",
       "      <td>China</td>\n",
       "    </tr>\n",
       "  </tbody>\n",
       "</table>\n",
       "</div>"
      ],
      "text/plain": [
       "             country_names\n",
       "country                   \n",
       "samoa                Samoa\n",
       "saint-helena  Saint Helena\n",
       "micronesia      Micronesia\n",
       "tonga                Tonga\n",
       "china                China"
      ]
     },
     "execution_count": 62,
     "metadata": {},
     "output_type": "execute_result"
    }
   ],
   "source": [
    "df.tail()"
   ]
  },
  {
   "cell_type": "markdown",
   "id": "10f2c56d-dd57-49af-bae5-0c2b8779cad6",
   "metadata": {},
   "source": [
    "### pop section"
   ]
  },
  {
   "cell_type": "code",
   "execution_count": 323,
   "id": "865d7175-ce76-4eea-a441-6225c99d4dee",
   "metadata": {},
   "outputs": [
    {
     "name": "stdout",
     "output_type": "stream",
     "text": [
      "USA\n",
      "333,961,250\n"
     ]
    }
   ],
   "source": [
    "print (soup.find('tbody').find_all('a')[0].text)\n",
    "print([item for item in soup.find('tbody').find_all('a')][1].text)"
   ]
  },
  {
   "cell_type": "code",
   "execution_count": 324,
   "id": "a306bb2b-a39f-4838-aed1-6d42e9bf4c07",
   "metadata": {},
   "outputs": [
    {
     "name": "stdout",
     "output_type": "stream",
     "text": [
      "218\n"
     ]
    },
    {
     "data": {
      "text/plain": [
       "[<a href=\"/world-population/uruguay-population/\">3,492,082</a>,\n",
       " <a href=\"/world-population/norway-population/\">5,485,849</a>,\n",
       " <a href=\"/world-population/venezuela-population/\">28,313,087</a>,\n",
       " <a href=\"/world-population/ethiopia-population/\">119,297,417</a>,\n",
       " <a href=\"/world-population/state-of-palestine-population/\">5,281,919</a>]"
      ]
     },
     "execution_count": 324,
     "metadata": {},
     "output_type": "execute_result"
    }
   ],
   "source": [
    "world_list = [item for item in soup.find('tbody').find_all('a') if 'pop' in item['href']]\n",
    "print(len(world_list))\n",
    "world_list[70:75]"
   ]
  },
  {
   "cell_type": "code",
   "execution_count": 325,
   "id": "19fddc2d-df59-4fa7-88ac-179a1a2f9686",
   "metadata": {},
   "outputs": [
    {
     "name": "stdout",
     "output_type": "stream",
     "text": [
      "us\n",
      "333,961,250\n",
      "india\n",
      "1,400,680,035\n",
      "brazil\n",
      "214,862,375\n"
     ]
    }
   ],
   "source": [
    "for item in world_list[:3]:\n",
    "    print(item['href'][18:-12])\n",
    "    print(item.text)"
   ]
  },
  {
   "cell_type": "code",
   "execution_count": 326,
   "id": "3bbd6da7-3b60-4308-84cc-26ee9dea8731",
   "metadata": {},
   "outputs": [],
   "source": [
    "country_list3 = []\n",
    "pop_list = []\n",
    "for item in world_list:\n",
    "    country_list3.append(item['href'][18:-12])\n",
    "    pop_item = clean_up (item.text)\n",
    "    pop_list.append(pop_item)"
   ]
  },
  {
   "cell_type": "code",
   "execution_count": 327,
   "id": "02a010be-9354-477a-8044-12862e0b587b",
   "metadata": {},
   "outputs": [
    {
     "data": {
      "text/plain": [
       "(218, 1)"
      ]
     },
     "execution_count": 327,
     "metadata": {},
     "output_type": "execute_result"
    }
   ],
   "source": [
    "df2=pd.DataFrame({'country':country_list3, 'population':pop_list})\n",
    "df2.set_index('country', inplace=True)\n",
    "df2.shape"
   ]
  },
  {
   "cell_type": "code",
   "execution_count": 328,
   "id": "252e8b1f-2fd3-4157-8c26-ad20720106e2",
   "metadata": {},
   "outputs": [
    {
     "data": {
      "text/html": [
       "<div>\n",
       "<style scoped>\n",
       "    .dataframe tbody tr th:only-of-type {\n",
       "        vertical-align: middle;\n",
       "    }\n",
       "\n",
       "    .dataframe tbody tr th {\n",
       "        vertical-align: top;\n",
       "    }\n",
       "\n",
       "    .dataframe thead th {\n",
       "        text-align: right;\n",
       "    }\n",
       "</style>\n",
       "<table border=\"1\" class=\"dataframe\">\n",
       "  <thead>\n",
       "    <tr style=\"text-align: right;\">\n",
       "      <th></th>\n",
       "      <th>population</th>\n",
       "    </tr>\n",
       "    <tr>\n",
       "      <th>country</th>\n",
       "      <th></th>\n",
       "    </tr>\n",
       "  </thead>\n",
       "  <tbody>\n",
       "    <tr>\n",
       "      <th>us</th>\n",
       "      <td>333961250</td>\n",
       "    </tr>\n",
       "    <tr>\n",
       "      <th>india</th>\n",
       "      <td>1400680035</td>\n",
       "    </tr>\n",
       "    <tr>\n",
       "      <th>brazil</th>\n",
       "      <td>214862375</td>\n",
       "    </tr>\n",
       "    <tr>\n",
       "      <th>uk</th>\n",
       "      <td>68429595</td>\n",
       "    </tr>\n",
       "    <tr>\n",
       "      <th>france</th>\n",
       "      <td>65493709</td>\n",
       "    </tr>\n",
       "  </tbody>\n",
       "</table>\n",
       "</div>"
      ],
      "text/plain": [
       "         population\n",
       "country            \n",
       "us        333961250\n",
       "india    1400680035\n",
       "brazil    214862375\n",
       "uk         68429595\n",
       "france     65493709"
      ]
     },
     "execution_count": 328,
     "metadata": {},
     "output_type": "execute_result"
    }
   ],
   "source": [
    "df2.head()"
   ]
  },
  {
   "cell_type": "markdown",
   "id": "71926b47-54c5-46be-ac2d-90033628ccc5",
   "metadata": {},
   "source": [
    "### Merge section"
   ]
  },
  {
   "cell_type": "code",
   "execution_count": 340,
   "id": "ca1e6b1e-69da-4615-8f6c-5770d874093f",
   "metadata": {},
   "outputs": [
    {
     "name": "stdout",
     "output_type": "stream",
     "text": [
      "<class 'pandas.core.frame.DataFrame'>\n",
      "Index: 222 entries, afghanistan to zimbabwe\n",
      "Data columns (total 2 columns):\n",
      " #   Column         Non-Null Count  Dtype  \n",
      "---  ------         --------------  -----  \n",
      " 0   country_names  221 non-null    object \n",
      " 1   population     218 non-null    float64\n",
      "dtypes: float64(1), object(1)\n",
      "memory usage: 5.2+ KB\n"
     ]
    }
   ],
   "source": [
    "world_pop_df  = df.merge(df2,how='outer',left_index=True,right_index=True)\n",
    "world_pop_df.info()"
   ]
  },
  {
   "cell_type": "code",
   "execution_count": 341,
   "id": "575c0c54-973f-4b93-bb73-73686a5c59c0",
   "metadata": {},
   "outputs": [
    {
     "data": {
      "text/plain": [
       "['palau']"
      ]
     },
     "execution_count": 341,
     "metadata": {},
     "output_type": "execute_result"
    }
   ],
   "source": [
    "world_pop_df[world_pop_df['country_names'].isnull()].index.tolist()"
   ]
  },
  {
   "cell_type": "code",
   "execution_count": 342,
   "id": "7c95088d-763f-4ebd-a091-9d81787f6098",
   "metadata": {},
   "outputs": [
    {
     "data": {
      "text/plain": [
       "['china', 'israel', 'new-zealand', 'qatar']"
      ]
     },
     "execution_count": 342,
     "metadata": {},
     "output_type": "execute_result"
    }
   ],
   "source": [
    "world_pop_df[world_pop_df['population'].isnull()].index.tolist()"
   ]
  },
  {
   "cell_type": "code",
   "execution_count": 343,
   "id": "8a6329f7-9653-4a7f-bddd-9ad5abd74986",
   "metadata": {},
   "outputs": [
    {
     "name": "stdout",
     "output_type": "stream",
     "text": [
      "<class 'pandas.core.frame.DataFrame'>\n",
      "Index: 222 entries, afghanistan to zimbabwe\n",
      "Data columns (total 2 columns):\n",
      " #   Column         Non-Null Count  Dtype  \n",
      "---  ------         --------------  -----  \n",
      " 0   country_names  222 non-null    object \n",
      " 1   population     222 non-null    float64\n",
      "dtypes: float64(1), object(1)\n",
      "memory usage: 13.3+ KB\n"
     ]
    }
   ],
   "source": [
    "#name repair\n",
    "world_pop_df.loc['palau','country_names'] = 'Palau'\n",
    "\n",
    "#population repair\n",
    "world_pop_df.loc['china','population'] = 1444000000\n",
    "world_pop_df.loc['israel','population'] = 9200000\n",
    "world_pop_df.loc['new-zealand','population'] = 5000000\n",
    "world_pop_df.loc['qatar','population'] = 2900000\n",
    "world_pop_df.info()"
   ]
  },
  {
   "cell_type": "code",
   "execution_count": 357,
   "id": "e86544c6-a76b-4eb3-bf52-ee750ef13ead",
   "metadata": {},
   "outputs": [],
   "source": [
    "new_w_list = world_pop_df.index.to_list()"
   ]
  },
  {
   "cell_type": "code",
   "execution_count": 359,
   "id": "e68348ed-90e9-487b-97ce-15713963a725",
   "metadata": {},
   "outputs": [],
   "source": [
    "w_list = list(scd.all_countries.keys())"
   ]
  },
  {
   "cell_type": "code",
   "execution_count": null,
   "id": "aa62a0ef-33e1-4459-bb89-7f463f8ae504",
   "metadata": {},
   "outputs": [],
   "source": [
    "test=[]\n",
    "for country in new_w_list:\n",
    "    if country in w_list:\n",
    "        pass\n",
    "    else:\n",
    "        print(country)\n",
    "        test.append(country)"
   ]
  },
  {
   "cell_type": "code",
   "execution_count": 365,
   "id": "10d03401-f6b8-46cd-a875-8902f5fe967c",
   "metadata": {},
   "outputs": [
    {
     "data": {
      "text/plain": [
       "38"
      ]
     },
     "execution_count": 365,
     "metadata": {},
     "output_type": "execute_result"
    }
   ],
   "source": [
    "len(test)"
   ]
  },
  {
   "cell_type": "code",
   "execution_count": 367,
   "id": "2cf34652-ded3-4d84-b0f0-c7b8867bc5e2",
   "metadata": {},
   "outputs": [
    {
     "data": {
      "text/html": [
       "<div>\n",
       "<style scoped>\n",
       "    .dataframe tbody tr th:only-of-type {\n",
       "        vertical-align: middle;\n",
       "    }\n",
       "\n",
       "    .dataframe tbody tr th {\n",
       "        vertical-align: top;\n",
       "    }\n",
       "\n",
       "    .dataframe thead th {\n",
       "        text-align: right;\n",
       "    }\n",
       "</style>\n",
       "<table border=\"1\" class=\"dataframe\">\n",
       "  <thead>\n",
       "    <tr style=\"text-align: right;\">\n",
       "      <th></th>\n",
       "      <th>population</th>\n",
       "    </tr>\n",
       "    <tr>\n",
       "      <th>country</th>\n",
       "      <th></th>\n",
       "    </tr>\n",
       "  </thead>\n",
       "  <tbody>\n",
       "    <tr>\n",
       "      <th>China</th>\n",
       "      <td>1440297825</td>\n",
       "    </tr>\n",
       "    <tr>\n",
       "      <th>India</th>\n",
       "      <td>1382345085</td>\n",
       "    </tr>\n",
       "    <tr>\n",
       "      <th>United States</th>\n",
       "      <td>331341050</td>\n",
       "    </tr>\n",
       "    <tr>\n",
       "      <th>Indonesia</th>\n",
       "      <td>274021604</td>\n",
       "    </tr>\n",
       "    <tr>\n",
       "      <th>Pakistan</th>\n",
       "      <td>221612785</td>\n",
       "    </tr>\n",
       "    <tr>\n",
       "      <th>...</th>\n",
       "      <td>...</td>\n",
       "    </tr>\n",
       "    <tr>\n",
       "      <th>Montserrat</th>\n",
       "      <td>4993</td>\n",
       "    </tr>\n",
       "    <tr>\n",
       "      <th>Falkland Islands</th>\n",
       "      <td>3497</td>\n",
       "    </tr>\n",
       "    <tr>\n",
       "      <th>Niue</th>\n",
       "      <td>1628</td>\n",
       "    </tr>\n",
       "    <tr>\n",
       "      <th>Tokelau</th>\n",
       "      <td>1360</td>\n",
       "    </tr>\n",
       "    <tr>\n",
       "      <th>Holy See</th>\n",
       "      <td>801</td>\n",
       "    </tr>\n",
       "  </tbody>\n",
       "</table>\n",
       "<p>235 rows × 1 columns</p>\n",
       "</div>"
      ],
      "text/plain": [
       "                  population\n",
       "country                     \n",
       "China             1440297825\n",
       "India             1382345085\n",
       "United States      331341050\n",
       "Indonesia          274021604\n",
       "Pakistan           221612785\n",
       "...                      ...\n",
       "Montserrat              4993\n",
       "Falkland Islands        3497\n",
       "Niue                    1628\n",
       "Tokelau                 1360\n",
       "Holy See                 801\n",
       "\n",
       "[235 rows x 1 columns]"
      ]
     },
     "execution_count": 367,
     "metadata": {},
     "output_type": "execute_result"
    }
   ],
   "source": [
    "df = pd.read_csv('population_by_country_2020.csv',usecols=(0,1))\n",
    "df.columns = ['country','population']\n",
    "\n",
    "\n",
    "df.to_csv('world_pop.csv',index=False)\n",
    "\n",
    "df = pd.read_csv('world_pop.csv').iloc[:,0:2].set_index('country')\n",
    "df"
   ]
  },
  {
   "cell_type": "code",
   "execution_count": 344,
   "id": "111f0587-7a1c-4416-ac68-98ed982cdb3a",
   "metadata": {},
   "outputs": [
    {
     "name": "stdin",
     "output_type": "stream",
     "text": [
      "Enter country codes seperated by a space: \n"
     ]
    },
    {
     "name": "stdout",
     "output_type": "stream",
     "text": [
      "{'spain': 'ES', 'france': 'FR', 'italy': 'IT'}\n",
      "\n"
     ]
    }
   ],
   "source": [
    "# creates a custom country dict\n",
    "import state_country_dicts as scd\n",
    "c_string = input('Enter country codes seperated by a space:') or 'fr it es'\n",
    "clist = scd.custom_list (c_string)\n",
    "\n",
    "country_dict = {key: value for key, value in scd.all_countries.items() if value in clist}\n",
    "print(country_dict)\n",
    "\n",
    "print()"
   ]
  },
  {
   "cell_type": "code",
   "execution_count": null,
   "id": "a51155dd-fbc1-4c39-b44e-1e565bf2b003",
   "metadata": {},
   "outputs": [],
   "source": [
    "def reverse_dict(dictionary):\n",
    "    # reverse keys and values\n",
    "    return dict(map(reversed, dictionary.items()))"
   ]
  },
  {
   "cell_type": "code",
   "execution_count": null,
   "id": "7216494c-429c-454e-9618-f0f86f4c5f24",
   "metadata": {},
   "outputs": [],
   "source": []
  },
  {
   "cell_type": "code",
   "execution_count": null,
   "id": "0d84bdda-527b-47c5-a04c-28806533f319",
   "metadata": {},
   "outputs": [],
   "source": [
    "url = 'https://www.infoplease.com/us/states/state-population-by-rank'\n",
    "tables = pd.read_html(url)\n",
    "state_pop = tables[0].iloc[:-1,1:3]\n",
    "state_pop.columns=('State','pop_millions')\n",
    "state_pop.pop_millions = state_pop.pop_millions/1000000\n",
    "state_pop.head()"
   ]
  },
  {
   "cell_type": "code",
   "execution_count": null,
   "id": "62282f2f-d6ce-4e0f-a885-7457b82e77dc",
   "metadata": {},
   "outputs": [],
   "source": [
    "pwd"
   ]
  },
  {
   "cell_type": "code",
   "execution_count": null,
   "id": "bce7e3e0-a630-4473-8ce1-38ebe6ad14de",
   "metadata": {},
   "outputs": [],
   "source": [
    "df = pd.DataFrame(list(us_states.items()))\n",
    "df.columns = ('State', 'Code')\n",
    "df.head()"
   ]
  },
  {
   "cell_type": "code",
   "execution_count": null,
   "id": "188de8b6-c9e1-44ce-8693-847911549f05",
   "metadata": {},
   "outputs": [],
   "source": [
    "state_population = pd.merge(df,state_pop,on='State')\n",
    "state_population.head()"
   ]
  },
  {
   "cell_type": "code",
   "execution_count": null,
   "id": "c211a85a-84d6-49b5-8184-e3ef07c34cbc",
   "metadata": {},
   "outputs": [],
   "source": [
    "state_population.to_csv('test.csv',index=False)"
   ]
  },
  {
   "cell_type": "code",
   "execution_count": null,
   "id": "5c2940a9-a161-4411-8809-4016d67e1b7b",
   "metadata": {},
   "outputs": [],
   "source": [
    "df = pd.read_csv('test.csv')"
   ]
  },
  {
   "cell_type": "code",
   "execution_count": null,
   "id": "361091b1-1266-4c33-ab65-ae8552f929ab",
   "metadata": {},
   "outputs": [],
   "source": []
  },
  {
   "cell_type": "code",
   "execution_count": null,
   "id": "269cf3fc-b32e-4a5f-b9f8-1d5581b701f8",
   "metadata": {},
   "outputs": [],
   "source": [
    "# translate States to Two-Letter codes\n",
    "us_states = {\n",
    "    'Alabama': 'AL',\n",
    "    'Alaska': 'AK',\n",
    "    'Arizona': 'AZ',\n",
    "    'Arkansas': 'AR',\n",
    "    'California': 'CA',\n",
    "    'Colorado': 'CO',\n",
    "    'Connecticut': 'CT',\n",
    "    'Delaware': 'DE',\n",
    "    'District of Columbia': 'DC',\n",
    "    'Florida': 'FL',\n",
    "    'Georgia': 'GA',\n",
    "    'Hawaii': 'HI',\n",
    "    'Idaho': 'ID',\n",
    "    'Illinois': 'IL',\n",
    "    'Indiana': 'IN',\n",
    "    'Iowa': 'IA',\n",
    "    'Kansas': 'KS',\n",
    "    'Kentucky': 'KY',\n",
    "    'Louisiana': 'LA',\n",
    "    'Maine': 'ME',\n",
    "    'Maryland': 'MD',\n",
    "    'Massachusetts': 'MA',\n",
    "    'Michigan': 'MI',\n",
    "    'Minnesota': 'MN',\n",
    "    'Mississippi': 'MS',\n",
    "    'Missouri': 'MO',\n",
    "    'Montana': 'MT',\n",
    "    'Nebraska': 'NE',\n",
    "    'Nevada': 'NV',\n",
    "    'New Hampshire': 'NH',\n",
    "    'New Jersey': 'NJ',\n",
    "    'New Mexico': 'NM',\n",
    "    'New York': 'NY',\n",
    "    'North Carolina': 'NC',\n",
    "    'North Dakota': 'ND',\n",
    "    'Ohio': 'OH',\n",
    "    'Oklahoma': 'OK',\n",
    "    'Oregon': 'OR',\n",
    "    'Pennsylvania': 'PA',\n",
    "    'Rhode Island': 'RI',\n",
    "    'South Carolina': 'SC',\n",
    "    'South Dakota': 'SD',\n",
    "    'Tennessee': 'TN',\n",
    "    'Texas': 'TX',\n",
    "    'Utah': 'UT',\n",
    "    'Vermont': 'VT',\n",
    "    'Virgin Islands': 'VI',\n",
    "    'Virginia': 'VA',\n",
    "    'Washington': 'WA',\n",
    "    'West Virginia': 'WV',\n",
    "    'Wisconsin': 'WI',\n",
    "    'Wyoming': 'WY'\n",
    "}\n",
    "\n"
   ]
  },
  {
   "cell_type": "code",
   "execution_count": null,
   "id": "bdcf246a-e0c5-478a-9dd6-bb8789015582",
   "metadata": {},
   "outputs": [],
   "source": []
  },
  {
   "cell_type": "code",
   "execution_count": null,
   "id": "2e7ac9a1-cd7c-4da6-a718-2936b6d503b8",
   "metadata": {},
   "outputs": [],
   "source": []
  },
  {
   "cell_type": "code",
   "execution_count": null,
   "id": "0d1d72cf-3743-4be7-8400-7cc96e18408a",
   "metadata": {},
   "outputs": [],
   "source": []
  },
  {
   "cell_type": "code",
   "execution_count": null,
   "id": "3d00f26b-98e4-4e6e-aeeb-a93032f127e5",
   "metadata": {},
   "outputs": [],
   "source": [
    "!pwd"
   ]
  },
  {
   "cell_type": "code",
   "execution_count": null,
   "id": "481fdf56-9595-4f80-aa61-5f5588049795",
   "metadata": {},
   "outputs": [],
   "source": [
    "def polish_report_total(df):\n",
    "    '''polish_report removes and reorders columns and assigns shortened names. It also\n",
    "    creates a datetime index, changes strings to integers and handles NaNs\n",
    "    Returns: a copy of the original df\n",
    "    '''\n",
    "    # eliminate unnecessary columns and re-order columns\n",
    "    df = df.iloc[:,[-2,0,3,6,7]].copy()\n",
    "    \n",
    "    # shorten col names for easier manipulation\n",
    "    df.columns = ['total','name','type', 'county','date']\n",
    "    \n",
    "    # use the date column as the index\n",
    "    df.index = df.date\n",
    "    df.drop('date',axis=1, inplace=True)\n",
    "    \n",
    "    # replace nuisance commas\n",
    "    df.name = df.name.str.replace(',','_')\n",
    "    \n",
    "    return df"
   ]
  },
  {
   "cell_type": "code",
   "execution_count": null,
   "id": "0822f6fe-ab57-4e60-a23b-dab4c65bb83b",
   "metadata": {},
   "outputs": [],
   "source": [
    "# create dfs for both active and resolved sheets \n",
    "for i in range(2):\n",
    "    i=i+1\n",
    "    #df = pd.read_excel(f'covid_data/covid_report_{current_report}.xlsx',sheet_name=i,parse_dates=['Date reported to public health'])\n",
    "    df = pd.read_excel('~/Desktop/covid-19-data/covid_data/covid_report_2021-12-22.xlsx',sheet_name=i,parse_dates=['Date reported to public health'])\n",
    "    df = df.iloc[:,:16]\n",
    "    df = polish_report_total(df)\n",
    "    df = df.sort_index(ascending=False)\n",
    "    if i == 1: \n",
    "        df1 = df.iloc[:,:4]\n",
    "    elif i == 2: \n",
    "        df2 = df.iloc[:,:4]"
   ]
  },
  {
   "cell_type": "code",
   "execution_count": null,
   "id": "82db2b7e-33cd-4d6d-8927-d8d989a99774",
   "metadata": {},
   "outputs": [],
   "source": [
    "df1.head()"
   ]
  },
  {
   "cell_type": "code",
   "execution_count": null,
   "id": "cbdef6e9-152b-4eec-adac-0ecea78dda0a",
   "metadata": {},
   "outputs": [],
   "source": [
    "df2.head()"
   ]
  },
  {
   "cell_type": "code",
   "execution_count": null,
   "id": "2ca3c932-22ef-44e1-8aeb-ea92ab91bfa4",
   "metadata": {},
   "outputs": [],
   "source": [
    "df1.shape"
   ]
  },
  {
   "cell_type": "code",
   "execution_count": null,
   "id": "8ef94c6a-08e7-4553-8317-1e92d2b7cacd",
   "metadata": {},
   "outputs": [],
   "source": [
    "df2.shape"
   ]
  },
  {
   "cell_type": "code",
   "execution_count": null,
   "id": "2cff29c9-9e8b-4c02-aaa3-7362cd6de6f1",
   "metadata": {},
   "outputs": [],
   "source": []
  },
  {
   "cell_type": "code",
   "execution_count": null,
   "id": "c3ce7811-c0fe-4334-b41f-bedfcbe17f7d",
   "metadata": {},
   "outputs": [],
   "source": [
    "# Merge both dfs into a single and change all types to integers\n",
    "totals = pd.merge(df1,df2,left_index=True, right_index=True,how='outer' ).fillna(0)\n",
    "#totals = totals.astype(int)\n",
    "totals.head()"
   ]
  },
  {
   "cell_type": "code",
   "execution_count": null,
   "id": "c1747765-f626-40a2-98fa-e360634fd924",
   "metadata": {},
   "outputs": [],
   "source": [
    "totals.shape"
   ]
  },
  {
   "cell_type": "code",
   "execution_count": null,
   "id": "a001de92-985c-4c01-84be-5cd49ced00e3",
   "metadata": {},
   "outputs": [],
   "source": []
  },
  {
   "cell_type": "code",
   "execution_count": null,
   "id": "67da77f9-ceff-4f0a-8619-e5e97c21a2b0",
   "metadata": {},
   "outputs": [],
   "source": [
    "#pd.merge?"
   ]
  },
  {
   "cell_type": "code",
   "execution_count": null,
   "id": "99600399-e8ab-4fb6-8500-d0175a7a2306",
   "metadata": {},
   "outputs": [],
   "source": []
  },
  {
   "cell_type": "code",
   "execution_count": null,
   "id": "1b272a9a-4ceb-40c9-b6e7-94bab31f7379",
   "metadata": {},
   "outputs": [],
   "source": [
    "# Merge both dfs into a single and change all types to integers\n",
    "totals = df1.merge(df2)\n",
    "#totals = totals.astype(int)\n",
    "totals.head()"
   ]
  },
  {
   "cell_type": "code",
   "execution_count": null,
   "id": "2ec7df6f-ae62-41bd-a11a-042374d142bf",
   "metadata": {},
   "outputs": [],
   "source": [
    "# Create a column which sums active and resolved totals\n",
    "totals['all_reported_cases'] = totals.total_x+totals.total_y\n",
    "\n",
    "# Create a Date column for plotting purposes \n",
    "# Keep only the last two columns\n",
    "totals['Date'] = totals.index.strftime('%Y-%m')\n",
    "totals = totals.iloc[:,-2:]\n",
    "totals"
   ]
  },
  {
   "cell_type": "code",
   "execution_count": null,
   "id": "684f2f73-29e1-4247-b220-7f47b971c675",
   "metadata": {},
   "outputs": [],
   "source": [
    "totals[['Date','all_reported_cases']].plot.bar(figsize=(10,6), \\\n",
    "                                x='Date',rot=45, width=.8, \\\n",
    "                                color=\"red\",alpha=.7,\\\n",
    "                                title=\"Outbreaks (total new cases) in Colorado per month\");"
   ]
  },
  {
   "cell_type": "markdown",
   "id": "961764d2-d9ca-49e7-a037-5bc384185d55",
   "metadata": {},
   "source": [
    "### More Detailed Inquiry"
   ]
  },
  {
   "cell_type": "code",
   "execution_count": null,
   "id": "0c3236e7-385b-4819-8af1-f12ee79c6d2d",
   "metadata": {},
   "outputs": [],
   "source": [
    "# create dfs for both active and resolved sheets \n",
    "for i in range(2):\n",
    "    i=i+1\n",
    "    #df = pd.read_excel(f'covid_data/covid_report_{current_report}.xlsx',sheet_name=i,parse_dates=['Date reported to public health'])\n",
    "    df = pd.read_excel('~/Desktop/covid-19-data/covid_data/covid_report_2021-12-22.xlsx',sheet_name=i,parse_dates=['Date reported to public health'])\n",
    "    df = df.iloc[:,:16]\n",
    "    df = polish_report_total(df)\n",
    "    \n",
    "    \n",
    "    df = df.sort_index(ascending=False)\n",
    "    if i == 1: \n",
    "        active = df\n",
    "    elif i == 2: \n",
    "        resolved = df\n",
    "        "
   ]
  },
  {
   "cell_type": "code",
   "execution_count": null,
   "id": "e1af85a8-b8aa-40cc-a649-d24bdbbdbf35",
   "metadata": {},
   "outputs": [],
   "source": [
    "# Test code below\n",
    "url ='https://en.wikipedia.org/wiki/List_of_presidents_of_the_United_States'\n",
    "tables = pd.read_html(url)\n",
    "tables[1].tail()"
   ]
  },
  {
   "cell_type": "code",
   "execution_count": null,
   "id": "2a1c32ed-40b1-4e8e-8944-4d2abbabf898",
   "metadata": {},
   "outputs": [],
   "source": []
  }
 ],
 "metadata": {
  "kernelspec": {
   "display_name": "Python 3",
   "language": "python",
   "name": "python3"
  },
  "language_info": {
   "codemirror_mode": {
    "name": "ipython",
    "version": 3
   },
   "file_extension": ".py",
   "mimetype": "text/x-python",
   "name": "python",
   "nbconvert_exporter": "python",
   "pygments_lexer": "ipython3",
   "version": "3.8.8"
  }
 },
 "nbformat": 4,
 "nbformat_minor": 5
}
