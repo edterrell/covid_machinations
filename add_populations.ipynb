{
 "cells": [
  {
   "cell_type": "code",
   "execution_count": 1,
   "id": "9836a680-f8ed-4a14-aaba-bdc427bb656d",
   "metadata": {},
   "outputs": [],
   "source": [
    "import pandas as pd\n",
    "import openpyxl #for reading or saving to Excel\n",
    "import xlsxwriter\n",
    "import sys\n",
    "\n",
    "import state_country_dicts as scd\n",
    "import requests\n",
    "from bs4 import BeautifulSoup as bs\n",
    "# import regular expressions\n",
    "import re \n",
    "import time"
   ]
  },
  {
   "cell_type": "code",
   "execution_count": 2,
   "id": "f0c47b3b-dd0c-46b5-bb57-6f8ef96912be",
   "metadata": {},
   "outputs": [],
   "source": [
    "def clean_up (number_str):\n",
    "    '''This is a clean up routine so that only numeric characters remain'''\n",
    "    number_str = number_str.replace(',', '').replace('null','0').rstrip(']').lstrip(\"'\")\n",
    "    return int(number_str)"
   ]
  },
  {
   "cell_type": "code",
   "execution_count": 3,
   "id": "1b2a8546-2a45-444d-9452-eb61f1a04e02",
   "metadata": {},
   "outputs": [
    {
     "data": {
      "text/plain": [
       "'/Users/edwardterrell/Desktop/covid_machinations'"
      ]
     },
     "execution_count": 3,
     "metadata": {},
     "output_type": "execute_result"
    }
   ],
   "source": [
    "pwd"
   ]
  },
  {
   "cell_type": "code",
   "execution_count": 4,
   "id": "33067afd-11bf-4d4a-8708-e30b9bfebc12",
   "metadata": {},
   "outputs": [
    {
     "name": "stdout",
     "output_type": "stream",
     "text": [
      "end changed to yesterday: 2022-01-01 12:45:02.545027\n"
     ]
    },
    {
     "data": {
      "text/plain": [
       "686"
      ]
     },
     "execution_count": 4,
     "metadata": {},
     "output_type": "execute_result"
    }
   ],
   "source": [
    "# The start dates for U.S.states and for countries are different so must be accounted for\n",
    "# st_start = pd.Timestamp('2020/3/13')\n",
    "c_start = pd.Timestamp('2020/2/16')\n",
    "\n",
    "# set end time to yesterday\n",
    "\n",
    "#day == pd.Timestamp.today().strftime('%Y-%m-%d')\n",
    "end = pd.Timestamp.today() - pd.Timedelta(days=1)\n",
    "print(f'end changed to yesterday: {end}')\n",
    "#else:\n",
    "#   end = pd.Timestamp.today()\n",
    "#    print(f'end changed to {end}')\n",
    "    \n",
    "# set the index to the appropriate date range for states and countries\n",
    "#st_index = pd.date_range(st_start, end)\n",
    "c_index = pd.date_range(c_start, end)\n",
    "#len(st_index)\n",
    "len(c_index)\n",
    "\n",
    "# list comprehension to extract just the state initials from the dict\n",
    "#st_list = list(state_dict.values())\n",
    "\n",
    "# create an empty pandas df with column headers from state_dict\n",
    "#state = pd.DataFrame(columns = st_list,index=st_index)\n",
    "#state.sort_index(ascending = False).head()\n",
    "#state.shape"
   ]
  },
  {
   "cell_type": "code",
   "execution_count": 5,
   "id": "7e424217-58ff-4106-8200-a662a1c4f22e",
   "metadata": {},
   "outputs": [
    {
     "name": "stdin",
     "output_type": "stream",
     "text": [
      "Enter country codes seperated by a space: \n"
     ]
    },
    {
     "name": "stdout",
     "output_type": "stream",
     "text": [
      "{'spain': 'ES', 'france': 'FR', 'italy': 'IT'}\n",
      "\n"
     ]
    }
   ],
   "source": [
    "# creates a custom country dict\n",
    "c_string = input('Enter country codes seperated by a space:') or 'fr it es'\n",
    "clist = scd.custom_list (c_string)\n",
    "\n",
    "country_dict = {key: value for key, value in scd.all_countries.items() if value in clist}\n",
    "print(country_dict)\n",
    "\n",
    "print()"
   ]
  },
  {
   "cell_type": "code",
   "execution_count": 6,
   "id": "d18ce647-e0f1-4bb7-9d91-43e508add732",
   "metadata": {},
   "outputs": [
    {
     "data": {
      "text/plain": [
       "['ES', 'FR', 'IT']"
      ]
     },
     "execution_count": 6,
     "metadata": {},
     "output_type": "execute_result"
    }
   ],
   "source": [
    "c_list = list(country_dict.values())\n",
    "c_list"
   ]
  },
  {
   "cell_type": "code",
   "execution_count": 7,
   "id": "27b5b068-b4bc-43b8-bc36-2f597dff0655",
   "metadata": {},
   "outputs": [
    {
     "data": {
      "text/html": [
       "<div>\n",
       "<style scoped>\n",
       "    .dataframe tbody tr th:only-of-type {\n",
       "        vertical-align: middle;\n",
       "    }\n",
       "\n",
       "    .dataframe tbody tr th {\n",
       "        vertical-align: top;\n",
       "    }\n",
       "\n",
       "    .dataframe thead th {\n",
       "        text-align: right;\n",
       "    }\n",
       "</style>\n",
       "<table border=\"1\" class=\"dataframe\">\n",
       "  <thead>\n",
       "    <tr style=\"text-align: right;\">\n",
       "      <th></th>\n",
       "      <th>ES</th>\n",
       "      <th>FR</th>\n",
       "      <th>IT</th>\n",
       "    </tr>\n",
       "  </thead>\n",
       "  <tbody>\n",
       "    <tr>\n",
       "      <th>2022-01-01</th>\n",
       "      <td>NaN</td>\n",
       "      <td>NaN</td>\n",
       "      <td>NaN</td>\n",
       "    </tr>\n",
       "    <tr>\n",
       "      <th>2021-12-31</th>\n",
       "      <td>NaN</td>\n",
       "      <td>NaN</td>\n",
       "      <td>NaN</td>\n",
       "    </tr>\n",
       "    <tr>\n",
       "      <th>2021-12-30</th>\n",
       "      <td>NaN</td>\n",
       "      <td>NaN</td>\n",
       "      <td>NaN</td>\n",
       "    </tr>\n",
       "    <tr>\n",
       "      <th>2021-12-29</th>\n",
       "      <td>NaN</td>\n",
       "      <td>NaN</td>\n",
       "      <td>NaN</td>\n",
       "    </tr>\n",
       "    <tr>\n",
       "      <th>2021-12-28</th>\n",
       "      <td>NaN</td>\n",
       "      <td>NaN</td>\n",
       "      <td>NaN</td>\n",
       "    </tr>\n",
       "  </tbody>\n",
       "</table>\n",
       "</div>"
      ],
      "text/plain": [
       "             ES   FR   IT\n",
       "2022-01-01  NaN  NaN  NaN\n",
       "2021-12-31  NaN  NaN  NaN\n",
       "2021-12-30  NaN  NaN  NaN\n",
       "2021-12-29  NaN  NaN  NaN\n",
       "2021-12-28  NaN  NaN  NaN"
      ]
     },
     "execution_count": 7,
     "metadata": {},
     "output_type": "execute_result"
    }
   ],
   "source": [
    "# create an empty pandas df with column headers from country_dict, using the starting dates for the country as index\n",
    "country = pd.DataFrame(columns = c_list,index=c_index)\n",
    "country.sort_index(ascending = False).head()"
   ]
  },
  {
   "cell_type": "code",
   "execution_count": 8,
   "id": "272f75cd-a146-42e6-9923-928eaa28024d",
   "metadata": {},
   "outputs": [
    {
     "name": "stdout",
     "output_type": "stream",
     "text": [
      "https://www.worldometers.info/coronavirus/country/spain\n",
      "https://www.worldometers.info/coronavirus/country/france\n",
      "https://www.worldometers.info/coronavirus/country/italy\n"
     ]
    },
    {
     "data": {
      "text/html": [
       "<div>\n",
       "<style scoped>\n",
       "    .dataframe tbody tr th:only-of-type {\n",
       "        vertical-align: middle;\n",
       "    }\n",
       "\n",
       "    .dataframe tbody tr th {\n",
       "        vertical-align: top;\n",
       "    }\n",
       "\n",
       "    .dataframe thead th {\n",
       "        text-align: right;\n",
       "    }\n",
       "</style>\n",
       "<table border=\"1\" class=\"dataframe\">\n",
       "  <thead>\n",
       "    <tr style=\"text-align: right;\">\n",
       "      <th></th>\n",
       "      <th>ES</th>\n",
       "      <th>FR</th>\n",
       "      <th>IT</th>\n",
       "    </tr>\n",
       "  </thead>\n",
       "  <tbody>\n",
       "    <tr>\n",
       "      <th>2022-01-01</th>\n",
       "      <td>0</td>\n",
       "      <td>219126</td>\n",
       "      <td>141353</td>\n",
       "    </tr>\n",
       "    <tr>\n",
       "      <th>2021-12-31</th>\n",
       "      <td>0</td>\n",
       "      <td>232200</td>\n",
       "      <td>144237</td>\n",
       "    </tr>\n",
       "    <tr>\n",
       "      <th>2021-12-30</th>\n",
       "      <td>161688</td>\n",
       "      <td>206243</td>\n",
       "      <td>126900</td>\n",
       "    </tr>\n",
       "    <tr>\n",
       "      <th>2021-12-29</th>\n",
       "      <td>100760</td>\n",
       "      <td>208099</td>\n",
       "      <td>98142</td>\n",
       "    </tr>\n",
       "    <tr>\n",
       "      <th>2021-12-28</th>\n",
       "      <td>99671</td>\n",
       "      <td>179807</td>\n",
       "      <td>78299</td>\n",
       "    </tr>\n",
       "  </tbody>\n",
       "</table>\n",
       "</div>"
      ],
      "text/plain": [
       "                ES      FR      IT\n",
       "2022-01-01       0  219126  141353\n",
       "2021-12-31       0  232200  144237\n",
       "2021-12-30  161688  206243  126900\n",
       "2021-12-29  100760  208099   98142\n",
       "2021-12-28   99671  179807   78299"
      ]
     },
     "execution_count": 8,
     "metadata": {},
     "output_type": "execute_result"
    }
   ],
   "source": [
    "base_url='https://www.worldometers.info/coronavirus/country/'\n",
    "# Here the keys are the country names and the values are the 2-letter abbreviation\n",
    "for key, value in country_dict.items():\n",
    "    url = base_url+key\n",
    "    print(url)\n",
    "\n",
    "    # scrape web page for country info and assign to soup\n",
    "    response = requests.get(url)\n",
    "    #response.status_code\n",
    "    page = response.text\n",
    "    #print(response.text[:400])\n",
    "    soup = bs(page)\n",
    "    \n",
    "    # Find block of text/data near 'graph-cases-daily' \n",
    "    re_graph = re.compile('graph-cases')\n",
    "    dat = soup.find(text=re_graph)\n",
    "   \n",
    "    try:\n",
    "        data = soup.find(text=re_graph).parent\n",
    "    except:\n",
    "        print(f'Unable to find {url}')\n",
    "        print()\n",
    "        break\n",
    "\n",
    "    # Regex to pull out data chunk out of the larger soup like data\n",
    "    myregex = re.compile (r'data:.*\\]')\n",
    "    mo = myregex.search(str(data))\n",
    "\n",
    "    #mo.group() is a string so easy to get rid of the first entry\n",
    "    country_previous_cases = mo.group().split(',')[1:]\n",
    "    #print(country_previous_cases)\n",
    "    previous_cases = [\"0\" if i == 'null' else i for i in country_previous_cases]\n",
    "    \n",
    "    len(previous_cases)\n",
    "\n",
    "    # merge countries into the existing df and apply the function clean_up to convert strings to ints\n",
    "    country[value] = previous_cases\n",
    "    country[value] = country[value].fillna(0).apply(clean_up)\n",
    "    \n",
    "    time.sleep(2)\n",
    "country.clip(lower=0,inplace=True) #large negative number removed for better graphic clarity\n",
    "country.sort_index(ascending = False).head()"
   ]
  },
  {
   "cell_type": "markdown",
   "id": "0d137689-1094-4a72-9d31-87151568792c",
   "metadata": {},
   "source": [
    "### Scrape Section"
   ]
  },
  {
   "cell_type": "code",
   "execution_count": 225,
   "id": "f15983d6-3ec7-457f-b3ce-78b4e0c3f0e0",
   "metadata": {},
   "outputs": [
    {
     "name": "stdout",
     "output_type": "stream",
     "text": [
      "200\n"
     ]
    }
   ],
   "source": [
    "url='https://www.worldometers.info/coronavirus/'\n",
    "# scrape web page for table\n",
    "response = requests.get(url)\n",
    "print(response.status_code)\n",
    "page = response.text\n",
    "soup = bs(page)"
   ]
  },
  {
   "cell_type": "code",
   "execution_count": 243,
   "id": "db3aa435-b6f8-411e-9d4c-83b5d746ca76",
   "metadata": {},
   "outputs": [
    {
     "name": "stdout",
     "output_type": "stream",
     "text": [
      "country_names is length 221\n"
     ]
    }
   ],
   "source": [
    "country_href = [item for item in soup.find('tbody').find_all(class_='mt_a')]\n",
    "country_names = [item.text for item in soup.find('tbody').find_all(class_='mt_a')]\n",
    "print (f'country_names is length {len(country_names)}')"
   ]
  },
  {
   "cell_type": "code",
   "execution_count": 244,
   "id": "acf3b6d6-7fd7-4731-aca4-2d4cb0bedabd",
   "metadata": {},
   "outputs": [],
   "source": [
    "#population = [item.text for item in soup.find('tbody').find_all(class_='mt_a')]"
   ]
  },
  {
   "cell_type": "code",
   "execution_count": 245,
   "id": "173fb679-69cd-47a9-b211-9b484813200f",
   "metadata": {},
   "outputs": [
    {
     "data": {
      "text/plain": [
       "['USA',\n",
       " 'India',\n",
       " 'Brazil',\n",
       " 'UK',\n",
       " 'Russia',\n",
       " 'France',\n",
       " 'Turkey',\n",
       " 'Germany',\n",
       " 'Spain',\n",
       " 'Italy']"
      ]
     },
     "execution_count": 245,
     "metadata": {},
     "output_type": "execute_result"
    }
   ],
   "source": [
    "country_names[:10]"
   ]
  },
  {
   "cell_type": "code",
   "execution_count": 246,
   "id": "793aac7f-51e2-4da3-a6f9-3034f4c1fdcf",
   "metadata": {},
   "outputs": [
    {
     "data": {
      "text/plain": [
       "[<a class=\"mt_a\" href=\"country/us/\">USA</a>,\n",
       " <a class=\"mt_a\" href=\"country/india/\">India</a>,\n",
       " <a class=\"mt_a\" href=\"country/brazil/\">Brazil</a>,\n",
       " <a class=\"mt_a\" href=\"country/uk/\">UK</a>,\n",
       " <a class=\"mt_a\" href=\"country/russia/\">Russia</a>]"
      ]
     },
     "execution_count": 246,
     "metadata": {},
     "output_type": "execute_result"
    }
   ],
   "source": [
    "country_href[:5]"
   ]
  },
  {
   "cell_type": "code",
   "execution_count": 247,
   "id": "cd8a927c-2e93-4709-b0db-1fac07b71af4",
   "metadata": {},
   "outputs": [],
   "source": [
    "#soup.find('tbody').find_all('a')"
   ]
  },
  {
   "cell_type": "code",
   "execution_count": 248,
   "id": "1db7c6b2-82f9-49be-b809-e301701e39d1",
   "metadata": {},
   "outputs": [
    {
     "name": "stdout",
     "output_type": "stream",
     "text": [
      "439\n"
     ]
    },
    {
     "data": {
      "text/plain": [
       "[<a class=\"mt_a\" href=\"country/us/\">USA</a>,\n",
       " <a href=\"/world-population/us-population/\">333,918,903</a>,\n",
       " <a class=\"mt_a\" href=\"country/india/\">India</a>,\n",
       " <a href=\"/world-population/india-population/\">1,400,383,713</a>,\n",
       " <a class=\"mt_a\" href=\"country/brazil/\">Brazil</a>]"
      ]
     },
     "execution_count": 248,
     "metadata": {},
     "output_type": "execute_result"
    }
   ],
   "source": [
    "world_list = [item for item in soup.find('tbody').find_all('a')]\n",
    "print(len(world_list))\n",
    "world_list[:5]"
   ]
  },
  {
   "cell_type": "code",
   "execution_count": 249,
   "id": "54470eda-75b8-400e-a179-33875c08beaf",
   "metadata": {},
   "outputs": [
    {
     "name": "stdout",
     "output_type": "stream",
     "text": [
      "country/us/\n",
      "/world-population/us-population/\n",
      "country/india/\n",
      "/world-population/india-population/\n",
      "country/brazil/\n"
     ]
    }
   ],
   "source": [
    "for item in world_list[0:5]:\n",
    "    print(item['href'])"
   ]
  },
  {
   "cell_type": "code",
   "execution_count": 250,
   "id": "4fd8da8b-b295-4229-a603-d6444fff9961",
   "metadata": {},
   "outputs": [],
   "source": [
    "pop_list=[]\n",
    "country_list=[]\n",
    "for item in world_list:\n",
    "    if \"population\" in item['href']: \n",
    "        pop_list.append(item.text)\n",
    "        country_list.append(item['href'][18:-12])"
   ]
  },
  {
   "cell_type": "code",
   "execution_count": 251,
   "id": "04c3cd92-92eb-47b7-a7d8-3da111e0cb04",
   "metadata": {},
   "outputs": [
    {
     "name": "stdout",
     "output_type": "stream",
     "text": [
      "218\n"
     ]
    },
    {
     "data": {
      "text/plain": [
       "[('saint-kitts-and-nevis', '53,764'),\n",
       " ('bhutan', '784,369'),\n",
       " ('greenland', '56,918'),\n",
       " ('saint-barthelemy', '9,922'),\n",
       " ('anguilla', '15,204'),\n",
       " ('wallis-and-futuna-islands', '10,943'),\n",
       " ('saint-pierre-and-miquelon', '5,751'),\n",
       " ('falkland-islands-malvinas', '3,632'),\n",
       " ('china-macao-sar', '662,626'),\n",
       " ('montserrat', '4,997'),\n",
       " ('holy-see', '804'),\n",
       " ('solomon-islands', '712,151'),\n",
       " ('palau', '18,224'),\n",
       " ('western-sahara', '619,368'),\n",
       " ('vanuatu', '317,912'),\n",
       " ('marshall-islands', '59,790'),\n",
       " ('samoa', '200,395'),\n",
       " ('saint-helena', '6,104'),\n",
       " ('micronesia', '116,834'),\n",
       " ('tonga', '107,494')]"
      ]
     },
     "execution_count": 251,
     "metadata": {},
     "output_type": "execute_result"
    }
   ],
   "source": [
    "zip_it = zip(country_list,pop_list)\n",
    "country_pop = dict(zip_it)\n",
    "print (len(country_pop))"
   ]
  },
  {
   "cell_type": "markdown",
   "id": "5636d2c8-743e-4529-af29-8fd09cf18341",
   "metadata": {},
   "source": [
    "<span style=\"background-color:lightgreen\">There are 4 countries that are not assigned a population</span>"
   ]
  },
  {
   "cell_type": "code",
   "execution_count": null,
   "id": "1136b2e3-206b-45f9-90d8-0f432ed99678",
   "metadata": {},
   "outputs": [],
   "source": [
    "# We will address these later\n",
    "country_names.remove('Israel')\n",
    "country_names.remove ('Qatar')\n",
    "country_names.remove ('New Zealand')\n",
    "country_names.remove ('China')"
   ]
  },
  {
   "cell_type": "code",
   "execution_count": 257,
   "id": "9bce34b7-bfa8-44fe-91fe-de6b6d73043a",
   "metadata": {},
   "outputs": [],
   "source": [
    "zip_names = zip(country_list,country_names)\n",
    "country_country = dict(zip_names)\n",
    "print (len(country_country))\n",
    "#list(country_country.items())[0:5]\n",
    "#list(country_pop.items())[:5]"
   ]
  },
  {
   "cell_type": "code",
   "execution_count": 265,
   "id": "5a5cfc6b-0fb6-420e-8c9f-edaac41da6f0",
   "metadata": {},
   "outputs": [],
   "source": [
    "def clean_up (number_str):\n",
    "    '''This is a clean up routine so that only numeric characters remain'''\n",
    "    number_str = number_str.replace(',', '').replace('null','0').rstrip(']').lstrip(\"'\")\n",
    "    return int(number_str)\n",
    "\n",
    "pop_dict = {k: clean_up (v) for k, v in country_pop.items()}"
   ]
  },
  {
   "cell_type": "code",
   "execution_count": 272,
   "id": "6922b370-cfa4-4a8c-ae5a-31d995f5eb9a",
   "metadata": {},
   "outputs": [
    {
     "data": {
      "text/plain": [
       "[('us', 'USA'),\n",
       " ('india', 'India'),\n",
       " ('brazil', 'Brazil'),\n",
       " ('uk', 'UK'),\n",
       " ('russia', 'Russia')]"
      ]
     },
     "execution_count": 272,
     "metadata": {},
     "output_type": "execute_result"
    }
   ],
   "source": [
    "list(country_country.items())[0:5]"
   ]
  },
  {
   "cell_type": "code",
   "execution_count": 267,
   "id": "8ef9c589-6e3d-47c7-984c-2efeee28a02e",
   "metadata": {},
   "outputs": [
    {
     "data": {
      "text/plain": [
       "[('us', 333918903),\n",
       " ('india', 1400383713),\n",
       " ('brazil', 214829399),\n",
       " ('uk', 68421816),\n",
       " ('russia', 146028505)]"
      ]
     },
     "execution_count": 267,
     "metadata": {},
     "output_type": "execute_result"
    }
   ],
   "source": [
    "list(pop_dict.items())[:5]"
   ]
  },
  {
   "cell_type": "code",
   "execution_count": null,
   "id": "111f0587-7a1c-4416-ac68-98ed982cdb3a",
   "metadata": {},
   "outputs": [],
   "source": []
  },
  {
   "cell_type": "code",
   "execution_count": 301,
   "id": "0d84bdda-527b-47c5-a04c-28806533f319",
   "metadata": {},
   "outputs": [
    {
     "data": {
      "text/html": [
       "<div>\n",
       "<style scoped>\n",
       "    .dataframe tbody tr th:only-of-type {\n",
       "        vertical-align: middle;\n",
       "    }\n",
       "\n",
       "    .dataframe tbody tr th {\n",
       "        vertical-align: top;\n",
       "    }\n",
       "\n",
       "    .dataframe thead th {\n",
       "        text-align: right;\n",
       "    }\n",
       "</style>\n",
       "<table border=\"1\" class=\"dataframe\">\n",
       "  <thead>\n",
       "    <tr style=\"text-align: right;\">\n",
       "      <th></th>\n",
       "      <th>State</th>\n",
       "      <th>pop_millions</th>\n",
       "    </tr>\n",
       "  </thead>\n",
       "  <tbody>\n",
       "    <tr>\n",
       "      <th>0</th>\n",
       "      <td>California</td>\n",
       "      <td>39.538223</td>\n",
       "    </tr>\n",
       "    <tr>\n",
       "      <th>1</th>\n",
       "      <td>Texas</td>\n",
       "      <td>29.145505</td>\n",
       "    </tr>\n",
       "    <tr>\n",
       "      <th>2</th>\n",
       "      <td>Florida</td>\n",
       "      <td>21.538187</td>\n",
       "    </tr>\n",
       "    <tr>\n",
       "      <th>3</th>\n",
       "      <td>New York</td>\n",
       "      <td>20.201249</td>\n",
       "    </tr>\n",
       "    <tr>\n",
       "      <th>4</th>\n",
       "      <td>Pennsylvania</td>\n",
       "      <td>13.002700</td>\n",
       "    </tr>\n",
       "  </tbody>\n",
       "</table>\n",
       "</div>"
      ],
      "text/plain": [
       "          State  pop_millions\n",
       "0    California     39.538223\n",
       "1         Texas     29.145505\n",
       "2       Florida     21.538187\n",
       "3      New York     20.201249\n",
       "4  Pennsylvania     13.002700"
      ]
     },
     "execution_count": 301,
     "metadata": {},
     "output_type": "execute_result"
    }
   ],
   "source": [
    "url = 'https://www.infoplease.com/us/states/state-population-by-rank'\n",
    "tables = pd.read_html(url)\n",
    "state_pop = tables[0].iloc[:-1,1:3]\n",
    "state_pop.columns=('State','pop_millions')\n",
    "state_pop.pop_millions = state_pop.pop_millions/1000000\n",
    "state_pop.head()"
   ]
  },
  {
   "cell_type": "code",
   "execution_count": 309,
   "id": "bce7e3e0-a630-4473-8ce1-38ebe6ad14de",
   "metadata": {},
   "outputs": [
    {
     "data": {
      "text/html": [
       "<div>\n",
       "<style scoped>\n",
       "    .dataframe tbody tr th:only-of-type {\n",
       "        vertical-align: middle;\n",
       "    }\n",
       "\n",
       "    .dataframe tbody tr th {\n",
       "        vertical-align: top;\n",
       "    }\n",
       "\n",
       "    .dataframe thead th {\n",
       "        text-align: right;\n",
       "    }\n",
       "</style>\n",
       "<table border=\"1\" class=\"dataframe\">\n",
       "  <thead>\n",
       "    <tr style=\"text-align: right;\">\n",
       "      <th></th>\n",
       "      <th>State</th>\n",
       "      <th>Code</th>\n",
       "    </tr>\n",
       "  </thead>\n",
       "  <tbody>\n",
       "    <tr>\n",
       "      <th>0</th>\n",
       "      <td>Alabama</td>\n",
       "      <td>AL</td>\n",
       "    </tr>\n",
       "    <tr>\n",
       "      <th>1</th>\n",
       "      <td>Alaska</td>\n",
       "      <td>AK</td>\n",
       "    </tr>\n",
       "    <tr>\n",
       "      <th>2</th>\n",
       "      <td>Arizona</td>\n",
       "      <td>AZ</td>\n",
       "    </tr>\n",
       "    <tr>\n",
       "      <th>3</th>\n",
       "      <td>Arkansas</td>\n",
       "      <td>AR</td>\n",
       "    </tr>\n",
       "    <tr>\n",
       "      <th>4</th>\n",
       "      <td>California</td>\n",
       "      <td>CA</td>\n",
       "    </tr>\n",
       "  </tbody>\n",
       "</table>\n",
       "</div>"
      ],
      "text/plain": [
       "        State Code\n",
       "0     Alabama   AL\n",
       "1      Alaska   AK\n",
       "2     Arizona   AZ\n",
       "3    Arkansas   AR\n",
       "4  California   CA"
      ]
     },
     "execution_count": 309,
     "metadata": {},
     "output_type": "execute_result"
    }
   ],
   "source": [
    "df = pd.DataFrame(list(us_states.items()))\n",
    "df.columns = ('State', 'Code')\n",
    "df.head()"
   ]
  },
  {
   "cell_type": "code",
   "execution_count": 312,
   "id": "188de8b6-c9e1-44ce-8693-847911549f05",
   "metadata": {},
   "outputs": [
    {
     "data": {
      "text/html": [
       "<div>\n",
       "<style scoped>\n",
       "    .dataframe tbody tr th:only-of-type {\n",
       "        vertical-align: middle;\n",
       "    }\n",
       "\n",
       "    .dataframe tbody tr th {\n",
       "        vertical-align: top;\n",
       "    }\n",
       "\n",
       "    .dataframe thead th {\n",
       "        text-align: right;\n",
       "    }\n",
       "</style>\n",
       "<table border=\"1\" class=\"dataframe\">\n",
       "  <thead>\n",
       "    <tr style=\"text-align: right;\">\n",
       "      <th></th>\n",
       "      <th>State</th>\n",
       "      <th>Code</th>\n",
       "      <th>pop_millions</th>\n",
       "    </tr>\n",
       "  </thead>\n",
       "  <tbody>\n",
       "    <tr>\n",
       "      <th>0</th>\n",
       "      <td>Alabama</td>\n",
       "      <td>AL</td>\n",
       "      <td>5.024279</td>\n",
       "    </tr>\n",
       "    <tr>\n",
       "      <th>1</th>\n",
       "      <td>Alaska</td>\n",
       "      <td>AK</td>\n",
       "      <td>0.733391</td>\n",
       "    </tr>\n",
       "    <tr>\n",
       "      <th>2</th>\n",
       "      <td>Arizona</td>\n",
       "      <td>AZ</td>\n",
       "      <td>7.151502</td>\n",
       "    </tr>\n",
       "    <tr>\n",
       "      <th>3</th>\n",
       "      <td>Arkansas</td>\n",
       "      <td>AR</td>\n",
       "      <td>3.011524</td>\n",
       "    </tr>\n",
       "    <tr>\n",
       "      <th>4</th>\n",
       "      <td>California</td>\n",
       "      <td>CA</td>\n",
       "      <td>39.538223</td>\n",
       "    </tr>\n",
       "  </tbody>\n",
       "</table>\n",
       "</div>"
      ],
      "text/plain": [
       "        State Code  pop_millions\n",
       "0     Alabama   AL      5.024279\n",
       "1      Alaska   AK      0.733391\n",
       "2     Arizona   AZ      7.151502\n",
       "3    Arkansas   AR      3.011524\n",
       "4  California   CA     39.538223"
      ]
     },
     "execution_count": 312,
     "metadata": {},
     "output_type": "execute_result"
    }
   ],
   "source": [
    "state_population = pd.merge(df,state_pop,on='State')\n",
    "state_population.head()"
   ]
  },
  {
   "cell_type": "code",
   "execution_count": 317,
   "id": "c211a85a-84d6-49b5-8184-e3ef07c34cbc",
   "metadata": {},
   "outputs": [],
   "source": [
    "state_population.to_csv('test.csv',index=False)"
   ]
  },
  {
   "cell_type": "code",
   "execution_count": 318,
   "id": "5c2940a9-a161-4411-8809-4016d67e1b7b",
   "metadata": {},
   "outputs": [
    {
     "data": {
      "text/html": [
       "<div>\n",
       "<style scoped>\n",
       "    .dataframe tbody tr th:only-of-type {\n",
       "        vertical-align: middle;\n",
       "    }\n",
       "\n",
       "    .dataframe tbody tr th {\n",
       "        vertical-align: top;\n",
       "    }\n",
       "\n",
       "    .dataframe thead th {\n",
       "        text-align: right;\n",
       "    }\n",
       "</style>\n",
       "<table border=\"1\" class=\"dataframe\">\n",
       "  <thead>\n",
       "    <tr style=\"text-align: right;\">\n",
       "      <th></th>\n",
       "      <th>State</th>\n",
       "      <th>Code</th>\n",
       "      <th>pop_millions</th>\n",
       "    </tr>\n",
       "  </thead>\n",
       "  <tbody>\n",
       "    <tr>\n",
       "      <th>0</th>\n",
       "      <td>Alabama</td>\n",
       "      <td>AL</td>\n",
       "      <td>5.024279</td>\n",
       "    </tr>\n",
       "    <tr>\n",
       "      <th>1</th>\n",
       "      <td>Alaska</td>\n",
       "      <td>AK</td>\n",
       "      <td>0.733391</td>\n",
       "    </tr>\n",
       "    <tr>\n",
       "      <th>2</th>\n",
       "      <td>Arizona</td>\n",
       "      <td>AZ</td>\n",
       "      <td>7.151502</td>\n",
       "    </tr>\n",
       "    <tr>\n",
       "      <th>3</th>\n",
       "      <td>Arkansas</td>\n",
       "      <td>AR</td>\n",
       "      <td>3.011524</td>\n",
       "    </tr>\n",
       "    <tr>\n",
       "      <th>4</th>\n",
       "      <td>California</td>\n",
       "      <td>CA</td>\n",
       "      <td>39.538223</td>\n",
       "    </tr>\n",
       "    <tr>\n",
       "      <th>5</th>\n",
       "      <td>Colorado</td>\n",
       "      <td>CO</td>\n",
       "      <td>5.773714</td>\n",
       "    </tr>\n",
       "    <tr>\n",
       "      <th>6</th>\n",
       "      <td>Connecticut</td>\n",
       "      <td>CT</td>\n",
       "      <td>3.605944</td>\n",
       "    </tr>\n",
       "    <tr>\n",
       "      <th>7</th>\n",
       "      <td>Delaware</td>\n",
       "      <td>DE</td>\n",
       "      <td>0.989948</td>\n",
       "    </tr>\n",
       "    <tr>\n",
       "      <th>8</th>\n",
       "      <td>Florida</td>\n",
       "      <td>FL</td>\n",
       "      <td>21.538187</td>\n",
       "    </tr>\n",
       "    <tr>\n",
       "      <th>9</th>\n",
       "      <td>Georgia</td>\n",
       "      <td>GA</td>\n",
       "      <td>10.711908</td>\n",
       "    </tr>\n",
       "    <tr>\n",
       "      <th>10</th>\n",
       "      <td>Hawaii</td>\n",
       "      <td>HI</td>\n",
       "      <td>1.455271</td>\n",
       "    </tr>\n",
       "    <tr>\n",
       "      <th>11</th>\n",
       "      <td>Idaho</td>\n",
       "      <td>ID</td>\n",
       "      <td>1.839106</td>\n",
       "    </tr>\n",
       "    <tr>\n",
       "      <th>12</th>\n",
       "      <td>Illinois</td>\n",
       "      <td>IL</td>\n",
       "      <td>12.801989</td>\n",
       "    </tr>\n",
       "    <tr>\n",
       "      <th>13</th>\n",
       "      <td>Indiana</td>\n",
       "      <td>IN</td>\n",
       "      <td>6.785528</td>\n",
       "    </tr>\n",
       "    <tr>\n",
       "      <th>14</th>\n",
       "      <td>Iowa</td>\n",
       "      <td>IA</td>\n",
       "      <td>3.271616</td>\n",
       "    </tr>\n",
       "    <tr>\n",
       "      <th>15</th>\n",
       "      <td>Kansas</td>\n",
       "      <td>KS</td>\n",
       "      <td>2.937880</td>\n",
       "    </tr>\n",
       "    <tr>\n",
       "      <th>16</th>\n",
       "      <td>Kentucky</td>\n",
       "      <td>KY</td>\n",
       "      <td>4.505836</td>\n",
       "    </tr>\n",
       "    <tr>\n",
       "      <th>17</th>\n",
       "      <td>Louisiana</td>\n",
       "      <td>LA</td>\n",
       "      <td>4.657757</td>\n",
       "    </tr>\n",
       "    <tr>\n",
       "      <th>18</th>\n",
       "      <td>Maine</td>\n",
       "      <td>ME</td>\n",
       "      <td>1.362359</td>\n",
       "    </tr>\n",
       "    <tr>\n",
       "      <th>19</th>\n",
       "      <td>Maryland</td>\n",
       "      <td>MD</td>\n",
       "      <td>6.177224</td>\n",
       "    </tr>\n",
       "    <tr>\n",
       "      <th>20</th>\n",
       "      <td>Massachusetts</td>\n",
       "      <td>MA</td>\n",
       "      <td>7.029917</td>\n",
       "    </tr>\n",
       "    <tr>\n",
       "      <th>21</th>\n",
       "      <td>Michigan</td>\n",
       "      <td>MI</td>\n",
       "      <td>10.077331</td>\n",
       "    </tr>\n",
       "    <tr>\n",
       "      <th>22</th>\n",
       "      <td>Minnesota</td>\n",
       "      <td>MN</td>\n",
       "      <td>5.706494</td>\n",
       "    </tr>\n",
       "    <tr>\n",
       "      <th>23</th>\n",
       "      <td>Mississippi</td>\n",
       "      <td>MS</td>\n",
       "      <td>2.961279</td>\n",
       "    </tr>\n",
       "    <tr>\n",
       "      <th>24</th>\n",
       "      <td>Missouri</td>\n",
       "      <td>MO</td>\n",
       "      <td>6.154913</td>\n",
       "    </tr>\n",
       "    <tr>\n",
       "      <th>25</th>\n",
       "      <td>Montana</td>\n",
       "      <td>MT</td>\n",
       "      <td>1.084225</td>\n",
       "    </tr>\n",
       "    <tr>\n",
       "      <th>26</th>\n",
       "      <td>Nebraska</td>\n",
       "      <td>NE</td>\n",
       "      <td>1.961504</td>\n",
       "    </tr>\n",
       "    <tr>\n",
       "      <th>27</th>\n",
       "      <td>Nevada</td>\n",
       "      <td>NV</td>\n",
       "      <td>3.104614</td>\n",
       "    </tr>\n",
       "    <tr>\n",
       "      <th>28</th>\n",
       "      <td>New Hampshire</td>\n",
       "      <td>NH</td>\n",
       "      <td>1.377529</td>\n",
       "    </tr>\n",
       "    <tr>\n",
       "      <th>29</th>\n",
       "      <td>New Jersey</td>\n",
       "      <td>NJ</td>\n",
       "      <td>9.288994</td>\n",
       "    </tr>\n",
       "    <tr>\n",
       "      <th>30</th>\n",
       "      <td>New Mexico</td>\n",
       "      <td>NM</td>\n",
       "      <td>2.117522</td>\n",
       "    </tr>\n",
       "    <tr>\n",
       "      <th>31</th>\n",
       "      <td>New York</td>\n",
       "      <td>NY</td>\n",
       "      <td>20.201249</td>\n",
       "    </tr>\n",
       "    <tr>\n",
       "      <th>32</th>\n",
       "      <td>North Carolina</td>\n",
       "      <td>NC</td>\n",
       "      <td>10.439388</td>\n",
       "    </tr>\n",
       "    <tr>\n",
       "      <th>33</th>\n",
       "      <td>North Dakota</td>\n",
       "      <td>ND</td>\n",
       "      <td>0.779094</td>\n",
       "    </tr>\n",
       "    <tr>\n",
       "      <th>34</th>\n",
       "      <td>Ohio</td>\n",
       "      <td>OH</td>\n",
       "      <td>11.799448</td>\n",
       "    </tr>\n",
       "    <tr>\n",
       "      <th>35</th>\n",
       "      <td>Oklahoma</td>\n",
       "      <td>OK</td>\n",
       "      <td>3.959353</td>\n",
       "    </tr>\n",
       "    <tr>\n",
       "      <th>36</th>\n",
       "      <td>Oregon</td>\n",
       "      <td>OR</td>\n",
       "      <td>4.237256</td>\n",
       "    </tr>\n",
       "    <tr>\n",
       "      <th>37</th>\n",
       "      <td>Pennsylvania</td>\n",
       "      <td>PA</td>\n",
       "      <td>13.002700</td>\n",
       "    </tr>\n",
       "    <tr>\n",
       "      <th>38</th>\n",
       "      <td>Rhode Island</td>\n",
       "      <td>RI</td>\n",
       "      <td>1.097379</td>\n",
       "    </tr>\n",
       "    <tr>\n",
       "      <th>39</th>\n",
       "      <td>South Carolina</td>\n",
       "      <td>SC</td>\n",
       "      <td>5.118425</td>\n",
       "    </tr>\n",
       "    <tr>\n",
       "      <th>40</th>\n",
       "      <td>South Dakota</td>\n",
       "      <td>SD</td>\n",
       "      <td>0.886667</td>\n",
       "    </tr>\n",
       "    <tr>\n",
       "      <th>41</th>\n",
       "      <td>Tennessee</td>\n",
       "      <td>TN</td>\n",
       "      <td>6.910840</td>\n",
       "    </tr>\n",
       "    <tr>\n",
       "      <th>42</th>\n",
       "      <td>Texas</td>\n",
       "      <td>TX</td>\n",
       "      <td>29.145505</td>\n",
       "    </tr>\n",
       "    <tr>\n",
       "      <th>43</th>\n",
       "      <td>Utah</td>\n",
       "      <td>UT</td>\n",
       "      <td>3.205958</td>\n",
       "    </tr>\n",
       "    <tr>\n",
       "      <th>44</th>\n",
       "      <td>Vermont</td>\n",
       "      <td>VT</td>\n",
       "      <td>0.643077</td>\n",
       "    </tr>\n",
       "    <tr>\n",
       "      <th>45</th>\n",
       "      <td>Virginia</td>\n",
       "      <td>VA</td>\n",
       "      <td>8.631393</td>\n",
       "    </tr>\n",
       "    <tr>\n",
       "      <th>46</th>\n",
       "      <td>Washington</td>\n",
       "      <td>WA</td>\n",
       "      <td>7.705281</td>\n",
       "    </tr>\n",
       "    <tr>\n",
       "      <th>47</th>\n",
       "      <td>West Virginia</td>\n",
       "      <td>WV</td>\n",
       "      <td>1.793716</td>\n",
       "    </tr>\n",
       "    <tr>\n",
       "      <th>48</th>\n",
       "      <td>Wisconsin</td>\n",
       "      <td>WI</td>\n",
       "      <td>5.893718</td>\n",
       "    </tr>\n",
       "    <tr>\n",
       "      <th>49</th>\n",
       "      <td>Wyoming</td>\n",
       "      <td>WY</td>\n",
       "      <td>0.576851</td>\n",
       "    </tr>\n",
       "  </tbody>\n",
       "</table>\n",
       "</div>"
      ],
      "text/plain": [
       "             State Code  pop_millions\n",
       "0          Alabama   AL      5.024279\n",
       "1           Alaska   AK      0.733391\n",
       "2          Arizona   AZ      7.151502\n",
       "3         Arkansas   AR      3.011524\n",
       "4       California   CA     39.538223\n",
       "5         Colorado   CO      5.773714\n",
       "6      Connecticut   CT      3.605944\n",
       "7         Delaware   DE      0.989948\n",
       "8          Florida   FL     21.538187\n",
       "9          Georgia   GA     10.711908\n",
       "10          Hawaii   HI      1.455271\n",
       "11           Idaho   ID      1.839106\n",
       "12        Illinois   IL     12.801989\n",
       "13         Indiana   IN      6.785528\n",
       "14            Iowa   IA      3.271616\n",
       "15          Kansas   KS      2.937880\n",
       "16        Kentucky   KY      4.505836\n",
       "17       Louisiana   LA      4.657757\n",
       "18           Maine   ME      1.362359\n",
       "19        Maryland   MD      6.177224\n",
       "20   Massachusetts   MA      7.029917\n",
       "21        Michigan   MI     10.077331\n",
       "22       Minnesota   MN      5.706494\n",
       "23     Mississippi   MS      2.961279\n",
       "24        Missouri   MO      6.154913\n",
       "25         Montana   MT      1.084225\n",
       "26        Nebraska   NE      1.961504\n",
       "27          Nevada   NV      3.104614\n",
       "28   New Hampshire   NH      1.377529\n",
       "29      New Jersey   NJ      9.288994\n",
       "30      New Mexico   NM      2.117522\n",
       "31        New York   NY     20.201249\n",
       "32  North Carolina   NC     10.439388\n",
       "33    North Dakota   ND      0.779094\n",
       "34            Ohio   OH     11.799448\n",
       "35        Oklahoma   OK      3.959353\n",
       "36          Oregon   OR      4.237256\n",
       "37    Pennsylvania   PA     13.002700\n",
       "38    Rhode Island   RI      1.097379\n",
       "39  South Carolina   SC      5.118425\n",
       "40    South Dakota   SD      0.886667\n",
       "41       Tennessee   TN      6.910840\n",
       "42           Texas   TX     29.145505\n",
       "43            Utah   UT      3.205958\n",
       "44         Vermont   VT      0.643077\n",
       "45        Virginia   VA      8.631393\n",
       "46      Washington   WA      7.705281\n",
       "47   West Virginia   WV      1.793716\n",
       "48       Wisconsin   WI      5.893718\n",
       "49         Wyoming   WY      0.576851"
      ]
     },
     "execution_count": 318,
     "metadata": {},
     "output_type": "execute_result"
    }
   ],
   "source": [
    "df = pd.read_csv('test.csv')\n",
    "df"
   ]
  },
  {
   "cell_type": "code",
   "execution_count": null,
   "id": "361091b1-1266-4c33-ab65-ae8552f929ab",
   "metadata": {},
   "outputs": [],
   "source": []
  },
  {
   "cell_type": "code",
   "execution_count": 302,
   "id": "269cf3fc-b32e-4a5f-b9f8-1d5581b701f8",
   "metadata": {},
   "outputs": [],
   "source": [
    "# translate States to Two-Letter codes\n",
    "us_states = {\n",
    "    'Alabama': 'AL',\n",
    "    'Alaska': 'AK',\n",
    "    'Arizona': 'AZ',\n",
    "    'Arkansas': 'AR',\n",
    "    'California': 'CA',\n",
    "    'Colorado': 'CO',\n",
    "    'Connecticut': 'CT',\n",
    "    'Delaware': 'DE',\n",
    "    'District of Columbia': 'DC',\n",
    "    'Florida': 'FL',\n",
    "    'Georgia': 'GA',\n",
    "    'Hawaii': 'HI',\n",
    "    'Idaho': 'ID',\n",
    "    'Illinois': 'IL',\n",
    "    'Indiana': 'IN',\n",
    "    'Iowa': 'IA',\n",
    "    'Kansas': 'KS',\n",
    "    'Kentucky': 'KY',\n",
    "    'Louisiana': 'LA',\n",
    "    'Maine': 'ME',\n",
    "    'Maryland': 'MD',\n",
    "    'Massachusetts': 'MA',\n",
    "    'Michigan': 'MI',\n",
    "    'Minnesota': 'MN',\n",
    "    'Mississippi': 'MS',\n",
    "    'Missouri': 'MO',\n",
    "    'Montana': 'MT',\n",
    "    'Nebraska': 'NE',\n",
    "    'Nevada': 'NV',\n",
    "    'New Hampshire': 'NH',\n",
    "    'New Jersey': 'NJ',\n",
    "    'New Mexico': 'NM',\n",
    "    'New York': 'NY',\n",
    "    'North Carolina': 'NC',\n",
    "    'North Dakota': 'ND',\n",
    "    'Ohio': 'OH',\n",
    "    'Oklahoma': 'OK',\n",
    "    'Oregon': 'OR',\n",
    "    'Pennsylvania': 'PA',\n",
    "    'Rhode Island': 'RI',\n",
    "    'South Carolina': 'SC',\n",
    "    'South Dakota': 'SD',\n",
    "    'Tennessee': 'TN',\n",
    "    'Texas': 'TX',\n",
    "    'Utah': 'UT',\n",
    "    'Vermont': 'VT',\n",
    "    'Virgin Islands': 'VI',\n",
    "    'Virginia': 'VA',\n",
    "    'Washington': 'WA',\n",
    "    'West Virginia': 'WV',\n",
    "    'Wisconsin': 'WI',\n",
    "    'Wyoming': 'WY'\n",
    "}\n",
    "\n"
   ]
  },
  {
   "cell_type": "code",
   "execution_count": null,
   "id": "bdcf246a-e0c5-478a-9dd6-bb8789015582",
   "metadata": {},
   "outputs": [],
   "source": []
  },
  {
   "cell_type": "code",
   "execution_count": null,
   "id": "2e7ac9a1-cd7c-4da6-a718-2936b6d503b8",
   "metadata": {},
   "outputs": [],
   "source": []
  },
  {
   "cell_type": "code",
   "execution_count": null,
   "id": "0d1d72cf-3743-4be7-8400-7cc96e18408a",
   "metadata": {},
   "outputs": [],
   "source": []
  },
  {
   "cell_type": "code",
   "execution_count": null,
   "id": "3d00f26b-98e4-4e6e-aeeb-a93032f127e5",
   "metadata": {},
   "outputs": [],
   "source": [
    "!pwd"
   ]
  },
  {
   "cell_type": "code",
   "execution_count": null,
   "id": "481fdf56-9595-4f80-aa61-5f5588049795",
   "metadata": {},
   "outputs": [],
   "source": [
    "def polish_report_total(df):\n",
    "    '''polish_report removes and reorders columns and assigns shortened names. It also\n",
    "    creates a datetime index, changes strings to integers and handles NaNs\n",
    "    Returns: a copy of the original df\n",
    "    '''\n",
    "    # eliminate unnecessary columns and re-order columns\n",
    "    df = df.iloc[:,[-2,0,3,6,7]].copy()\n",
    "    \n",
    "    # shorten col names for easier manipulation\n",
    "    df.columns = ['total','name','type', 'county','date']\n",
    "    \n",
    "    # use the date column as the index\n",
    "    df.index = df.date\n",
    "    df.drop('date',axis=1, inplace=True)\n",
    "    \n",
    "    # replace nuisance commas\n",
    "    df.name = df.name.str.replace(',','_')\n",
    "    \n",
    "    return df"
   ]
  },
  {
   "cell_type": "code",
   "execution_count": null,
   "id": "0822f6fe-ab57-4e60-a23b-dab4c65bb83b",
   "metadata": {},
   "outputs": [],
   "source": [
    "# create dfs for both active and resolved sheets \n",
    "for i in range(2):\n",
    "    i=i+1\n",
    "    #df = pd.read_excel(f'covid_data/covid_report_{current_report}.xlsx',sheet_name=i,parse_dates=['Date reported to public health'])\n",
    "    df = pd.read_excel('~/Desktop/covid-19-data/covid_data/covid_report_2021-12-22.xlsx',sheet_name=i,parse_dates=['Date reported to public health'])\n",
    "    df = df.iloc[:,:16]\n",
    "    df = polish_report_total(df)\n",
    "    df = df.sort_index(ascending=False)\n",
    "    if i == 1: \n",
    "        df1 = df.iloc[:,:4]\n",
    "    elif i == 2: \n",
    "        df2 = df.iloc[:,:4]"
   ]
  },
  {
   "cell_type": "code",
   "execution_count": null,
   "id": "82db2b7e-33cd-4d6d-8927-d8d989a99774",
   "metadata": {},
   "outputs": [],
   "source": [
    "df1.head()"
   ]
  },
  {
   "cell_type": "code",
   "execution_count": null,
   "id": "cbdef6e9-152b-4eec-adac-0ecea78dda0a",
   "metadata": {},
   "outputs": [],
   "source": [
    "df2.head()"
   ]
  },
  {
   "cell_type": "code",
   "execution_count": null,
   "id": "2ca3c932-22ef-44e1-8aeb-ea92ab91bfa4",
   "metadata": {},
   "outputs": [],
   "source": [
    "df1.shape"
   ]
  },
  {
   "cell_type": "code",
   "execution_count": null,
   "id": "8ef94c6a-08e7-4553-8317-1e92d2b7cacd",
   "metadata": {},
   "outputs": [],
   "source": [
    "df2.shape"
   ]
  },
  {
   "cell_type": "code",
   "execution_count": null,
   "id": "2cff29c9-9e8b-4c02-aaa3-7362cd6de6f1",
   "metadata": {},
   "outputs": [],
   "source": []
  },
  {
   "cell_type": "code",
   "execution_count": null,
   "id": "c3ce7811-c0fe-4334-b41f-bedfcbe17f7d",
   "metadata": {},
   "outputs": [],
   "source": [
    "# Merge both dfs into a single and change all types to integers\n",
    "totals = pd.merge(df1,df2,left_index=True, right_index=True,how='outer' ).fillna(0)\n",
    "#totals = totals.astype(int)\n",
    "totals.head()"
   ]
  },
  {
   "cell_type": "code",
   "execution_count": null,
   "id": "c1747765-f626-40a2-98fa-e360634fd924",
   "metadata": {},
   "outputs": [],
   "source": [
    "totals.shape"
   ]
  },
  {
   "cell_type": "code",
   "execution_count": null,
   "id": "a001de92-985c-4c01-84be-5cd49ced00e3",
   "metadata": {},
   "outputs": [],
   "source": []
  },
  {
   "cell_type": "code",
   "execution_count": null,
   "id": "67da77f9-ceff-4f0a-8619-e5e97c21a2b0",
   "metadata": {},
   "outputs": [],
   "source": [
    "#pd.merge?"
   ]
  },
  {
   "cell_type": "code",
   "execution_count": null,
   "id": "99600399-e8ab-4fb6-8500-d0175a7a2306",
   "metadata": {},
   "outputs": [],
   "source": []
  },
  {
   "cell_type": "code",
   "execution_count": null,
   "id": "1b272a9a-4ceb-40c9-b6e7-94bab31f7379",
   "metadata": {},
   "outputs": [],
   "source": [
    "# Merge both dfs into a single and change all types to integers\n",
    "totals = df1.merge(df2)\n",
    "#totals = totals.astype(int)\n",
    "totals.head()"
   ]
  },
  {
   "cell_type": "code",
   "execution_count": null,
   "id": "2ec7df6f-ae62-41bd-a11a-042374d142bf",
   "metadata": {},
   "outputs": [],
   "source": [
    "# Create a column which sums active and resolved totals\n",
    "totals['all_reported_cases'] = totals.total_x+totals.total_y\n",
    "\n",
    "# Create a Date column for plotting purposes \n",
    "# Keep only the last two columns\n",
    "totals['Date'] = totals.index.strftime('%Y-%m')\n",
    "totals = totals.iloc[:,-2:]\n",
    "totals"
   ]
  },
  {
   "cell_type": "code",
   "execution_count": null,
   "id": "684f2f73-29e1-4247-b220-7f47b971c675",
   "metadata": {},
   "outputs": [],
   "source": [
    "totals[['Date','all_reported_cases']].plot.bar(figsize=(10,6), \\\n",
    "                                x='Date',rot=45, width=.8, \\\n",
    "                                color=\"red\",alpha=.7,\\\n",
    "                                title=\"Outbreaks (total new cases) in Colorado per month\");"
   ]
  },
  {
   "cell_type": "markdown",
   "id": "961764d2-d9ca-49e7-a037-5bc384185d55",
   "metadata": {},
   "source": [
    "### More Detailed Inquiry"
   ]
  },
  {
   "cell_type": "code",
   "execution_count": null,
   "id": "0c3236e7-385b-4819-8af1-f12ee79c6d2d",
   "metadata": {},
   "outputs": [],
   "source": [
    "# create dfs for both active and resolved sheets \n",
    "for i in range(2):\n",
    "    i=i+1\n",
    "    #df = pd.read_excel(f'covid_data/covid_report_{current_report}.xlsx',sheet_name=i,parse_dates=['Date reported to public health'])\n",
    "    df = pd.read_excel('~/Desktop/covid-19-data/covid_data/covid_report_2021-12-22.xlsx',sheet_name=i,parse_dates=['Date reported to public health'])\n",
    "    df = df.iloc[:,:16]\n",
    "    df = polish_report_total(df)\n",
    "    \n",
    "    \n",
    "    df = df.sort_index(ascending=False)\n",
    "    if i == 1: \n",
    "        active = df\n",
    "    elif i == 2: \n",
    "        resolved = df\n",
    "        "
   ]
  },
  {
   "cell_type": "code",
   "execution_count": 20,
   "id": "e1af85a8-b8aa-40cc-a649-d24bdbbdbf35",
   "metadata": {},
   "outputs": [
    {
     "data": {
      "text/html": [
       "<div>\n",
       "<style scoped>\n",
       "    .dataframe tbody tr th:only-of-type {\n",
       "        vertical-align: middle;\n",
       "    }\n",
       "\n",
       "    .dataframe tbody tr th {\n",
       "        vertical-align: top;\n",
       "    }\n",
       "\n",
       "    .dataframe thead th {\n",
       "        text-align: right;\n",
       "    }\n",
       "</style>\n",
       "<table border=\"1\" class=\"dataframe\">\n",
       "  <thead>\n",
       "    <tr style=\"text-align: right;\">\n",
       "      <th></th>\n",
       "      <th>Presidency[a]</th>\n",
       "      <th>Presidency[a].1</th>\n",
       "      <th>Portrait</th>\n",
       "      <th>Name(Birth–Death)</th>\n",
       "      <th>Party[b]</th>\n",
       "      <th>Party[b].1</th>\n",
       "      <th>Election</th>\n",
       "      <th>Vice President</th>\n",
       "    </tr>\n",
       "  </thead>\n",
       "  <tbody>\n",
       "    <tr>\n",
       "      <th>78</th>\n",
       "      <td>44</td>\n",
       "      <td>January 20, 2009–January 20, 2017</td>\n",
       "      <td>NaN</td>\n",
       "      <td>Barack Obama(b. 1961)</td>\n",
       "      <td>NaN</td>\n",
       "      <td>Democratic</td>\n",
       "      <td>2008</td>\n",
       "      <td>Joe Biden</td>\n",
       "    </tr>\n",
       "    <tr>\n",
       "      <th>79</th>\n",
       "      <td>44</td>\n",
       "      <td>January 20, 2009–January 20, 2017</td>\n",
       "      <td>NaN</td>\n",
       "      <td>Barack Obama(b. 1961)</td>\n",
       "      <td>NaN</td>\n",
       "      <td>Democratic</td>\n",
       "      <td>2012</td>\n",
       "      <td>Joe Biden</td>\n",
       "    </tr>\n",
       "    <tr>\n",
       "      <th>80</th>\n",
       "      <td>45</td>\n",
       "      <td>January 20, 2017–January 20, 2021</td>\n",
       "      <td>NaN</td>\n",
       "      <td>Donald Trump(b. 1946)</td>\n",
       "      <td>NaN</td>\n",
       "      <td>Republican</td>\n",
       "      <td>2016</td>\n",
       "      <td>Mike Pence</td>\n",
       "    </tr>\n",
       "    <tr>\n",
       "      <th>81</th>\n",
       "      <td>46</td>\n",
       "      <td>January 20, 2021–Incumbent</td>\n",
       "      <td>NaN</td>\n",
       "      <td>Joe Biden(b. 1942)</td>\n",
       "      <td>NaN</td>\n",
       "      <td>Democratic</td>\n",
       "      <td>2020</td>\n",
       "      <td>Kamala Harris</td>\n",
       "    </tr>\n",
       "    <tr>\n",
       "      <th>82</th>\n",
       "      <td>Sources:[15][16][17]</td>\n",
       "      <td>Sources:[15][16][17]</td>\n",
       "      <td>Sources:[15][16][17]</td>\n",
       "      <td>Sources:[15][16][17]</td>\n",
       "      <td>Sources:[15][16][17]</td>\n",
       "      <td>Sources:[15][16][17]</td>\n",
       "      <td>Sources:[15][16][17]</td>\n",
       "      <td>Sources:[15][16][17]</td>\n",
       "    </tr>\n",
       "  </tbody>\n",
       "</table>\n",
       "</div>"
      ],
      "text/plain": [
       "           Presidency[a]                    Presidency[a].1  \\\n",
       "78                    44  January 20, 2009–January 20, 2017   \n",
       "79                    44  January 20, 2009–January 20, 2017   \n",
       "80                    45  January 20, 2017–January 20, 2021   \n",
       "81                    46         January 20, 2021–Incumbent   \n",
       "82  Sources:[15][16][17]               Sources:[15][16][17]   \n",
       "\n",
       "                Portrait      Name(Birth–Death)              Party[b]  \\\n",
       "78                   NaN  Barack Obama(b. 1961)                   NaN   \n",
       "79                   NaN  Barack Obama(b. 1961)                   NaN   \n",
       "80                   NaN  Donald Trump(b. 1946)                   NaN   \n",
       "81                   NaN     Joe Biden(b. 1942)                   NaN   \n",
       "82  Sources:[15][16][17]   Sources:[15][16][17]  Sources:[15][16][17]   \n",
       "\n",
       "              Party[b].1              Election        Vice President  \n",
       "78            Democratic                  2008             Joe Biden  \n",
       "79            Democratic                  2012             Joe Biden  \n",
       "80            Republican                  2016            Mike Pence  \n",
       "81            Democratic                  2020         Kamala Harris  \n",
       "82  Sources:[15][16][17]  Sources:[15][16][17]  Sources:[15][16][17]  "
      ]
     },
     "execution_count": 20,
     "metadata": {},
     "output_type": "execute_result"
    }
   ],
   "source": [
    "# Test code below\n",
    "url ='https://en.wikipedia.org/wiki/List_of_presidents_of_the_United_States'\n",
    "tables = pd.read_html(url)\n",
    "tables[1].tail()"
   ]
  },
  {
   "cell_type": "code",
   "execution_count": null,
   "id": "2a1c32ed-40b1-4e8e-8944-4d2abbabf898",
   "metadata": {},
   "outputs": [],
   "source": []
  }
 ],
 "metadata": {
  "kernelspec": {
   "display_name": "Python 3",
   "language": "python",
   "name": "python3"
  },
  "language_info": {
   "codemirror_mode": {
    "name": "ipython",
    "version": 3
   },
   "file_extension": ".py",
   "mimetype": "text/x-python",
   "name": "python",
   "nbconvert_exporter": "python",
   "pygments_lexer": "ipython3",
   "version": "3.8.8"
  }
 },
 "nbformat": 4,
 "nbformat_minor": 5
}
