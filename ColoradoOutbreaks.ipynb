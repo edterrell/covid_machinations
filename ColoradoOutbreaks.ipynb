{
 "cells": [
  {
   "cell_type": "code",
   "execution_count": 1,
   "metadata": {},
   "outputs": [],
   "source": [
    "\n",
    "# cd ~/Desktop/covid_machinations"
   ]
  },
  {
   "cell_type": "code",
   "execution_count": 2,
   "metadata": {},
   "outputs": [
    {
     "data": {
      "text/plain": [
       "'/Users/edwardterrell/Desktop/covid_machinations'"
      ]
     },
     "execution_count": 2,
     "metadata": {},
     "output_type": "execute_result"
    }
   ],
   "source": [
    "pwd"
   ]
  },
  {
   "cell_type": "code",
   "execution_count": 3,
   "metadata": {},
   "outputs": [
    {
     "data": {
      "text/plain": [
       "'/Users/edwardterrell/opt/anaconda3/envs/dataviz/bin/python'"
      ]
     },
     "execution_count": 3,
     "metadata": {},
     "output_type": "execute_result"
    }
   ],
   "source": [
    "# we want to ensure we are in the correct conda environment\n",
    "import sys\n",
    "sys.executable"
   ]
  },
  {
   "cell_type": "code",
   "execution_count": 4,
   "metadata": {},
   "outputs": [],
   "source": [
    "# os, shutil used for copying/moving files\n",
    "import os\n",
    "import shutil\n",
    "# shutil.copyfile('src', 'dst')\n",
    "# shutil.move\n",
    "\n",
    "import numpy as np\n",
    "import pandas as pd\n",
    "import openpyxl"
   ]
  },
  {
   "cell_type": "code",
   "execution_count": 5,
   "metadata": {},
   "outputs": [],
   "source": [
    "# This code was used when repeatedly modifying date_checker module\n",
    "#import importlib\n",
    "#importlib.import_module('state_country_dicts') #note difference between this and reload\n",
    "#importlib.reload(dc) #date_checker"
   ]
  },
  {
   "cell_type": "code",
   "execution_count": 6,
   "metadata": {},
   "outputs": [],
   "source": [
    "# Custom pie_dict module contains only one function (pie) which reduces \n",
    "# the number of types into only seven basic categories for creating piecharts\n",
    "from pie_dict import pie"
   ]
  },
  {
   "cell_type": "code",
   "execution_count": 7,
   "metadata": {},
   "outputs": [
    {
     "data": {
      "text/plain": [
       "'2021-12-24'"
      ]
     },
     "execution_count": 7,
     "metadata": {},
     "output_type": "execute_result"
    }
   ],
   "source": [
    "from IPython.core.interactiveshell import InteractiveShell\n",
    "InteractiveShell.ast_node_interactivity = \"all\"\n",
    "import matplotlib.pyplot as plt\n",
    "\n",
    "import requests\n",
    "from bs4 import BeautifulSoup as bs\n",
    "# import regular expressions\n",
    "import re \n",
    "\n",
    "from IPython.display import Image\n",
    "from IPython.core.display import HTML\n",
    "css = open('style-table.css').read() + open('style-notebook.css').read()\n",
    "HTML('<style>{}</style>'.format(css))\n",
    "\n",
    "# get current date for use in creating filenames with embedded 'day'. \n",
    "# convert datetime object to string\n",
    "import datetime as dt\n",
    "today  = dt.date.today()\n",
    "day = today.strftime('%Y-%m-%d')\n",
    "day"
   ]
  },
  {
   "cell_type": "markdown",
   "metadata": {},
   "source": [
    "### The following cell determines if the Colorado site has been updated"
   ]
  },
  {
   "cell_type": "code",
   "execution_count": 8,
   "metadata": {},
   "outputs": [
    {
     "name": "stdout",
     "output_type": "stream",
     "text": [
      "latest saved spreadsheet is 2021-12-22\n",
      "COVID-19 OB Weekly Report 12 22 2021.xlsx\n",
      "https://covid19.colorado.gov/sites/covid19/files/documents/COVID-19%20OB%20Weekly%20Report%2012%2022%202021.xlsx\n",
      "Site NOT updated: current date of spreadsheet is 2021-12-22\n"
     ]
    }
   ],
   "source": [
    "# outbreaks files are updated on the web once a week usually Wed afternoon\n",
    "# date_checker is a custom python module that compares the date of the\n",
    "# last saved outbreak.xlsx file to the date of the outbreak.xlsx\n",
    "# file on the web\n",
    "import date_checker as dc\n",
    "\n",
    "#Returns the date of the latest saved spreadsheet.\n",
    "previous = dc.get_date()\n",
    "\n",
    "\n",
    "# compare function outputs a tuple: url link and a date\n",
    "# and prints the dates of the spreadsheets\n",
    "names = dc.compare(previous)"
   ]
  },
  {
   "cell_type": "code",
   "execution_count": 9,
   "metadata": {},
   "outputs": [
    {
     "name": "stdout",
     "output_type": "stream",
     "text": [
      "https://covid19.colorado.gov/sites/covid19/files/documents/COVID-19%20OB%20Weekly%20Report%2012%2022%202021.xlsx\n",
      "2021-12-22 00:00:00\n"
     ]
    }
   ],
   "source": [
    "# Examine the tuple\n",
    "print (names[0])\n",
    "print (names[1])"
   ]
  },
  {
   "cell_type": "markdown",
   "metadata": {},
   "source": [
    "### Colorado Outbreak data"
   ]
  },
  {
   "cell_type": "code",
   "execution_count": 10,
   "metadata": {},
   "outputs": [],
   "source": [
    "import urllib\n",
    "import requests\n",
    "import re\n",
    "\n",
    "url = 'https://covid19.colorado.gov/data/outbreak-data'"
   ]
  },
  {
   "cell_type": "code",
   "execution_count": 11,
   "metadata": {},
   "outputs": [
    {
     "name": "stdout",
     "output_type": "stream",
     "text": [
      "ColoradoOutbreaks.ipynb  covid.ipynb              \u001b[31mpie_dict.py\u001b[m\u001b[m*\n",
      "LICENSE                  \u001b[1m\u001b[36mcovid_data\u001b[m\u001b[m/              state_country_dicts.py\n",
      "README.md                \u001b[31mdate_checker.py\u001b[m\u001b[m*         style-notebook.css\n",
      "\u001b[1m\u001b[36m__pycache__\u001b[m\u001b[m/             environment.yml          style-table.css\n"
     ]
    }
   ],
   "source": [
    "ls"
   ]
  },
  {
   "cell_type": "code",
   "execution_count": 12,
   "metadata": {},
   "outputs": [],
   "source": [
    "!mkdir covid_data_update"
   ]
  },
  {
   "cell_type": "code",
   "execution_count": 13,
   "metadata": {},
   "outputs": [],
   "source": [
    "ls covid_data_update/"
   ]
  },
  {
   "cell_type": "code",
   "execution_count": 14,
   "metadata": {},
   "outputs": [],
   "source": [
    "def get_weekly_report(names):\n",
    "    '''\n",
    "    Opens the web page and creates a copy of the xlsx file,\n",
    "    which is then archived in the directory covid_data.\n",
    "    \n",
    "    names is the tuple variable created by data_checker.compare()\n",
    "    the two components of names are: 1) url link and 2)date in string format\n",
    "    \n",
    "    returns a dataframe\n",
    "    '''\n",
    "    link = names[0]\n",
    "    response = requests.get(link)\n",
    "    with open ('temp.xlsx', 'wb') as file:\n",
    "        file.write(response.content)\n",
    "    \n",
    "    # create a permanent copy of the xlsx file in the covid_data directory\n",
    "    current = names[1]\n",
    "    current_report = current.strftime('%Y-%m-%d')\n",
    "    shutil.copyfile('temp.xlsx', f'covid_data/covid_report_{current_report}.xlsx')\n",
    "    \n",
    "    df = pd.read_excel('temp.xlsx',sheet_name='Active',engine='openpyxl',parse_dates=['Date reported to public health'])\n",
    "    return df"
   ]
  },
  {
   "cell_type": "code",
   "execution_count": 15,
   "metadata": {},
   "outputs": [
    {
     "data": {
      "text/plain": [
       "(660, 65)"
      ]
     },
     "execution_count": 15,
     "metadata": {},
     "output_type": "execute_result"
    }
   ],
   "source": [
    "df = get_weekly_report(names)\n",
    "df.shape"
   ]
  },
  {
   "cell_type": "code",
   "execution_count": 16,
   "metadata": {},
   "outputs": [
    {
     "data": {
      "text/html": [
       "<div>\n",
       "<style scoped>\n",
       "    .dataframe tbody tr th:only-of-type {\n",
       "        vertical-align: middle;\n",
       "    }\n",
       "\n",
       "    .dataframe tbody tr th {\n",
       "        vertical-align: top;\n",
       "    }\n",
       "\n",
       "    .dataframe thead th {\n",
       "        text-align: right;\n",
       "    }\n",
       "</style>\n",
       "<table border=\"1\" class=\"dataframe\">\n",
       "  <thead>\n",
       "    <tr style=\"text-align: right;\">\n",
       "      <th></th>\n",
       "      <th>Setting name</th>\n",
       "      <th>Investigation status</th>\n",
       "      <th>Date outbreak was considered closed:</th>\n",
       "      <th>COVID Setting Type</th>\n",
       "      <th>If setting type is other, specify</th>\n",
       "      <th>Is this an At Risk Population? (Healthcare, Corrections, Highly Mobile, Schools, Critical Infrastructure)</th>\n",
       "      <th>Colorado county (exposure location)</th>\n",
       "      <th>Date reported to public health</th>\n",
       "      <th>Total resident cases</th>\n",
       "      <th>Total staff cases</th>\n",
       "      <th>Total attendee cases</th>\n",
       "      <th>Total resident deaths</th>\n",
       "      <th>Total staff deaths</th>\n",
       "      <th>Total attendee deaths</th>\n",
       "      <th>Total cases</th>\n",
       "      <th>Total deaths</th>\n",
       "    </tr>\n",
       "  </thead>\n",
       "  <tbody>\n",
       "    <tr>\n",
       "      <th>0</th>\n",
       "      <td>48th Avenue - Catholic Charities Women's Shelter</td>\n",
       "      <td>Active</td>\n",
       "      <td>NaN</td>\n",
       "      <td>Homeless Shelter</td>\n",
       "      <td>NaN</td>\n",
       "      <td>Yes</td>\n",
       "      <td>Denver</td>\n",
       "      <td>2021-12-03</td>\n",
       "      <td>18.0</td>\n",
       "      <td>1.0</td>\n",
       "      <td>NaN</td>\n",
       "      <td>NaN</td>\n",
       "      <td>NaN</td>\n",
       "      <td>NaN</td>\n",
       "      <td>19</td>\n",
       "      <td>0</td>\n",
       "    </tr>\n",
       "    <tr>\n",
       "      <th>1</th>\n",
       "      <td>48th Avenue Center - Denver Rescue Mission</td>\n",
       "      <td>Active</td>\n",
       "      <td>NaN</td>\n",
       "      <td>Homeless Shelter</td>\n",
       "      <td>NaN</td>\n",
       "      <td>Yes</td>\n",
       "      <td>Denver</td>\n",
       "      <td>2021-08-27</td>\n",
       "      <td>106.0</td>\n",
       "      <td>2.0</td>\n",
       "      <td>NaN</td>\n",
       "      <td>NaN</td>\n",
       "      <td>NaN</td>\n",
       "      <td>NaN</td>\n",
       "      <td>108</td>\n",
       "      <td>0</td>\n",
       "    </tr>\n",
       "    <tr>\n",
       "      <th>2</th>\n",
       "      <td>4th Judicial District Attorney's Office: Octob...</td>\n",
       "      <td>Active</td>\n",
       "      <td>NaN</td>\n",
       "      <td>Law Enforcement Administration</td>\n",
       "      <td>NaN</td>\n",
       "      <td>Yes</td>\n",
       "      <td>El Paso</td>\n",
       "      <td>2021-10-25</td>\n",
       "      <td>NaN</td>\n",
       "      <td>14.0</td>\n",
       "      <td>NaN</td>\n",
       "      <td>NaN</td>\n",
       "      <td>NaN</td>\n",
       "      <td>NaN</td>\n",
       "      <td>14</td>\n",
       "      <td>0</td>\n",
       "    </tr>\n",
       "  </tbody>\n",
       "</table>\n",
       "</div>"
      ],
      "text/plain": [
       "                                        Setting name Investigation status  \\\n",
       "0   48th Avenue - Catholic Charities Women's Shelter               Active   \n",
       "1         48th Avenue Center - Denver Rescue Mission               Active   \n",
       "2  4th Judicial District Attorney's Office: Octob...               Active   \n",
       "\n",
       "   Date outbreak was considered closed:              COVID Setting Type  \\\n",
       "0                                   NaN                Homeless Shelter   \n",
       "1                                   NaN                Homeless Shelter   \n",
       "2                                   NaN  Law Enforcement Administration   \n",
       "\n",
       "  If setting type is other, specify  \\\n",
       "0                               NaN   \n",
       "1                               NaN   \n",
       "2                               NaN   \n",
       "\n",
       "  Is this an At Risk Population? (Healthcare, Corrections, Highly Mobile, Schools, Critical Infrastructure)  \\\n",
       "0                                                Yes                                                          \n",
       "1                                                Yes                                                          \n",
       "2                                                Yes                                                          \n",
       "\n",
       "  Colorado county (exposure location) Date reported to public health  \\\n",
       "0                              Denver                     2021-12-03   \n",
       "1                              Denver                     2021-08-27   \n",
       "2                             El Paso                     2021-10-25   \n",
       "\n",
       "   Total resident cases  Total staff cases  Total attendee cases  \\\n",
       "0                  18.0                1.0                   NaN   \n",
       "1                 106.0                2.0                   NaN   \n",
       "2                   NaN               14.0                   NaN   \n",
       "\n",
       "   Total resident deaths  Total staff deaths   Total attendee deaths  \\\n",
       "0                    NaN                  NaN                    NaN   \n",
       "1                    NaN                  NaN                    NaN   \n",
       "2                    NaN                  NaN                    NaN   \n",
       "\n",
       "   Total cases  Total deaths  \n",
       "0           19             0  \n",
       "1          108             0  \n",
       "2           14             0  "
      ]
     },
     "execution_count": 16,
     "metadata": {},
     "output_type": "execute_result"
    }
   ],
   "source": [
    "df = df.iloc[:,:16]\n",
    "df.head(3)"
   ]
  },
  {
   "cell_type": "code",
   "execution_count": 17,
   "metadata": {},
   "outputs": [],
   "source": [
    "def polish_report(df):\n",
    "    '''polish_report removes and reorders columns and assigns shortened names. It also\n",
    "    creates a datetime index, changes strings to integers and handles NaNs\n",
    "    Returns: a copy of the original df\n",
    "    '''\n",
    "    # eliminate unnecessary columns and re-order columns\n",
    "    df = df.iloc[:,[-2,0,3,6,7,8,9,10]].copy()\n",
    "    \n",
    "    # shorten col names for easier manipulation\n",
    "    df.columns = ['total','name','type', 'county','date','residents','staff','attendee']\n",
    "    \n",
    "    # use the date column as the index\n",
    "    df.index = df.date\n",
    "    df.drop('date',axis=1, inplace=True)\n",
    "    \n",
    "    # replace nuisance commas\n",
    "    df.name = df.name.str.replace(',','_')\n",
    "    \n",
    "    # fill na with 0 and turn strings to integers\n",
    "    df = df.fillna(0)\n",
    "    df['attendee'] = df['attendee'].astype(int) \n",
    "    df['staff'] = df['staff'].astype(int) \n",
    "    df['residents'] = df['residents'].astype(int)\n",
    "    \n",
    "    return df"
   ]
  },
  {
   "cell_type": "code",
   "execution_count": 18,
   "metadata": {
    "scrolled": true
   },
   "outputs": [
    {
     "data": {
      "text/html": [
       "<div>\n",
       "<style scoped>\n",
       "    .dataframe tbody tr th:only-of-type {\n",
       "        vertical-align: middle;\n",
       "    }\n",
       "\n",
       "    .dataframe tbody tr th {\n",
       "        vertical-align: top;\n",
       "    }\n",
       "\n",
       "    .dataframe thead th {\n",
       "        text-align: right;\n",
       "    }\n",
       "</style>\n",
       "<table border=\"1\" class=\"dataframe\">\n",
       "  <thead>\n",
       "    <tr style=\"text-align: right;\">\n",
       "      <th></th>\n",
       "      <th>total</th>\n",
       "      <th>name</th>\n",
       "      <th>type</th>\n",
       "      <th>county</th>\n",
       "      <th>residents</th>\n",
       "      <th>staff</th>\n",
       "      <th>attendee</th>\n",
       "    </tr>\n",
       "    <tr>\n",
       "      <th>date</th>\n",
       "      <th></th>\n",
       "      <th></th>\n",
       "      <th></th>\n",
       "      <th></th>\n",
       "      <th></th>\n",
       "      <th></th>\n",
       "      <th></th>\n",
       "    </tr>\n",
       "  </thead>\n",
       "  <tbody>\n",
       "    <tr>\n",
       "      <th>2021-12-22</th>\n",
       "      <td>2</td>\n",
       "      <td>The Rehabilitation Center at Sandalwood (02046...</td>\n",
       "      <td>Healthcare - Skilled Nursing</td>\n",
       "      <td>Jefferson</td>\n",
       "      <td>0</td>\n",
       "      <td>2</td>\n",
       "      <td>0</td>\n",
       "    </tr>\n",
       "    <tr>\n",
       "      <th>2021-12-21</th>\n",
       "      <td>14</td>\n",
       "      <td>Urban Lights</td>\n",
       "      <td>Retailer</td>\n",
       "      <td>Denver</td>\n",
       "      <td>0</td>\n",
       "      <td>14</td>\n",
       "      <td>0</td>\n",
       "    </tr>\n",
       "    <tr>\n",
       "      <th>2021-12-21</th>\n",
       "      <td>2</td>\n",
       "      <td>Solange at Appletree Assisted Living (2305I0):...</td>\n",
       "      <td>Healthcare - Assisted Living</td>\n",
       "      <td>El Paso</td>\n",
       "      <td>1</td>\n",
       "      <td>1</td>\n",
       "      <td>0</td>\n",
       "    </tr>\n",
       "    <tr>\n",
       "      <th>2021-12-21</th>\n",
       "      <td>10</td>\n",
       "      <td>St. Anne's Episcopal School: December 2021</td>\n",
       "      <td>School K-12</td>\n",
       "      <td>Denver</td>\n",
       "      <td>0</td>\n",
       "      <td>1</td>\n",
       "      <td>9</td>\n",
       "    </tr>\n",
       "    <tr>\n",
       "      <th>2021-12-21</th>\n",
       "      <td>3</td>\n",
       "      <td>Neurorestorative Colorado (02E996): December 2021</td>\n",
       "      <td>Healthcare - Skilled Nursing</td>\n",
       "      <td>Jefferson</td>\n",
       "      <td>0</td>\n",
       "      <td>3</td>\n",
       "      <td>0</td>\n",
       "    </tr>\n",
       "    <tr>\n",
       "      <th>2021-12-21</th>\n",
       "      <td>5</td>\n",
       "      <td>The Suites at Someren Glen Care Center (020471...</td>\n",
       "      <td>Healthcare - Skilled Nursing</td>\n",
       "      <td>Arapahoe</td>\n",
       "      <td>4</td>\n",
       "      <td>1</td>\n",
       "      <td>0</td>\n",
       "    </tr>\n",
       "    <tr>\n",
       "      <th>2021-12-21</th>\n",
       "      <td>6</td>\n",
       "      <td>Broomfield High School: December 2021</td>\n",
       "      <td>School K-12</td>\n",
       "      <td>Broomfield</td>\n",
       "      <td>0</td>\n",
       "      <td>0</td>\n",
       "      <td>6</td>\n",
       "    </tr>\n",
       "    <tr>\n",
       "      <th>2021-12-21</th>\n",
       "      <td>4</td>\n",
       "      <td>Archuleta County Jail</td>\n",
       "      <td>Jail</td>\n",
       "      <td>Archuleta</td>\n",
       "      <td>2</td>\n",
       "      <td>2</td>\n",
       "      <td>0</td>\n",
       "    </tr>\n",
       "    <tr>\n",
       "      <th>2021-12-21</th>\n",
       "      <td>5</td>\n",
       "      <td>Mesa County Work Release/Community Corrections...</td>\n",
       "      <td>Correctional, Other</td>\n",
       "      <td>Mesa</td>\n",
       "      <td>3</td>\n",
       "      <td>2</td>\n",
       "      <td>0</td>\n",
       "    </tr>\n",
       "    <tr>\n",
       "      <th>2021-12-21</th>\n",
       "      <td>11</td>\n",
       "      <td>Wilcoxson Buick GMC Truck Inc.</td>\n",
       "      <td>Other</td>\n",
       "      <td>Pueblo</td>\n",
       "      <td>0</td>\n",
       "      <td>11</td>\n",
       "      <td>0</td>\n",
       "    </tr>\n",
       "  </tbody>\n",
       "</table>\n",
       "</div>"
      ],
      "text/plain": [
       "            total                                               name  \\\n",
       "date                                                                   \n",
       "2021-12-22      2  The Rehabilitation Center at Sandalwood (02046...   \n",
       "2021-12-21     14                                       Urban Lights   \n",
       "2021-12-21      2  Solange at Appletree Assisted Living (2305I0):...   \n",
       "2021-12-21     10         St. Anne's Episcopal School: December 2021   \n",
       "2021-12-21      3  Neurorestorative Colorado (02E996): December 2021   \n",
       "2021-12-21      5  The Suites at Someren Glen Care Center (020471...   \n",
       "2021-12-21      6              Broomfield High School: December 2021   \n",
       "2021-12-21      4                             Archuleta County Jail    \n",
       "2021-12-21      5  Mesa County Work Release/Community Corrections...   \n",
       "2021-12-21     11                     Wilcoxson Buick GMC Truck Inc.   \n",
       "\n",
       "                                    type      county  residents  staff  \\\n",
       "date                                                                     \n",
       "2021-12-22  Healthcare - Skilled Nursing   Jefferson          0      2   \n",
       "2021-12-21                      Retailer      Denver          0     14   \n",
       "2021-12-21  Healthcare - Assisted Living     El Paso          1      1   \n",
       "2021-12-21                   School K-12      Denver          0      1   \n",
       "2021-12-21  Healthcare - Skilled Nursing   Jefferson          0      3   \n",
       "2021-12-21  Healthcare - Skilled Nursing    Arapahoe          4      1   \n",
       "2021-12-21                   School K-12  Broomfield          0      0   \n",
       "2021-12-21                          Jail   Archuleta          2      2   \n",
       "2021-12-21           Correctional, Other        Mesa          3      2   \n",
       "2021-12-21                         Other      Pueblo          0     11   \n",
       "\n",
       "            attendee  \n",
       "date                  \n",
       "2021-12-22         0  \n",
       "2021-12-21         0  \n",
       "2021-12-21         0  \n",
       "2021-12-21         9  \n",
       "2021-12-21         0  \n",
       "2021-12-21         0  \n",
       "2021-12-21         6  \n",
       "2021-12-21         0  \n",
       "2021-12-21         0  \n",
       "2021-12-21         0  "
      ]
     },
     "execution_count": 18,
     "metadata": {},
     "output_type": "execute_result"
    }
   ],
   "source": [
    "df = polish_report(df)\n",
    "# Sanity Check!!!\n",
    "df.sort_index(ascending=False).head(10)"
   ]
  },
  {
   "cell_type": "markdown",
   "metadata": {},
   "source": [
    "### outbreaks"
   ]
  },
  {
   "cell_type": "code",
   "execution_count": 19,
   "metadata": {},
   "outputs": [
    {
     "name": "stdout",
     "output_type": "stream",
     "text": [
      "There are 660 outbreak sites and 19356 active cases in Colorado\n"
     ]
    }
   ],
   "source": [
    "# this saves four csv files for easy viewing access even on an ipad organized by county,type, total and date\n",
    "# use of f-string to allow 'day' to be interpreted correctly\n",
    "df.sort_values(by='county', inplace=True)\n",
    "df.to_csv(f'./covid_data_update/outbreaks-COUNTY-{day}.csv')\n",
    "\n",
    "df.sort_values(by='type', inplace=True)\n",
    "df.to_csv(f'./covid_data_update/outbreaks-TYPE-{day}.csv')\n",
    "\n",
    "df.sort_values(by='total', inplace=True,ascending=False)\n",
    "df.to_csv(f'./covid_data_update/outbreaks-TOTAL-{day}.csv')\n",
    "\n",
    "df =df.sort_index(ascending=False)\n",
    "df.to_csv(f'./covid_data_update/outbreaks-DATE-{day}.csv')\n",
    "\n",
    "# total active\n",
    "print(f'There are {df.shape[0]} outbreak sites and {df.total.sum()} active cases in Colorado')"
   ]
  },
  {
   "cell_type": "code",
   "execution_count": 20,
   "metadata": {},
   "outputs": [
    {
     "name": "stdin",
     "output_type": "stream",
     "text": [
      "Select the month by number (update only recent months): \n"
     ]
    },
    {
     "name": "stdout",
     "output_type": "stream",
     "text": [
      "Updating df_month for year 2021 and month 12\n"
     ]
    }
   ],
   "source": [
    "# prompt user to select month (default is current month)\n",
    "# selecting months in the distant past may yield incorrect values\n",
    "m = input('Select the month by number (update only recent months):') or names[1].month\n",
    "y = names[1].year\n",
    "m = int(m)\n",
    "print(f'Updating df_month for year {y} and month {m}')"
   ]
  },
  {
   "cell_type": "code",
   "execution_count": 21,
   "metadata": {},
   "outputs": [],
   "source": [
    "# Future modification planned to show data across year boundaries\n",
    "# dfy is the df for the current year\n",
    "dfy = df[df.index.year==y].copy()"
   ]
  },
  {
   "cell_type": "code",
   "execution_count": 22,
   "metadata": {},
   "outputs": [],
   "source": [
    "# df_month is the df for the selected month\n",
    "df_month = dfy[dfy.index.month==m].copy()"
   ]
  },
  {
   "cell_type": "code",
   "execution_count": 23,
   "metadata": {},
   "outputs": [],
   "source": [
    "df_month.reset_index(inplace=True)\n",
    "df_month = df_month[['total','name','type','county']]"
   ]
  },
  {
   "cell_type": "code",
   "execution_count": 24,
   "metadata": {},
   "outputs": [],
   "source": [
    "df_month.to_csv(f'./covid_data/covid_2021_{m}.txt')"
   ]
  },
  {
   "cell_type": "code",
   "execution_count": 25,
   "metadata": {},
   "outputs": [
    {
     "name": "stdout",
     "output_type": "stream",
     "text": [
      "There were an additional 156 outbreak sites in Colorado this month.\n",
      "These represent a total of 1342 new cases.\n"
     ]
    }
   ],
   "source": [
    "# get number of sites and total cases for the month\n",
    "s_num = df_month.shape[0]\n",
    "t = df_month.total.sum()\n",
    "print(f'There were an additional {s_num} outbreak sites in Colorado this month.')\n",
    "print (f'These represent a total of {t} new cases.')"
   ]
  },
  {
   "cell_type": "code",
   "execution_count": 26,
   "metadata": {},
   "outputs": [
    {
     "data": {
      "image/png": "[encoded data removed]",
      "text/plain": [
       "<Figure size 720x432 with 1 Axes>"
      ]
     },
     "metadata": {
      "needs_background": "light"
     },
     "output_type": "display_data"
    }
   ],
   "source": [
    "dfm = df.resample('M').sum()\n",
    "dfm['Month'] = dfm.index.date\n",
    "dfm\n",
    "\n",
    "dfm[['Month','total']].plot.bar(figsize=(10,6), \\\n",
    "                                x='Month',rot=45, width=.8, \\\n",
    "                                color=\"red\",alpha=.7,\\\n",
    "                                title=\"Outbreaks (total new cases) in Colorado per month\")\n",
    "plt.savefig(f'./covid_data_update/outbreaks-per-month-{day}.png');"
   ]
  },
  {
   "cell_type": "code",
   "execution_count": 27,
   "metadata": {},
   "outputs": [
    {
     "data": {
      "text/html": [
       "<div>\n",
       "<style scoped>\n",
       "    .dataframe tbody tr th:only-of-type {\n",
       "        vertical-align: middle;\n",
       "    }\n",
       "\n",
       "    .dataframe tbody tr th {\n",
       "        vertical-align: top;\n",
       "    }\n",
       "\n",
       "    .dataframe thead th {\n",
       "        text-align: right;\n",
       "    }\n",
       "</style>\n",
       "<table border=\"1\" class=\"dataframe\">\n",
       "  <thead>\n",
       "    <tr style=\"text-align: right;\">\n",
       "      <th></th>\n",
       "      <th>total</th>\n",
       "      <th>residents</th>\n",
       "      <th>staff</th>\n",
       "      <th>attendee</th>\n",
       "      <th>Month</th>\n",
       "    </tr>\n",
       "    <tr>\n",
       "      <th>date</th>\n",
       "      <th></th>\n",
       "      <th></th>\n",
       "      <th></th>\n",
       "      <th></th>\n",
       "      <th></th>\n",
       "    </tr>\n",
       "  </thead>\n",
       "  <tbody>\n",
       "    <tr>\n",
       "      <th>2021-12-31</th>\n",
       "      <td>1342</td>\n",
       "      <td>233</td>\n",
       "      <td>546</td>\n",
       "      <td>563</td>\n",
       "      <td>2021-12-31</td>\n",
       "    </tr>\n",
       "    <tr>\n",
       "      <th>2021-11-30</th>\n",
       "      <td>3405</td>\n",
       "      <td>517</td>\n",
       "      <td>1116</td>\n",
       "      <td>1772</td>\n",
       "      <td>2021-11-30</td>\n",
       "    </tr>\n",
       "    <tr>\n",
       "      <th>2021-10-31</th>\n",
       "      <td>3349</td>\n",
       "      <td>641</td>\n",
       "      <td>819</td>\n",
       "      <td>1889</td>\n",
       "      <td>2021-10-31</td>\n",
       "    </tr>\n",
       "    <tr>\n",
       "      <th>2021-09-30</th>\n",
       "      <td>4927</td>\n",
       "      <td>927</td>\n",
       "      <td>811</td>\n",
       "      <td>3189</td>\n",
       "      <td>2021-09-30</td>\n",
       "    </tr>\n",
       "    <tr>\n",
       "      <th>2021-08-31</th>\n",
       "      <td>2155</td>\n",
       "      <td>560</td>\n",
       "      <td>990</td>\n",
       "      <td>605</td>\n",
       "      <td>2021-08-31</td>\n",
       "    </tr>\n",
       "    <tr>\n",
       "      <th>2021-07-31</th>\n",
       "      <td>262</td>\n",
       "      <td>106</td>\n",
       "      <td>156</td>\n",
       "      <td>0</td>\n",
       "      <td>2021-07-31</td>\n",
       "    </tr>\n",
       "    <tr>\n",
       "      <th>2021-06-30</th>\n",
       "      <td>0</td>\n",
       "      <td>0</td>\n",
       "      <td>0</td>\n",
       "      <td>0</td>\n",
       "      <td>2021-06-30</td>\n",
       "    </tr>\n",
       "    <tr>\n",
       "      <th>2021-05-31</th>\n",
       "      <td>83</td>\n",
       "      <td>0</td>\n",
       "      <td>83</td>\n",
       "      <td>0</td>\n",
       "      <td>2021-05-31</td>\n",
       "    </tr>\n",
       "    <tr>\n",
       "      <th>2021-04-30</th>\n",
       "      <td>43</td>\n",
       "      <td>5</td>\n",
       "      <td>38</td>\n",
       "      <td>0</td>\n",
       "      <td>2021-04-30</td>\n",
       "    </tr>\n",
       "    <tr>\n",
       "      <th>2021-03-31</th>\n",
       "      <td>346</td>\n",
       "      <td>0</td>\n",
       "      <td>346</td>\n",
       "      <td>0</td>\n",
       "      <td>2021-03-31</td>\n",
       "    </tr>\n",
       "    <tr>\n",
       "      <th>2021-02-28</th>\n",
       "      <td>0</td>\n",
       "      <td>0</td>\n",
       "      <td>0</td>\n",
       "      <td>0</td>\n",
       "      <td>2021-02-28</td>\n",
       "    </tr>\n",
       "    <tr>\n",
       "      <th>2021-01-31</th>\n",
       "      <td>85</td>\n",
       "      <td>0</td>\n",
       "      <td>85</td>\n",
       "      <td>0</td>\n",
       "      <td>2021-01-31</td>\n",
       "    </tr>\n",
       "    <tr>\n",
       "      <th>2020-12-31</th>\n",
       "      <td>179</td>\n",
       "      <td>0</td>\n",
       "      <td>179</td>\n",
       "      <td>0</td>\n",
       "      <td>2020-12-31</td>\n",
       "    </tr>\n",
       "    <tr>\n",
       "      <th>2020-11-30</th>\n",
       "      <td>619</td>\n",
       "      <td>0</td>\n",
       "      <td>619</td>\n",
       "      <td>0</td>\n",
       "      <td>2020-11-30</td>\n",
       "    </tr>\n",
       "    <tr>\n",
       "      <th>2020-10-31</th>\n",
       "      <td>1614</td>\n",
       "      <td>1315</td>\n",
       "      <td>299</td>\n",
       "      <td>0</td>\n",
       "      <td>2020-10-31</td>\n",
       "    </tr>\n",
       "    <tr>\n",
       "      <th>2020-09-30</th>\n",
       "      <td>797</td>\n",
       "      <td>0</td>\n",
       "      <td>435</td>\n",
       "      <td>362</td>\n",
       "      <td>2020-09-30</td>\n",
       "    </tr>\n",
       "    <tr>\n",
       "      <th>2020-08-31</th>\n",
       "      <td>150</td>\n",
       "      <td>0</td>\n",
       "      <td>150</td>\n",
       "      <td>0</td>\n",
       "      <td>2020-08-31</td>\n",
       "    </tr>\n",
       "  </tbody>\n",
       "</table>\n",
       "</div>"
      ],
      "text/plain": [
       "            total  residents  staff  attendee       Month\n",
       "date                                                     \n",
       "2021-12-31   1342        233    546       563  2021-12-31\n",
       "2021-11-30   3405        517   1116      1772  2021-11-30\n",
       "2021-10-31   3349        641    819      1889  2021-10-31\n",
       "2021-09-30   4927        927    811      3189  2021-09-30\n",
       "2021-08-31   2155        560    990       605  2021-08-31\n",
       "2021-07-31    262        106    156         0  2021-07-31\n",
       "2021-06-30      0          0      0         0  2021-06-30\n",
       "2021-05-31     83          0     83         0  2021-05-31\n",
       "2021-04-30     43          5     38         0  2021-04-30\n",
       "2021-03-31    346          0    346         0  2021-03-31\n",
       "2021-02-28      0          0      0         0  2021-02-28\n",
       "2021-01-31     85          0     85         0  2021-01-31\n",
       "2020-12-31    179          0    179         0  2020-12-31\n",
       "2020-11-30    619          0    619         0  2020-11-30\n",
       "2020-10-31   1614       1315    299         0  2020-10-31\n",
       "2020-09-30    797          0    435       362  2020-09-30\n",
       "2020-08-31    150          0    150         0  2020-08-31"
      ]
     },
     "execution_count": 27,
     "metadata": {},
     "output_type": "execute_result"
    }
   ],
   "source": [
    "dfm.sort_index(ascending = False)"
   ]
  },
  {
   "cell_type": "code",
   "execution_count": 28,
   "metadata": {},
   "outputs": [
    {
     "name": "stdout",
     "output_type": "stream",
     "text": [
      "There are 388 active cases in Boulder County\n"
     ]
    }
   ],
   "source": [
    "# list all active cases in Boulder County\n",
    "boulder = df[df.county=='Boulder']\n",
    "bc = boulder.total.sum()\n",
    "print(f'There are {bc} active cases in Boulder County')"
   ]
  },
  {
   "cell_type": "code",
   "execution_count": 29,
   "metadata": {
    "scrolled": true
   },
   "outputs": [
    {
     "data": {
      "text/html": [
       "<div>\n",
       "<style scoped>\n",
       "    .dataframe tbody tr th:only-of-type {\n",
       "        vertical-align: middle;\n",
       "    }\n",
       "\n",
       "    .dataframe tbody tr th {\n",
       "        vertical-align: top;\n",
       "    }\n",
       "\n",
       "    .dataframe thead th {\n",
       "        text-align: right;\n",
       "    }\n",
       "</style>\n",
       "<table border=\"1\" class=\"dataframe\">\n",
       "  <thead>\n",
       "    <tr style=\"text-align: right;\">\n",
       "      <th></th>\n",
       "      <th>total</th>\n",
       "      <th>name</th>\n",
       "      <th>type</th>\n",
       "      <th>county</th>\n",
       "      <th>residents</th>\n",
       "      <th>staff</th>\n",
       "      <th>attendee</th>\n",
       "    </tr>\n",
       "    <tr>\n",
       "      <th>date</th>\n",
       "      <th></th>\n",
       "      <th></th>\n",
       "      <th></th>\n",
       "      <th></th>\n",
       "      <th></th>\n",
       "      <th></th>\n",
       "      <th></th>\n",
       "    </tr>\n",
       "  </thead>\n",
       "  <tbody>\n",
       "    <tr>\n",
       "      <th>2021-12-16</th>\n",
       "      <td>16</td>\n",
       "      <td>Mesa Vista of Boulder (020380): December 2021</td>\n",
       "      <td>Healthcare - Skilled Nursing</td>\n",
       "      <td>Boulder</td>\n",
       "      <td>7</td>\n",
       "      <td>9</td>\n",
       "      <td>0</td>\n",
       "    </tr>\n",
       "    <tr>\n",
       "      <th>2021-12-14</th>\n",
       "      <td>3</td>\n",
       "      <td>The Carillon at Boulder Creek (23V719)</td>\n",
       "      <td>Healthcare - Assisted Living</td>\n",
       "      <td>Boulder</td>\n",
       "      <td>1</td>\n",
       "      <td>2</td>\n",
       "      <td>0</td>\n",
       "    </tr>\n",
       "    <tr>\n",
       "      <th>2021-12-08</th>\n",
       "      <td>10</td>\n",
       "      <td>Centennial Peaks Hospital</td>\n",
       "      <td>Healthcare - Psychiatric Hospital</td>\n",
       "      <td>Boulder</td>\n",
       "      <td>3</td>\n",
       "      <td>7</td>\n",
       "      <td>0</td>\n",
       "    </tr>\n",
       "    <tr>\n",
       "      <th>2021-12-06</th>\n",
       "      <td>3</td>\n",
       "      <td>Altavita Memory Care Center (23H130): December...</td>\n",
       "      <td>Healthcare - Skilled Nursing</td>\n",
       "      <td>Boulder</td>\n",
       "      <td>1</td>\n",
       "      <td>2</td>\n",
       "      <td>0</td>\n",
       "    </tr>\n",
       "    <tr>\n",
       "      <th>2021-12-06</th>\n",
       "      <td>2</td>\n",
       "      <td>Balfour Longmont (23L108): December 2021</td>\n",
       "      <td>Healthcare - Assisted Living</td>\n",
       "      <td>Boulder</td>\n",
       "      <td>1</td>\n",
       "      <td>1</td>\n",
       "      <td>0</td>\n",
       "    </tr>\n",
       "    <tr>\n",
       "      <th>2021-12-03</th>\n",
       "      <td>2</td>\n",
       "      <td>Manor Health Services - Boulder (020315): Nove...</td>\n",
       "      <td>Healthcare - Skilled Nursing</td>\n",
       "      <td>Boulder</td>\n",
       "      <td>0</td>\n",
       "      <td>2</td>\n",
       "      <td>0</td>\n",
       "    </tr>\n",
       "    <tr>\n",
       "      <th>2021-12-02</th>\n",
       "      <td>2</td>\n",
       "      <td>Linden Place Health and Rehabilitation Center ...</td>\n",
       "      <td>Healthcare - Skilled Nursing</td>\n",
       "      <td>Boulder</td>\n",
       "      <td>0</td>\n",
       "      <td>2</td>\n",
       "      <td>0</td>\n",
       "    </tr>\n",
       "    <tr>\n",
       "      <th>2021-12-02</th>\n",
       "      <td>7</td>\n",
       "      <td>Primrose School of Longmont: November 2021</td>\n",
       "      <td>Child Care Center</td>\n",
       "      <td>Boulder</td>\n",
       "      <td>0</td>\n",
       "      <td>3</td>\n",
       "      <td>4</td>\n",
       "    </tr>\n",
       "    <tr>\n",
       "      <th>2021-12-02</th>\n",
       "      <td>5</td>\n",
       "      <td>SonShine Daycare and Preschool</td>\n",
       "      <td>Child Care Center</td>\n",
       "      <td>Boulder</td>\n",
       "      <td>0</td>\n",
       "      <td>2</td>\n",
       "      <td>3</td>\n",
       "    </tr>\n",
       "    <tr>\n",
       "      <th>2021-12-01</th>\n",
       "      <td>4</td>\n",
       "      <td>Frasier Meadows Health Care Center (020301)</td>\n",
       "      <td>Healthcare - Skilled Nursing</td>\n",
       "      <td>Boulder</td>\n",
       "      <td>0</td>\n",
       "      <td>4</td>\n",
       "      <td>0</td>\n",
       "    </tr>\n",
       "    <tr>\n",
       "      <th>2021-11-19</th>\n",
       "      <td>11</td>\n",
       "      <td>Alchemy of Movement</td>\n",
       "      <td>Indoor Entertainment/Rec</td>\n",
       "      <td>Boulder</td>\n",
       "      <td>0</td>\n",
       "      <td>2</td>\n",
       "      <td>9</td>\n",
       "    </tr>\n",
       "    <tr>\n",
       "      <th>2021-11-18</th>\n",
       "      <td>16</td>\n",
       "      <td>Lyons Elementary School</td>\n",
       "      <td>School K-12</td>\n",
       "      <td>Boulder</td>\n",
       "      <td>0</td>\n",
       "      <td>0</td>\n",
       "      <td>16</td>\n",
       "    </tr>\n",
       "    <tr>\n",
       "      <th>2021-11-18</th>\n",
       "      <td>7</td>\n",
       "      <td>Seagate Technology</td>\n",
       "      <td>Non-Food Manufacturer/Warehouse</td>\n",
       "      <td>Boulder</td>\n",
       "      <td>0</td>\n",
       "      <td>7</td>\n",
       "      <td>0</td>\n",
       "    </tr>\n",
       "    <tr>\n",
       "      <th>2021-11-03</th>\n",
       "      <td>16</td>\n",
       "      <td>Hygiene Elementary School</td>\n",
       "      <td>School K-12</td>\n",
       "      <td>Boulder</td>\n",
       "      <td>0</td>\n",
       "      <td>1</td>\n",
       "      <td>15</td>\n",
       "    </tr>\n",
       "    <tr>\n",
       "      <th>2021-10-28</th>\n",
       "      <td>14</td>\n",
       "      <td>Ned's Restaurant</td>\n",
       "      <td>Restaurant - Sit Down</td>\n",
       "      <td>Boulder</td>\n",
       "      <td>0</td>\n",
       "      <td>14</td>\n",
       "      <td>0</td>\n",
       "    </tr>\n",
       "    <tr>\n",
       "      <th>2021-10-15</th>\n",
       "      <td>6</td>\n",
       "      <td>Burlington Elementary School</td>\n",
       "      <td>School K-12</td>\n",
       "      <td>Boulder</td>\n",
       "      <td>0</td>\n",
       "      <td>0</td>\n",
       "      <td>6</td>\n",
       "    </tr>\n",
       "    <tr>\n",
       "      <th>2021-10-13</th>\n",
       "      <td>20</td>\n",
       "      <td>Ryan Elementary School</td>\n",
       "      <td>School K-12</td>\n",
       "      <td>Boulder</td>\n",
       "      <td>0</td>\n",
       "      <td>0</td>\n",
       "      <td>20</td>\n",
       "    </tr>\n",
       "    <tr>\n",
       "      <th>2021-10-11</th>\n",
       "      <td>7</td>\n",
       "      <td>Longmont High School: October 2021</td>\n",
       "      <td>School K-12</td>\n",
       "      <td>Boulder</td>\n",
       "      <td>0</td>\n",
       "      <td>0</td>\n",
       "      <td>7</td>\n",
       "    </tr>\n",
       "    <tr>\n",
       "      <th>2021-10-04</th>\n",
       "      <td>26</td>\n",
       "      <td>Louisville Elementary School</td>\n",
       "      <td>School K-12</td>\n",
       "      <td>Boulder</td>\n",
       "      <td>0</td>\n",
       "      <td>3</td>\n",
       "      <td>23</td>\n",
       "    </tr>\n",
       "    <tr>\n",
       "      <th>2021-10-01</th>\n",
       "      <td>6</td>\n",
       "      <td>Longs Peak Middle School</td>\n",
       "      <td>School K-12</td>\n",
       "      <td>Boulder</td>\n",
       "      <td>0</td>\n",
       "      <td>0</td>\n",
       "      <td>6</td>\n",
       "    </tr>\n",
       "    <tr>\n",
       "      <th>2021-09-29</th>\n",
       "      <td>51</td>\n",
       "      <td>Niwot High School</td>\n",
       "      <td>School K-12</td>\n",
       "      <td>Boulder</td>\n",
       "      <td>0</td>\n",
       "      <td>3</td>\n",
       "      <td>48</td>\n",
       "    </tr>\n",
       "    <tr>\n",
       "      <th>2021-09-23</th>\n",
       "      <td>36</td>\n",
       "      <td>Peak To Peak Charter School</td>\n",
       "      <td>School K-12</td>\n",
       "      <td>Boulder</td>\n",
       "      <td>0</td>\n",
       "      <td>5</td>\n",
       "      <td>31</td>\n",
       "    </tr>\n",
       "    <tr>\n",
       "      <th>2021-09-03</th>\n",
       "      <td>53</td>\n",
       "      <td>Boulder Shelter for the Homeless: August 2021</td>\n",
       "      <td>Homeless Shelter</td>\n",
       "      <td>Boulder</td>\n",
       "      <td>49</td>\n",
       "      <td>4</td>\n",
       "      <td>0</td>\n",
       "    </tr>\n",
       "    <tr>\n",
       "      <th>2021-08-31</th>\n",
       "      <td>65</td>\n",
       "      <td>Boulder County Jail: August 2021</td>\n",
       "      <td>Jail</td>\n",
       "      <td>Boulder</td>\n",
       "      <td>56</td>\n",
       "      <td>9</td>\n",
       "      <td>0</td>\n",
       "    </tr>\n",
       "  </tbody>\n",
       "</table>\n",
       "</div>"
      ],
      "text/plain": [
       "            total                                               name  \\\n",
       "date                                                                   \n",
       "2021-12-16     16      Mesa Vista of Boulder (020380): December 2021   \n",
       "2021-12-14      3             The Carillon at Boulder Creek (23V719)   \n",
       "2021-12-08     10                         Centennial Peaks Hospital    \n",
       "2021-12-06      3  Altavita Memory Care Center (23H130): December...   \n",
       "2021-12-06      2           Balfour Longmont (23L108): December 2021   \n",
       "2021-12-03      2  Manor Health Services - Boulder (020315): Nove...   \n",
       "2021-12-02      2  Linden Place Health and Rehabilitation Center ...   \n",
       "2021-12-02      7         Primrose School of Longmont: November 2021   \n",
       "2021-12-02      5                     SonShine Daycare and Preschool   \n",
       "2021-12-01      4        Frasier Meadows Health Care Center (020301)   \n",
       "2021-11-19     11                                Alchemy of Movement   \n",
       "2021-11-18     16                            Lyons Elementary School   \n",
       "2021-11-18      7                                 Seagate Technology   \n",
       "2021-11-03     16                          Hygiene Elementary School   \n",
       "2021-10-28     14                                   Ned's Restaurant   \n",
       "2021-10-15      6                       Burlington Elementary School   \n",
       "2021-10-13     20                             Ryan Elementary School   \n",
       "2021-10-11      7                 Longmont High School: October 2021   \n",
       "2021-10-04     26                       Louisville Elementary School   \n",
       "2021-10-01      6                           Longs Peak Middle School   \n",
       "2021-09-29     51                                  Niwot High School   \n",
       "2021-09-23     36                        Peak To Peak Charter School   \n",
       "2021-09-03     53      Boulder Shelter for the Homeless: August 2021   \n",
       "2021-08-31     65                   Boulder County Jail: August 2021   \n",
       "\n",
       "                                         type   county  residents  staff  \\\n",
       "date                                                                       \n",
       "2021-12-16       Healthcare - Skilled Nursing  Boulder          7      9   \n",
       "2021-12-14       Healthcare - Assisted Living  Boulder          1      2   \n",
       "2021-12-08  Healthcare - Psychiatric Hospital  Boulder          3      7   \n",
       "2021-12-06       Healthcare - Skilled Nursing  Boulder          1      2   \n",
       "2021-12-06       Healthcare - Assisted Living  Boulder          1      1   \n",
       "2021-12-03       Healthcare - Skilled Nursing  Boulder          0      2   \n",
       "2021-12-02       Healthcare - Skilled Nursing  Boulder          0      2   \n",
       "2021-12-02                  Child Care Center  Boulder          0      3   \n",
       "2021-12-02                  Child Care Center  Boulder          0      2   \n",
       "2021-12-01       Healthcare - Skilled Nursing  Boulder          0      4   \n",
       "2021-11-19           Indoor Entertainment/Rec  Boulder          0      2   \n",
       "2021-11-18                        School K-12  Boulder          0      0   \n",
       "2021-11-18    Non-Food Manufacturer/Warehouse  Boulder          0      7   \n",
       "2021-11-03                        School K-12  Boulder          0      1   \n",
       "2021-10-28              Restaurant - Sit Down  Boulder          0     14   \n",
       "2021-10-15                        School K-12  Boulder          0      0   \n",
       "2021-10-13                        School K-12  Boulder          0      0   \n",
       "2021-10-11                        School K-12  Boulder          0      0   \n",
       "2021-10-04                        School K-12  Boulder          0      3   \n",
       "2021-10-01                        School K-12  Boulder          0      0   \n",
       "2021-09-29                        School K-12  Boulder          0      3   \n",
       "2021-09-23                        School K-12  Boulder          0      5   \n",
       "2021-09-03                   Homeless Shelter  Boulder         49      4   \n",
       "2021-08-31                               Jail  Boulder         56      9   \n",
       "\n",
       "            attendee  \n",
       "date                  \n",
       "2021-12-16         0  \n",
       "2021-12-14         0  \n",
       "2021-12-08         0  \n",
       "2021-12-06         0  \n",
       "2021-12-06         0  \n",
       "2021-12-03         0  \n",
       "2021-12-02         0  \n",
       "2021-12-02         4  \n",
       "2021-12-02         3  \n",
       "2021-12-01         0  \n",
       "2021-11-19         9  \n",
       "2021-11-18        16  \n",
       "2021-11-18         0  \n",
       "2021-11-03        15  \n",
       "2021-10-28         0  \n",
       "2021-10-15         6  \n",
       "2021-10-13        20  \n",
       "2021-10-11         7  \n",
       "2021-10-04        23  \n",
       "2021-10-01         6  \n",
       "2021-09-29        48  \n",
       "2021-09-23        31  \n",
       "2021-09-03         0  \n",
       "2021-08-31         0  "
      ]
     },
     "execution_count": 29,
     "metadata": {},
     "output_type": "execute_result"
    }
   ],
   "source": [
    "boulder = boulder.sort_index(ascending=False)\n",
    "boulder.to_csv(f'./covid_data_update/boulder-{day}.csv')\n",
    "boulder"
   ]
  },
  {
   "cell_type": "markdown",
   "metadata": {},
   "source": [
    "### Create Pie Chart"
   ]
  },
  {
   "cell_type": "code",
   "execution_count": 30,
   "metadata": {},
   "outputs": [
    {
     "data": {
      "text/plain": [
       "19356"
      ]
     },
     "execution_count": 30,
     "metadata": {},
     "output_type": "execute_result"
    }
   ],
   "source": [
    "# total number of active cases\n",
    "s = df.total.sum()\n",
    "s"
   ]
  },
  {
   "cell_type": "code",
   "execution_count": 31,
   "metadata": {},
   "outputs": [
    {
     "name": "stdout",
     "output_type": "stream",
     "text": [
      "These represent 91% of all outbreak cases\n"
     ]
    },
    {
     "data": {
      "text/plain": [
       "type\n",
       "Child Care Center                           0.019735\n",
       "College/University                          0.036991\n",
       "Construction Company/Contractor             0.019322\n",
       "Distribution Center/Business                0.028673\n",
       "Healthcare - Assisted Living                0.018031\n",
       "Healthcare - Independent Living Facility    0.011159\n",
       "Healthcare - Psychiatric Hospital           0.011779\n",
       "Healthcare - Skilled Nursing                0.043656\n",
       "Homeless Shelter                            0.017204\n",
       "Hotel/Lodge/Resort                          0.020562\n",
       "Jail                                        0.174675\n",
       "Office/Indoor Workspace                     0.028932\n",
       "Other                                       0.018392\n",
       "Retailer                                    0.012968\n",
       "School K-12                                 0.432476\n",
       "State Prison                                0.016016\n",
       "Name: total, dtype: float64"
      ]
     },
     "execution_count": 31,
     "metadata": {},
     "output_type": "execute_result"
    }
   ],
   "source": [
    "# list of major types by percent of total\n",
    "df_percent = df.groupby('type').total.sum()/s\n",
    "print (f'These represent {df_percent[df_percent > .01].sum()*100:.0f}% of all outbreak cases')\n",
    "df_percent[df_percent > .01]"
   ]
  },
  {
   "cell_type": "code",
   "execution_count": 32,
   "metadata": {},
   "outputs": [],
   "source": [
    "# custom function from pie_dict \n",
    "from pie_dict import pie"
   ]
  },
  {
   "cell_type": "code",
   "execution_count": 33,
   "metadata": {},
   "outputs": [
    {
     "data": {
      "text/html": [
       "<div>\n",
       "<style scoped>\n",
       "    .dataframe tbody tr th:only-of-type {\n",
       "        vertical-align: middle;\n",
       "    }\n",
       "\n",
       "    .dataframe tbody tr th {\n",
       "        vertical-align: top;\n",
       "    }\n",
       "\n",
       "    .dataframe thead th {\n",
       "        text-align: right;\n",
       "    }\n",
       "</style>\n",
       "<table border=\"1\" class=\"dataframe\">\n",
       "  <thead>\n",
       "    <tr style=\"text-align: right;\">\n",
       "      <th></th>\n",
       "      <th>total</th>\n",
       "      <th>name</th>\n",
       "      <th>type</th>\n",
       "      <th>county</th>\n",
       "      <th>residents</th>\n",
       "      <th>staff</th>\n",
       "      <th>attendee</th>\n",
       "    </tr>\n",
       "    <tr>\n",
       "      <th>date</th>\n",
       "      <th></th>\n",
       "      <th></th>\n",
       "      <th></th>\n",
       "      <th></th>\n",
       "      <th></th>\n",
       "      <th></th>\n",
       "      <th></th>\n",
       "    </tr>\n",
       "  </thead>\n",
       "  <tbody>\n",
       "    <tr>\n",
       "      <th>2021-12-22</th>\n",
       "      <td>2</td>\n",
       "      <td>The Rehabilitation Center at Sandalwood (02046...</td>\n",
       "      <td>Healthcare</td>\n",
       "      <td>Jefferson</td>\n",
       "      <td>0</td>\n",
       "      <td>2</td>\n",
       "      <td>0</td>\n",
       "    </tr>\n",
       "    <tr>\n",
       "      <th>2021-12-21</th>\n",
       "      <td>10</td>\n",
       "      <td>St. Anne's Episcopal School: December 2021</td>\n",
       "      <td>Day Care/School</td>\n",
       "      <td>Denver</td>\n",
       "      <td>0</td>\n",
       "      <td>1</td>\n",
       "      <td>9</td>\n",
       "    </tr>\n",
       "    <tr>\n",
       "      <th>2021-12-21</th>\n",
       "      <td>4</td>\n",
       "      <td>Archuleta County Jail</td>\n",
       "      <td>Jail/Prison</td>\n",
       "      <td>Archuleta</td>\n",
       "      <td>2</td>\n",
       "      <td>2</td>\n",
       "      <td>0</td>\n",
       "    </tr>\n",
       "    <tr>\n",
       "      <th>2021-12-21</th>\n",
       "      <td>3</td>\n",
       "      <td>Neurorestorative Colorado (02E996): December 2021</td>\n",
       "      <td>Healthcare</td>\n",
       "      <td>Jefferson</td>\n",
       "      <td>0</td>\n",
       "      <td>3</td>\n",
       "      <td>0</td>\n",
       "    </tr>\n",
       "    <tr>\n",
       "      <th>2021-12-21</th>\n",
       "      <td>6</td>\n",
       "      <td>Broomfield High School: December 2021</td>\n",
       "      <td>Day Care/School</td>\n",
       "      <td>Broomfield</td>\n",
       "      <td>0</td>\n",
       "      <td>0</td>\n",
       "      <td>6</td>\n",
       "    </tr>\n",
       "  </tbody>\n",
       "</table>\n",
       "</div>"
      ],
      "text/plain": [
       "            total                                               name  \\\n",
       "date                                                                   \n",
       "2021-12-22      2  The Rehabilitation Center at Sandalwood (02046...   \n",
       "2021-12-21     10         St. Anne's Episcopal School: December 2021   \n",
       "2021-12-21      4                             Archuleta County Jail    \n",
       "2021-12-21      3  Neurorestorative Colorado (02E996): December 2021   \n",
       "2021-12-21      6              Broomfield High School: December 2021   \n",
       "\n",
       "                       type      county  residents  staff  attendee  \n",
       "date                                                                 \n",
       "2021-12-22       Healthcare   Jefferson          0      2         0  \n",
       "2021-12-21  Day Care/School      Denver          0      1         9  \n",
       "2021-12-21      Jail/Prison   Archuleta          2      2         0  \n",
       "2021-12-21       Healthcare   Jefferson          0      3         0  \n",
       "2021-12-21  Day Care/School  Broomfield          0      0         6  "
      ]
     },
     "execution_count": 33,
     "metadata": {},
     "output_type": "execute_result"
    }
   ],
   "source": [
    "df_pie = pie (df)\n",
    "df_pie.head()\n",
    "pie_list = np.array(['College/University', 'Jail/Prison', 'Other',\n",
    "       'Office/Mfg/Dist/Construction', 'Healthcare', 'Resturant/Retail',\n",
    "       'Day Care/School'], dtype=object)"
   ]
  },
  {
   "cell_type": "code",
   "execution_count": 34,
   "metadata": {},
   "outputs": [
    {
     "data": {
      "text/plain": [
       "\"test = df.type.unique()\\ntest = np.append(test,['Social Gathering','Travel'])\\nlen(test)\\n\""
      ]
     },
     "execution_count": 34,
     "metadata": {},
     "output_type": "execute_result"
    }
   ],
   "source": [
    "'''test = df.type.unique()\n",
    "test = np.append(test,['Social Gathering','Travel'])\n",
    "len(test)\n",
    "'''"
   ]
  },
  {
   "cell_type": "code",
   "execution_count": 35,
   "metadata": {},
   "outputs": [
    {
     "data": {
      "text/plain": [
       "array(['Healthcare', 'Day Care/School', 'Jail/Prison', 'Other',\n",
       "       'Resturant/Retail', 'Office/Mfg/Dist/Construction',\n",
       "       'Municipal/Local Government', 'College/University'], dtype=object)"
      ]
     },
     "execution_count": 35,
     "metadata": {},
     "output_type": "execute_result"
    }
   ],
   "source": [
    "df.type.unique()"
   ]
  },
  {
   "cell_type": "code",
   "execution_count": 36,
   "metadata": {},
   "outputs": [],
   "source": [
    "def check_types(df):\n",
    "    '''check_types checks to see if any new categories were added and \n",
    "    if so reassigns them to the Other category\n",
    "    Returns: a copy of the original df\n",
    "    '''\n",
    "    test = df.type.unique()\n",
    "    if len(test) != 7:\n",
    "        more_types = [item for item in test if item not in pie_list]\n",
    "        df.type = df.type.replace(dict.fromkeys(more_types, 'Other'))\n",
    "        print(f'{more_types} were added to the category: Other')\n",
    "    else:\n",
    "        print('No new types were added to the category: Other')\n",
    "        \n",
    "    return df"
   ]
  },
  {
   "cell_type": "code",
   "execution_count": 37,
   "metadata": {},
   "outputs": [
    {
     "name": "stdout",
     "output_type": "stream",
     "text": [
      "['Municipal/Local Government'] were added to the category: Other\n"
     ]
    }
   ],
   "source": [
    "df = check_types(df)"
   ]
  },
  {
   "cell_type": "code",
   "execution_count": 38,
   "metadata": {},
   "outputs": [
    {
     "name": "stdout",
     "output_type": "stream",
     "text": [
      "type\n",
      "College/University               716\n",
      "Day Care/School                 8811\n",
      "Healthcare                      2000\n",
      "Jail/Prison                     3824\n",
      "Office/Mfg/Dist/Construction    1915\n",
      "Other                           1434\n",
      "Resturant/Retail                 656\n",
      "Name: total, dtype: int64\n"
     ]
    },
    {
     "data": {
      "text/plain": [
       "19356"
      ]
     },
     "execution_count": 38,
     "metadata": {},
     "output_type": "execute_result"
    }
   ],
   "source": [
    "df.total = df.total.astype(int)\n",
    "\n",
    "p = df.groupby('type').total.sum()\n",
    "print (p)\n",
    "total_cases = p.sum()\n",
    "total_cases"
   ]
  },
  {
   "cell_type": "code",
   "execution_count": 39,
   "metadata": {},
   "outputs": [
    {
     "data": {
      "image/png": "[encoded data removed]",
      "text/plain": [
       "<Figure size 576x576 with 1 Axes>"
      ]
     },
     "metadata": {},
     "output_type": "display_data"
    }
   ],
   "source": [
    "# creates a pie chart of the current total active cases\n",
    "my_colors = ['#f6eff7','#d0d1e6','#a6bddb','#67a9cf','#3690c0','#02818a','#016450']\n",
    "\n",
    "explode = (.1,0,0,0,0,0,0)\n",
    "\n",
    "p.plot.pie(figsize=(8,8),explode=explode,autopct='%1.0f%%',\n",
    "        shadow=True, colors=my_colors,startangle=-25);\n",
    "plt.title(f'Covid Active Outreaks\\n (active cases = {total_cases},       {day})\\n')\n",
    "\n",
    "plt.axis('equal')\n",
    "plt.savefig(f'./covid_data_update/outbreaks-piechart-{day}.png');"
   ]
  },
  {
   "cell_type": "markdown",
   "metadata": {},
   "source": [
    "### Change directory"
   ]
  },
  {
   "cell_type": "code",
   "execution_count": 40,
   "metadata": {},
   "outputs": [
    {
     "name": "stdout",
     "output_type": "stream",
     "text": [
      "/Users/edwardterrell/Desktop/covid_machinations/covid_data_update\n"
     ]
    }
   ],
   "source": [
    "cd covid_data_update"
   ]
  },
  {
   "cell_type": "code",
   "execution_count": 41,
   "metadata": {},
   "outputs": [],
   "source": [
    "# Gathering summary statistics for a two month pie chart \n",
    "# create datetime and integers types \n",
    "this_month = pd.read_csv(f'outbreaks-DATE-{day}.csv')\n",
    "this_month.date = pd.to_datetime(this_month.date)\n",
    "this_month.total = this_month.total.astype(int)"
   ]
  },
  {
   "cell_type": "code",
   "execution_count": 42,
   "metadata": {},
   "outputs": [],
   "source": [
    "# apply custom pie function\n",
    "this_month = pie(this_month)"
   ]
  },
  {
   "cell_type": "code",
   "execution_count": 43,
   "metadata": {},
   "outputs": [
    {
     "data": {
      "text/plain": [
       "'2021-11-01'"
      ]
     },
     "execution_count": 43,
     "metadata": {},
     "output_type": "execute_result"
    },
    {
     "data": {
      "text/plain": [
       "'November'"
      ]
     },
     "execution_count": 43,
     "metadata": {},
     "output_type": "execute_result"
    }
   ],
   "source": [
    "# Create string variables for the first day of the previous month and previous month\n",
    "start = today - pd.offsets.MonthBegin (2)\n",
    "str_date = start.strftime('%Y-%m-%d')\n",
    "str_date\n",
    "month = start.strftime('%B')\n",
    "month"
   ]
  },
  {
   "cell_type": "code",
   "execution_count": 44,
   "metadata": {},
   "outputs": [
    {
     "name": "stdout",
     "output_type": "stream",
     "text": [
      "['Municipal/Local Government'] were added to the category: Other\n"
     ]
    }
   ],
   "source": [
    "#set filter to start month (month always starts on the first)\n",
    "#check for new types\n",
    "start_month = this_month[this_month.date > str_date].copy()\n",
    "start_month = check_types(start_month)"
   ]
  },
  {
   "cell_type": "code",
   "execution_count": 45,
   "metadata": {},
   "outputs": [
    {
     "data": {
      "text/plain": [
       "type\n",
       "College/University               160\n",
       "Day Care/School                 2344\n",
       "Healthcare                       928\n",
       "Jail/Prison                      384\n",
       "Office/Mfg/Dist/Construction     383\n",
       "Other                            239\n",
       "Resturant/Retail                 124\n",
       "Name: total, dtype: int64"
      ]
     },
     "execution_count": 45,
     "metadata": {},
     "output_type": "execute_result"
    }
   ],
   "source": [
    "start_month = start_month.groupby('type').total.sum()\n",
    "this_month_cases = start_month.sum()\n",
    "start_month"
   ]
  },
  {
   "cell_type": "code",
   "execution_count": 46,
   "metadata": {},
   "outputs": [
    {
     "data": {
      "image/png": "[encoded data removed]",
      "text/plain": [
       "<Figure size 576x576 with 1 Axes>"
      ]
     },
     "metadata": {},
     "output_type": "display_data"
    }
   ],
   "source": [
    "# creates a pie chart \n",
    "my_colors = ['#f6eff7','#d0d1e6','#a6bddb','#67a9cf','#3690c0','#02818a','#016450']\n",
    "\n",
    "explode = (0,.1,0,0,0,0,0)\n",
    "\n",
    "start_month.plot.pie(figsize=(8,8),explode=explode,autopct='%1.0f%%', \n",
    "             shadow=True, colors=my_colors,startangle=-30)\n",
    "\n",
    "plt.title(f'Covid Outbreaks since {month} 1\\n (active cases = {this_month_cases},       {day})\\n')\n",
    "\n",
    "plt.axis('equal')\n",
    "plt.savefig(f'this_month_outbreaks-piechart-{day}.png');"
   ]
  },
  {
   "cell_type": "markdown",
   "metadata": {},
   "source": [
    "### Displays all updated graphs files"
   ]
  },
  {
   "cell_type": "code",
   "execution_count": 47,
   "metadata": {},
   "outputs": [
    {
     "data": {
      "text/plain": [
       "['outbreaks-per-month-2021-12-24.png',\n",
       " 'outbreaks-piechart-2021-12-24.png',\n",
       " 'this_month_outbreaks-piechart-2021-12-24.png']"
      ]
     },
     "execution_count": 47,
     "metadata": {},
     "output_type": "execute_result"
    },
    {
     "data": {
      "image/png": "[encoded data removed]",
      "text/plain": [
       "<IPython.core.display.Image object>"
      ]
     },
     "execution_count": 47,
     "metadata": {},
     "output_type": "execute_result"
    },
    {
     "data": {
      "image/png": "[encoded data removed]",
      "text/plain": [
       "<IPython.core.display.Image object>"
      ]
     },
     "execution_count": 47,
     "metadata": {},
     "output_type": "execute_result"
    },
    {
     "data": {
      "image/png": "[encoded data removed]",
      "text/plain": [
       "<IPython.core.display.Image object>"
      ]
     },
     "execution_count": 47,
     "metadata": {},
     "output_type": "execute_result"
    }
   ],
   "source": [
    "!ls -t1 | head -n 20 | grep -ve '^bolder' -ve 'png$' -ve 'xlsx$' > covid_text\n",
    "!ls *.png > flist_of_covid_png \n",
    "\n",
    "# Loop through the file flist and store filenames in png_list\n",
    "with open('flist_of_covid_png') as f:\n",
    "    png_str = f.read()\n",
    "png_list = png_str.split('\\n')[0:-1]\n",
    "\n",
    "png_list\n",
    "\n",
    "from IPython.display import Image\n",
    "\n",
    "for file in png_list:    \n",
    "    local = Image(file)\n",
    "    local\n",
    "    \n",
    "# These were helper files and are not needed any longer\n",
    "!rm -f covid_text\n",
    "!rm -f flist_of_covid_png\n",
    "!rm -f temp.xlsx\n"
   ]
  },
  {
   "cell_type": "markdown",
   "metadata": {},
   "source": [
    "### tabla rasa"
   ]
  },
  {
   "cell_type": "code",
   "execution_count": 48,
   "metadata": {},
   "outputs": [
    {
     "name": "stdout",
     "output_type": "stream",
     "text": [
      "boulder-2021-12-24.csv\n",
      "outbreaks-COUNTY-2021-12-24.csv\n",
      "outbreaks-DATE-2021-12-24.csv\n",
      "outbreaks-TOTAL-2021-12-24.csv\n",
      "outbreaks-TYPE-2021-12-24.csv\n",
      "outbreaks-per-month-2021-12-24.png\n",
      "outbreaks-piechart-2021-12-24.png\n",
      "this_month_outbreaks-piechart-2021-12-24.png\n"
     ]
    }
   ],
   "source": [
    "!ls"
   ]
  },
  {
   "cell_type": "code",
   "execution_count": 49,
   "metadata": {},
   "outputs": [],
   "source": [
    "!cd .."
   ]
  },
  {
   "cell_type": "code",
   "execution_count": 50,
   "metadata": {},
   "outputs": [],
   "source": [
    "!rm -rf covid_data_update"
   ]
  },
  {
   "cell_type": "raw",
   "metadata": {},
   "source": [
    "If todays files are not deleted, they will automatically be backed up to the covid_data directory, the next time covid.ipynb is run"
   ]
  },
  {
   "cell_type": "code",
   "execution_count": null,
   "metadata": {},
   "outputs": [],
   "source": []
  }
 ],
 "metadata": {
  "kernelspec": {
   "display_name": "Python 3",
   "language": "python",
   "name": "python3"
  },
  "language_info": {
   "codemirror_mode": {
    "name": "ipython",
    "version": 3
   },
   "file_extension": ".py",
   "mimetype": "text/x-python",
   "name": "python",
   "nbconvert_exporter": "python",
   "pygments_lexer": "ipython3",
   "version": "3.8.8"
  }
 },
 "nbformat": 4,
 "nbformat_minor": 4
}
