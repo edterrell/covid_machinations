{
 "cells": [
  {
   "cell_type": "code",
   "execution_count": null,
   "metadata": {},
   "outputs": [],
   "source": [
    "#cd ~/Desktop/covid_machinations\n",
    "!pwd"
   ]
  },
  {
   "cell_type": "code",
   "execution_count": null,
   "metadata": {},
   "outputs": [],
   "source": [
    "# we want to ensure we are in the correct conda environment\n",
    "import sys\n",
    "sys.executable\n",
    "\n",
    "# os, shutil used for copying/moving files\n",
    "import os\n",
    "import shutil\n",
    "# shutil.copyfile('src', 'dst')\n",
    "# shutil.move\n",
    "\n",
    "import numpy as np\n",
    "import pandas as pd\n",
    "import openpyxl"
   ]
  },
  {
   "cell_type": "code",
   "execution_count": null,
   "metadata": {},
   "outputs": [],
   "source": [
    "# This code was used when repeatedly modifying date_checker module\n",
    "#import importlib\n",
    "#importlib.import_module('state_country_dicts') #note difference between this and reload\n",
    "#importlib.reload(dc) #date_checker"
   ]
  },
  {
   "cell_type": "code",
   "execution_count": null,
   "metadata": {},
   "outputs": [],
   "source": [
    "# Custom pie_dict module contains only one function (pie) which reduces \n",
    "# the number of types into only seven basic categories for creating piecharts\n",
    "from pie_dict import pie"
   ]
  },
  {
   "cell_type": "code",
   "execution_count": null,
   "metadata": {},
   "outputs": [],
   "source": [
    "from IPython.core.interactiveshell import InteractiveShell\n",
    "InteractiveShell.ast_node_interactivity = \"all\"\n",
    "import matplotlib.pyplot as plt\n",
    "\n",
    "import requests\n",
    "from bs4 import BeautifulSoup as bs\n",
    "# import regular expressions\n",
    "import re \n",
    "\n",
    "from IPython.display import Image\n",
    "from IPython.core.display import HTML\n",
    "css = open('style-table.css').read() + open('style-notebook.css').read()\n",
    "HTML('<style>{}</style>'.format(css))\n",
    "\n",
    "# get current date for use in creating filenames with embedded 'day'. \n",
    "# convert datetime object to string\n",
    "import datetime as dt\n",
    "today  = dt.date.today()\n",
    "day = today.strftime('%Y-%m-%d')\n",
    "day"
   ]
  },
  {
   "cell_type": "markdown",
   "metadata": {},
   "source": [
    "### The following cell determines if the Colorado site has been updated"
   ]
  },
  {
   "cell_type": "code",
   "execution_count": null,
   "metadata": {},
   "outputs": [],
   "source": [
    "# outbreaks files are updated on the web once a week usually Wed afternoon\n",
    "# date_checker is a custom python module that compares the date of the\n",
    "# last saved outbreak.xlsx file to the date of the outbreak.xlsx\n",
    "# file on the web\n",
    "import date_checker as dc\n",
    "\n",
    "#Returns the date of the latest saved spreadsheet.\n",
    "previous = dc.get_date()\n",
    "\n",
    "\n",
    "# compare function outputs a tuple: url link and a date\n",
    "# and prints the dates of the spreadsheets\n",
    "names = dc.compare(previous)"
   ]
  },
  {
   "cell_type": "code",
   "execution_count": null,
   "metadata": {},
   "outputs": [],
   "source": [
    "# Examine the tuple\n",
    "print (names[0])\n",
    "print (names[1])"
   ]
  },
  {
   "cell_type": "markdown",
   "metadata": {},
   "source": [
    "### Colorado Outbreak data"
   ]
  },
  {
   "cell_type": "code",
   "execution_count": null,
   "metadata": {},
   "outputs": [],
   "source": [
    "import urllib\n",
    "import requests\n",
    "import re\n",
    "\n",
    "url = 'https://covid19.colorado.gov/data/outbreak-data'"
   ]
  },
  {
   "cell_type": "code",
   "execution_count": null,
   "metadata": {},
   "outputs": [],
   "source": [
    "!mkdir covid_data_update"
   ]
  },
  {
   "cell_type": "code",
   "execution_count": null,
   "metadata": {},
   "outputs": [],
   "source": [
    "ls covid_data_update/"
   ]
  },
  {
   "cell_type": "code",
   "execution_count": null,
   "metadata": {},
   "outputs": [],
   "source": [
    "def get_weekly_report(names):\n",
    "    '''\n",
    "    Opens the web page and creates a copy of the xlsx file,\n",
    "    which is then archived in the directory covid_data.\n",
    "    \n",
    "    names is the tuple variable created by data_checker.compare()\n",
    "    the two components of names are: 1) url link and 2)date in string format\n",
    "    \n",
    "    returns a dataframe\n",
    "    '''\n",
    "    link = names[0]\n",
    "    response = requests.get(link)\n",
    "    with open ('temp.xlsx', 'wb') as file:\n",
    "        file.write(response.content)\n",
    "    \n",
    "    # create a permanent copy of the xlsx file in the covid_data directory\n",
    "    current = names[1]\n",
    "    current_report = current.strftime('%Y-%m-%d')\n",
    "    shutil.copyfile('temp.xlsx', f'covid_data/covid_report_{current_report}.xlsx')\n",
    "    \n",
    "    df = pd.read_excel('temp.xlsx',sheet_name='Active',engine='openpyxl',parse_dates=['Date reported to public health'])\n",
    "    return df"
   ]
  },
  {
   "cell_type": "code",
   "execution_count": null,
   "metadata": {},
   "outputs": [],
   "source": [
    "df = get_weekly_report(names)\n",
    "df.shape"
   ]
  },
  {
   "cell_type": "code",
   "execution_count": null,
   "metadata": {},
   "outputs": [],
   "source": [
    "df = df.iloc[:,:16]\n",
    "df.head(3)"
   ]
  },
  {
   "cell_type": "code",
   "execution_count": null,
   "metadata": {},
   "outputs": [],
   "source": [
    "def polish_report(df):\n",
    "    '''polish_report removes and reorders columns and assigns shortened names. It also\n",
    "    creates a datetime index, changes strings to integers and handles NaNs\n",
    "    Returns: a copy of the original df\n",
    "    '''\n",
    "    # eliminate unnecessary columns and re-order columns\n",
    "    df = df.iloc[:,[-2,0,3,6,7,8,9,10]].copy()\n",
    "    \n",
    "    # shorten col names for easier manipulation\n",
    "    df.columns = ['total','name','type', 'county','date','residents','staff','attendee']\n",
    "    \n",
    "    # use the date column as the index\n",
    "    df.index = df.date\n",
    "    df.drop('date',axis=1, inplace=True)\n",
    "    \n",
    "    # replace nuisance commas\n",
    "    df.name = df.name.str.replace(',','_')\n",
    "    \n",
    "    # fill na with 0 and turn strings to integers\n",
    "    df = df.fillna(0)\n",
    "    df['attendee'] = df['attendee'].astype(int) \n",
    "    df['staff'] = df['staff'].astype(int) \n",
    "    df['residents'] = df['residents'].astype(int)\n",
    "    \n",
    "    return df"
   ]
  },
  {
   "cell_type": "code",
   "execution_count": null,
   "metadata": {},
   "outputs": [],
   "source": [
    "current = names[1]\n",
    "current_report = current.strftime('%Y-%m-%d')"
   ]
  },
  {
   "cell_type": "code",
   "execution_count": null,
   "metadata": {},
   "outputs": [],
   "source": [
    "# create dfs for both active and resolved sheets \n",
    "for i in range(2):\n",
    "    i=i+1\n",
    "    sheet = pd.read_excel(f'covid_data/covid_report_{current_report}.xlsx',sheet_name=i,parse_dates=['Date reported to public health'])\n",
    "    sheet = sheet.iloc[:,:16]\n",
    "    sheet = polish_report(sheet)\n",
    "    sheet = sheet.sort_index(ascending=False)\n",
    "    if i == 1: \n",
    "        df1 = sheet.resample('M').sum()\n",
    "    elif i == 2: \n",
    "        df2 = sheet.resample('M').sum()"
   ]
  },
  {
   "cell_type": "code",
   "execution_count": null,
   "metadata": {},
   "outputs": [],
   "source": [
    "# Merge both dfs into a single df \"totals\" and change all types to integers\n",
    "totals = pd.merge(df1,df2,left_index=True, right_index=True,how='outer' ).fillna(0)\n",
    "totals = totals.astype(int)\n",
    "totals.tail()"
   ]
  },
  {
   "cell_type": "code",
   "execution_count": null,
   "metadata": {},
   "outputs": [],
   "source": [
    "# Create a column which sums active and resolved totals\n",
    "totals['all_reported_cases'] = totals.total_x+totals.total_y\n",
    "\n",
    "# Create a Date column for plotting purposes \n",
    "# Keep only the last two columns\n",
    "totals['Date'] = totals.index.strftime('%Y-%m')\n",
    "totals = totals.iloc[:,-2:]\n",
    "totals"
   ]
  },
  {
   "cell_type": "code",
   "execution_count": null,
   "metadata": {},
   "outputs": [],
   "source": [
    "totals[['Date','all_reported_cases']].plot.bar(figsize=(10,6), \\\n",
    "                                x='Date',rot=45, width=.8, \\\n",
    "                                color=\"red\",alpha=.7,\\\n",
    "                                title=\"Outbreaks (total new cases) in Colorado per month\");\n",
    "plt.savefig(f'./covid_data_update/outbreaks-updated-{day}.png');"
   ]
  },
  {
   "cell_type": "markdown",
   "metadata": {},
   "source": [
    "### outbreaks"
   ]
  },
  {
   "cell_type": "code",
   "execution_count": null,
   "metadata": {},
   "outputs": [],
   "source": [
    "df = polish_report(df)\n",
    "df = df.sort_index(ascending=False)"
   ]
  },
  {
   "cell_type": "code",
   "execution_count": null,
   "metadata": {},
   "outputs": [],
   "source": [
    "# this saves four csv files for easy viewing access even on an ipad organized by county,type, total and date\n",
    "# use of f-string to allow 'day' to be interpreted correctly\n",
    "df.sort_values(by='county', inplace=True)\n",
    "df.to_csv(f'./covid_data_update/outbreaks-COUNTY-{day}.csv')\n",
    "\n",
    "df.sort_values(by='type', inplace=True)\n",
    "df.to_csv(f'./covid_data_update/outbreaks-TYPE-{day}.csv')\n",
    "\n",
    "df.sort_values(by='total', inplace=True,ascending=False)\n",
    "df.to_csv(f'./covid_data_update/outbreaks-TOTAL-{day}.csv')\n",
    "\n",
    "df =df.sort_index(ascending=False)\n",
    "df.to_csv(f'./covid_data_update/outbreaks-DATE-{day}.csv')\n",
    "\n",
    "# total active\n",
    "print(f'There are {df.shape[0]} outbreak sites and {df.total.sum()} active cases in Colorado')"
   ]
  },
  {
   "cell_type": "code",
   "execution_count": null,
   "metadata": {},
   "outputs": [],
   "source": [
    "# Future modification planned to show data across year boundaries\n",
    "# dfy is the df for the current year\n",
    "dfy = df[df.index.year==today.year].copy()"
   ]
  },
  {
   "cell_type": "code",
   "execution_count": null,
   "metadata": {},
   "outputs": [],
   "source": [
    "# df_month is the df for the selected month\n",
    "df_month = dfy[dfy.index.month==today.month].copy()\n",
    "\n",
    "df_month.total.sum()"
   ]
  },
  {
   "cell_type": "code",
   "execution_count": null,
   "metadata": {},
   "outputs": [],
   "source": [
    "#df_month.reset_index(inplace=True)\n",
    "df_month = df_month[['total','name','type','county']]\n",
    "df_month"
   ]
  },
  {
   "cell_type": "code",
   "execution_count": null,
   "metadata": {},
   "outputs": [],
   "source": [
    "# get number of sites and total cases for the month\n",
    "s_num = df_month.shape[0]\n",
    "t = df_month.total.sum()\n",
    "print(f'There were an additional {s_num} outbreak sites in Colorado this month.')\n",
    "print (f'These represent a total of {t} new cases.')"
   ]
  },
  {
   "cell_type": "code",
   "execution_count": null,
   "metadata": {},
   "outputs": [],
   "source": [
    "# list all active cases in Boulder County\n",
    "boulder = df[df.county=='Boulder']\n",
    "bc = boulder.total.sum()\n",
    "print(f'There are {bc} active cases in Boulder County')"
   ]
  },
  {
   "cell_type": "code",
   "execution_count": null,
   "metadata": {
    "scrolled": true
   },
   "outputs": [],
   "source": [
    "boulder = boulder.sort_index(ascending=False)\n",
    "boulder.to_csv(f'./covid_data_update/boulder-{day}.csv')\n",
    "boulder"
   ]
  },
  {
   "cell_type": "markdown",
   "metadata": {},
   "source": [
    "### Create Pie Chart"
   ]
  },
  {
   "cell_type": "code",
   "execution_count": null,
   "metadata": {},
   "outputs": [],
   "source": [
    "# total number of active cases\n",
    "s = df.total.sum()\n",
    "print(f'total number of active cases: {s}')"
   ]
  },
  {
   "cell_type": "code",
   "execution_count": null,
   "metadata": {},
   "outputs": [],
   "source": [
    "# list of major types by percent of total\n",
    "df_percent = df.groupby('type').total.sum()/s\n",
    "print (f'These represent {df_percent[df_percent > .01].sum()*100:.0f}% of all outbreak cases')\n",
    "df_percent[df_percent > .01]"
   ]
  },
  {
   "cell_type": "code",
   "execution_count": null,
   "metadata": {},
   "outputs": [],
   "source": [
    "# custom function from pie_dict \n",
    "from pie_dict import pie\n",
    "\n",
    "df_pie = pie (df)\n",
    "df_pie.head()\n",
    "pie_list = np.array(['College/University', 'Jail/Prison', 'Other',\n",
    "       'Office/Mfg/Dist/Construction', 'Healthcare', 'Resturant/Retail',\n",
    "       'Day Care/School'], dtype=object)"
   ]
  },
  {
   "cell_type": "code",
   "execution_count": null,
   "metadata": {},
   "outputs": [],
   "source": [
    "'''test = df.type.unique()\n",
    "test = np.append(test,['Social Gathering','Travel'])\n",
    "len(test)\n",
    "'''"
   ]
  },
  {
   "cell_type": "code",
   "execution_count": null,
   "metadata": {},
   "outputs": [],
   "source": [
    "df.type.unique()"
   ]
  },
  {
   "cell_type": "code",
   "execution_count": null,
   "metadata": {},
   "outputs": [],
   "source": [
    "def check_types(df):\n",
    "    '''check_types checks to see if any new categories were added and \n",
    "    if so reassigns them to the Other category\n",
    "    Returns: a copy of the original df\n",
    "    '''\n",
    "    test = df.type.unique()\n",
    "    if len(test) != 7:\n",
    "        more_types = [item for item in test if item not in pie_list]\n",
    "        df.type = df.type.replace(dict.fromkeys(more_types, 'Other'))\n",
    "        print(f'{more_types} were added to the category: Other')\n",
    "    else:\n",
    "        print('No new types were added to the category: Other')\n",
    "        \n",
    "    return df"
   ]
  },
  {
   "cell_type": "code",
   "execution_count": null,
   "metadata": {},
   "outputs": [],
   "source": [
    "df = check_types(df)"
   ]
  },
  {
   "cell_type": "code",
   "execution_count": null,
   "metadata": {},
   "outputs": [],
   "source": [
    "df.total = df.total.astype(int)\n",
    "\n",
    "p = df.groupby('type').total.sum()\n",
    "print (p)\n",
    "total_cases = p.sum()\n",
    "total_cases"
   ]
  },
  {
   "cell_type": "code",
   "execution_count": null,
   "metadata": {},
   "outputs": [],
   "source": [
    "# creates a pie chart of the current total active cases\n",
    "my_colors = ['#f6eff7','#d0d1e6','#a6bddb','#67a9cf','#3690c0','#02818a','#016450']\n",
    "\n",
    "explode = (.1,0,0,0,0,0,0)\n",
    "\n",
    "p.plot.pie(figsize=(8,8),explode=explode,autopct='%1.0f%%',\n",
    "        shadow=True, colors=my_colors,startangle=-25);\n",
    "plt.title(f'Covid Active Outreaks\\n (active cases = {total_cases},       {day})\\n')\n",
    "\n",
    "plt.axis('equal')\n",
    "plt.savefig(f'./covid_data_update/outbreaks-piechart-{day}.png');"
   ]
  },
  {
   "cell_type": "code",
   "execution_count": null,
   "metadata": {},
   "outputs": [],
   "source": [
    "# Gathering summary statistics for a two month pie chart \n",
    "# create datetime and integers types \n",
    "this_month = pd.read_csv(f'covid_data_update/outbreaks-DATE-{day}.csv')\n",
    "this_month.date = pd.to_datetime(this_month.date)\n",
    "this_month.total = this_month.total.astype(int)"
   ]
  },
  {
   "cell_type": "code",
   "execution_count": null,
   "metadata": {},
   "outputs": [],
   "source": [
    "# apply custom pie function\n",
    "this_month = pie(this_month)"
   ]
  },
  {
   "cell_type": "code",
   "execution_count": null,
   "metadata": {},
   "outputs": [],
   "source": [
    "# Create string variables for the first day of the previous month and previous month\n",
    "start = today - pd.offsets.MonthBegin (2)\n",
    "str_date = start.strftime('%Y-%m-%d')\n",
    "str_date\n",
    "month = start.strftime('%B')\n",
    "month"
   ]
  },
  {
   "cell_type": "code",
   "execution_count": null,
   "metadata": {},
   "outputs": [],
   "source": [
    "#set filter to start month (month always starts on the first)\n",
    "#check for new types\n",
    "start_month = this_month[this_month.date > str_date].copy()\n",
    "start_month = check_types(start_month)"
   ]
  },
  {
   "cell_type": "code",
   "execution_count": null,
   "metadata": {},
   "outputs": [],
   "source": [
    "start_month = start_month.groupby('type').total.sum()\n",
    "this_month_cases = start_month.sum()\n",
    "start_month"
   ]
  },
  {
   "cell_type": "code",
   "execution_count": null,
   "metadata": {},
   "outputs": [],
   "source": [
    "# creates a pie chart \n",
    "my_colors = ['#f6eff7','#d0d1e6','#a6bddb','#67a9cf','#3690c0','#02818a','#016450']\n",
    "\n",
    "explode = (0,.1,0,0,0,0,0)\n",
    "\n",
    "start_month.plot.pie(figsize=(8,8),explode=explode,autopct='%1.0f%%', \n",
    "             shadow=True, colors=my_colors,startangle=-30)\n",
    "\n",
    "plt.title(f'Covid Outbreaks since {month} 1\\n (active cases = {this_month_cases},       {day})\\n')\n",
    "\n",
    "plt.axis('equal')\n",
    "plt.savefig(f'covid_data_update/this_month_outbreaks-piechart-{day}.png');"
   ]
  },
  {
   "cell_type": "markdown",
   "metadata": {},
   "source": [
    "### Displays all updated graphs files"
   ]
  },
  {
   "cell_type": "code",
   "execution_count": null,
   "metadata": {},
   "outputs": [],
   "source": [
    "'''\n",
    "This cell has been commented out to see if this improves loading times\n",
    "\n",
    "!ls -t1 covid_data_update | head -n 20 | grep -ve '^bolder' -ve 'png$' -ve 'xlsx$' > covid_text\n",
    "!ls covid_data_update/*.png > flist_of_covid_png \n",
    "\n",
    "# Loop through the file flist and store filenames in png_list\n",
    "with open('flist_of_covid_png') as f:\n",
    "    png_str = f.read()\n",
    "png_list = png_str.split('\\n')[0:-1]\n",
    "\n",
    "png_list\n",
    "\n",
    "from IPython.display import Image\n",
    "\n",
    "for file in png_list:    \n",
    "    local = Image(file)\n",
    "    local\n",
    "  '''"
   ]
  },
  {
   "cell_type": "code",
   "execution_count": null,
   "metadata": {},
   "outputs": [],
   "source": [
    "    \n",
    "# These were helper files and are not needed any longer\n",
    "!rm -f covid_text\n",
    "!rm -f flist_of_covid_png\n",
    "!rm -f temp.xlsx"
   ]
  },
  {
   "cell_type": "markdown",
   "metadata": {},
   "source": [
    "### More Detailed Inquiry"
   ]
  },
  {
   "cell_type": "code",
   "execution_count": null,
   "metadata": {},
   "outputs": [],
   "source": [
    "# create dfs for both active and resolved sheets \n",
    "for i in range(2):\n",
    "    i=i+1\n",
    "    df = pd.read_excel(f'covid_data/covid_report_{current_report}.xlsx',sheet_name=i,parse_dates=['Date reported to public health'])\n",
    "    #df = pd.read_excel('~/Desktop/covid-19-data/covid_data/covid_report_2021-12-22.xlsx',sheet_name=i,parse_dates=['Date reported to public health'])\n",
    "    df = df.iloc[:,:16]\n",
    "    df = polish_report(df)\n",
    "    \n",
    "    \n",
    "    df = df.sort_index(ascending=False)\n",
    "    if i == 1: \n",
    "        active = df\n",
    "    elif i == 2: \n",
    "        resolved = df"
   ]
  },
  {
   "cell_type": "code",
   "execution_count": null,
   "metadata": {},
   "outputs": [],
   "source": [
    "pd.options.display.max_rows = 300\n",
    "pd.options.display.min_rows = 200"
   ]
  },
  {
   "cell_type": "markdown",
   "metadata": {},
   "source": [
    "#### Select start and stop dates:"
   ]
  },
  {
   "cell_type": "code",
   "execution_count": null,
   "metadata": {},
   "outputs": [],
   "source": [
    "# Default conditions are set in module date_select\n",
    "# Default start/stop is 2021-10-01 to 2021-10-31.\n",
    "# Custom stop date, default is today"
   ]
  },
  {
   "cell_type": "code",
   "execution_count": 3,
   "metadata": {},
   "outputs": [
    {
     "name": "stdout",
     "output_type": "stream",
     "text": [
      " Select START date\n"
     ]
    },
    {
     "name": "stdin",
     "output_type": "stream",
     "text": [
      " \n"
     ]
    },
    {
     "name": "stdout",
     "output_type": "stream",
     "text": [
      "START:\t 2021-10-01 00:00:00\n",
      "STOP:\t 2021-10-31 00:00:00\n"
     ]
    },
    {
     "name": "stdin",
     "output_type": "stream",
     "text": [
      "Select custom STOP date? (y/n)   \n"
     ]
    },
    {
     "name": "stdout",
     "output_type": "stream",
     "text": [
      "\n",
      "START:\t 2021-10-01 00:00:00\n",
      "STOP:\t 2021-10-31 00:00:00\n"
     ]
    }
   ],
   "source": [
    "import date_select as ds\n",
    "start,stop = ds.date_maker()"
   ]
  },
  {
   "cell_type": "code",
   "execution_count": null,
   "metadata": {
    "tags": []
   },
   "outputs": [],
   "source": [
    "adf = active[active.index.to_series().between(start,stop)]\n",
    "\n",
    "rdf = resolved[resolved.index.to_series().between(start,stop)]\n",
    "\n",
    "count1 = adf.total.sum(); print (f'Active: {count1}')\n",
    "count2 = rdf.total.sum(); print(f'Resolved: {count2}')\n",
    "print(f'Total cases for selected period was {count1 + count2}')\n",
    "print(f'This represents {adf.shape[0]} active sites')\n",
    "print(f'This represents {rdf.shape[0]} resolved sites')"
   ]
  },
  {
   "cell_type": "markdown",
   "metadata": {},
   "source": [
    "#### For Boulder county information use:"
   ]
  },
  {
   "cell_type": "code",
   "execution_count": null,
   "metadata": {},
   "outputs": [],
   "source": [
    "boulder_active = adf[adf.county == 'Boulder']\n",
    "boulder_active"
   ]
  },
  {
   "cell_type": "markdown",
   "metadata": {},
   "source": [
    "### tabla rasa"
   ]
  },
  {
   "cell_type": "code",
   "execution_count": null,
   "metadata": {},
   "outputs": [],
   "source": [
    "!ls covid_data_update"
   ]
  },
  {
   "cell_type": "raw",
   "metadata": {},
   "source": [
    "If todays files are not deleted, they will automatically be backed up to the covid_data directory, the next time covid.ipynb is run"
   ]
  },
  {
   "cell_type": "code",
   "execution_count": null,
   "metadata": {},
   "outputs": [],
   "source": [
    "!rm -rf covid_data_update"
   ]
  },
  {
   "cell_type": "code",
   "execution_count": null,
   "metadata": {},
   "outputs": [],
   "source": []
  }
 ],
 "metadata": {
  "kernelspec": {
   "display_name": "Python 3",
   "language": "python",
   "name": "python3"
  },
  "language_info": {
   "codemirror_mode": {
    "name": "ipython",
    "version": 3
   },
   "file_extension": ".py",
   "mimetype": "text/x-python",
   "name": "python",
   "nbconvert_exporter": "python",
   "pygments_lexer": "ipython3",
   "version": "3.8.8"
  }
 },
 "nbformat": 4,
 "nbformat_minor": 4
}
