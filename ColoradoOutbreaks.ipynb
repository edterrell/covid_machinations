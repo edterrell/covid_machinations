{
 "cells": [
  {
   "cell_type": "code",
   "execution_count": 1,
   "metadata": {},
   "outputs": [
    {
     "data": {
      "text/plain": [
       "'/Users/edwardterrell/Desktop/covid_machinations'"
      ]
     },
     "execution_count": 1,
     "metadata": {},
     "output_type": "execute_result"
    }
   ],
   "source": [
    "pwd"
   ]
  },
  {
   "cell_type": "code",
   "execution_count": 2,
   "metadata": {},
   "outputs": [
    {
     "data": {
      "text/plain": [
       "'/Users/edwardterrell/opt/anaconda3/envs/scrape/bin/python'"
      ]
     },
     "execution_count": 2,
     "metadata": {},
     "output_type": "execute_result"
    }
   ],
   "source": [
    "# we want to ensure we are in the correct conda environment\n",
    "import sys\n",
    "sys.executable"
   ]
  },
  {
   "cell_type": "code",
   "execution_count": 3,
   "metadata": {},
   "outputs": [],
   "source": [
    "# os, shutil used for copying/moving files\n",
    "import os\n",
    "import shutil\n",
    "# shutil.copyfile('src', 'dst')\n",
    "# shutil.move\n",
    "\n",
    "import numpy as np\n",
    "import pandas as pd\n",
    "import openpyxl"
   ]
  },
  {
   "cell_type": "code",
   "execution_count": 4,
   "metadata": {},
   "outputs": [],
   "source": [
    "# add path if needed\n",
    "# sys.path.append('/Users/edwardterrell/Desktop/covid_machinations')"
   ]
  },
  {
   "cell_type": "code",
   "execution_count": 5,
   "metadata": {},
   "outputs": [],
   "source": [
    "# This code was used when repeatedly modifying date_checker\n",
    "#import importlib\n",
    "#importlib.import_module('state_country_dicts') #note difference between this and reload\n",
    "#importlib.reload(dc) #date_checker"
   ]
  },
  {
   "cell_type": "code",
   "execution_count": 6,
   "metadata": {},
   "outputs": [],
   "source": [
    "# pie_dict module contains only one function (pie) which reduces \n",
    "# the number of types into only seven basic categories for creating piecharts\n",
    "from pie_dict import pie"
   ]
  },
  {
   "cell_type": "code",
   "execution_count": 7,
   "metadata": {},
   "outputs": [
    {
     "data": {
      "text/plain": [
       "'2021-04-11'"
      ]
     },
     "execution_count": 7,
     "metadata": {},
     "output_type": "execute_result"
    }
   ],
   "source": [
    "from IPython.core.interactiveshell import InteractiveShell\n",
    "InteractiveShell.ast_node_interactivity = \"all\"\n",
    "import matplotlib.pyplot as plt\n",
    "import matplotlib.image as mpimg\n",
    "\n",
    "\n",
    "import requests\n",
    "from bs4 import BeautifulSoup as bs\n",
    "# import regular expressions\n",
    "import re \n",
    "\n",
    "import dateutil.parser\n",
    "import time\n",
    "\n",
    "from IPython.core.display import HTML\n",
    "css = open('style-table.css').read() + open('style-notebook.css').read()\n",
    "HTML('<style>{}</style>'.format(css))\n",
    "\n",
    "# get current date for use in creating filenames with embedded 'day'. \n",
    "# convert datetime object to string\n",
    "import datetime as dt\n",
    "today  = dt.date.today()\n",
    "day = today.strftime('%Y-%m-%d')\n",
    "day"
   ]
  },
  {
   "cell_type": "markdown",
   "metadata": {},
   "source": [
    "### The following cell determines if the Colorado site has been updated"
   ]
  },
  {
   "cell_type": "code",
   "execution_count": 8,
   "metadata": {},
   "outputs": [
    {
     "name": "stdout",
     "output_type": "stream",
     "text": [
      "latest saved spreadsheet is 2021-04-07\n",
      "Site NOT updated: current date of spreadsheet is 2021-04-07\n"
     ]
    }
   ],
   "source": [
    "# outbreaks files are updated on the web once a week\n",
    "# date_checker is a python module that compares the date of the\n",
    "# last saved outbreak.xlsx file to the date of the outbreak.xlsx\n",
    "# file on the web\n",
    "import date_checker as dc\n",
    "\n",
    "#Returns the date of the latest saved spreadsheet.\n",
    "previous = dc.get_date()\n",
    "\n",
    "# compare function outputs a tuple: url link and a date\n",
    "# and prints the dates of the spreadsheets\n",
    "names = dc.compare(previous)"
   ]
  },
  {
   "cell_type": "code",
   "execution_count": 9,
   "metadata": {},
   "outputs": [
    {
     "name": "stdout",
     "output_type": "stream",
     "text": [
      "https://covid19.colorado.gov/sites/covid19/files/2021-04/covid-19_outbreak_weekly_report_04-07-2021.xlsx\n",
      "2021-04-07 00:00:00\n"
     ]
    }
   ],
   "source": [
    "# Examine the tuple\n",
    "print (names[0])\n",
    "print (names[1])"
   ]
  },
  {
   "cell_type": "markdown",
   "metadata": {},
   "source": [
    "### Colorado Outbreak data"
   ]
  },
  {
   "cell_type": "raw",
   "metadata": {},
   "source": [
    "All XLSX FILES IN THE CURRENT DIRECTORY WILL BE REMOVED"
   ]
  },
  {
   "cell_type": "code",
   "execution_count": 10,
   "metadata": {},
   "outputs": [],
   "source": [
    "import urllib\n",
    "import requests\n",
    "import re\n",
    "\n",
    "url = 'https://covid19.colorado.gov/data/outbreak-data'"
   ]
  },
  {
   "cell_type": "code",
   "execution_count": 11,
   "metadata": {},
   "outputs": [
    {
     "name": "stdout",
     "output_type": "stream",
     "text": [
      "ColoradoOutbreaks.ipynb  \u001b[1m\u001b[36mcovid_data_update\u001b[m\u001b[m/       style-notebook.css\n",
      "README.md                \u001b[31mdate_checker.py\u001b[m\u001b[m*         style-table.css\n",
      "\u001b[1m\u001b[36m__pycache__\u001b[m\u001b[m/             environment.yml          temp.xlsx\n",
      "covid.ipynb              \u001b[31mpie_dict.py\u001b[m\u001b[m*\n",
      "\u001b[1m\u001b[36mcovid_data\u001b[m\u001b[m/              state_country_dicts.py\n"
     ]
    }
   ],
   "source": [
    "ls"
   ]
  },
  {
   "cell_type": "code",
   "execution_count": 17,
   "metadata": {},
   "outputs": [],
   "source": [
    "def get_weekly_report(names):\n",
    "    '''\n",
    "    Opens the web page and creates a copy of the xlsx file,\n",
    "    which is then archived in the directory covid_data.\n",
    "    \n",
    "    names is the tuple variable created by data_checker.compare()\n",
    "    the two components of names are: 1) url link and 2)date in string format\n",
    "    \n",
    "    returns a dataframe\n",
    "    '''\n",
    "    link = names[0]\n",
    "    response = requests.get(link)\n",
    "    with open ('temp.xlsx', 'wb') as file:\n",
    "        file.write(response.content)\n",
    "    \n",
    "    # create a permanent copy of the xlsx file in the covid_data directory\n",
    "    current = names[1]\n",
    "    current_report = current.strftime('%Y-%m-%d')\n",
    "    shutil.copyfile('temp.xlsx', f'covid_data/covid_report_{current_report}.xlsx')\n",
    "    \n",
    "    df = pd.read_excel('temp.xlsx',sheet_name='Active',engine='openpyxl',parse_dates=['Date reported to public health'])\n",
    "    return df"
   ]
  },
  {
   "cell_type": "code",
   "execution_count": 18,
   "metadata": {},
   "outputs": [],
   "source": [
    "df = get_weekly_report(names)"
   ]
  },
  {
   "cell_type": "code",
   "execution_count": 19,
   "metadata": {},
   "outputs": [
    {
     "data": {
      "text/html": [
       "<div>\n",
       "<style scoped>\n",
       "    .dataframe tbody tr th:only-of-type {\n",
       "        vertical-align: middle;\n",
       "    }\n",
       "\n",
       "    .dataframe tbody tr th {\n",
       "        vertical-align: top;\n",
       "    }\n",
       "\n",
       "    .dataframe thead th {\n",
       "        text-align: right;\n",
       "    }\n",
       "</style>\n",
       "<table border=\"1\" class=\"dataframe\">\n",
       "  <thead>\n",
       "    <tr style=\"text-align: right;\">\n",
       "      <th></th>\n",
       "      <th>Setting name</th>\n",
       "      <th>Investigation status</th>\n",
       "      <th>Date outbreak was considered closed:</th>\n",
       "      <th>COVID Setting Type</th>\n",
       "      <th>If setting type is other, specify</th>\n",
       "      <th>Is this an At Risk Population? (Healthcare, Corrections, Highly Mobile, Schools, Critical Infrastructure)</th>\n",
       "      <th>Colorado county (exposure location)</th>\n",
       "      <th>Date reported to public health</th>\n",
       "      <th>Total resident cases</th>\n",
       "      <th>Total staff cases</th>\n",
       "      <th>Total attendee cases</th>\n",
       "      <th>Total resident deaths</th>\n",
       "      <th>Total staff deaths</th>\n",
       "      <th>Total attendee deaths</th>\n",
       "      <th>Total cases</th>\n",
       "      <th>Total deaths</th>\n",
       "    </tr>\n",
       "  </thead>\n",
       "  <tbody>\n",
       "    <tr>\n",
       "      <th>0</th>\n",
       "      <td>10 Barrel</td>\n",
       "      <td>Active</td>\n",
       "      <td>NaN</td>\n",
       "      <td>Bar/Tavern/Brewery</td>\n",
       "      <td>NaN</td>\n",
       "      <td>NaN</td>\n",
       "      <td>Denver</td>\n",
       "      <td>2021-04-02</td>\n",
       "      <td>NaN</td>\n",
       "      <td>6.0</td>\n",
       "      <td>NaN</td>\n",
       "      <td>NaN</td>\n",
       "      <td>NaN</td>\n",
       "      <td>NaN</td>\n",
       "      <td>6</td>\n",
       "      <td>0</td>\n",
       "    </tr>\n",
       "    <tr>\n",
       "      <th>1</th>\n",
       "      <td>287 S Starwood Rd Construction Site</td>\n",
       "      <td>Active</td>\n",
       "      <td>NaN</td>\n",
       "      <td>Construction Site</td>\n",
       "      <td>residential construction site</td>\n",
       "      <td>Yes</td>\n",
       "      <td>Pitkin</td>\n",
       "      <td>2020-07-30</td>\n",
       "      <td>NaN</td>\n",
       "      <td>17.0</td>\n",
       "      <td>NaN</td>\n",
       "      <td>NaN</td>\n",
       "      <td>NaN</td>\n",
       "      <td>NaN</td>\n",
       "      <td>17</td>\n",
       "      <td>0</td>\n",
       "    </tr>\n",
       "    <tr>\n",
       "      <th>2</th>\n",
       "      <td>3STEP Lacrosse</td>\n",
       "      <td>Active</td>\n",
       "      <td>NaN</td>\n",
       "      <td>Youth Sports/Activities</td>\n",
       "      <td>NaN</td>\n",
       "      <td>NaN</td>\n",
       "      <td>Denver</td>\n",
       "      <td>2021-03-27</td>\n",
       "      <td>NaN</td>\n",
       "      <td>5.0</td>\n",
       "      <td>NaN</td>\n",
       "      <td>NaN</td>\n",
       "      <td>NaN</td>\n",
       "      <td>NaN</td>\n",
       "      <td>5</td>\n",
       "      <td>0</td>\n",
       "    </tr>\n",
       "    <tr>\n",
       "      <th>3</th>\n",
       "      <td>4th Judicial District Attorney's Office</td>\n",
       "      <td>Active</td>\n",
       "      <td>NaN</td>\n",
       "      <td>Law Enforcement Administration</td>\n",
       "      <td>NaN</td>\n",
       "      <td>Yes</td>\n",
       "      <td>El Paso</td>\n",
       "      <td>2021-03-08</td>\n",
       "      <td>NaN</td>\n",
       "      <td>9.0</td>\n",
       "      <td>NaN</td>\n",
       "      <td>NaN</td>\n",
       "      <td>NaN</td>\n",
       "      <td>NaN</td>\n",
       "      <td>9</td>\n",
       "      <td>0</td>\n",
       "    </tr>\n",
       "    <tr>\n",
       "      <th>4</th>\n",
       "      <td>ABC Development Center</td>\n",
       "      <td>Active</td>\n",
       "      <td>NaN</td>\n",
       "      <td>Child Care Center</td>\n",
       "      <td>NaN</td>\n",
       "      <td>Yes</td>\n",
       "      <td>Washington</td>\n",
       "      <td>2021-03-03</td>\n",
       "      <td>NaN</td>\n",
       "      <td>5.0</td>\n",
       "      <td>NaN</td>\n",
       "      <td>NaN</td>\n",
       "      <td>NaN</td>\n",
       "      <td>NaN</td>\n",
       "      <td>5</td>\n",
       "      <td>0</td>\n",
       "    </tr>\n",
       "  </tbody>\n",
       "</table>\n",
       "</div>"
      ],
      "text/plain": [
       "                              Setting name Investigation status  \\\n",
       "0                                10 Barrel               Active   \n",
       "1      287 S Starwood Rd Construction Site               Active   \n",
       "2                           3STEP Lacrosse               Active   \n",
       "3  4th Judicial District Attorney's Office               Active   \n",
       "4                   ABC Development Center               Active   \n",
       "\n",
       "   Date outbreak was considered closed:              COVID Setting Type  \\\n",
       "0                                   NaN              Bar/Tavern/Brewery   \n",
       "1                                   NaN               Construction Site   \n",
       "2                                   NaN         Youth Sports/Activities   \n",
       "3                                   NaN  Law Enforcement Administration   \n",
       "4                                   NaN               Child Care Center   \n",
       "\n",
       "  If setting type is other, specify  \\\n",
       "0                               NaN   \n",
       "1     residential construction site   \n",
       "2                               NaN   \n",
       "3                               NaN   \n",
       "4                               NaN   \n",
       "\n",
       "  Is this an At Risk Population? (Healthcare, Corrections, Highly Mobile, Schools, Critical Infrastructure)  \\\n",
       "0                                                NaN                                                          \n",
       "1                                                Yes                                                          \n",
       "2                                                NaN                                                          \n",
       "3                                                Yes                                                          \n",
       "4                                                Yes                                                          \n",
       "\n",
       "  Colorado county (exposure location) Date reported to public health  \\\n",
       "0                              Denver                     2021-04-02   \n",
       "1                              Pitkin                     2020-07-30   \n",
       "2                              Denver                     2021-03-27   \n",
       "3                             El Paso                     2021-03-08   \n",
       "4                          Washington                     2021-03-03   \n",
       "\n",
       "   Total resident cases  Total staff cases  Total attendee cases  \\\n",
       "0                   NaN                6.0                   NaN   \n",
       "1                   NaN               17.0                   NaN   \n",
       "2                   NaN                5.0                   NaN   \n",
       "3                   NaN                9.0                   NaN   \n",
       "4                   NaN                5.0                   NaN   \n",
       "\n",
       "   Total resident deaths  Total staff deaths   Total attendee deaths  \\\n",
       "0                    NaN                  NaN                    NaN   \n",
       "1                    NaN                  NaN                    NaN   \n",
       "2                    NaN                  NaN                    NaN   \n",
       "3                    NaN                  NaN                    NaN   \n",
       "4                    NaN                  NaN                    NaN   \n",
       "\n",
       "   Total cases  Total deaths  \n",
       "0            6             0  \n",
       "1           17             0  \n",
       "2            5             0  \n",
       "3            9             0  \n",
       "4            5             0  "
      ]
     },
     "execution_count": 19,
     "metadata": {},
     "output_type": "execute_result"
    }
   ],
   "source": [
    "df = df.iloc[:,:16]\n",
    "df.head()"
   ]
  },
  {
   "cell_type": "code",
   "execution_count": 20,
   "metadata": {},
   "outputs": [],
   "source": [
    "def polish_report(df):\n",
    "    '''polish_report removes and reorders columns and assigns shortened names. It also\n",
    "    creates a datetime index, changes strings to integers and handles NaNs\n",
    "    Returns: a copy of the original df\n",
    "    '''\n",
    "    # eliminate unnecessary columns and re-order columns\n",
    "    df = df.iloc[:,[-2,0,3,6,7,8,9,10]].copy()\n",
    "    \n",
    "    # shorten col names for easier manipulation\n",
    "    df.columns = ['total','name','type', 'county','date','residents','staff','attendee']\n",
    "    \n",
    "    # use the date column as the index\n",
    "    df.index = df.date\n",
    "    df.drop('date',axis=1, inplace=True)\n",
    "    \n",
    "    # replace nuisance commas\n",
    "    df.name = df.name.str.replace(',','_')\n",
    "    \n",
    "    # fill na with 0 and turn strings to integers\n",
    "    df = df.fillna(0)\n",
    "    df['attendee'] = df['attendee'].astype(int) \n",
    "    df['staff'] = df['staff'].astype(int) \n",
    "    df['residents'] = df['residents'].astype(int)\n",
    "    \n",
    "    return df"
   ]
  },
  {
   "cell_type": "code",
   "execution_count": 21,
   "metadata": {
    "scrolled": true
   },
   "outputs": [
    {
     "data": {
      "text/html": [
       "<div>\n",
       "<style scoped>\n",
       "    .dataframe tbody tr th:only-of-type {\n",
       "        vertical-align: middle;\n",
       "    }\n",
       "\n",
       "    .dataframe tbody tr th {\n",
       "        vertical-align: top;\n",
       "    }\n",
       "\n",
       "    .dataframe thead th {\n",
       "        text-align: right;\n",
       "    }\n",
       "</style>\n",
       "<table border=\"1\" class=\"dataframe\">\n",
       "  <thead>\n",
       "    <tr style=\"text-align: right;\">\n",
       "      <th></th>\n",
       "      <th>total</th>\n",
       "      <th>name</th>\n",
       "      <th>type</th>\n",
       "      <th>county</th>\n",
       "      <th>residents</th>\n",
       "      <th>staff</th>\n",
       "      <th>attendee</th>\n",
       "    </tr>\n",
       "    <tr>\n",
       "      <th>date</th>\n",
       "      <th></th>\n",
       "      <th></th>\n",
       "      <th></th>\n",
       "      <th></th>\n",
       "      <th></th>\n",
       "      <th></th>\n",
       "      <th></th>\n",
       "    </tr>\n",
       "  </thead>\n",
       "  <tbody>\n",
       "    <tr>\n",
       "      <th>2021-04-07</th>\n",
       "      <td>3</td>\n",
       "      <td>Aspen Grove Animal Clinic PC</td>\n",
       "      <td>Other</td>\n",
       "      <td>Larimer</td>\n",
       "      <td>0</td>\n",
       "      <td>3</td>\n",
       "      <td>0</td>\n",
       "    </tr>\n",
       "    <tr>\n",
       "      <th>2021-04-07</th>\n",
       "      <td>3</td>\n",
       "      <td>Front Range Community College Westminster Camp...</td>\n",
       "      <td>College/University</td>\n",
       "      <td>Adams</td>\n",
       "      <td>0</td>\n",
       "      <td>1</td>\n",
       "      <td>2</td>\n",
       "    </tr>\n",
       "    <tr>\n",
       "      <th>2021-04-07</th>\n",
       "      <td>3</td>\n",
       "      <td>Camp Elim</td>\n",
       "      <td>Overnight Camp</td>\n",
       "      <td>Teller</td>\n",
       "      <td>0</td>\n",
       "      <td>3</td>\n",
       "      <td>0</td>\n",
       "    </tr>\n",
       "    <tr>\n",
       "      <th>2021-04-06</th>\n",
       "      <td>2</td>\n",
       "      <td>Caley Ridge Assisted Living Community (230487)...</td>\n",
       "      <td>Healthcare - Assisted Living</td>\n",
       "      <td>Arapahoe</td>\n",
       "      <td>0</td>\n",
       "      <td>2</td>\n",
       "      <td>0</td>\n",
       "    </tr>\n",
       "    <tr>\n",
       "      <th>2021-04-06</th>\n",
       "      <td>2</td>\n",
       "      <td>Costco Wholesale #440: April 2021</td>\n",
       "      <td>Retailer</td>\n",
       "      <td>Jefferson</td>\n",
       "      <td>0</td>\n",
       "      <td>2</td>\n",
       "      <td>0</td>\n",
       "    </tr>\n",
       "    <tr>\n",
       "      <th>2021-04-06</th>\n",
       "      <td>5</td>\n",
       "      <td>RB Law Offices</td>\n",
       "      <td>Office/Indoor Workspace</td>\n",
       "      <td>Weld</td>\n",
       "      <td>0</td>\n",
       "      <td>5</td>\n",
       "      <td>0</td>\n",
       "    </tr>\n",
       "    <tr>\n",
       "      <th>2021-04-06</th>\n",
       "      <td>24</td>\n",
       "      <td>High Mountain Institute</td>\n",
       "      <td>School K-12</td>\n",
       "      <td>Lake</td>\n",
       "      <td>0</td>\n",
       "      <td>0</td>\n",
       "      <td>24</td>\n",
       "    </tr>\n",
       "    <tr>\n",
       "      <th>2021-04-06</th>\n",
       "      <td>4</td>\n",
       "      <td>Lowry Park Apartments</td>\n",
       "      <td>Other</td>\n",
       "      <td>Denver</td>\n",
       "      <td>0</td>\n",
       "      <td>4</td>\n",
       "      <td>0</td>\n",
       "    </tr>\n",
       "    <tr>\n",
       "      <th>2021-04-06</th>\n",
       "      <td>4</td>\n",
       "      <td>Healthy Hounds and Fat Cats</td>\n",
       "      <td>Retailer</td>\n",
       "      <td>La Plata</td>\n",
       "      <td>0</td>\n",
       "      <td>4</td>\n",
       "      <td>0</td>\n",
       "    </tr>\n",
       "    <tr>\n",
       "      <th>2021-04-06</th>\n",
       "      <td>3</td>\n",
       "      <td>C&amp;W Railway Company</td>\n",
       "      <td>Other</td>\n",
       "      <td>Pueblo</td>\n",
       "      <td>0</td>\n",
       "      <td>3</td>\n",
       "      <td>0</td>\n",
       "    </tr>\n",
       "  </tbody>\n",
       "</table>\n",
       "</div>"
      ],
      "text/plain": [
       "            total                                               name  \\\n",
       "date                                                                   \n",
       "2021-04-07      3                       Aspen Grove Animal Clinic PC   \n",
       "2021-04-07      3  Front Range Community College Westminster Camp...   \n",
       "2021-04-07      3                                          Camp Elim   \n",
       "2021-04-06      2  Caley Ridge Assisted Living Community (230487)...   \n",
       "2021-04-06      2                  Costco Wholesale #440: April 2021   \n",
       "2021-04-06      5                                     RB Law Offices   \n",
       "2021-04-06     24                            High Mountain Institute   \n",
       "2021-04-06      4                              Lowry Park Apartments   \n",
       "2021-04-06      4                        Healthy Hounds and Fat Cats   \n",
       "2021-04-06      3                                C&W Railway Company   \n",
       "\n",
       "                                    type     county  residents  staff  \\\n",
       "date                                                                    \n",
       "2021-04-07                         Other    Larimer          0      3   \n",
       "2021-04-07            College/University      Adams          0      1   \n",
       "2021-04-07                Overnight Camp     Teller          0      3   \n",
       "2021-04-06  Healthcare - Assisted Living   Arapahoe          0      2   \n",
       "2021-04-06                      Retailer  Jefferson          0      2   \n",
       "2021-04-06       Office/Indoor Workspace       Weld          0      5   \n",
       "2021-04-06                   School K-12       Lake          0      0   \n",
       "2021-04-06                         Other     Denver          0      4   \n",
       "2021-04-06                      Retailer   La Plata          0      4   \n",
       "2021-04-06                         Other     Pueblo          0      3   \n",
       "\n",
       "            attendee  \n",
       "date                  \n",
       "2021-04-07         0  \n",
       "2021-04-07         2  \n",
       "2021-04-07         0  \n",
       "2021-04-06         0  \n",
       "2021-04-06         0  \n",
       "2021-04-06         0  \n",
       "2021-04-06        24  \n",
       "2021-04-06         0  \n",
       "2021-04-06         0  \n",
       "2021-04-06         0  "
      ]
     },
     "execution_count": 21,
     "metadata": {},
     "output_type": "execute_result"
    }
   ],
   "source": [
    "df = polish_report(df)\n",
    "# Sanity Check!!!\n",
    "df.sort_index(ascending=False).head(10)"
   ]
  },
  {
   "cell_type": "code",
   "execution_count": 22,
   "metadata": {},
   "outputs": [
    {
     "name": "stdout",
     "output_type": "stream",
     "text": [
      "There are 626 active outbreak sites in Colorado\n"
     ]
    }
   ],
   "source": [
    "# total active\n",
    "print(f'There are {df.shape[0]} active outbreak sites in Colorado')"
   ]
  },
  {
   "cell_type": "markdown",
   "metadata": {},
   "source": [
    "### outbreaks"
   ]
  },
  {
   "cell_type": "code",
   "execution_count": 23,
   "metadata": {},
   "outputs": [
    {
     "name": "stdout",
     "output_type": "stream",
     "text": [
      "There are 21857 active cases in Colorado\n"
     ]
    }
   ],
   "source": [
    "# this saves four csv files for easy viewing access on an ipad organized by county,type, total and date\n",
    "# use of f-string to allow 'day' to be interpreted correctly\n",
    "df.sort_values(by='county', inplace=True)\n",
    "df.to_csv(f'./covid_data_update/outbreaks-COUNTY-{day}.csv')\n",
    "\n",
    "df.sort_values(by='type', inplace=True)\n",
    "df.to_csv(f'./covid_data_update/outbreaks-TYPE-{day}.csv')\n",
    "\n",
    "df.sort_values(by='total', inplace=True,ascending=False)\n",
    "df.to_csv(f'./covid_data_update/outbreaks-TOTAL-{day}.csv')\n",
    "\n",
    "df =df.sort_index(ascending=False)\n",
    "df.to_csv(f'./covid_data_update/outbreaks-DATE-{day}.csv')\n",
    "\n",
    "\n",
    "print(f'There are {df.total.sum()} active cases in Colorado')"
   ]
  },
  {
   "cell_type": "code",
   "execution_count": 24,
   "metadata": {},
   "outputs": [
    {
     "name": "stdin",
     "output_type": "stream",
     "text": [
      "Select the month by number: \n"
     ]
    },
    {
     "name": "stdout",
     "output_type": "stream",
     "text": [
      "For year 2021 and month 4\n"
     ]
    }
   ],
   "source": [
    "# prompt user to select month (default to current month)\n",
    "m = input('Select the month by number:') or names[1].month\n",
    "y = names[1].year\n",
    "m = int(m)\n",
    "print(f'For year {y} and month {m}')"
   ]
  },
  {
   "cell_type": "code",
   "execution_count": 25,
   "metadata": {},
   "outputs": [],
   "source": [
    "# dfy is the df for the current year\n",
    "dfy = df[df.index.year==y].copy()"
   ]
  },
  {
   "cell_type": "code",
   "execution_count": 26,
   "metadata": {},
   "outputs": [],
   "source": [
    "# df_month is the df for the selected month\n",
    "df_month = dfy[dfy.index.month==m].copy()"
   ]
  },
  {
   "cell_type": "code",
   "execution_count": 27,
   "metadata": {},
   "outputs": [],
   "source": [
    "df_month.reset_index(inplace=True)\n",
    "df_month = df_month[['total','name','type','county']]"
   ]
  },
  {
   "cell_type": "code",
   "execution_count": 28,
   "metadata": {},
   "outputs": [],
   "source": [
    "df_month.to_csv(f'./covid_data/covid_2021_{m}.txt')"
   ]
  },
  {
   "cell_type": "code",
   "execution_count": 29,
   "metadata": {},
   "outputs": [
    {
     "name": "stdout",
     "output_type": "stream",
     "text": [
      "There were an additional 97 outbreak sites in Colorado this month.\n",
      "These represent a total of 410 new cases.\n"
     ]
    }
   ],
   "source": [
    "# get number of sites and total cases for the month\n",
    "s = df_month.shape[0]\n",
    "t = df_month.total.sum()\n",
    "print(f'There were an additional {s} outbreak sites in Colorado this month.')\n",
    "print (f'These represent a total of {t} new cases.')"
   ]
  },
  {
   "cell_type": "code",
   "execution_count": 30,
   "metadata": {},
   "outputs": [
    {
     "data": {
      "image/png": "[encoded data removed]",
      "text/plain": [
       "<Figure size 720x432 with 1 Axes>"
      ]
     },
     "metadata": {
      "needs_background": "light"
     },
     "output_type": "display_data"
    }
   ],
   "source": [
    "dfm = df.resample('M').sum()\n",
    "\n",
    "dfm['Month'] = dfm.index.date\n",
    "dfm\n",
    "\n",
    "dfm[['Month','total']].plot.bar(figsize=(10,6), \\\n",
    "                                x='Month',rot=45, width=.8, \\\n",
    "                                color=\"red\",alpha=.7,\\\n",
    "                                title=\"Outbreaks (total new cases) in Colorado per month\")\n",
    "plt.savefig(f'./covid_data_update/outbreaks-per-month-{day}.png');"
   ]
  },
  {
   "cell_type": "code",
   "execution_count": 31,
   "metadata": {},
   "outputs": [
    {
     "data": {
      "text/html": [
       "<div>\n",
       "<style scoped>\n",
       "    .dataframe tbody tr th:only-of-type {\n",
       "        vertical-align: middle;\n",
       "    }\n",
       "\n",
       "    .dataframe tbody tr th {\n",
       "        vertical-align: top;\n",
       "    }\n",
       "\n",
       "    .dataframe thead th {\n",
       "        text-align: right;\n",
       "    }\n",
       "</style>\n",
       "<table border=\"1\" class=\"dataframe\">\n",
       "  <thead>\n",
       "    <tr style=\"text-align: right;\">\n",
       "      <th></th>\n",
       "      <th>total</th>\n",
       "      <th>residents</th>\n",
       "      <th>staff</th>\n",
       "      <th>attendee</th>\n",
       "      <th>Month</th>\n",
       "    </tr>\n",
       "    <tr>\n",
       "      <th>date</th>\n",
       "      <th></th>\n",
       "      <th></th>\n",
       "      <th></th>\n",
       "      <th></th>\n",
       "      <th></th>\n",
       "    </tr>\n",
       "  </thead>\n",
       "  <tbody>\n",
       "    <tr>\n",
       "      <th>2020-04-30</th>\n",
       "      <td>1297</td>\n",
       "      <td>1183</td>\n",
       "      <td>114</td>\n",
       "      <td>0</td>\n",
       "      <td>2020-04-30</td>\n",
       "    </tr>\n",
       "    <tr>\n",
       "      <th>2020-05-31</th>\n",
       "      <td>211</td>\n",
       "      <td>0</td>\n",
       "      <td>211</td>\n",
       "      <td>0</td>\n",
       "      <td>2020-05-31</td>\n",
       "    </tr>\n",
       "    <tr>\n",
       "      <th>2020-06-30</th>\n",
       "      <td>82</td>\n",
       "      <td>0</td>\n",
       "      <td>82</td>\n",
       "      <td>0</td>\n",
       "      <td>2020-06-30</td>\n",
       "    </tr>\n",
       "    <tr>\n",
       "      <th>2020-07-31</th>\n",
       "      <td>829</td>\n",
       "      <td>381</td>\n",
       "      <td>448</td>\n",
       "      <td>0</td>\n",
       "      <td>2020-07-31</td>\n",
       "    </tr>\n",
       "    <tr>\n",
       "      <th>2020-08-31</th>\n",
       "      <td>408</td>\n",
       "      <td>0</td>\n",
       "      <td>404</td>\n",
       "      <td>4</td>\n",
       "      <td>2020-08-31</td>\n",
       "    </tr>\n",
       "    <tr>\n",
       "      <th>2020-09-30</th>\n",
       "      <td>4007</td>\n",
       "      <td>0</td>\n",
       "      <td>520</td>\n",
       "      <td>3487</td>\n",
       "      <td>2020-09-30</td>\n",
       "    </tr>\n",
       "    <tr>\n",
       "      <th>2020-10-31</th>\n",
       "      <td>6830</td>\n",
       "      <td>2141</td>\n",
       "      <td>1027</td>\n",
       "      <td>3662</td>\n",
       "      <td>2020-10-31</td>\n",
       "    </tr>\n",
       "    <tr>\n",
       "      <th>2020-11-30</th>\n",
       "      <td>3543</td>\n",
       "      <td>1781</td>\n",
       "      <td>1574</td>\n",
       "      <td>188</td>\n",
       "      <td>2020-11-30</td>\n",
       "    </tr>\n",
       "    <tr>\n",
       "      <th>2020-12-31</th>\n",
       "      <td>1518</td>\n",
       "      <td>474</td>\n",
       "      <td>807</td>\n",
       "      <td>237</td>\n",
       "      <td>2020-12-31</td>\n",
       "    </tr>\n",
       "    <tr>\n",
       "      <th>2021-01-31</th>\n",
       "      <td>475</td>\n",
       "      <td>56</td>\n",
       "      <td>204</td>\n",
       "      <td>215</td>\n",
       "      <td>2021-01-31</td>\n",
       "    </tr>\n",
       "    <tr>\n",
       "      <th>2021-02-28</th>\n",
       "      <td>709</td>\n",
       "      <td>22</td>\n",
       "      <td>373</td>\n",
       "      <td>314</td>\n",
       "      <td>2021-02-28</td>\n",
       "    </tr>\n",
       "    <tr>\n",
       "      <th>2021-03-31</th>\n",
       "      <td>1538</td>\n",
       "      <td>126</td>\n",
       "      <td>771</td>\n",
       "      <td>641</td>\n",
       "      <td>2021-03-31</td>\n",
       "    </tr>\n",
       "    <tr>\n",
       "      <th>2021-04-30</th>\n",
       "      <td>410</td>\n",
       "      <td>38</td>\n",
       "      <td>264</td>\n",
       "      <td>108</td>\n",
       "      <td>2021-04-30</td>\n",
       "    </tr>\n",
       "  </tbody>\n",
       "</table>\n",
       "</div>"
      ],
      "text/plain": [
       "            total  residents  staff  attendee       Month\n",
       "date                                                     \n",
       "2020-04-30   1297       1183    114         0  2020-04-30\n",
       "2020-05-31    211          0    211         0  2020-05-31\n",
       "2020-06-30     82          0     82         0  2020-06-30\n",
       "2020-07-31    829        381    448         0  2020-07-31\n",
       "2020-08-31    408          0    404         4  2020-08-31\n",
       "2020-09-30   4007          0    520      3487  2020-09-30\n",
       "2020-10-31   6830       2141   1027      3662  2020-10-31\n",
       "2020-11-30   3543       1781   1574       188  2020-11-30\n",
       "2020-12-31   1518        474    807       237  2020-12-31\n",
       "2021-01-31    475         56    204       215  2021-01-31\n",
       "2021-02-28    709         22    373       314  2021-02-28\n",
       "2021-03-31   1538        126    771       641  2021-03-31\n",
       "2021-04-30    410         38    264       108  2021-04-30"
      ]
     },
     "execution_count": 31,
     "metadata": {},
     "output_type": "execute_result"
    }
   ],
   "source": [
    "dfm"
   ]
  },
  {
   "cell_type": "code",
   "execution_count": 32,
   "metadata": {},
   "outputs": [
    {
     "name": "stdout",
     "output_type": "stream",
     "text": [
      "There are 3713 active cases in Boulder County\n"
     ]
    }
   ],
   "source": [
    "# list all active cases in Boulder County\n",
    "boulder = df[df.county=='Boulder']\n",
    "bc = boulder.total.sum()\n",
    "print(f'There are {bc} active cases in Boulder County')"
   ]
  },
  {
   "cell_type": "code",
   "execution_count": 33,
   "metadata": {
    "scrolled": true
   },
   "outputs": [
    {
     "data": {
      "text/html": [
       "<div>\n",
       "<style scoped>\n",
       "    .dataframe tbody tr th:only-of-type {\n",
       "        vertical-align: middle;\n",
       "    }\n",
       "\n",
       "    .dataframe tbody tr th {\n",
       "        vertical-align: top;\n",
       "    }\n",
       "\n",
       "    .dataframe thead th {\n",
       "        text-align: right;\n",
       "    }\n",
       "</style>\n",
       "<table border=\"1\" class=\"dataframe\">\n",
       "  <thead>\n",
       "    <tr style=\"text-align: right;\">\n",
       "      <th></th>\n",
       "      <th>total</th>\n",
       "      <th>name</th>\n",
       "      <th>type</th>\n",
       "      <th>county</th>\n",
       "      <th>residents</th>\n",
       "      <th>staff</th>\n",
       "      <th>attendee</th>\n",
       "    </tr>\n",
       "    <tr>\n",
       "      <th>date</th>\n",
       "      <th></th>\n",
       "      <th></th>\n",
       "      <th></th>\n",
       "      <th></th>\n",
       "      <th></th>\n",
       "      <th></th>\n",
       "      <th></th>\n",
       "    </tr>\n",
       "  </thead>\n",
       "  <tbody>\n",
       "    <tr>\n",
       "      <th>2021-04-06</th>\n",
       "      <td>6</td>\n",
       "      <td>Masala Co-Operative</td>\n",
       "      <td>Other</td>\n",
       "      <td>Boulder</td>\n",
       "      <td>6</td>\n",
       "      <td>0</td>\n",
       "      <td>0</td>\n",
       "    </tr>\n",
       "    <tr>\n",
       "      <th>2021-04-05</th>\n",
       "      <td>2</td>\n",
       "      <td>The Peaks Care Center (020391): March 2021\\t</td>\n",
       "      <td>Healthcare - Skilled Nursing</td>\n",
       "      <td>Boulder</td>\n",
       "      <td>0</td>\n",
       "      <td>2</td>\n",
       "      <td>0</td>\n",
       "    </tr>\n",
       "    <tr>\n",
       "      <th>2021-03-30</th>\n",
       "      <td>5</td>\n",
       "      <td>Green Tree Medicinals</td>\n",
       "      <td>Retailer</td>\n",
       "      <td>Boulder</td>\n",
       "      <td>0</td>\n",
       "      <td>5</td>\n",
       "      <td>0</td>\n",
       "    </tr>\n",
       "    <tr>\n",
       "      <th>2021-03-29</th>\n",
       "      <td>3</td>\n",
       "      <td>Hearing HealthCare Centers</td>\n",
       "      <td>Healthcare - Outpatient</td>\n",
       "      <td>Boulder</td>\n",
       "      <td>0</td>\n",
       "      <td>3</td>\n",
       "      <td>0</td>\n",
       "    </tr>\n",
       "    <tr>\n",
       "      <th>2021-03-29</th>\n",
       "      <td>2</td>\n",
       "      <td>PowerBack Rehabilitation Lafayette (02U713): M...</td>\n",
       "      <td>Healthcare - Rehab Facility</td>\n",
       "      <td>Boulder</td>\n",
       "      <td>2</td>\n",
       "      <td>0</td>\n",
       "      <td>0</td>\n",
       "    </tr>\n",
       "    <tr>\n",
       "      <th>2021-03-26</th>\n",
       "      <td>3</td>\n",
       "      <td>Nitro Club</td>\n",
       "      <td>Nightclub</td>\n",
       "      <td>Boulder</td>\n",
       "      <td>0</td>\n",
       "      <td>3</td>\n",
       "      <td>0</td>\n",
       "    </tr>\n",
       "    <tr>\n",
       "      <th>2021-03-26</th>\n",
       "      <td>2</td>\n",
       "      <td>Boulder Hockey Club 16AA</td>\n",
       "      <td>Youth Sports/Activities</td>\n",
       "      <td>Boulder</td>\n",
       "      <td>0</td>\n",
       "      <td>0</td>\n",
       "      <td>2</td>\n",
       "    </tr>\n",
       "    <tr>\n",
       "      <th>2021-03-24</th>\n",
       "      <td>3</td>\n",
       "      <td>International Crossroads</td>\n",
       "      <td>Other</td>\n",
       "      <td>Boulder</td>\n",
       "      <td>0</td>\n",
       "      <td>3</td>\n",
       "      <td>0</td>\n",
       "    </tr>\n",
       "    <tr>\n",
       "      <th>2021-03-23</th>\n",
       "      <td>3</td>\n",
       "      <td>St Julien Hotel &amp; Spa</td>\n",
       "      <td>Hotel/Lodge/Resort</td>\n",
       "      <td>Boulder</td>\n",
       "      <td>0</td>\n",
       "      <td>3</td>\n",
       "      <td>0</td>\n",
       "    </tr>\n",
       "    <tr>\n",
       "      <th>2021-03-23</th>\n",
       "      <td>3</td>\n",
       "      <td>Heritage Title Company- Boulder</td>\n",
       "      <td>Office/Indoor Workspace</td>\n",
       "      <td>Boulder</td>\n",
       "      <td>0</td>\n",
       "      <td>3</td>\n",
       "      <td>0</td>\n",
       "    </tr>\n",
       "    <tr>\n",
       "      <th>2021-03-19</th>\n",
       "      <td>4</td>\n",
       "      <td>Boulder High School: March 2021</td>\n",
       "      <td>School K-12</td>\n",
       "      <td>Boulder</td>\n",
       "      <td>0</td>\n",
       "      <td>0</td>\n",
       "      <td>4</td>\n",
       "    </tr>\n",
       "    <tr>\n",
       "      <th>2021-03-19</th>\n",
       "      <td>8</td>\n",
       "      <td>Arapahoe Roofing</td>\n",
       "      <td>Construction Company/Contractor</td>\n",
       "      <td>Boulder</td>\n",
       "      <td>0</td>\n",
       "      <td>8</td>\n",
       "      <td>0</td>\n",
       "    </tr>\n",
       "    <tr>\n",
       "      <th>2021-03-18</th>\n",
       "      <td>18</td>\n",
       "      <td>Adolescent gathering - Boulder</td>\n",
       "      <td>Social Gathering</td>\n",
       "      <td>Boulder</td>\n",
       "      <td>0</td>\n",
       "      <td>0</td>\n",
       "      <td>18</td>\n",
       "    </tr>\n",
       "    <tr>\n",
       "      <th>2021-03-18</th>\n",
       "      <td>2</td>\n",
       "      <td>RoughRiders 15 (Boys): March 2021</td>\n",
       "      <td>Youth Sports/Activities</td>\n",
       "      <td>Boulder</td>\n",
       "      <td>0</td>\n",
       "      <td>0</td>\n",
       "      <td>2</td>\n",
       "    </tr>\n",
       "    <tr>\n",
       "      <th>2021-03-17</th>\n",
       "      <td>5</td>\n",
       "      <td>Pollard Jeep of Boulder</td>\n",
       "      <td>Other</td>\n",
       "      <td>Boulder</td>\n",
       "      <td>0</td>\n",
       "      <td>5</td>\n",
       "      <td>0</td>\n",
       "    </tr>\n",
       "    <tr>\n",
       "      <th>2021-03-15</th>\n",
       "      <td>4</td>\n",
       "      <td>Rosalee's Pizzeria</td>\n",
       "      <td>Restaurant - Sit Down</td>\n",
       "      <td>Boulder</td>\n",
       "      <td>0</td>\n",
       "      <td>4</td>\n",
       "      <td>0</td>\n",
       "    </tr>\n",
       "    <tr>\n",
       "      <th>2021-03-15</th>\n",
       "      <td>6</td>\n",
       "      <td>The Roost</td>\n",
       "      <td>Restaurant - Sit Down</td>\n",
       "      <td>Boulder</td>\n",
       "      <td>0</td>\n",
       "      <td>6</td>\n",
       "      <td>0</td>\n",
       "    </tr>\n",
       "    <tr>\n",
       "      <th>2021-03-12</th>\n",
       "      <td>6</td>\n",
       "      <td>Sports Stable: Adult Lunch League Hockey</td>\n",
       "      <td>Adult Sports Club/Team</td>\n",
       "      <td>Boulder</td>\n",
       "      <td>0</td>\n",
       "      <td>0</td>\n",
       "      <td>6</td>\n",
       "    </tr>\n",
       "    <tr>\n",
       "      <th>2021-03-11</th>\n",
       "      <td>18</td>\n",
       "      <td>Shining Mountain Waldorf School</td>\n",
       "      <td>School K-12</td>\n",
       "      <td>Boulder</td>\n",
       "      <td>0</td>\n",
       "      <td>4</td>\n",
       "      <td>14</td>\n",
       "    </tr>\n",
       "    <tr>\n",
       "      <th>2021-03-11</th>\n",
       "      <td>4</td>\n",
       "      <td>YMCA Youth Hockey Private club team</td>\n",
       "      <td>Youth Sports/Activities</td>\n",
       "      <td>Boulder</td>\n",
       "      <td>0</td>\n",
       "      <td>0</td>\n",
       "      <td>4</td>\n",
       "    </tr>\n",
       "    <tr>\n",
       "      <th>2021-03-09</th>\n",
       "      <td>2</td>\n",
       "      <td>Flatirons Volleyball Club - 15U</td>\n",
       "      <td>Youth Sports/Activities</td>\n",
       "      <td>Boulder</td>\n",
       "      <td>0</td>\n",
       "      <td>0</td>\n",
       "      <td>2</td>\n",
       "    </tr>\n",
       "    <tr>\n",
       "      <th>2021-03-08</th>\n",
       "      <td>3</td>\n",
       "      <td>Centaurus High School</td>\n",
       "      <td>School K-12</td>\n",
       "      <td>Boulder</td>\n",
       "      <td>0</td>\n",
       "      <td>0</td>\n",
       "      <td>3</td>\n",
       "    </tr>\n",
       "    <tr>\n",
       "      <th>2021-03-08</th>\n",
       "      <td>7</td>\n",
       "      <td>Flatirons Volleyball Club - 16U</td>\n",
       "      <td>Youth Sports/Activities</td>\n",
       "      <td>Boulder</td>\n",
       "      <td>0</td>\n",
       "      <td>1</td>\n",
       "      <td>6</td>\n",
       "    </tr>\n",
       "    <tr>\n",
       "      <th>2021-02-26</th>\n",
       "      <td>18</td>\n",
       "      <td>Dark Horse</td>\n",
       "      <td>Bar/Tavern/Brewery</td>\n",
       "      <td>Boulder</td>\n",
       "      <td>0</td>\n",
       "      <td>18</td>\n",
       "      <td>0</td>\n",
       "    </tr>\n",
       "    <tr>\n",
       "      <th>2021-02-23</th>\n",
       "      <td>4</td>\n",
       "      <td>Life Care Center of Longmont (020316): Februar...</td>\n",
       "      <td>Healthcare - Skilled Nursing</td>\n",
       "      <td>Boulder</td>\n",
       "      <td>2</td>\n",
       "      <td>2</td>\n",
       "      <td>0</td>\n",
       "    </tr>\n",
       "    <tr>\n",
       "      <th>2020-12-22</th>\n",
       "      <td>2</td>\n",
       "      <td>Niles Family Dentistry</td>\n",
       "      <td>Healthcare - Outpatient</td>\n",
       "      <td>Boulder</td>\n",
       "      <td>0</td>\n",
       "      <td>2</td>\n",
       "      <td>0</td>\n",
       "    </tr>\n",
       "    <tr>\n",
       "      <th>2020-12-21</th>\n",
       "      <td>68</td>\n",
       "      <td>Boulder County Jail: December 2020</td>\n",
       "      <td>Jail</td>\n",
       "      <td>Boulder</td>\n",
       "      <td>54</td>\n",
       "      <td>14</td>\n",
       "      <td>0</td>\n",
       "    </tr>\n",
       "    <tr>\n",
       "      <th>2020-12-07</th>\n",
       "      <td>21</td>\n",
       "      <td>Silver Creek High School</td>\n",
       "      <td>School K-12</td>\n",
       "      <td>Boulder</td>\n",
       "      <td>0</td>\n",
       "      <td>5</td>\n",
       "      <td>16</td>\n",
       "    </tr>\n",
       "    <tr>\n",
       "      <th>2020-12-01</th>\n",
       "      <td>25</td>\n",
       "      <td>Whole Foods Market - Pearl Street</td>\n",
       "      <td>Grocery Store</td>\n",
       "      <td>Boulder</td>\n",
       "      <td>0</td>\n",
       "      <td>25</td>\n",
       "      <td>0</td>\n",
       "    </tr>\n",
       "    <tr>\n",
       "      <th>2020-09-23</th>\n",
       "      <td>3456</td>\n",
       "      <td>University of Colorado Boulder Community Outbreak</td>\n",
       "      <td>College/University</td>\n",
       "      <td>Boulder</td>\n",
       "      <td>0</td>\n",
       "      <td>238</td>\n",
       "      <td>3218</td>\n",
       "    </tr>\n",
       "  </tbody>\n",
       "</table>\n",
       "</div>"
      ],
      "text/plain": [
       "            total                                               name  \\\n",
       "date                                                                   \n",
       "2021-04-06      6                                Masala Co-Operative   \n",
       "2021-04-05      2       The Peaks Care Center (020391): March 2021\\t   \n",
       "2021-03-30      5                              Green Tree Medicinals   \n",
       "2021-03-29      3                         Hearing HealthCare Centers   \n",
       "2021-03-29      2  PowerBack Rehabilitation Lafayette (02U713): M...   \n",
       "2021-03-26      3                                         Nitro Club   \n",
       "2021-03-26      2                           Boulder Hockey Club 16AA   \n",
       "2021-03-24      3                           International Crossroads   \n",
       "2021-03-23      3                              St Julien Hotel & Spa   \n",
       "2021-03-23      3                    Heritage Title Company- Boulder   \n",
       "2021-03-19      4                    Boulder High School: March 2021   \n",
       "2021-03-19      8                                   Arapahoe Roofing   \n",
       "2021-03-18     18                     Adolescent gathering - Boulder   \n",
       "2021-03-18      2                  RoughRiders 15 (Boys): March 2021   \n",
       "2021-03-17      5                            Pollard Jeep of Boulder   \n",
       "2021-03-15      4                                 Rosalee's Pizzeria   \n",
       "2021-03-15      6                                          The Roost   \n",
       "2021-03-12      6           Sports Stable: Adult Lunch League Hockey   \n",
       "2021-03-11     18                    Shining Mountain Waldorf School   \n",
       "2021-03-11      4                YMCA Youth Hockey Private club team   \n",
       "2021-03-09      2                    Flatirons Volleyball Club - 15U   \n",
       "2021-03-08      3                             Centaurus High School    \n",
       "2021-03-08      7                    Flatirons Volleyball Club - 16U   \n",
       "2021-02-26     18                                         Dark Horse   \n",
       "2021-02-23      4  Life Care Center of Longmont (020316): Februar...   \n",
       "2020-12-22      2                             Niles Family Dentistry   \n",
       "2020-12-21     68                 Boulder County Jail: December 2020   \n",
       "2020-12-07     21                           Silver Creek High School   \n",
       "2020-12-01     25                  Whole Foods Market - Pearl Street   \n",
       "2020-09-23   3456  University of Colorado Boulder Community Outbreak   \n",
       "\n",
       "                                       type   county  residents  staff  \\\n",
       "date                                                                     \n",
       "2021-04-06                            Other  Boulder          6      0   \n",
       "2021-04-05     Healthcare - Skilled Nursing  Boulder          0      2   \n",
       "2021-03-30                         Retailer  Boulder          0      5   \n",
       "2021-03-29          Healthcare - Outpatient  Boulder          0      3   \n",
       "2021-03-29      Healthcare - Rehab Facility  Boulder          2      0   \n",
       "2021-03-26                        Nightclub  Boulder          0      3   \n",
       "2021-03-26          Youth Sports/Activities  Boulder          0      0   \n",
       "2021-03-24                            Other  Boulder          0      3   \n",
       "2021-03-23               Hotel/Lodge/Resort  Boulder          0      3   \n",
       "2021-03-23          Office/Indoor Workspace  Boulder          0      3   \n",
       "2021-03-19                      School K-12  Boulder          0      0   \n",
       "2021-03-19  Construction Company/Contractor  Boulder          0      8   \n",
       "2021-03-18                 Social Gathering  Boulder          0      0   \n",
       "2021-03-18          Youth Sports/Activities  Boulder          0      0   \n",
       "2021-03-17                            Other  Boulder          0      5   \n",
       "2021-03-15            Restaurant - Sit Down  Boulder          0      4   \n",
       "2021-03-15            Restaurant - Sit Down  Boulder          0      6   \n",
       "2021-03-12           Adult Sports Club/Team  Boulder          0      0   \n",
       "2021-03-11                      School K-12  Boulder          0      4   \n",
       "2021-03-11          Youth Sports/Activities  Boulder          0      0   \n",
       "2021-03-09          Youth Sports/Activities  Boulder          0      0   \n",
       "2021-03-08                      School K-12  Boulder          0      0   \n",
       "2021-03-08          Youth Sports/Activities  Boulder          0      1   \n",
       "2021-02-26               Bar/Tavern/Brewery  Boulder          0     18   \n",
       "2021-02-23     Healthcare - Skilled Nursing  Boulder          2      2   \n",
       "2020-12-22          Healthcare - Outpatient  Boulder          0      2   \n",
       "2020-12-21                             Jail  Boulder         54     14   \n",
       "2020-12-07                      School K-12  Boulder          0      5   \n",
       "2020-12-01                    Grocery Store  Boulder          0     25   \n",
       "2020-09-23               College/University  Boulder          0    238   \n",
       "\n",
       "            attendee  \n",
       "date                  \n",
       "2021-04-06         0  \n",
       "2021-04-05         0  \n",
       "2021-03-30         0  \n",
       "2021-03-29         0  \n",
       "2021-03-29         0  \n",
       "2021-03-26         0  \n",
       "2021-03-26         2  \n",
       "2021-03-24         0  \n",
       "2021-03-23         0  \n",
       "2021-03-23         0  \n",
       "2021-03-19         4  \n",
       "2021-03-19         0  \n",
       "2021-03-18        18  \n",
       "2021-03-18         2  \n",
       "2021-03-17         0  \n",
       "2021-03-15         0  \n",
       "2021-03-15         0  \n",
       "2021-03-12         6  \n",
       "2021-03-11        14  \n",
       "2021-03-11         4  \n",
       "2021-03-09         2  \n",
       "2021-03-08         3  \n",
       "2021-03-08         6  \n",
       "2021-02-26         0  \n",
       "2021-02-23         0  \n",
       "2020-12-22         0  \n",
       "2020-12-21         0  \n",
       "2020-12-07        16  \n",
       "2020-12-01         0  \n",
       "2020-09-23      3218  "
      ]
     },
     "execution_count": 33,
     "metadata": {},
     "output_type": "execute_result"
    }
   ],
   "source": [
    "boulder = boulder.sort_index(ascending=False)\n",
    "boulder.to_csv(f'./covid_data_update/boulder-{day}.csv')\n",
    "boulder"
   ]
  },
  {
   "cell_type": "markdown",
   "metadata": {},
   "source": [
    "### Create Pie Chart"
   ]
  },
  {
   "cell_type": "code",
   "execution_count": 34,
   "metadata": {},
   "outputs": [
    {
     "data": {
      "text/plain": [
       "21857"
      ]
     },
     "execution_count": 34,
     "metadata": {},
     "output_type": "execute_result"
    }
   ],
   "source": [
    "# total number of active cases\n",
    "s = df.total.sum()\n",
    "s"
   ]
  },
  {
   "cell_type": "code",
   "execution_count": 35,
   "metadata": {},
   "outputs": [
    {
     "name": "stdout",
     "output_type": "stream",
     "text": [
      "These represent 90% of all outbreak cases\n"
     ]
    },
    {
     "data": {
      "text/plain": [
       "type\n",
       "College/University                 0.348401\n",
       "Construction Company/Contractor    0.015144\n",
       "Distribution Center/Business       0.012124\n",
       "Food Manufacturing/Packaging       0.018621\n",
       "Grocery Store                      0.010294\n",
       "Homeless Shelter                   0.021732\n",
       "Jail                               0.165119\n",
       "Materials Supplier                 0.010248\n",
       "Office/Indoor Workspace            0.029647\n",
       "Other                              0.026033\n",
       "Religious Facility                 0.010614\n",
       "Restaurant - Fast Food             0.010569\n",
       "Retailer                           0.034954\n",
       "School K-12                        0.065288\n",
       "State Prison                       0.119962\n",
       "Name: total, dtype: float64"
      ]
     },
     "execution_count": 35,
     "metadata": {},
     "output_type": "execute_result"
    }
   ],
   "source": [
    "# list of major types by percent of total\n",
    "df_percent = df.groupby('type').total.sum()/s\n",
    "print (f'These represent {df_percent[df_percent > .01].sum()*100:.0f}% of all outbreak cases')\n",
    "df_percent[df_percent > .01]"
   ]
  },
  {
   "cell_type": "code",
   "execution_count": 36,
   "metadata": {},
   "outputs": [],
   "source": [
    "# custom function from pie_dict \n",
    "from pie_dict import pie"
   ]
  },
  {
   "cell_type": "code",
   "execution_count": 37,
   "metadata": {},
   "outputs": [
    {
     "data": {
      "text/html": [
       "<div>\n",
       "<style scoped>\n",
       "    .dataframe tbody tr th:only-of-type {\n",
       "        vertical-align: middle;\n",
       "    }\n",
       "\n",
       "    .dataframe tbody tr th {\n",
       "        vertical-align: top;\n",
       "    }\n",
       "\n",
       "    .dataframe thead th {\n",
       "        text-align: right;\n",
       "    }\n",
       "</style>\n",
       "<table border=\"1\" class=\"dataframe\">\n",
       "  <thead>\n",
       "    <tr style=\"text-align: right;\">\n",
       "      <th></th>\n",
       "      <th>total</th>\n",
       "      <th>name</th>\n",
       "      <th>type</th>\n",
       "      <th>county</th>\n",
       "      <th>residents</th>\n",
       "      <th>staff</th>\n",
       "      <th>attendee</th>\n",
       "    </tr>\n",
       "    <tr>\n",
       "      <th>date</th>\n",
       "      <th></th>\n",
       "      <th></th>\n",
       "      <th></th>\n",
       "      <th></th>\n",
       "      <th></th>\n",
       "      <th></th>\n",
       "      <th></th>\n",
       "    </tr>\n",
       "  </thead>\n",
       "  <tbody>\n",
       "    <tr>\n",
       "      <th>2021-04-07</th>\n",
       "      <td>3</td>\n",
       "      <td>Camp Elim</td>\n",
       "      <td>Other</td>\n",
       "      <td>Teller</td>\n",
       "      <td>0</td>\n",
       "      <td>3</td>\n",
       "      <td>0</td>\n",
       "    </tr>\n",
       "    <tr>\n",
       "      <th>2021-04-07</th>\n",
       "      <td>3</td>\n",
       "      <td>Aspen Grove Animal Clinic PC</td>\n",
       "      <td>Other</td>\n",
       "      <td>Larimer</td>\n",
       "      <td>0</td>\n",
       "      <td>3</td>\n",
       "      <td>0</td>\n",
       "    </tr>\n",
       "    <tr>\n",
       "      <th>2021-04-07</th>\n",
       "      <td>3</td>\n",
       "      <td>Front Range Community College Westminster Camp...</td>\n",
       "      <td>College/University</td>\n",
       "      <td>Adams</td>\n",
       "      <td>0</td>\n",
       "      <td>1</td>\n",
       "      <td>2</td>\n",
       "    </tr>\n",
       "    <tr>\n",
       "      <th>2021-04-06</th>\n",
       "      <td>4</td>\n",
       "      <td>Lowry Park Apartments</td>\n",
       "      <td>Other</td>\n",
       "      <td>Denver</td>\n",
       "      <td>0</td>\n",
       "      <td>4</td>\n",
       "      <td>0</td>\n",
       "    </tr>\n",
       "    <tr>\n",
       "      <th>2021-04-06</th>\n",
       "      <td>3</td>\n",
       "      <td>Colorado Volleyball Connection-Senior Moments ...</td>\n",
       "      <td>Other</td>\n",
       "      <td>Jefferson</td>\n",
       "      <td>0</td>\n",
       "      <td>0</td>\n",
       "      <td>3</td>\n",
       "    </tr>\n",
       "  </tbody>\n",
       "</table>\n",
       "</div>"
      ],
      "text/plain": [
       "            total                                               name  \\\n",
       "date                                                                   \n",
       "2021-04-07      3                                          Camp Elim   \n",
       "2021-04-07      3                       Aspen Grove Animal Clinic PC   \n",
       "2021-04-07      3  Front Range Community College Westminster Camp...   \n",
       "2021-04-06      4                              Lowry Park Apartments   \n",
       "2021-04-06      3  Colorado Volleyball Connection-Senior Moments ...   \n",
       "\n",
       "                          type     county  residents  staff  attendee  \n",
       "date                                                                   \n",
       "2021-04-07               Other     Teller          0      3         0  \n",
       "2021-04-07               Other    Larimer          0      3         0  \n",
       "2021-04-07  College/University      Adams          0      1         2  \n",
       "2021-04-06               Other     Denver          0      4         0  \n",
       "2021-04-06               Other  Jefferson          0      0         3  "
      ]
     },
     "execution_count": 37,
     "metadata": {},
     "output_type": "execute_result"
    }
   ],
   "source": [
    "df_pie = pie (df)\n",
    "df_pie.head()\n",
    "pie_list = np.array(['College/University', 'Jail/Prison', 'Other',\n",
    "       'Office/Mfg/Dist/Construction', 'Healthcare', 'Resturant/Retail',\n",
    "       'Day Care/School'], dtype=object)"
   ]
  },
  {
   "cell_type": "code",
   "execution_count": 38,
   "metadata": {},
   "outputs": [
    {
     "data": {
      "text/plain": [
       "\"test = df.type.unique()\\ntest = np.append(test,['Social Gathering','Travel'])\\nlen(test)\\n\""
      ]
     },
     "execution_count": 38,
     "metadata": {},
     "output_type": "execute_result"
    }
   ],
   "source": [
    "'''test = df.type.unique()\n",
    "test = np.append(test,['Social Gathering','Travel'])\n",
    "len(test)\n",
    "'''"
   ]
  },
  {
   "cell_type": "code",
   "execution_count": 39,
   "metadata": {},
   "outputs": [
    {
     "data": {
      "text/plain": [
       "array(['Other', 'College/University', 'Day Care/School',\n",
       "       'Resturant/Retail', 'Office/Mfg/Dist/Construction', 'Healthcare',\n",
       "       'Jail/Prison'], dtype=object)"
      ]
     },
     "execution_count": 39,
     "metadata": {},
     "output_type": "execute_result"
    }
   ],
   "source": [
    "df.type.unique()"
   ]
  },
  {
   "cell_type": "code",
   "execution_count": 40,
   "metadata": {},
   "outputs": [
    {
     "name": "stdout",
     "output_type": "stream",
     "text": [
      "No new types were added to the category: Other\n"
     ]
    }
   ],
   "source": [
    "test = df.type.unique()\n",
    "if len(test) != 7:\n",
    "    more_types = [item for item in test if item not in pie_list]\n",
    "    df.type = df.type.replace(dict.fromkeys(more_types, 'Other'))\n",
    "    print(f'{more_types} were added to the category: Other')\n",
    "else:\n",
    "    print('No new types were added to the category: Other')"
   ]
  },
  {
   "cell_type": "code",
   "execution_count": 41,
   "metadata": {},
   "outputs": [
    {
     "name": "stdout",
     "output_type": "stream",
     "text": [
      "type\n",
      "College/University              7615\n",
      "Day Care/School                 1714\n",
      "Healthcare                       662\n",
      "Jail/Prison                     6301\n",
      "Office/Mfg/Dist/Construction    2163\n",
      "Other                           1921\n",
      "Resturant/Retail                1481\n",
      "Name: total, dtype: int64\n"
     ]
    },
    {
     "data": {
      "text/plain": [
       "21857"
      ]
     },
     "execution_count": 41,
     "metadata": {},
     "output_type": "execute_result"
    }
   ],
   "source": [
    "df.total = df.total.astype(int)\n",
    "\n",
    "p = df.groupby('type').total.sum()\n",
    "print (p)\n",
    "total_cases = p.sum()\n",
    "total_cases"
   ]
  },
  {
   "cell_type": "code",
   "execution_count": 42,
   "metadata": {},
   "outputs": [
    {
     "data": {
      "image/png": "[encoded data removed]",
      "text/plain": [
       "<Figure size 576x576 with 1 Axes>"
      ]
     },
     "metadata": {},
     "output_type": "display_data"
    }
   ],
   "source": [
    "# creates a pie chart of the current total active cases\n",
    "my_colors = ['#f6eff7','#d0d1e6','#a6bddb','#67a9cf','#3690c0','#02818a','#016450']\n",
    "\n",
    "explode = (.1,0,0,0,0,0,0)\n",
    "\n",
    "p.plot.pie(figsize=(8,8),explode=explode,autopct='%1.0f%%',\n",
    "        shadow=True, colors=my_colors,startangle=-25);\n",
    "plt.title(f'Covid Active Outreaks\\n (active cases = {total_cases},       {day})\\n')\n",
    "\n",
    "plt.axis('equal')\n",
    "plt.savefig(f'./covid_data_update/outbreaks-piechart-{day}.png');"
   ]
  },
  {
   "cell_type": "markdown",
   "metadata": {},
   "source": [
    "### Displays all updated graphs files including those from covid.ipynb"
   ]
  },
  {
   "cell_type": "code",
   "execution_count": 43,
   "metadata": {},
   "outputs": [
    {
     "name": "stdout",
     "output_type": "stream",
     "text": [
      "/Users/edwardterrell/Desktop/covid_machinations/covid_data_update\n"
     ]
    }
   ],
   "source": [
    "cd covid_data_update"
   ]
  },
  {
   "cell_type": "code",
   "execution_count": 44,
   "metadata": {},
   "outputs": [
    {
     "data": {
      "image/png": "[encoded data removed]",
      "text/plain": [
       "<Figure size 720x360 with 1 Axes>"
      ]
     },
     "metadata": {
      "needs_background": "light"
     },
     "output_type": "display_data"
    }
   ],
   "source": [
    "!ls -t1 | head -n 20 | grep -ve '^bolder' -ve 'png$' -ve 'xlsx$' > covid_text\n",
    "\n",
    "!ls *.png > flist_of_covid_png \n",
    "\n",
    "import matplotlib.image as mpimg\n",
    "# Loop through this list of images to read and plot them\n",
    "with open('flist_of_covid_png') as f:\n",
    "    png_str = f.read()\n",
    "png_list = png_str.split('\\n')[1:-1]\n",
    "\n",
    "for file in png_list:\n",
    "    img = mpimg.imread(file)\n",
    "    fig,ax = plt.subplots(1,1,figsize=(10,5))\n",
    "    plt.imshow(img)\n",
    "    plt.show();\n",
    "plt.close('all');"
   ]
  },
  {
   "cell_type": "code",
   "execution_count": 45,
   "metadata": {},
   "outputs": [],
   "source": [
    "# These were helper files and are not needed any longer\n",
    "!rm -f covid_text\n",
    "!rm -f flist_of_covid_png\n",
    "!rm -f temp.xlsx"
   ]
  },
  {
   "cell_type": "code",
   "execution_count": 46,
   "metadata": {},
   "outputs": [
    {
     "name": "stdout",
     "output_type": "stream",
     "text": [
      "/Users/edwardterrell/Desktop/covid_machinations\n"
     ]
    }
   ],
   "source": [
    "cd .."
   ]
  },
  {
   "cell_type": "code",
   "execution_count": null,
   "metadata": {},
   "outputs": [],
   "source": []
  }
 ],
 "metadata": {
  "kernelspec": {
   "display_name": "Python 3",
   "language": "python",
   "name": "python3"
  },
  "language_info": {
   "codemirror_mode": {
    "name": "ipython",
    "version": 3
   },
   "file_extension": ".py",
   "mimetype": "text/x-python",
   "name": "python",
   "nbconvert_exporter": "python",
   "pygments_lexer": "ipython3",
   "version": "3.8.3"
  }
 },
 "nbformat": 4,
 "nbformat_minor": 4
}
