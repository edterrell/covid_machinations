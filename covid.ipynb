{
 "cells": [
  {
   "cell_type": "code",
   "execution_count": 1,
   "metadata": {},
   "outputs": [
    {
     "data": {
      "text/plain": [
       "'/Users/edwardterrell/Desktop/covid_machinations'"
      ]
     },
     "execution_count": 1,
     "metadata": {},
     "output_type": "execute_result"
    }
   ],
   "source": [
    "pwd"
   ]
  },
  {
   "cell_type": "code",
   "execution_count": 2,
   "metadata": {},
   "outputs": [
    {
     "data": {
      "text/plain": [
       "'/Users/edwardterrell/opt/anaconda3/envs/scrape/bin/python'"
      ]
     },
     "execution_count": 2,
     "metadata": {},
     "output_type": "execute_result"
    }
   ],
   "source": [
    "# this block is used for copying/moving files\n",
    "import os\n",
    "import shutil\n",
    "import time\n",
    "#shutil.copyfile('src', 'dst')\n",
    "#shutil.move\n",
    "\n",
    "# we want to ensure we are in the correct conda environment\n",
    "import sys\n",
    "sys.executable"
   ]
  },
  {
   "cell_type": "code",
   "execution_count": 3,
   "metadata": {},
   "outputs": [],
   "source": [
    "# This is a custom python module with dictionaries of states and countries; \n",
    "# it also contains three functions repair_dict, reverse_dict, and custom_list\n",
    "import state_country_dicts as scd"
   ]
  },
  {
   "cell_type": "code",
   "execution_count": 4,
   "metadata": {},
   "outputs": [],
   "source": [
    "# provides ability to reload modules (wihtout leaving jupyter) if changes are made\n",
    "# import importlib\n",
    "# importlib.reload(scd)"
   ]
  },
  {
   "cell_type": "code",
   "execution_count": 5,
   "metadata": {},
   "outputs": [],
   "source": [
    "import numpy as np\n",
    "import pandas as pd"
   ]
  },
  {
   "cell_type": "code",
   "execution_count": 6,
   "metadata": {},
   "outputs": [
    {
     "data": {
      "text/html": [
       "<style>body {\n",
       "    margin: 0;\n",
       "    font-family: Helvetica;\n",
       "}\n",
       "table.dataframe {\n",
       "    border-collapse: collapse;\n",
       "    border: none;\n",
       "}\n",
       "table.dataframe tr {\n",
       "    border: none;\n",
       "}\n",
       "table.dataframe td, table.dataframe th {\n",
       "    margin: 0;\n",
       "    border: 1px solid white;\n",
       "    padding-left: 0.25em;\n",
       "    padding-right: 0.25em;\n",
       "}\n",
       "table.dataframe th:not(:empty) {\n",
       "    background-color: #a6bddb;\n",
       "    text-align: left;\n",
       "    font-weight: normal;\n",
       "}\n",
       "table.dataframe tr:nth-child(2) th:empty {\n",
       "    border-left: none;\n",
       "    border-right: 1px dashed #888;\n",
       "}\n",
       "table.dataframe td {\n",
       "    border: 2px solid #ccf;\n",
       "    background-color: #f6eff7;\n",
       "}\n",
       "h3 {\n",
       "    color: white;\n",
       "    background-color: black;\n",
       "    padding: 0.5em;\n",
       "}\n",
       "</style>"
      ],
      "text/plain": [
       "<IPython.core.display.HTML object>"
      ]
     },
     "execution_count": 6,
     "metadata": {},
     "output_type": "execute_result"
    }
   ],
   "source": [
    "from IPython.core.interactiveshell import InteractiveShell\n",
    "InteractiveShell.ast_node_interactivity = \"all\"\n",
    "import matplotlib.pyplot as plt\n",
    "\n",
    "import requests\n",
    "from bs4 import BeautifulSoup as bs\n",
    "# import regular expressions\n",
    "import re \n",
    "\n",
    "from IPython.core.display import HTML\n",
    "css = open('style-table.css').read() + open('style-notebook.css').read()\n",
    "HTML('<style>{}</style>'.format(css))"
   ]
  },
  {
   "cell_type": "markdown",
   "metadata": {},
   "source": [
    "### Cornavirus section"
   ]
  },
  {
   "cell_type": "code",
   "execution_count": 7,
   "metadata": {},
   "outputs": [
    {
     "data": {
      "text/plain": [
       "'2021-04-13'"
      ]
     },
     "execution_count": 7,
     "metadata": {},
     "output_type": "execute_result"
    }
   ],
   "source": [
    "# get current date for use in creating filenames with embedded 'day'. \n",
    "# convert datetime object to string\n",
    "import datetime as dt\n",
    "today  = dt.date.today()\n",
    "day = today.strftime('%Y-%m-%d')\n",
    "day"
   ]
  },
  {
   "cell_type": "code",
   "execution_count": 10,
   "metadata": {},
   "outputs": [
    {
     "name": "stdin",
     "output_type": "stream",
     "text": [
      "Enter timezone if using Binder (GMT): \n"
     ]
    },
    {
     "data": {
      "text/plain": [
       "'2021-04-13'"
      ]
     },
     "execution_count": 10,
     "metadata": {},
     "output_type": "execute_result"
    }
   ],
   "source": [
    "timezone = input('Enter timezone if using Binder (GMT):')\n",
    "if timezone:\n",
    "    t = pd.Timestamp.today(timezone)\n",
    "    day = t.date().strftime('%Y-%m-%d')\n",
    "day"
   ]
  },
  {
   "cell_type": "code",
   "execution_count": null,
   "metadata": {},
   "outputs": [],
   "source": []
  },
  {
   "cell_type": "markdown",
   "metadata": {},
   "source": [
    "### Moves all files from covid_data_update to covid_data "
   ]
  },
  {
   "cell_type": "code",
   "execution_count": 11,
   "metadata": {},
   "outputs": [
    {
     "name": "stdout",
     "output_type": "stream",
     "text": [
      "covid_data_update directory contents:\n",
      "[]\n",
      "Directory is empty so no files available to move\n"
     ]
    }
   ],
   "source": [
    "# House keeping covid_data_update folder\n",
    "# prepare move of all files from covid_data_update to covid_data \n",
    "# so that we are left with an empty covid_date_update folder\n",
    "file_names = []\n",
    "source_dir = 'covid_data_update'\n",
    "target_dir = 'covid_data'\n",
    "print(\"covid_data_update directory contents:\") \n",
    "\n",
    "file_names = os.listdir(source_dir)\n",
    "print (file_names)\n",
    "if file_names == []:\n",
    "    print ('Directory is empty so no files available to move')"
   ]
  },
  {
   "cell_type": "code",
   "execution_count": 12,
   "metadata": {},
   "outputs": [],
   "source": [
    "# The below cell will move and archive all files in covid_data_update to covid_data"
   ]
  },
  {
   "cell_type": "code",
   "execution_count": 13,
   "metadata": {},
   "outputs": [],
   "source": [
    "%%capture\n",
    "# Move contents of source ('covid_data_update')to target ('covid_data')\n",
    "for file_name in file_names:\n",
    "    shutil.move(os.path.join(source_dir, file_name), target_dir)"
   ]
  },
  {
   "cell_type": "code",
   "execution_count": 14,
   "metadata": {},
   "outputs": [],
   "source": [
    "def clean_up (number_str):\n",
    "    '''This is a clean up routine so that only numeric characters remain'''\n",
    "    number_str = number_str.replace(',', '').rstrip(']').lstrip(\"'\")\n",
    "    return int(number_str)"
   ]
  },
  {
   "cell_type": "markdown",
   "metadata": {},
   "source": [
    "### Custom state dictionaries"
   ]
  },
  {
   "cell_type": "code",
   "execution_count": null,
   "metadata": {},
   "outputs": [],
   "source": []
  },
  {
   "cell_type": "code",
   "execution_count": 26,
   "metadata": {},
   "outputs": [
    {
     "name": "stdin",
     "output_type": "stream",
     "text": [
      "Enter state codes seperated by a space: ca\n"
     ]
    },
    {
     "name": "stdout",
     "output_type": "stream",
     "text": [
      "\n"
     ]
    },
    {
     "data": {
      "text/plain": [
       "{'california': 'CA'}"
      ]
     },
     "execution_count": 26,
     "metadata": {},
     "output_type": "execute_result"
    }
   ],
   "source": [
    "# creates a custom state dict\n",
    "s_string = input('Enter state codes seperated by a space:') or 'ca tx fl az co ny il'\n",
    "print()\n",
    "\n",
    "slist = scd.custom_list (s_string)\n",
    "state_dict = {key: value for key, value in scd.all_states.items() if value in slist}\n",
    "state_dict"
   ]
  },
  {
   "cell_type": "markdown",
   "metadata": {},
   "source": [
    "### State Scraping section"
   ]
  },
  {
   "cell_type": "code",
   "execution_count": 29,
   "metadata": {},
   "outputs": [
    {
     "data": {
      "text/plain": [
       "396"
      ]
     },
     "execution_count": 29,
     "metadata": {},
     "output_type": "execute_result"
    },
    {
     "data": {
      "text/plain": [
       "422"
      ]
     },
     "execution_count": 29,
     "metadata": {},
     "output_type": "execute_result"
    },
    {
     "data": {
      "text/html": [
       "<div>\n",
       "<style scoped>\n",
       "    .dataframe tbody tr th:only-of-type {\n",
       "        vertical-align: middle;\n",
       "    }\n",
       "\n",
       "    .dataframe tbody tr th {\n",
       "        vertical-align: top;\n",
       "    }\n",
       "\n",
       "    .dataframe thead th {\n",
       "        text-align: right;\n",
       "    }\n",
       "</style>\n",
       "<table border=\"1\" class=\"dataframe\">\n",
       "  <thead>\n",
       "    <tr style=\"text-align: right;\">\n",
       "      <th></th>\n",
       "      <th>CA</th>\n",
       "    </tr>\n",
       "  </thead>\n",
       "  <tbody>\n",
       "    <tr>\n",
       "      <th>2021-04-12</th>\n",
       "      <td>NaN</td>\n",
       "    </tr>\n",
       "    <tr>\n",
       "      <th>2021-04-11</th>\n",
       "      <td>NaN</td>\n",
       "    </tr>\n",
       "    <tr>\n",
       "      <th>2021-04-10</th>\n",
       "      <td>NaN</td>\n",
       "    </tr>\n",
       "    <tr>\n",
       "      <th>2021-04-09</th>\n",
       "      <td>NaN</td>\n",
       "    </tr>\n",
       "    <tr>\n",
       "      <th>2021-04-08</th>\n",
       "      <td>NaN</td>\n",
       "    </tr>\n",
       "  </tbody>\n",
       "</table>\n",
       "</div>"
      ],
      "text/plain": [
       "             CA\n",
       "2021-04-12  NaN\n",
       "2021-04-11  NaN\n",
       "2021-04-10  NaN\n",
       "2021-04-09  NaN\n",
       "2021-04-08  NaN"
      ]
     },
     "execution_count": 29,
     "metadata": {},
     "output_type": "execute_result"
    },
    {
     "data": {
      "text/plain": [
       "(396, 1)"
      ]
     },
     "execution_count": 29,
     "metadata": {},
     "output_type": "execute_result"
    }
   ],
   "source": [
    "# The start dates for U.S.states and for countries are different so must be accounted for\n",
    "st_start = pd.Timestamp('2020/3/13')\n",
    "c_start = pd.Timestamp('2020/2/16')\n",
    "\n",
    "# set end time to yesterday\n",
    "# if using Binder and GMT is passed midnight do not subtract\n",
    "if day == pd.Timestamp.today().strftime('%Y-%m-%d'):\n",
    "    end = pd.Timestamp.today() - pd.Timedelta(days=1)\n",
    "else:\n",
    "    end = pd.Timestamp.today()\n",
    "    \n",
    "# set the index to the appropriate date range for states and countries\n",
    "st_index = pd.date_range(st_start, end)\n",
    "c_index = pd.date_range(c_start, end)\n",
    "len(st_index)\n",
    "len(c_index)\n",
    "\n",
    "# list comprehension to extract just the state initials from the dict\n",
    "st_list = list(state_dict.values())\n",
    "\n",
    "# create an empty pandas df with column headers from state_dict\n",
    "state = pd.DataFrame(columns = st_list,index=st_index)\n",
    "state.sort_index(ascending = False).head()\n",
    "state.shape"
   ]
  },
  {
   "cell_type": "code",
   "execution_count": 28,
   "metadata": {},
   "outputs": [
    {
     "data": {
      "text/plain": [
       "397"
      ]
     },
     "execution_count": 28,
     "metadata": {},
     "output_type": "execute_result"
    },
    {
     "data": {
      "text/html": [
       "<div>\n",
       "<style scoped>\n",
       "    .dataframe tbody tr th:only-of-type {\n",
       "        vertical-align: middle;\n",
       "    }\n",
       "\n",
       "    .dataframe tbody tr th {\n",
       "        vertical-align: top;\n",
       "    }\n",
       "\n",
       "    .dataframe thead th {\n",
       "        text-align: right;\n",
       "    }\n",
       "</style>\n",
       "<table border=\"1\" class=\"dataframe\">\n",
       "  <thead>\n",
       "    <tr style=\"text-align: right;\">\n",
       "      <th></th>\n",
       "      <th>CA</th>\n",
       "    </tr>\n",
       "  </thead>\n",
       "  <tbody>\n",
       "    <tr>\n",
       "      <th>2021-04-13</th>\n",
       "      <td>2558</td>\n",
       "    </tr>\n",
       "    <tr>\n",
       "      <th>2021-04-12</th>\n",
       "      <td>3757</td>\n",
       "    </tr>\n",
       "    <tr>\n",
       "      <th>2021-04-11</th>\n",
       "      <td>3512</td>\n",
       "    </tr>\n",
       "    <tr>\n",
       "      <th>2021-04-10</th>\n",
       "      <td>3115</td>\n",
       "    </tr>\n",
       "    <tr>\n",
       "      <th>2021-04-09</th>\n",
       "      <td>3609</td>\n",
       "    </tr>\n",
       "  </tbody>\n",
       "</table>\n",
       "</div>"
      ],
      "text/plain": [
       "              CA\n",
       "2021-04-13  2558\n",
       "2021-04-12  3757\n",
       "2021-04-11  3512\n",
       "2021-04-10  3115\n",
       "2021-04-09  3609"
      ]
     },
     "execution_count": 28,
     "metadata": {},
     "output_type": "execute_result"
    }
   ],
   "source": [
    "state_url='https://www.worldometers.info/coronavirus/usa/'\n",
    "# Here the keys are the state names and the values are the 2-letter abbreviation\n",
    "for key, value in state_dict.items():\n",
    "    url = state_url+key\n",
    "\n",
    "    # scrape web page for state info and assign to soup\n",
    "    response = requests.get(url)\n",
    "    #response.status_code\n",
    "    page = response.text\n",
    "    soup = bs(page)\n",
    "    \n",
    "    # Find block of text/data near 'graph-cases-daily' \n",
    "    re_graph = re.compile('graph-cases')\n",
    "    try:\n",
    "        data = soup.find(text=re_graph).parent\n",
    "    except:\n",
    "        print(f'Unable to find {url}')\n",
    "        print()\n",
    "        break\n",
    "    \n",
    "\n",
    "    # Regex to pull out data chunk out of the larger soup like data\n",
    "    myregex = re.compile (r'data:.*\\]')\n",
    "    mo = myregex.search(str(data))\n",
    "\n",
    "    #mo.group() is a string so easy to get rid of the first entry\n",
    "    #state_previous_cases is a list of daily new coronavirus cases\n",
    "    state_previous_cases = mo.group().split(',')[1:]\n",
    "    \n",
    "    len(state_previous_cases)\n",
    "\n",
    "    # merge states into the existing df and apply the function clean_up to convert strings to ints\n",
    "    # state[value] where value is the 2-letter abreviation\n",
    "    state[value] = state_previous_cases\n",
    "    state[value] = state[value].apply(clean_up)\n",
    "    \n",
    "    time.sleep(2)\n",
    "state.sort_index(ascending = False).head()   "
   ]
  },
  {
   "cell_type": "code",
   "execution_count": null,
   "metadata": {},
   "outputs": [],
   "source": [
    "def list2string(l): \n",
    "    ''' This creates a a short string of state/country names \n",
    "    used during file save\n",
    "    '''\n",
    "    str1 = \"_\" \n",
    "    # return string  \n",
    "    return (str1.join(l))"
   ]
  },
  {
   "cell_type": "code",
   "execution_count": null,
   "metadata": {},
   "outputs": [],
   "source": [
    "# Allows user to select state for rolling average \n",
    "s_available = list(state.columns)\n",
    "print(f'States available: {s_available}')\n",
    "print()\n",
    "\n",
    "snames = (list2string(s_available))\n",
    "\n",
    "select_state = input('Choose state for rolling averge:')or s_available[0]\n",
    "select_state = select_state.upper()\n",
    "\n",
    "if select_state not in s_available:\n",
    "    select_state = s_available[0]\n",
    "\n",
    "# Plot Daily New Cases and 7-day moving averge\n",
    "fig,ax = plt.subplots(1,1,figsize=(18,8))\n",
    "roll_data = state.loc[:,[select_state]].rolling(window=7).mean()\n",
    "\n",
    "roll_data.plot(ax=ax, linewidth=3, color='r')\n",
    "state.plot(kind='area',alpha=.4,ax=ax,stacked=False);\n",
    "plt.title('Daily New Cases and 7-day moving average in RED', fontsize=20) \n",
    "\n",
    "#ax.set_title('Daily New Cases and 7-day moving average in RED', fontsize=20) \n",
    "plt.savefig(f'./covid_data_update/us_{day}.png');"
   ]
  },
  {
   "cell_type": "code",
   "execution_count": null,
   "metadata": {},
   "outputs": [],
   "source": [
    "# Plot 7-day moving averge\n",
    "plt.close('all')\n",
    "fig,ax = plt.subplots(1,1,figsize=(18,8))\n",
    "roll_data_all = state.rolling(window=7).mean()\n",
    "roll_data_all.plot(ax=ax, linewidth=3);\n",
    "plt.title('US-Seven-day rolling averges',fontsize=20)\n",
    "plt.savefig(f'./covid_data_update/us_rolling_avg_{day}.png');"
   ]
  },
  {
   "cell_type": "code",
   "execution_count": null,
   "metadata": {},
   "outputs": [],
   "source": [
    "# Plot Last 60 Days\n",
    "plt.close('all')\n",
    "# Select last 60 days only\n",
    "state_last60 = state.tail(60)\n",
    "\n",
    "roll_data = state_last60.loc[:,[select_state]].rolling(window=7).mean()\n",
    "fig,ax = plt.subplots(1,1,figsize=(16,8))\n",
    "roll_data.plot(ax=ax, linewidth=3, color='r')\n",
    "state_last60.plot(kind='area',alpha=.4,ax=ax,stacked=False);\n",
    "\n",
    "plt.title('Daily New Cases in US - Last 60 Days',fontsize=20)\n",
    "plt.savefig(f'./covid_data_update/us_{snames}_last_60_days_{day}.png');"
   ]
  },
  {
   "cell_type": "code",
   "execution_count": null,
   "metadata": {},
   "outputs": [],
   "source": [
    "# Plot last 90 days\n",
    "plt.close('all')\n",
    "# Select last 90 days only\n",
    "state_last90 = state.tail(90)\n",
    "\n",
    "roll_data = state_last90.loc[:,[select_state]].rolling(window=7).mean()\n",
    "fig,ax = plt.subplots(1,1,figsize=(16,8))\n",
    "roll_data.plot(ax=ax, linewidth=3, color='r')\n",
    "state_last90.plot(kind='area',alpha=.2,ax=ax,stacked=False);\n",
    "\n",
    "plt.title('US Daily New Cases Last 90 Days',fontsize=20)\n",
    "plt.savefig(f'./covid_data_update/us_{snames}_last_90_days_{day}.png');"
   ]
  },
  {
   "cell_type": "code",
   "execution_count": null,
   "metadata": {
    "scrolled": true
   },
   "outputs": [],
   "source": [
    "# Daily New Cases in tabular format\n",
    "pd.set_option('display.max_rows', 300)\n",
    "pd.set_option('display.min_rows', 300)\n",
    "state.sort_index(ascending = False)"
   ]
  },
  {
   "cell_type": "markdown",
   "metadata": {},
   "source": [
    "### Custom country dictionaries"
   ]
  },
  {
   "cell_type": "code",
   "execution_count": null,
   "metadata": {},
   "outputs": [],
   "source": [
    "# creates a custom country dict\n",
    "c_string = input('Enter country codes seperated by a space:') or 'fr it es uk de'\n",
    "clist = scd.custom_list (c_string)\n",
    "\n",
    "country_dict = {key: value for key, value in scd.all_countries.items() if value in clist}\n",
    "print(country_dict)\n",
    "\n",
    "print()"
   ]
  },
  {
   "cell_type": "markdown",
   "metadata": {},
   "source": [
    "### Scraping section"
   ]
  },
  {
   "cell_type": "code",
   "execution_count": null,
   "metadata": {},
   "outputs": [],
   "source": [
    "c_list = list(country_dict.values())\n",
    "c_list\n",
    "\n",
    "# create an empty pandas df with column headers from country_dict, using the starting dates for the country as index\n",
    "country = pd.DataFrame(columns = c_list,index=c_index)\n",
    "country.sort_index(ascending = False).head()\n",
    "\n",
    "base_url='https://www.worldometers.info/coronavirus/country/'\n",
    "# Here the keys are the country names and the values are the 2-letter abbreviation\n",
    "for key, value in country_dict.items():\n",
    "    url = base_url+key\n",
    "    print(url)\n",
    "\n",
    "    # scrape web page for country info and assign to soup\n",
    "    response = requests.get(url)\n",
    "    #response.status_code\n",
    "    page = response.text\n",
    "    #print(response.text[:400])\n",
    "    soup = bs(page)\n",
    "    \n",
    "    # Find block of text/data near 'graph-cases-daily' \n",
    "    re_graph = re.compile('graph-cases')\n",
    "    dat = soup.find(text=re_graph)\n",
    "   \n",
    "    try:\n",
    "        data = soup.find(text=re_graph).parent\n",
    "    except:\n",
    "        print(f'Unable to find {url}')\n",
    "        print()\n",
    "        break\n",
    "\n",
    "    # Regex to pull out data chunk out of the larger soup like data\n",
    "    myregex = re.compile (r'data:.*\\]')\n",
    "    mo = myregex.search(str(data))\n",
    "\n",
    "    #mo.group() is a string so easy to get rid of the first entry\n",
    "    country_previous_cases = mo.group().split(',')[1:]\n",
    "    #print(country_previous_cases)\n",
    "    previous_cases = [\"0\" if i == 'null' else i for i in country_previous_cases]\n",
    "    \n",
    "    len(previous_cases)\n",
    "\n",
    "    # merge countries into the existing df and apply the function clean_up to convert strings to ints\n",
    "    country[value] = previous_cases\n",
    "    country[value] = country[value].apply(clean_up)\n",
    "    \n",
    "    time.sleep(2)\n",
    "country.clip(lower=0,inplace=True) #large negative number removed for better graphic clarity\n",
    "country.sort_index(ascending = False).head()"
   ]
  },
  {
   "cell_type": "code",
   "execution_count": null,
   "metadata": {},
   "outputs": [],
   "source": [
    "# Allows user to select the country for the rolling average\n",
    "c_available = list(country.columns)\n",
    "print(f'Countries available: {c_available}')\n",
    "print()\n",
    "\n",
    "snames = (list2string(c_available))\n",
    "\n",
    "select_country = input('Choose country for rolling averge:') or c_available[0]\n",
    "select_country = select_country.upper()\n",
    "\n",
    "if select_country not in c_available:\n",
    "    select_country = c_available[0]\n",
    "\n",
    "# Plot Daily New Cases and 7-day moving averge\n",
    "fig,ax = plt.subplots(1,1,figsize=(18,8))\n",
    "roll_data = country.loc[:,[select_country]].rolling(window=7).mean()\n",
    "\n",
    "\n",
    "roll_data.plot(ax=ax, linewidth=3, color='r')\n",
    "country.plot(kind='area',alpha=.4,ax=ax,stacked=False)\n",
    "plt.title('World Daily New Cases and 7-day moving average in RED',fontsize=20);\n",
    "# insert {snames} if desired \n",
    "plt.savefig(f'./covid_data_update/world_{day}.png');"
   ]
  },
  {
   "cell_type": "code",
   "execution_count": null,
   "metadata": {},
   "outputs": [],
   "source": [
    "# Plot 7-day moving averge\n",
    "plt.close('all')\n",
    "fig,ax = plt.subplots(1,1,figsize=(18,8))\n",
    "roll_data_all = country.rolling(window=7).mean()\n",
    "roll_data_all.plot(ax=ax, linewidth=3);\n",
    "plt.title('World-Seven-day rolling averges',fontsize=20)\n",
    "# insert {snames} if desired \n",
    "plt.savefig(f'./covid_data_update/world_rolling_avg_{day}.png');"
   ]
  },
  {
   "cell_type": "code",
   "execution_count": null,
   "metadata": {},
   "outputs": [],
   "source": [
    "# Plot last 60 days\n",
    "plt.close('all')\n",
    "# Select last 60 days only\n",
    "country_last60 = country.tail(60)\n",
    "\n",
    "roll_data = country_last60.loc[:,[select_country]].rolling(window=7).mean()\n",
    "fig,ax = plt.subplots(1,1,figsize=(16,8))\n",
    "roll_data.plot(ax=ax, linewidth=3, color='r')\n",
    "country_last60.plot(kind='area',alpha=.2,ax=ax,stacked=False);\n",
    "\n",
    "plt.title('World Daily New Cases Last 60 Days',fontsize=20)\n",
    "plt.savefig(f'./covid_data_update/world_{snames}_last_60_days_{day}.png');\n"
   ]
  },
  {
   "cell_type": "code",
   "execution_count": null,
   "metadata": {},
   "outputs": [],
   "source": [
    "# Plot last 90 days\n",
    "plt.close('all')\n",
    "# Select last 90 days only\n",
    "country_last90 = country.tail(90)\n",
    "\n",
    "roll_data = country_last90.loc[:,[select_country]].rolling(window=7).mean()\n",
    "fig,ax = plt.subplots(1,1,figsize=(16,8))\n",
    "roll_data.plot(ax=ax, linewidth=3, color='r')\n",
    "country_last90.plot(kind='area',alpha=.2,ax=ax,stacked=False);\n",
    "\n",
    "plt.title('World Daily New Cases Last 90 Days',fontsize=20)\n",
    "plt.savefig(f'./covid_data_update/world_{snames}_last_90_days_{day}.png');\n"
   ]
  },
  {
   "cell_type": "code",
   "execution_count": null,
   "metadata": {
    "scrolled": true
   },
   "outputs": [],
   "source": [
    "# Daily New Cases in tabular format\n",
    "pd.set_option('display.max_rows', 300)\n",
    "pd.set_option('display.min_rows', 300)\n",
    "country.sort_index(ascending = False)"
   ]
  },
  {
   "cell_type": "markdown",
   "metadata": {},
   "source": [
    "### Save merged dataframes to csv"
   ]
  },
  {
   "cell_type": "code",
   "execution_count": null,
   "metadata": {},
   "outputs": [],
   "source": [
    "# Merge state and country dfs into one\n",
    "world = state.merge(country,left_index=True,right_index=True,how='outer')\n",
    "world = world.fillna(0).astype(int)"
   ]
  },
  {
   "cell_type": "code",
   "execution_count": null,
   "metadata": {},
   "outputs": [],
   "source": [
    "# Sorting the table with recent dates on the top\n",
    "world_table = world.sort_index(ascending = False)\n",
    "\n",
    "# Save to csv by uncommenting out the next line\n",
    "# world_table.to_csv(f'./covid_data/world_table{day}.csv')\n",
    "world_table.head(5)"
   ]
  },
  {
   "cell_type": "code",
   "execution_count": null,
   "metadata": {},
   "outputs": [],
   "source": [
    "# Note that the last week may be only a partial unless this is executed at end of week\n",
    "df = world.resample('w').sum()\n",
    "df.sort_index(ascending = False).head(10)"
   ]
  },
  {
   "cell_type": "code",
   "execution_count": null,
   "metadata": {},
   "outputs": [],
   "source": []
  },
  {
   "cell_type": "code",
   "execution_count": null,
   "metadata": {},
   "outputs": [],
   "source": []
  }
 ],
 "metadata": {
  "colab": {
   "collapsed_sections": [],
   "name": "PyCon2020_Scraping_Wikipedia.ipynb",
   "provenance": []
  },
  "kernelspec": {
   "display_name": "Python 3",
   "language": "python",
   "name": "python3"
  },
  "language_info": {
   "codemirror_mode": {
    "name": "ipython",
    "version": 3
   },
   "file_extension": ".py",
   "mimetype": "text/x-python",
   "name": "python",
   "nbconvert_exporter": "python",
   "pygments_lexer": "ipython3",
   "version": "3.8.3"
  }
 },
 "nbformat": 4,
 "nbformat_minor": 4
}
