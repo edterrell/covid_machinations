{
 "cells": [
  {
   "cell_type": "markdown",
   "metadata": {},
   "source": [
    "# Data Wrangling with Pandas"
   ]
  },
  {
   "cell_type": "markdown",
   "metadata": {},
   "source": [
    "We've seen how to get data with Python. Now let's do some stuff! From here on, we're going to mostly use the PyData stack rather than Python built-in functionality.\n",
    "\n",
    "Our objective in this section is to learn enough to clean the larger sample of Chicago Health Inspection data and get it ready for modeling."
   ]
  },
  {
   "cell_type": "markdown",
   "metadata": {},
   "source": [
    "## Preliminaries: DataFrames"
   ]
  },
  {
   "cell_type": "markdown",
   "metadata": {},
   "source": [
    "As mentioned, the core data structure in pandas is called a DataFrame. A DataFrame is a tabular data structure, holding many columns, similar to a spreadsheet.\n",
    "\n",
    "The **Key Features** are\n",
    "\n",
    "* Easy handling of **missing data**\n",
    "* **Size mutability**: columns can be inserted and deleted from DataFrames\n",
    "* Automatic and explicit **data alignment**: objects can be explicitly aligned to a set of labels, or the data can be aligned automatically\n",
    "* Powerful, flexible **group by functionality** to perform split-apply-combine operations on data sets\n",
    "* Intelligent label-based **slicing**, **fancy indexing**, and **subsetting** of large data sets\n",
    "* Intuitive **merging and joining** data sets\n",
    "* Flexible **reshaping and pivoting** of data sets\n",
    "* **Hierarchical labeling** of axes\n",
    "* Robust **IO tools** for loading data from flat files, Excel files, databases, and HDF5\n",
    "* **Time series functionality**: \n",
    "  * date range generation and frequency conversion\n",
    "  * moving window statistics\n",
    "  * moving window linear regressions\n",
    "  * date shifting and lagging, etc."
   ]
  },
  {
   "cell_type": "code",
   "execution_count": 2,
   "metadata": {},
   "outputs": [],
   "source": [
    "import pandas as pd\n",
    "dta = pd.read_csv(\"data/health_inspection_chi.csv\")"
   ]
  },
  {
   "cell_type": "code",
   "execution_count": 17,
   "metadata": {},
   "outputs": [],
   "source": [
    "from IPython.core.interactiveshell import InteractiveShell\n",
    "InteractiveShell.ast_node_interactivity = \"all\""
   ]
  },
  {
   "cell_type": "markdown",
   "metadata": {},
   "source": [
    "Pandas provides labelled **indices** to access rows and columns, should they have natural labels."
   ]
  },
  {
   "cell_type": "code",
   "execution_count": 3,
   "metadata": {},
   "outputs": [
    {
     "data": {
      "text/plain": [
       "RangeIndex(start=0, stop=25000, step=1)"
      ]
     },
     "execution_count": 3,
     "metadata": {},
     "output_type": "execute_result"
    }
   ],
   "source": [
    "dta.index"
   ]
  },
  {
   "cell_type": "code",
   "execution_count": 4,
   "metadata": {},
   "outputs": [
    {
     "data": {
      "text/plain": [
       "Index(['address', 'aka_name', 'city', 'dba_name', 'facility_type',\n",
       "       'inspection_date', 'inspection_id', 'inspection_type', 'latitude',\n",
       "       'license_', 'location', 'longitude', 'results', 'risk', 'state',\n",
       "       'violations', 'zip'],\n",
       "      dtype='object')"
      ]
     },
     "execution_count": 4,
     "metadata": {},
     "output_type": "execute_result"
    }
   ],
   "source": [
    "dta.columns"
   ]
  },
  {
   "cell_type": "markdown",
   "metadata": {},
   "source": [
    "For example, with this data set we have a natural unique identifier in the `inspection_id` column. We might wish to make this our index."
   ]
  },
  {
   "cell_type": "code",
   "execution_count": 5,
   "metadata": {},
   "outputs": [
    {
     "data": {
      "text/html": [
       "<div>\n",
       "<style scoped>\n",
       "    .dataframe tbody tr th:only-of-type {\n",
       "        vertical-align: middle;\n",
       "    }\n",
       "\n",
       "    .dataframe tbody tr th {\n",
       "        vertical-align: top;\n",
       "    }\n",
       "\n",
       "    .dataframe thead th {\n",
       "        text-align: right;\n",
       "    }\n",
       "</style>\n",
       "<table border=\"1\" class=\"dataframe\">\n",
       "  <thead>\n",
       "    <tr style=\"text-align: right;\">\n",
       "      <th></th>\n",
       "      <th>address</th>\n",
       "      <th>aka_name</th>\n",
       "      <th>city</th>\n",
       "      <th>dba_name</th>\n",
       "      <th>facility_type</th>\n",
       "      <th>inspection_date</th>\n",
       "      <th>inspection_id</th>\n",
       "      <th>inspection_type</th>\n",
       "      <th>latitude</th>\n",
       "      <th>license_</th>\n",
       "      <th>location</th>\n",
       "      <th>longitude</th>\n",
       "      <th>results</th>\n",
       "      <th>risk</th>\n",
       "      <th>state</th>\n",
       "      <th>violations</th>\n",
       "      <th>zip</th>\n",
       "    </tr>\n",
       "  </thead>\n",
       "  <tbody>\n",
       "    <tr>\n",
       "      <th>0</th>\n",
       "      <td>5255 W MADISON ST</td>\n",
       "      <td>RED SNAPPER FISH CHICKEN &amp; PIZZA</td>\n",
       "      <td>CHICAGO</td>\n",
       "      <td>RED SNAPPER FISH CHICKEN &amp; PIZZA</td>\n",
       "      <td>Restaurant</td>\n",
       "      <td>2016-09-26T00:00:00.000</td>\n",
       "      <td>1965287</td>\n",
       "      <td>Canvass</td>\n",
       "      <td>41.880237</td>\n",
       "      <td>1991820.0</td>\n",
       "      <td>{'type': 'Point', 'coordinates': [-87.75722039...</td>\n",
       "      <td>-87.757220</td>\n",
       "      <td>Pass w/ Conditions</td>\n",
       "      <td>Risk 1 (High)</td>\n",
       "      <td>IL</td>\n",
       "      <td>35. WALLS, CEILINGS, ATTACHED EQUIPMENT CONSTR...</td>\n",
       "      <td>60644.0</td>\n",
       "    </tr>\n",
       "    <tr>\n",
       "      <th>1</th>\n",
       "      <td>5958 W DIVERSEY AVE</td>\n",
       "      <td>TAQUERIA MORELOS</td>\n",
       "      <td>CHICAGO</td>\n",
       "      <td>TAQUERIA MORELOS</td>\n",
       "      <td>Restaurant</td>\n",
       "      <td>2014-02-06T00:00:00.000</td>\n",
       "      <td>1329698</td>\n",
       "      <td>Canvass</td>\n",
       "      <td>41.931250</td>\n",
       "      <td>2099479.0</td>\n",
       "      <td>{'type': 'Point', 'coordinates': [-87.77590699...</td>\n",
       "      <td>-87.775907</td>\n",
       "      <td>Pass</td>\n",
       "      <td>Risk 1 (High)</td>\n",
       "      <td>IL</td>\n",
       "      <td>33. FOOD AND NON-FOOD CONTACT EQUIPMENT UTENSI...</td>\n",
       "      <td>60639.0</td>\n",
       "    </tr>\n",
       "    <tr>\n",
       "      <th>2</th>\n",
       "      <td>5400-5402 N CLARK ST</td>\n",
       "      <td>HAMBURGER MARY'S/MARY'S REC ROOM</td>\n",
       "      <td>CHICAGO</td>\n",
       "      <td>HAMBURGER MARY'S CHICAGO/MARY'S REC ROOM</td>\n",
       "      <td>Restaurant</td>\n",
       "      <td>2010-12-03T00:00:00.000</td>\n",
       "      <td>470787</td>\n",
       "      <td>SFP</td>\n",
       "      <td>41.979884</td>\n",
       "      <td>1933748.0</td>\n",
       "      <td>{'type': 'Point', 'coordinates': [-87.66842948...</td>\n",
       "      <td>-87.668429</td>\n",
       "      <td>Fail</td>\n",
       "      <td>Risk 1 (High)</td>\n",
       "      <td>IL</td>\n",
       "      <td>6. HANDS WASHED AND CLEANED, GOOD HYGIENIC PRA...</td>\n",
       "      <td>60640.0</td>\n",
       "    </tr>\n",
       "    <tr>\n",
       "      <th>3</th>\n",
       "      <td>2804 N CLARK ST</td>\n",
       "      <td>Wells Street Popcorn</td>\n",
       "      <td>CHICAGO</td>\n",
       "      <td>Wells Street Popcorn</td>\n",
       "      <td>Restaurant</td>\n",
       "      <td>2010-02-01T00:00:00.000</td>\n",
       "      <td>68091</td>\n",
       "      <td>Canvass</td>\n",
       "      <td>41.932921</td>\n",
       "      <td>1954774.0</td>\n",
       "      <td>{'type': 'Point', 'coordinates': [-87.64515454...</td>\n",
       "      <td>-87.645155</td>\n",
       "      <td>Pass</td>\n",
       "      <td>Risk 2 (Medium)</td>\n",
       "      <td>IL</td>\n",
       "      <td>NaN</td>\n",
       "      <td>60657.0</td>\n",
       "    </tr>\n",
       "    <tr>\n",
       "      <th>4</th>\n",
       "      <td>2409 N WESTERN AVE</td>\n",
       "      <td>CHICAGO CUPCAKE</td>\n",
       "      <td>CHICAGO</td>\n",
       "      <td>CHICAGO CUPCAKE LLC.</td>\n",
       "      <td>Mobile Food Dispenser</td>\n",
       "      <td>2013-05-03T00:00:00.000</td>\n",
       "      <td>1335320</td>\n",
       "      <td>License Re-Inspection</td>\n",
       "      <td>41.925218</td>\n",
       "      <td>2232391.0</td>\n",
       "      <td>{'type': 'Point', 'coordinates': [-87.68750659...</td>\n",
       "      <td>-87.687507</td>\n",
       "      <td>Fail</td>\n",
       "      <td>Risk 3 (Low)</td>\n",
       "      <td>IL</td>\n",
       "      <td>32. FOOD AND NON-FOOD CONTACT SURFACES PROPERL...</td>\n",
       "      <td>60647.0</td>\n",
       "    </tr>\n",
       "  </tbody>\n",
       "</table>\n",
       "</div>"
      ],
      "text/plain": [
       "                 address                          aka_name     city  \\\n",
       "0     5255 W MADISON ST   RED SNAPPER FISH CHICKEN & PIZZA  CHICAGO   \n",
       "1   5958 W DIVERSEY AVE                   TAQUERIA MORELOS  CHICAGO   \n",
       "2  5400-5402 N CLARK ST   HAMBURGER MARY'S/MARY'S REC ROOM  CHICAGO   \n",
       "3       2804 N CLARK ST               Wells Street Popcorn  CHICAGO   \n",
       "4    2409 N WESTERN AVE                    CHICAGO CUPCAKE  CHICAGO   \n",
       "\n",
       "                                   dba_name          facility_type  \\\n",
       "0          RED SNAPPER FISH CHICKEN & PIZZA             Restaurant   \n",
       "1                          TAQUERIA MORELOS             Restaurant   \n",
       "2  HAMBURGER MARY'S CHICAGO/MARY'S REC ROOM             Restaurant   \n",
       "3                      Wells Street Popcorn             Restaurant   \n",
       "4                      CHICAGO CUPCAKE LLC.  Mobile Food Dispenser   \n",
       "\n",
       "           inspection_date  inspection_id        inspection_type   latitude  \\\n",
       "0  2016-09-26T00:00:00.000        1965287                Canvass  41.880237   \n",
       "1  2014-02-06T00:00:00.000        1329698                Canvass  41.931250   \n",
       "2  2010-12-03T00:00:00.000         470787                    SFP  41.979884   \n",
       "3  2010-02-01T00:00:00.000          68091                Canvass  41.932921   \n",
       "4  2013-05-03T00:00:00.000        1335320  License Re-Inspection  41.925218   \n",
       "\n",
       "    license_                                           location  longitude  \\\n",
       "0  1991820.0  {'type': 'Point', 'coordinates': [-87.75722039... -87.757220   \n",
       "1  2099479.0  {'type': 'Point', 'coordinates': [-87.77590699... -87.775907   \n",
       "2  1933748.0  {'type': 'Point', 'coordinates': [-87.66842948... -87.668429   \n",
       "3  1954774.0  {'type': 'Point', 'coordinates': [-87.64515454... -87.645155   \n",
       "4  2232391.0  {'type': 'Point', 'coordinates': [-87.68750659... -87.687507   \n",
       "\n",
       "              results             risk state  \\\n",
       "0  Pass w/ Conditions    Risk 1 (High)    IL   \n",
       "1                Pass    Risk 1 (High)    IL   \n",
       "2                Fail    Risk 1 (High)    IL   \n",
       "3                Pass  Risk 2 (Medium)    IL   \n",
       "4                Fail     Risk 3 (Low)    IL   \n",
       "\n",
       "                                          violations      zip  \n",
       "0  35. WALLS, CEILINGS, ATTACHED EQUIPMENT CONSTR...  60644.0  \n",
       "1  33. FOOD AND NON-FOOD CONTACT EQUIPMENT UTENSI...  60639.0  \n",
       "2  6. HANDS WASHED AND CLEANED, GOOD HYGIENIC PRA...  60640.0  \n",
       "3                                                NaN  60657.0  \n",
       "4  32. FOOD AND NON-FOOD CONTACT SURFACES PROPERL...  60647.0  "
      ]
     },
     "execution_count": 5,
     "metadata": {},
     "output_type": "execute_result"
    }
   ],
   "source": [
    "dta.head()"
   ]
  },
  {
   "cell_type": "code",
   "execution_count": 6,
   "metadata": {},
   "outputs": [],
   "source": [
    "dta = dta.set_index('inspection_id')"
   ]
  },
  {
   "cell_type": "code",
   "execution_count": 7,
   "metadata": {},
   "outputs": [
    {
     "data": {
      "text/plain": [
       "Int64Index([1965287, 1329698,  470787,   68091, 1335320, 1228169, 1285582,\n",
       "             557486,   74468, 1522863,\n",
       "            ...\n",
       "            2059403,  114871,  657253,  531556,  325228, 2059771, 1965378,\n",
       "            1490395, 1326565,  413268],\n",
       "           dtype='int64', name='inspection_id', length=25000)"
      ]
     },
     "execution_count": 7,
     "metadata": {},
     "output_type": "execute_result"
    }
   ],
   "source": [
    "dta.index"
   ]
  },
  {
   "cell_type": "code",
   "execution_count": 8,
   "metadata": {},
   "outputs": [
    {
     "data": {
      "text/html": [
       "<div>\n",
       "<style scoped>\n",
       "    .dataframe tbody tr th:only-of-type {\n",
       "        vertical-align: middle;\n",
       "    }\n",
       "\n",
       "    .dataframe tbody tr th {\n",
       "        vertical-align: top;\n",
       "    }\n",
       "\n",
       "    .dataframe thead th {\n",
       "        text-align: right;\n",
       "    }\n",
       "</style>\n",
       "<table border=\"1\" class=\"dataframe\">\n",
       "  <thead>\n",
       "    <tr style=\"text-align: right;\">\n",
       "      <th></th>\n",
       "      <th>address</th>\n",
       "      <th>aka_name</th>\n",
       "      <th>city</th>\n",
       "      <th>dba_name</th>\n",
       "      <th>facility_type</th>\n",
       "      <th>inspection_date</th>\n",
       "      <th>inspection_type</th>\n",
       "      <th>latitude</th>\n",
       "      <th>license_</th>\n",
       "      <th>location</th>\n",
       "      <th>longitude</th>\n",
       "      <th>results</th>\n",
       "      <th>risk</th>\n",
       "      <th>state</th>\n",
       "      <th>violations</th>\n",
       "      <th>zip</th>\n",
       "    </tr>\n",
       "    <tr>\n",
       "      <th>inspection_id</th>\n",
       "      <th></th>\n",
       "      <th></th>\n",
       "      <th></th>\n",
       "      <th></th>\n",
       "      <th></th>\n",
       "      <th></th>\n",
       "      <th></th>\n",
       "      <th></th>\n",
       "      <th></th>\n",
       "      <th></th>\n",
       "      <th></th>\n",
       "      <th></th>\n",
       "      <th></th>\n",
       "      <th></th>\n",
       "      <th></th>\n",
       "      <th></th>\n",
       "    </tr>\n",
       "  </thead>\n",
       "  <tbody>\n",
       "    <tr>\n",
       "      <th>1965287</th>\n",
       "      <td>5255 W MADISON ST</td>\n",
       "      <td>RED SNAPPER FISH CHICKEN &amp; PIZZA</td>\n",
       "      <td>CHICAGO</td>\n",
       "      <td>RED SNAPPER FISH CHICKEN &amp; PIZZA</td>\n",
       "      <td>Restaurant</td>\n",
       "      <td>2016-09-26T00:00:00.000</td>\n",
       "      <td>Canvass</td>\n",
       "      <td>41.880237</td>\n",
       "      <td>1991820.0</td>\n",
       "      <td>{'type': 'Point', 'coordinates': [-87.75722039...</td>\n",
       "      <td>-87.757220</td>\n",
       "      <td>Pass w/ Conditions</td>\n",
       "      <td>Risk 1 (High)</td>\n",
       "      <td>IL</td>\n",
       "      <td>35. WALLS, CEILINGS, ATTACHED EQUIPMENT CONSTR...</td>\n",
       "      <td>60644.0</td>\n",
       "    </tr>\n",
       "    <tr>\n",
       "      <th>1329698</th>\n",
       "      <td>5958 W DIVERSEY AVE</td>\n",
       "      <td>TAQUERIA MORELOS</td>\n",
       "      <td>CHICAGO</td>\n",
       "      <td>TAQUERIA MORELOS</td>\n",
       "      <td>Restaurant</td>\n",
       "      <td>2014-02-06T00:00:00.000</td>\n",
       "      <td>Canvass</td>\n",
       "      <td>41.931250</td>\n",
       "      <td>2099479.0</td>\n",
       "      <td>{'type': 'Point', 'coordinates': [-87.77590699...</td>\n",
       "      <td>-87.775907</td>\n",
       "      <td>Pass</td>\n",
       "      <td>Risk 1 (High)</td>\n",
       "      <td>IL</td>\n",
       "      <td>33. FOOD AND NON-FOOD CONTACT EQUIPMENT UTENSI...</td>\n",
       "      <td>60639.0</td>\n",
       "    </tr>\n",
       "    <tr>\n",
       "      <th>470787</th>\n",
       "      <td>5400-5402 N CLARK ST</td>\n",
       "      <td>HAMBURGER MARY'S/MARY'S REC ROOM</td>\n",
       "      <td>CHICAGO</td>\n",
       "      <td>HAMBURGER MARY'S CHICAGO/MARY'S REC ROOM</td>\n",
       "      <td>Restaurant</td>\n",
       "      <td>2010-12-03T00:00:00.000</td>\n",
       "      <td>SFP</td>\n",
       "      <td>41.979884</td>\n",
       "      <td>1933748.0</td>\n",
       "      <td>{'type': 'Point', 'coordinates': [-87.66842948...</td>\n",
       "      <td>-87.668429</td>\n",
       "      <td>Fail</td>\n",
       "      <td>Risk 1 (High)</td>\n",
       "      <td>IL</td>\n",
       "      <td>6. HANDS WASHED AND CLEANED, GOOD HYGIENIC PRA...</td>\n",
       "      <td>60640.0</td>\n",
       "    </tr>\n",
       "    <tr>\n",
       "      <th>68091</th>\n",
       "      <td>2804 N CLARK ST</td>\n",
       "      <td>Wells Street Popcorn</td>\n",
       "      <td>CHICAGO</td>\n",
       "      <td>Wells Street Popcorn</td>\n",
       "      <td>Restaurant</td>\n",
       "      <td>2010-02-01T00:00:00.000</td>\n",
       "      <td>Canvass</td>\n",
       "      <td>41.932921</td>\n",
       "      <td>1954774.0</td>\n",
       "      <td>{'type': 'Point', 'coordinates': [-87.64515454...</td>\n",
       "      <td>-87.645155</td>\n",
       "      <td>Pass</td>\n",
       "      <td>Risk 2 (Medium)</td>\n",
       "      <td>IL</td>\n",
       "      <td>NaN</td>\n",
       "      <td>60657.0</td>\n",
       "    </tr>\n",
       "    <tr>\n",
       "      <th>1335320</th>\n",
       "      <td>2409 N WESTERN AVE</td>\n",
       "      <td>CHICAGO CUPCAKE</td>\n",
       "      <td>CHICAGO</td>\n",
       "      <td>CHICAGO CUPCAKE LLC.</td>\n",
       "      <td>Mobile Food Dispenser</td>\n",
       "      <td>2013-05-03T00:00:00.000</td>\n",
       "      <td>License Re-Inspection</td>\n",
       "      <td>41.925218</td>\n",
       "      <td>2232391.0</td>\n",
       "      <td>{'type': 'Point', 'coordinates': [-87.68750659...</td>\n",
       "      <td>-87.687507</td>\n",
       "      <td>Fail</td>\n",
       "      <td>Risk 3 (Low)</td>\n",
       "      <td>IL</td>\n",
       "      <td>32. FOOD AND NON-FOOD CONTACT SURFACES PROPERL...</td>\n",
       "      <td>60647.0</td>\n",
       "    </tr>\n",
       "  </tbody>\n",
       "</table>\n",
       "</div>"
      ],
      "text/plain": [
       "                             address                          aka_name  \\\n",
       "inspection_id                                                            \n",
       "1965287           5255 W MADISON ST   RED SNAPPER FISH CHICKEN & PIZZA   \n",
       "1329698         5958 W DIVERSEY AVE                   TAQUERIA MORELOS   \n",
       "470787         5400-5402 N CLARK ST   HAMBURGER MARY'S/MARY'S REC ROOM   \n",
       "68091               2804 N CLARK ST               Wells Street Popcorn   \n",
       "1335320          2409 N WESTERN AVE                    CHICAGO CUPCAKE   \n",
       "\n",
       "                  city                                  dba_name  \\\n",
       "inspection_id                                                      \n",
       "1965287        CHICAGO          RED SNAPPER FISH CHICKEN & PIZZA   \n",
       "1329698        CHICAGO                          TAQUERIA MORELOS   \n",
       "470787         CHICAGO  HAMBURGER MARY'S CHICAGO/MARY'S REC ROOM   \n",
       "68091          CHICAGO                      Wells Street Popcorn   \n",
       "1335320        CHICAGO                      CHICAGO CUPCAKE LLC.   \n",
       "\n",
       "                       facility_type          inspection_date  \\\n",
       "inspection_id                                                   \n",
       "1965287                   Restaurant  2016-09-26T00:00:00.000   \n",
       "1329698                   Restaurant  2014-02-06T00:00:00.000   \n",
       "470787                    Restaurant  2010-12-03T00:00:00.000   \n",
       "68091                     Restaurant  2010-02-01T00:00:00.000   \n",
       "1335320        Mobile Food Dispenser  2013-05-03T00:00:00.000   \n",
       "\n",
       "                     inspection_type   latitude   license_  \\\n",
       "inspection_id                                                \n",
       "1965287                      Canvass  41.880237  1991820.0   \n",
       "1329698                      Canvass  41.931250  2099479.0   \n",
       "470787                           SFP  41.979884  1933748.0   \n",
       "68091                        Canvass  41.932921  1954774.0   \n",
       "1335320        License Re-Inspection  41.925218  2232391.0   \n",
       "\n",
       "                                                        location  longitude  \\\n",
       "inspection_id                                                                 \n",
       "1965287        {'type': 'Point', 'coordinates': [-87.75722039... -87.757220   \n",
       "1329698        {'type': 'Point', 'coordinates': [-87.77590699... -87.775907   \n",
       "470787         {'type': 'Point', 'coordinates': [-87.66842948... -87.668429   \n",
       "68091          {'type': 'Point', 'coordinates': [-87.64515454... -87.645155   \n",
       "1335320        {'type': 'Point', 'coordinates': [-87.68750659... -87.687507   \n",
       "\n",
       "                          results             risk state  \\\n",
       "inspection_id                                              \n",
       "1965287        Pass w/ Conditions    Risk 1 (High)    IL   \n",
       "1329698                      Pass    Risk 1 (High)    IL   \n",
       "470787                       Fail    Risk 1 (High)    IL   \n",
       "68091                        Pass  Risk 2 (Medium)    IL   \n",
       "1335320                      Fail     Risk 3 (Low)    IL   \n",
       "\n",
       "                                                      violations      zip  \n",
       "inspection_id                                                              \n",
       "1965287        35. WALLS, CEILINGS, ATTACHED EQUIPMENT CONSTR...  60644.0  \n",
       "1329698        33. FOOD AND NON-FOOD CONTACT EQUIPMENT UTENSI...  60639.0  \n",
       "470787         6. HANDS WASHED AND CLEANED, GOOD HYGIENIC PRA...  60640.0  \n",
       "68091                                                        NaN  60657.0  \n",
       "1335320        32. FOOD AND NON-FOOD CONTACT SURFACES PROPERL...  60647.0  "
      ]
     },
     "execution_count": 8,
     "metadata": {},
     "output_type": "execute_result"
    }
   ],
   "source": [
    "dta.head()"
   ]
  },
  {
   "cell_type": "markdown",
   "metadata": {},
   "source": [
    "## Indexing"
   ]
  },
  {
   "cell_type": "markdown",
   "metadata": {},
   "source": [
    "To look at a column from a DataFrame, you can either use attribute lookup."
   ]
  },
  {
   "cell_type": "code",
   "execution_count": 10,
   "metadata": {},
   "outputs": [
    {
     "data": {
      "text/plain": [
       "inspection_id\n",
       "1965287       5255 W MADISON ST \n",
       "1329698     5958 W DIVERSEY AVE \n",
       "470787     5400-5402 N CLARK ST \n",
       "68091           2804 N CLARK ST \n",
       "1335320      2409 N WESTERN AVE \n",
       "Name: address, dtype: object"
      ]
     },
     "execution_count": 10,
     "metadata": {},
     "output_type": "execute_result"
    }
   ],
   "source": [
    "dta.address.head()"
   ]
  },
  {
   "cell_type": "markdown",
   "metadata": {},
   "source": [
    "Or you can use the **getitem** syntax that relies on square brackets `[]`, which is familiar from dealing with dictionaries (uses `__getitem__`)."
   ]
  },
  {
   "cell_type": "code",
   "execution_count": 12,
   "metadata": {},
   "outputs": [
    {
     "data": {
      "text/plain": [
       "inspection_id\n",
       "1965287       5255 W MADISON ST \n",
       "1329698     5958 W DIVERSEY AVE \n",
       "470787     5400-5402 N CLARK ST \n",
       "68091           2804 N CLARK ST \n",
       "1335320      2409 N WESTERN AVE \n",
       "Name: address, dtype: object"
      ]
     },
     "execution_count": 12,
     "metadata": {},
     "output_type": "execute_result"
    }
   ],
   "source": [
    "dta['address'].head()"
   ]
  },
  {
   "cell_type": "markdown",
   "metadata": {},
   "source": [
    "These two operations return pandas **Series** objects. **Series** are like single-column DataFrames. If you want to preserve the DataFrame type, index the DataFrame with a list."
   ]
  },
  {
   "cell_type": "markdown",
   "metadata": {},
   "source": [
    "You can use this syntax to pull out multiple columns."
   ]
  },
  {
   "cell_type": "code",
   "execution_count": 14,
   "metadata": {},
   "outputs": [
    {
     "data": {
      "text/html": [
       "<div>\n",
       "<style scoped>\n",
       "    .dataframe tbody tr th:only-of-type {\n",
       "        vertical-align: middle;\n",
       "    }\n",
       "\n",
       "    .dataframe tbody tr th {\n",
       "        vertical-align: top;\n",
       "    }\n",
       "\n",
       "    .dataframe thead th {\n",
       "        text-align: right;\n",
       "    }\n",
       "</style>\n",
       "<table border=\"1\" class=\"dataframe\">\n",
       "  <thead>\n",
       "    <tr style=\"text-align: right;\">\n",
       "      <th></th>\n",
       "      <th>address</th>\n",
       "      <th>inspection_date</th>\n",
       "    </tr>\n",
       "    <tr>\n",
       "      <th>inspection_id</th>\n",
       "      <th></th>\n",
       "      <th></th>\n",
       "    </tr>\n",
       "  </thead>\n",
       "  <tbody>\n",
       "    <tr>\n",
       "      <th>1965287</th>\n",
       "      <td>5255 W MADISON ST</td>\n",
       "      <td>2016-09-26T00:00:00.000</td>\n",
       "    </tr>\n",
       "    <tr>\n",
       "      <th>1329698</th>\n",
       "      <td>5958 W DIVERSEY AVE</td>\n",
       "      <td>2014-02-06T00:00:00.000</td>\n",
       "    </tr>\n",
       "    <tr>\n",
       "      <th>470787</th>\n",
       "      <td>5400-5402 N CLARK ST</td>\n",
       "      <td>2010-12-03T00:00:00.000</td>\n",
       "    </tr>\n",
       "    <tr>\n",
       "      <th>68091</th>\n",
       "      <td>2804 N CLARK ST</td>\n",
       "      <td>2010-02-01T00:00:00.000</td>\n",
       "    </tr>\n",
       "    <tr>\n",
       "      <th>1335320</th>\n",
       "      <td>2409 N WESTERN AVE</td>\n",
       "      <td>2013-05-03T00:00:00.000</td>\n",
       "    </tr>\n",
       "  </tbody>\n",
       "</table>\n",
       "</div>"
      ],
      "text/plain": [
       "                             address          inspection_date\n",
       "inspection_id                                                \n",
       "1965287           5255 W MADISON ST   2016-09-26T00:00:00.000\n",
       "1329698         5958 W DIVERSEY AVE   2014-02-06T00:00:00.000\n",
       "470787         5400-5402 N CLARK ST   2010-12-03T00:00:00.000\n",
       "68091               2804 N CLARK ST   2010-02-01T00:00:00.000\n",
       "1335320          2409 N WESTERN AVE   2013-05-03T00:00:00.000"
      ]
     },
     "execution_count": 14,
     "metadata": {},
     "output_type": "execute_result"
    }
   ],
   "source": [
    "dta[['address', 'inspection_date']].head()"
   ]
  },
  {
   "cell_type": "markdown",
   "metadata": {},
   "source": [
    "You can index the rows, by using the **loc** and **iloc** accessors.\n",
    "\n",
    "`loc` does *label-based* indexing."
   ]
  },
  {
   "cell_type": "code",
   "execution_count": 18,
   "metadata": {},
   "outputs": [
    {
     "data": {
      "text/plain": [
       "(25000, 16)"
      ]
     },
     "execution_count": 18,
     "metadata": {},
     "output_type": "execute_result"
    },
    {
     "data": {
      "text/html": [
       "<div>\n",
       "<style scoped>\n",
       "    .dataframe tbody tr th:only-of-type {\n",
       "        vertical-align: middle;\n",
       "    }\n",
       "\n",
       "    .dataframe tbody tr th {\n",
       "        vertical-align: top;\n",
       "    }\n",
       "\n",
       "    .dataframe thead th {\n",
       "        text-align: right;\n",
       "    }\n",
       "</style>\n",
       "<table border=\"1\" class=\"dataframe\">\n",
       "  <thead>\n",
       "    <tr style=\"text-align: right;\">\n",
       "      <th></th>\n",
       "      <th>address</th>\n",
       "      <th>aka_name</th>\n",
       "      <th>city</th>\n",
       "      <th>dba_name</th>\n",
       "      <th>facility_type</th>\n",
       "      <th>inspection_date</th>\n",
       "      <th>inspection_type</th>\n",
       "      <th>latitude</th>\n",
       "      <th>license_</th>\n",
       "      <th>location</th>\n",
       "      <th>longitude</th>\n",
       "      <th>results</th>\n",
       "      <th>risk</th>\n",
       "      <th>state</th>\n",
       "      <th>violations</th>\n",
       "      <th>zip</th>\n",
       "    </tr>\n",
       "    <tr>\n",
       "      <th>inspection_id</th>\n",
       "      <th></th>\n",
       "      <th></th>\n",
       "      <th></th>\n",
       "      <th></th>\n",
       "      <th></th>\n",
       "      <th></th>\n",
       "      <th></th>\n",
       "      <th></th>\n",
       "      <th></th>\n",
       "      <th></th>\n",
       "      <th></th>\n",
       "      <th></th>\n",
       "      <th></th>\n",
       "      <th></th>\n",
       "      <th></th>\n",
       "      <th></th>\n",
       "    </tr>\n",
       "  </thead>\n",
       "  <tbody>\n",
       "    <tr>\n",
       "      <th>1965287</th>\n",
       "      <td>5255 W MADISON ST</td>\n",
       "      <td>RED SNAPPER FISH CHICKEN &amp; PIZZA</td>\n",
       "      <td>CHICAGO</td>\n",
       "      <td>RED SNAPPER FISH CHICKEN &amp; PIZZA</td>\n",
       "      <td>Restaurant</td>\n",
       "      <td>2016-09-26T00:00:00.000</td>\n",
       "      <td>Canvass</td>\n",
       "      <td>41.880237</td>\n",
       "      <td>1991820.0</td>\n",
       "      <td>{'type': 'Point', 'coordinates': [-87.75722039...</td>\n",
       "      <td>-87.757220</td>\n",
       "      <td>Pass w/ Conditions</td>\n",
       "      <td>Risk 1 (High)</td>\n",
       "      <td>IL</td>\n",
       "      <td>35. WALLS, CEILINGS, ATTACHED EQUIPMENT CONSTR...</td>\n",
       "      <td>60644.0</td>\n",
       "    </tr>\n",
       "    <tr>\n",
       "      <th>1329698</th>\n",
       "      <td>5958 W DIVERSEY AVE</td>\n",
       "      <td>TAQUERIA MORELOS</td>\n",
       "      <td>CHICAGO</td>\n",
       "      <td>TAQUERIA MORELOS</td>\n",
       "      <td>Restaurant</td>\n",
       "      <td>2014-02-06T00:00:00.000</td>\n",
       "      <td>Canvass</td>\n",
       "      <td>41.931250</td>\n",
       "      <td>2099479.0</td>\n",
       "      <td>{'type': 'Point', 'coordinates': [-87.77590699...</td>\n",
       "      <td>-87.775907</td>\n",
       "      <td>Pass</td>\n",
       "      <td>Risk 1 (High)</td>\n",
       "      <td>IL</td>\n",
       "      <td>33. FOOD AND NON-FOOD CONTACT EQUIPMENT UTENSI...</td>\n",
       "      <td>60639.0</td>\n",
       "    </tr>\n",
       "  </tbody>\n",
       "</table>\n",
       "</div>"
      ],
      "text/plain": [
       "                            address                          aka_name  \\\n",
       "inspection_id                                                           \n",
       "1965287          5255 W MADISON ST   RED SNAPPER FISH CHICKEN & PIZZA   \n",
       "1329698        5958 W DIVERSEY AVE                   TAQUERIA MORELOS   \n",
       "\n",
       "                  city                          dba_name facility_type  \\\n",
       "inspection_id                                                            \n",
       "1965287        CHICAGO  RED SNAPPER FISH CHICKEN & PIZZA    Restaurant   \n",
       "1329698        CHICAGO                  TAQUERIA MORELOS    Restaurant   \n",
       "\n",
       "                       inspection_date inspection_type   latitude   license_  \\\n",
       "inspection_id                                                                  \n",
       "1965287        2016-09-26T00:00:00.000         Canvass  41.880237  1991820.0   \n",
       "1329698        2014-02-06T00:00:00.000         Canvass  41.931250  2099479.0   \n",
       "\n",
       "                                                        location  longitude  \\\n",
       "inspection_id                                                                 \n",
       "1965287        {'type': 'Point', 'coordinates': [-87.75722039... -87.757220   \n",
       "1329698        {'type': 'Point', 'coordinates': [-87.77590699... -87.775907   \n",
       "\n",
       "                          results           risk state  \\\n",
       "inspection_id                                            \n",
       "1965287        Pass w/ Conditions  Risk 1 (High)    IL   \n",
       "1329698                      Pass  Risk 1 (High)    IL   \n",
       "\n",
       "                                                      violations      zip  \n",
       "inspection_id                                                              \n",
       "1965287        35. WALLS, CEILINGS, ATTACHED EQUIPMENT CONSTR...  60644.0  \n",
       "1329698        33. FOOD AND NON-FOOD CONTACT EQUIPMENT UTENSI...  60639.0  "
      ]
     },
     "execution_count": 18,
     "metadata": {},
     "output_type": "execute_result"
    }
   ],
   "source": [
    "dta.shape\n",
    "dta.loc[[1965287, 1329698]]"
   ]
  },
  {
   "cell_type": "markdown",
   "metadata": {},
   "source": [
    "`iloc` on the other hand provides *integer-based* indexing. We can pass a list of rows integers."
   ]
  },
  {
   "cell_type": "code",
   "execution_count": 19,
   "metadata": {},
   "outputs": [
    {
     "data": {
      "text/html": [
       "<div>\n",
       "<style scoped>\n",
       "    .dataframe tbody tr th:only-of-type {\n",
       "        vertical-align: middle;\n",
       "    }\n",
       "\n",
       "    .dataframe tbody tr th {\n",
       "        vertical-align: top;\n",
       "    }\n",
       "\n",
       "    .dataframe thead th {\n",
       "        text-align: right;\n",
       "    }\n",
       "</style>\n",
       "<table border=\"1\" class=\"dataframe\">\n",
       "  <thead>\n",
       "    <tr style=\"text-align: right;\">\n",
       "      <th></th>\n",
       "      <th>address</th>\n",
       "      <th>aka_name</th>\n",
       "      <th>city</th>\n",
       "      <th>dba_name</th>\n",
       "      <th>facility_type</th>\n",
       "      <th>inspection_date</th>\n",
       "      <th>inspection_type</th>\n",
       "      <th>latitude</th>\n",
       "      <th>license_</th>\n",
       "      <th>location</th>\n",
       "      <th>longitude</th>\n",
       "      <th>results</th>\n",
       "      <th>risk</th>\n",
       "      <th>state</th>\n",
       "      <th>violations</th>\n",
       "      <th>zip</th>\n",
       "    </tr>\n",
       "    <tr>\n",
       "      <th>inspection_id</th>\n",
       "      <th></th>\n",
       "      <th></th>\n",
       "      <th></th>\n",
       "      <th></th>\n",
       "      <th></th>\n",
       "      <th></th>\n",
       "      <th></th>\n",
       "      <th></th>\n",
       "      <th></th>\n",
       "      <th></th>\n",
       "      <th></th>\n",
       "      <th></th>\n",
       "      <th></th>\n",
       "      <th></th>\n",
       "      <th></th>\n",
       "      <th></th>\n",
       "    </tr>\n",
       "  </thead>\n",
       "  <tbody>\n",
       "    <tr>\n",
       "      <th>1965287</th>\n",
       "      <td>5255 W MADISON ST</td>\n",
       "      <td>RED SNAPPER FISH CHICKEN &amp; PIZZA</td>\n",
       "      <td>CHICAGO</td>\n",
       "      <td>RED SNAPPER FISH CHICKEN &amp; PIZZA</td>\n",
       "      <td>Restaurant</td>\n",
       "      <td>2016-09-26T00:00:00.000</td>\n",
       "      <td>Canvass</td>\n",
       "      <td>41.880237</td>\n",
       "      <td>1991820.0</td>\n",
       "      <td>{'type': 'Point', 'coordinates': [-87.75722039...</td>\n",
       "      <td>-87.757220</td>\n",
       "      <td>Pass w/ Conditions</td>\n",
       "      <td>Risk 1 (High)</td>\n",
       "      <td>IL</td>\n",
       "      <td>35. WALLS, CEILINGS, ATTACHED EQUIPMENT CONSTR...</td>\n",
       "      <td>60644.0</td>\n",
       "    </tr>\n",
       "    <tr>\n",
       "      <th>470787</th>\n",
       "      <td>5400-5402 N CLARK ST</td>\n",
       "      <td>HAMBURGER MARY'S/MARY'S REC ROOM</td>\n",
       "      <td>CHICAGO</td>\n",
       "      <td>HAMBURGER MARY'S CHICAGO/MARY'S REC ROOM</td>\n",
       "      <td>Restaurant</td>\n",
       "      <td>2010-12-03T00:00:00.000</td>\n",
       "      <td>SFP</td>\n",
       "      <td>41.979884</td>\n",
       "      <td>1933748.0</td>\n",
       "      <td>{'type': 'Point', 'coordinates': [-87.66842948...</td>\n",
       "      <td>-87.668429</td>\n",
       "      <td>Fail</td>\n",
       "      <td>Risk 1 (High)</td>\n",
       "      <td>IL</td>\n",
       "      <td>6. HANDS WASHED AND CLEANED, GOOD HYGIENIC PRA...</td>\n",
       "      <td>60640.0</td>\n",
       "    </tr>\n",
       "  </tbody>\n",
       "</table>\n",
       "</div>"
      ],
      "text/plain": [
       "                             address                          aka_name  \\\n",
       "inspection_id                                                            \n",
       "1965287           5255 W MADISON ST   RED SNAPPER FISH CHICKEN & PIZZA   \n",
       "470787         5400-5402 N CLARK ST   HAMBURGER MARY'S/MARY'S REC ROOM   \n",
       "\n",
       "                  city                                  dba_name  \\\n",
       "inspection_id                                                      \n",
       "1965287        CHICAGO          RED SNAPPER FISH CHICKEN & PIZZA   \n",
       "470787         CHICAGO  HAMBURGER MARY'S CHICAGO/MARY'S REC ROOM   \n",
       "\n",
       "              facility_type          inspection_date inspection_type  \\\n",
       "inspection_id                                                          \n",
       "1965287          Restaurant  2016-09-26T00:00:00.000         Canvass   \n",
       "470787           Restaurant  2010-12-03T00:00:00.000             SFP   \n",
       "\n",
       "                latitude   license_  \\\n",
       "inspection_id                         \n",
       "1965287        41.880237  1991820.0   \n",
       "470787         41.979884  1933748.0   \n",
       "\n",
       "                                                        location  longitude  \\\n",
       "inspection_id                                                                 \n",
       "1965287        {'type': 'Point', 'coordinates': [-87.75722039... -87.757220   \n",
       "470787         {'type': 'Point', 'coordinates': [-87.66842948... -87.668429   \n",
       "\n",
       "                          results           risk state  \\\n",
       "inspection_id                                            \n",
       "1965287        Pass w/ Conditions  Risk 1 (High)    IL   \n",
       "470787                       Fail  Risk 1 (High)    IL   \n",
       "\n",
       "                                                      violations      zip  \n",
       "inspection_id                                                              \n",
       "1965287        35. WALLS, CEILINGS, ATTACHED EQUIPMENT CONSTR...  60644.0  \n",
       "470787         6. HANDS WASHED AND CLEANED, GOOD HYGIENIC PRA...  60640.0  "
      ]
     },
     "execution_count": 19,
     "metadata": {},
     "output_type": "execute_result"
    }
   ],
   "source": [
    "dta.iloc[[0, 2]]"
   ]
  },
  {
   "cell_type": "markdown",
   "metadata": {},
   "source": [
    "Both support the Python **slice notation** (`start:stop:step`). This can be really powerful."
   ]
  },
  {
   "cell_type": "code",
   "execution_count": 20,
   "metadata": {},
   "outputs": [
    {
     "data": {
      "text/html": [
       "<div>\n",
       "<style scoped>\n",
       "    .dataframe tbody tr th:only-of-type {\n",
       "        vertical-align: middle;\n",
       "    }\n",
       "\n",
       "    .dataframe tbody tr th {\n",
       "        vertical-align: top;\n",
       "    }\n",
       "\n",
       "    .dataframe thead th {\n",
       "        text-align: right;\n",
       "    }\n",
       "</style>\n",
       "<table border=\"1\" class=\"dataframe\">\n",
       "  <thead>\n",
       "    <tr style=\"text-align: right;\">\n",
       "      <th></th>\n",
       "      <th>address</th>\n",
       "      <th>aka_name</th>\n",
       "      <th>city</th>\n",
       "      <th>dba_name</th>\n",
       "      <th>facility_type</th>\n",
       "      <th>inspection_date</th>\n",
       "      <th>inspection_type</th>\n",
       "      <th>latitude</th>\n",
       "      <th>license_</th>\n",
       "      <th>location</th>\n",
       "      <th>longitude</th>\n",
       "      <th>results</th>\n",
       "      <th>risk</th>\n",
       "      <th>state</th>\n",
       "      <th>violations</th>\n",
       "      <th>zip</th>\n",
       "    </tr>\n",
       "    <tr>\n",
       "      <th>inspection_id</th>\n",
       "      <th></th>\n",
       "      <th></th>\n",
       "      <th></th>\n",
       "      <th></th>\n",
       "      <th></th>\n",
       "      <th></th>\n",
       "      <th></th>\n",
       "      <th></th>\n",
       "      <th></th>\n",
       "      <th></th>\n",
       "      <th></th>\n",
       "      <th></th>\n",
       "      <th></th>\n",
       "      <th></th>\n",
       "      <th></th>\n",
       "      <th></th>\n",
       "    </tr>\n",
       "  </thead>\n",
       "  <tbody>\n",
       "    <tr>\n",
       "      <th>1965287</th>\n",
       "      <td>5255 W MADISON ST</td>\n",
       "      <td>RED SNAPPER FISH CHICKEN &amp; PIZZA</td>\n",
       "      <td>CHICAGO</td>\n",
       "      <td>RED SNAPPER FISH CHICKEN &amp; PIZZA</td>\n",
       "      <td>Restaurant</td>\n",
       "      <td>2016-09-26T00:00:00.000</td>\n",
       "      <td>Canvass</td>\n",
       "      <td>41.880237</td>\n",
       "      <td>1991820.0</td>\n",
       "      <td>{'type': 'Point', 'coordinates': [-87.75722039...</td>\n",
       "      <td>-87.757220</td>\n",
       "      <td>Pass w/ Conditions</td>\n",
       "      <td>Risk 1 (High)</td>\n",
       "      <td>IL</td>\n",
       "      <td>35. WALLS, CEILINGS, ATTACHED EQUIPMENT CONSTR...</td>\n",
       "      <td>60644.0</td>\n",
       "    </tr>\n",
       "    <tr>\n",
       "      <th>1329698</th>\n",
       "      <td>5958 W DIVERSEY AVE</td>\n",
       "      <td>TAQUERIA MORELOS</td>\n",
       "      <td>CHICAGO</td>\n",
       "      <td>TAQUERIA MORELOS</td>\n",
       "      <td>Restaurant</td>\n",
       "      <td>2014-02-06T00:00:00.000</td>\n",
       "      <td>Canvass</td>\n",
       "      <td>41.931250</td>\n",
       "      <td>2099479.0</td>\n",
       "      <td>{'type': 'Point', 'coordinates': [-87.77590699...</td>\n",
       "      <td>-87.775907</td>\n",
       "      <td>Pass</td>\n",
       "      <td>Risk 1 (High)</td>\n",
       "      <td>IL</td>\n",
       "      <td>33. FOOD AND NON-FOOD CONTACT EQUIPMENT UTENSI...</td>\n",
       "      <td>60639.0</td>\n",
       "    </tr>\n",
       "    <tr>\n",
       "      <th>470787</th>\n",
       "      <td>5400-5402 N CLARK ST</td>\n",
       "      <td>HAMBURGER MARY'S/MARY'S REC ROOM</td>\n",
       "      <td>CHICAGO</td>\n",
       "      <td>HAMBURGER MARY'S CHICAGO/MARY'S REC ROOM</td>\n",
       "      <td>Restaurant</td>\n",
       "      <td>2010-12-03T00:00:00.000</td>\n",
       "      <td>SFP</td>\n",
       "      <td>41.979884</td>\n",
       "      <td>1933748.0</td>\n",
       "      <td>{'type': 'Point', 'coordinates': [-87.66842948...</td>\n",
       "      <td>-87.668429</td>\n",
       "      <td>Fail</td>\n",
       "      <td>Risk 1 (High)</td>\n",
       "      <td>IL</td>\n",
       "      <td>6. HANDS WASHED AND CLEANED, GOOD HYGIENIC PRA...</td>\n",
       "      <td>60640.0</td>\n",
       "    </tr>\n",
       "    <tr>\n",
       "      <th>68091</th>\n",
       "      <td>2804 N CLARK ST</td>\n",
       "      <td>Wells Street Popcorn</td>\n",
       "      <td>CHICAGO</td>\n",
       "      <td>Wells Street Popcorn</td>\n",
       "      <td>Restaurant</td>\n",
       "      <td>2010-02-01T00:00:00.000</td>\n",
       "      <td>Canvass</td>\n",
       "      <td>41.932921</td>\n",
       "      <td>1954774.0</td>\n",
       "      <td>{'type': 'Point', 'coordinates': [-87.64515454...</td>\n",
       "      <td>-87.645155</td>\n",
       "      <td>Pass</td>\n",
       "      <td>Risk 2 (Medium)</td>\n",
       "      <td>IL</td>\n",
       "      <td>NaN</td>\n",
       "      <td>60657.0</td>\n",
       "    </tr>\n",
       "    <tr>\n",
       "      <th>1335320</th>\n",
       "      <td>2409 N WESTERN AVE</td>\n",
       "      <td>CHICAGO CUPCAKE</td>\n",
       "      <td>CHICAGO</td>\n",
       "      <td>CHICAGO CUPCAKE LLC.</td>\n",
       "      <td>Mobile Food Dispenser</td>\n",
       "      <td>2013-05-03T00:00:00.000</td>\n",
       "      <td>License Re-Inspection</td>\n",
       "      <td>41.925218</td>\n",
       "      <td>2232391.0</td>\n",
       "      <td>{'type': 'Point', 'coordinates': [-87.68750659...</td>\n",
       "      <td>-87.687507</td>\n",
       "      <td>Fail</td>\n",
       "      <td>Risk 3 (Low)</td>\n",
       "      <td>IL</td>\n",
       "      <td>32. FOOD AND NON-FOOD CONTACT SURFACES PROPERL...</td>\n",
       "      <td>60647.0</td>\n",
       "    </tr>\n",
       "  </tbody>\n",
       "</table>\n",
       "</div>"
      ],
      "text/plain": [
       "                             address                          aka_name  \\\n",
       "inspection_id                                                            \n",
       "1965287           5255 W MADISON ST   RED SNAPPER FISH CHICKEN & PIZZA   \n",
       "1329698         5958 W DIVERSEY AVE                   TAQUERIA MORELOS   \n",
       "470787         5400-5402 N CLARK ST   HAMBURGER MARY'S/MARY'S REC ROOM   \n",
       "68091               2804 N CLARK ST               Wells Street Popcorn   \n",
       "1335320          2409 N WESTERN AVE                    CHICAGO CUPCAKE   \n",
       "\n",
       "                  city                                  dba_name  \\\n",
       "inspection_id                                                      \n",
       "1965287        CHICAGO          RED SNAPPER FISH CHICKEN & PIZZA   \n",
       "1329698        CHICAGO                          TAQUERIA MORELOS   \n",
       "470787         CHICAGO  HAMBURGER MARY'S CHICAGO/MARY'S REC ROOM   \n",
       "68091          CHICAGO                      Wells Street Popcorn   \n",
       "1335320        CHICAGO                      CHICAGO CUPCAKE LLC.   \n",
       "\n",
       "                       facility_type          inspection_date  \\\n",
       "inspection_id                                                   \n",
       "1965287                   Restaurant  2016-09-26T00:00:00.000   \n",
       "1329698                   Restaurant  2014-02-06T00:00:00.000   \n",
       "470787                    Restaurant  2010-12-03T00:00:00.000   \n",
       "68091                     Restaurant  2010-02-01T00:00:00.000   \n",
       "1335320        Mobile Food Dispenser  2013-05-03T00:00:00.000   \n",
       "\n",
       "                     inspection_type   latitude   license_  \\\n",
       "inspection_id                                                \n",
       "1965287                      Canvass  41.880237  1991820.0   \n",
       "1329698                      Canvass  41.931250  2099479.0   \n",
       "470787                           SFP  41.979884  1933748.0   \n",
       "68091                        Canvass  41.932921  1954774.0   \n",
       "1335320        License Re-Inspection  41.925218  2232391.0   \n",
       "\n",
       "                                                        location  longitude  \\\n",
       "inspection_id                                                                 \n",
       "1965287        {'type': 'Point', 'coordinates': [-87.75722039... -87.757220   \n",
       "1329698        {'type': 'Point', 'coordinates': [-87.77590699... -87.775907   \n",
       "470787         {'type': 'Point', 'coordinates': [-87.66842948... -87.668429   \n",
       "68091          {'type': 'Point', 'coordinates': [-87.64515454... -87.645155   \n",
       "1335320        {'type': 'Point', 'coordinates': [-87.68750659... -87.687507   \n",
       "\n",
       "                          results             risk state  \\\n",
       "inspection_id                                              \n",
       "1965287        Pass w/ Conditions    Risk 1 (High)    IL   \n",
       "1329698                      Pass    Risk 1 (High)    IL   \n",
       "470787                       Fail    Risk 1 (High)    IL   \n",
       "68091                        Pass  Risk 2 (Medium)    IL   \n",
       "1335320                      Fail     Risk 3 (Low)    IL   \n",
       "\n",
       "                                                      violations      zip  \n",
       "inspection_id                                                              \n",
       "1965287        35. WALLS, CEILINGS, ATTACHED EQUIPMENT CONSTR...  60644.0  \n",
       "1329698        33. FOOD AND NON-FOOD CONTACT EQUIPMENT UTENSI...  60639.0  \n",
       "470787         6. HANDS WASHED AND CLEANED, GOOD HYGIENIC PRA...  60640.0  \n",
       "68091                                                        NaN  60657.0  \n",
       "1335320        32. FOOD AND NON-FOOD CONTACT SURFACES PROPERL...  60647.0  "
      ]
     },
     "execution_count": 20,
     "metadata": {},
     "output_type": "execute_result"
    }
   ],
   "source": [
    "dta.iloc[:5]"
   ]
  },
  {
   "cell_type": "code",
   "execution_count": 24,
   "metadata": {},
   "outputs": [
    {
     "data": {
      "text/html": [
       "<div>\n",
       "<style scoped>\n",
       "    .dataframe tbody tr th:only-of-type {\n",
       "        vertical-align: middle;\n",
       "    }\n",
       "\n",
       "    .dataframe tbody tr th {\n",
       "        vertical-align: top;\n",
       "    }\n",
       "\n",
       "    .dataframe thead th {\n",
       "        text-align: right;\n",
       "    }\n",
       "</style>\n",
       "<table border=\"1\" class=\"dataframe\">\n",
       "  <thead>\n",
       "    <tr style=\"text-align: right;\">\n",
       "      <th></th>\n",
       "      <th>address</th>\n",
       "      <th>aka_name</th>\n",
       "      <th>city</th>\n",
       "      <th>dba_name</th>\n",
       "      <th>facility_type</th>\n",
       "      <th>inspection_date</th>\n",
       "      <th>inspection_type</th>\n",
       "      <th>latitude</th>\n",
       "      <th>license_</th>\n",
       "      <th>location</th>\n",
       "      <th>longitude</th>\n",
       "      <th>results</th>\n",
       "      <th>risk</th>\n",
       "      <th>state</th>\n",
       "      <th>violations</th>\n",
       "      <th>zip</th>\n",
       "    </tr>\n",
       "    <tr>\n",
       "      <th>inspection_id</th>\n",
       "      <th></th>\n",
       "      <th></th>\n",
       "      <th></th>\n",
       "      <th></th>\n",
       "      <th></th>\n",
       "      <th></th>\n",
       "      <th></th>\n",
       "      <th></th>\n",
       "      <th></th>\n",
       "      <th></th>\n",
       "      <th></th>\n",
       "      <th></th>\n",
       "      <th></th>\n",
       "      <th></th>\n",
       "      <th></th>\n",
       "      <th></th>\n",
       "    </tr>\n",
       "  </thead>\n",
       "  <tbody>\n",
       "    <tr>\n",
       "      <th>1965287</th>\n",
       "      <td>5255 W MADISON ST</td>\n",
       "      <td>RED SNAPPER FISH CHICKEN &amp; PIZZA</td>\n",
       "      <td>CHICAGO</td>\n",
       "      <td>RED SNAPPER FISH CHICKEN &amp; PIZZA</td>\n",
       "      <td>Restaurant</td>\n",
       "      <td>2016-09-26T00:00:00.000</td>\n",
       "      <td>Canvass</td>\n",
       "      <td>41.880237</td>\n",
       "      <td>1991820.0</td>\n",
       "      <td>{'type': 'Point', 'coordinates': [-87.75722039...</td>\n",
       "      <td>-87.757220</td>\n",
       "      <td>Pass w/ Conditions</td>\n",
       "      <td>Risk 1 (High)</td>\n",
       "      <td>IL</td>\n",
       "      <td>35. WALLS, CEILINGS, ATTACHED EQUIPMENT CONSTR...</td>\n",
       "      <td>60644.0</td>\n",
       "    </tr>\n",
       "    <tr>\n",
       "      <th>1329698</th>\n",
       "      <td>5958 W DIVERSEY AVE</td>\n",
       "      <td>TAQUERIA MORELOS</td>\n",
       "      <td>CHICAGO</td>\n",
       "      <td>TAQUERIA MORELOS</td>\n",
       "      <td>Restaurant</td>\n",
       "      <td>2014-02-06T00:00:00.000</td>\n",
       "      <td>Canvass</td>\n",
       "      <td>41.931250</td>\n",
       "      <td>2099479.0</td>\n",
       "      <td>{'type': 'Point', 'coordinates': [-87.77590699...</td>\n",
       "      <td>-87.775907</td>\n",
       "      <td>Pass</td>\n",
       "      <td>Risk 1 (High)</td>\n",
       "      <td>IL</td>\n",
       "      <td>33. FOOD AND NON-FOOD CONTACT EQUIPMENT UTENSI...</td>\n",
       "      <td>60639.0</td>\n",
       "    </tr>\n",
       "    <tr>\n",
       "      <th>470787</th>\n",
       "      <td>5400-5402 N CLARK ST</td>\n",
       "      <td>HAMBURGER MARY'S/MARY'S REC ROOM</td>\n",
       "      <td>CHICAGO</td>\n",
       "      <td>HAMBURGER MARY'S CHICAGO/MARY'S REC ROOM</td>\n",
       "      <td>Restaurant</td>\n",
       "      <td>2010-12-03T00:00:00.000</td>\n",
       "      <td>SFP</td>\n",
       "      <td>41.979884</td>\n",
       "      <td>1933748.0</td>\n",
       "      <td>{'type': 'Point', 'coordinates': [-87.66842948...</td>\n",
       "      <td>-87.668429</td>\n",
       "      <td>Fail</td>\n",
       "      <td>Risk 1 (High)</td>\n",
       "      <td>IL</td>\n",
       "      <td>6. HANDS WASHED AND CLEANED, GOOD HYGIENIC PRA...</td>\n",
       "      <td>60640.0</td>\n",
       "    </tr>\n",
       "    <tr>\n",
       "      <th>68091</th>\n",
       "      <td>2804 N CLARK ST</td>\n",
       "      <td>Wells Street Popcorn</td>\n",
       "      <td>CHICAGO</td>\n",
       "      <td>Wells Street Popcorn</td>\n",
       "      <td>Restaurant</td>\n",
       "      <td>2010-02-01T00:00:00.000</td>\n",
       "      <td>Canvass</td>\n",
       "      <td>41.932921</td>\n",
       "      <td>1954774.0</td>\n",
       "      <td>{'type': 'Point', 'coordinates': [-87.64515454...</td>\n",
       "      <td>-87.645155</td>\n",
       "      <td>Pass</td>\n",
       "      <td>Risk 2 (Medium)</td>\n",
       "      <td>IL</td>\n",
       "      <td>NaN</td>\n",
       "      <td>60657.0</td>\n",
       "    </tr>\n",
       "    <tr>\n",
       "      <th>1335320</th>\n",
       "      <td>2409 N WESTERN AVE</td>\n",
       "      <td>CHICAGO CUPCAKE</td>\n",
       "      <td>CHICAGO</td>\n",
       "      <td>CHICAGO CUPCAKE LLC.</td>\n",
       "      <td>Mobile Food Dispenser</td>\n",
       "      <td>2013-05-03T00:00:00.000</td>\n",
       "      <td>License Re-Inspection</td>\n",
       "      <td>41.925218</td>\n",
       "      <td>2232391.0</td>\n",
       "      <td>{'type': 'Point', 'coordinates': [-87.68750659...</td>\n",
       "      <td>-87.687507</td>\n",
       "      <td>Fail</td>\n",
       "      <td>Risk 3 (Low)</td>\n",
       "      <td>IL</td>\n",
       "      <td>32. FOOD AND NON-FOOD CONTACT SURFACES PROPERL...</td>\n",
       "      <td>60647.0</td>\n",
       "    </tr>\n",
       "  </tbody>\n",
       "</table>\n",
       "</div>"
      ],
      "text/plain": [
       "                             address                          aka_name  \\\n",
       "inspection_id                                                            \n",
       "1965287           5255 W MADISON ST   RED SNAPPER FISH CHICKEN & PIZZA   \n",
       "1329698         5958 W DIVERSEY AVE                   TAQUERIA MORELOS   \n",
       "470787         5400-5402 N CLARK ST   HAMBURGER MARY'S/MARY'S REC ROOM   \n",
       "68091               2804 N CLARK ST               Wells Street Popcorn   \n",
       "1335320          2409 N WESTERN AVE                    CHICAGO CUPCAKE   \n",
       "\n",
       "                  city                                  dba_name  \\\n",
       "inspection_id                                                      \n",
       "1965287        CHICAGO          RED SNAPPER FISH CHICKEN & PIZZA   \n",
       "1329698        CHICAGO                          TAQUERIA MORELOS   \n",
       "470787         CHICAGO  HAMBURGER MARY'S CHICAGO/MARY'S REC ROOM   \n",
       "68091          CHICAGO                      Wells Street Popcorn   \n",
       "1335320        CHICAGO                      CHICAGO CUPCAKE LLC.   \n",
       "\n",
       "                       facility_type          inspection_date  \\\n",
       "inspection_id                                                   \n",
       "1965287                   Restaurant  2016-09-26T00:00:00.000   \n",
       "1329698                   Restaurant  2014-02-06T00:00:00.000   \n",
       "470787                    Restaurant  2010-12-03T00:00:00.000   \n",
       "68091                     Restaurant  2010-02-01T00:00:00.000   \n",
       "1335320        Mobile Food Dispenser  2013-05-03T00:00:00.000   \n",
       "\n",
       "                     inspection_type   latitude   license_  \\\n",
       "inspection_id                                                \n",
       "1965287                      Canvass  41.880237  1991820.0   \n",
       "1329698                      Canvass  41.931250  2099479.0   \n",
       "470787                           SFP  41.979884  1933748.0   \n",
       "68091                        Canvass  41.932921  1954774.0   \n",
       "1335320        License Re-Inspection  41.925218  2232391.0   \n",
       "\n",
       "                                                        location  longitude  \\\n",
       "inspection_id                                                                 \n",
       "1965287        {'type': 'Point', 'coordinates': [-87.75722039... -87.757220   \n",
       "1329698        {'type': 'Point', 'coordinates': [-87.77590699... -87.775907   \n",
       "470787         {'type': 'Point', 'coordinates': [-87.66842948... -87.668429   \n",
       "68091          {'type': 'Point', 'coordinates': [-87.64515454... -87.645155   \n",
       "1335320        {'type': 'Point', 'coordinates': [-87.68750659... -87.687507   \n",
       "\n",
       "                          results             risk state  \\\n",
       "inspection_id                                              \n",
       "1965287        Pass w/ Conditions    Risk 1 (High)    IL   \n",
       "1329698                      Pass    Risk 1 (High)    IL   \n",
       "470787                       Fail    Risk 1 (High)    IL   \n",
       "68091                        Pass  Risk 2 (Medium)    IL   \n",
       "1335320                      Fail     Risk 3 (Low)    IL   \n",
       "\n",
       "                                                      violations      zip  \n",
       "inspection_id                                                              \n",
       "1965287        35. WALLS, CEILINGS, ATTACHED EQUIPMENT CONSTR...  60644.0  \n",
       "1329698        33. FOOD AND NON-FOOD CONTACT EQUIPMENT UTENSI...  60639.0  \n",
       "470787         6. HANDS WASHED AND CLEANED, GOOD HYGIENIC PRA...  60640.0  \n",
       "68091                                                        NaN  60657.0  \n",
       "1335320        32. FOOD AND NON-FOOD CONTACT SURFACES PROPERL...  60647.0  "
      ]
     },
     "execution_count": 24,
     "metadata": {},
     "output_type": "execute_result"
    }
   ],
   "source": [
    "dta.loc[:1335320]"
   ]
  },
  {
   "cell_type": "markdown",
   "metadata": {},
   "source": [
    "Note that these inspection ids are *not* sorted, yet we can still use slice notation."
   ]
  },
  {
   "cell_type": "markdown",
   "metadata": {},
   "source": [
    "Of course, we can also combine row and index labeling."
   ]
  },
  {
   "cell_type": "code",
   "execution_count": 25,
   "metadata": {},
   "outputs": [
    {
     "data": {
      "text/html": [
       "<div>\n",
       "<style scoped>\n",
       "    .dataframe tbody tr th:only-of-type {\n",
       "        vertical-align: middle;\n",
       "    }\n",
       "\n",
       "    .dataframe tbody tr th {\n",
       "        vertical-align: top;\n",
       "    }\n",
       "\n",
       "    .dataframe thead th {\n",
       "        text-align: right;\n",
       "    }\n",
       "</style>\n",
       "<table border=\"1\" class=\"dataframe\">\n",
       "  <thead>\n",
       "    <tr style=\"text-align: right;\">\n",
       "      <th></th>\n",
       "      <th>address</th>\n",
       "      <th>inspection_date</th>\n",
       "    </tr>\n",
       "    <tr>\n",
       "      <th>inspection_id</th>\n",
       "      <th></th>\n",
       "      <th></th>\n",
       "    </tr>\n",
       "  </thead>\n",
       "  <tbody>\n",
       "    <tr>\n",
       "      <th>1965287</th>\n",
       "      <td>5255 W MADISON ST</td>\n",
       "      <td>2016-09-26T00:00:00.000</td>\n",
       "    </tr>\n",
       "    <tr>\n",
       "      <th>1329698</th>\n",
       "      <td>5958 W DIVERSEY AVE</td>\n",
       "      <td>2014-02-06T00:00:00.000</td>\n",
       "    </tr>\n",
       "    <tr>\n",
       "      <th>470787</th>\n",
       "      <td>5400-5402 N CLARK ST</td>\n",
       "      <td>2010-12-03T00:00:00.000</td>\n",
       "    </tr>\n",
       "    <tr>\n",
       "      <th>68091</th>\n",
       "      <td>2804 N CLARK ST</td>\n",
       "      <td>2010-02-01T00:00:00.000</td>\n",
       "    </tr>\n",
       "    <tr>\n",
       "      <th>1335320</th>\n",
       "      <td>2409 N WESTERN AVE</td>\n",
       "      <td>2013-05-03T00:00:00.000</td>\n",
       "    </tr>\n",
       "  </tbody>\n",
       "</table>\n",
       "</div>"
      ],
      "text/plain": [
       "                             address          inspection_date\n",
       "inspection_id                                                \n",
       "1965287           5255 W MADISON ST   2016-09-26T00:00:00.000\n",
       "1329698         5958 W DIVERSEY AVE   2014-02-06T00:00:00.000\n",
       "470787         5400-5402 N CLARK ST   2010-12-03T00:00:00.000\n",
       "68091               2804 N CLARK ST   2010-02-01T00:00:00.000\n",
       "1335320          2409 N WESTERN AVE   2013-05-03T00:00:00.000"
      ]
     },
     "execution_count": 25,
     "metadata": {},
     "output_type": "execute_result"
    }
   ],
   "source": [
    "dta.iloc[:5, [0, 5]]"
   ]
  },
  {
   "cell_type": "code",
   "execution_count": 26,
   "metadata": {},
   "outputs": [
    {
     "data": {
      "text/html": [
       "<div>\n",
       "<style scoped>\n",
       "    .dataframe tbody tr th:only-of-type {\n",
       "        vertical-align: middle;\n",
       "    }\n",
       "\n",
       "    .dataframe tbody tr th {\n",
       "        vertical-align: top;\n",
       "    }\n",
       "\n",
       "    .dataframe thead th {\n",
       "        text-align: right;\n",
       "    }\n",
       "</style>\n",
       "<table border=\"1\" class=\"dataframe\">\n",
       "  <thead>\n",
       "    <tr style=\"text-align: right;\">\n",
       "      <th></th>\n",
       "      <th>address</th>\n",
       "      <th>inspection_date</th>\n",
       "    </tr>\n",
       "    <tr>\n",
       "      <th>inspection_id</th>\n",
       "      <th></th>\n",
       "      <th></th>\n",
       "    </tr>\n",
       "  </thead>\n",
       "  <tbody>\n",
       "    <tr>\n",
       "      <th>1965287</th>\n",
       "      <td>5255 W MADISON ST</td>\n",
       "      <td>2016-09-26T00:00:00.000</td>\n",
       "    </tr>\n",
       "    <tr>\n",
       "      <th>1329698</th>\n",
       "      <td>5958 W DIVERSEY AVE</td>\n",
       "      <td>2014-02-06T00:00:00.000</td>\n",
       "    </tr>\n",
       "    <tr>\n",
       "      <th>470787</th>\n",
       "      <td>5400-5402 N CLARK ST</td>\n",
       "      <td>2010-12-03T00:00:00.000</td>\n",
       "    </tr>\n",
       "    <tr>\n",
       "      <th>68091</th>\n",
       "      <td>2804 N CLARK ST</td>\n",
       "      <td>2010-02-01T00:00:00.000</td>\n",
       "    </tr>\n",
       "  </tbody>\n",
       "</table>\n",
       "</div>"
      ],
      "text/plain": [
       "                             address          inspection_date\n",
       "inspection_id                                                \n",
       "1965287           5255 W MADISON ST   2016-09-26T00:00:00.000\n",
       "1329698         5958 W DIVERSEY AVE   2014-02-06T00:00:00.000\n",
       "470787         5400-5402 N CLARK ST   2010-12-03T00:00:00.000\n",
       "68091               2804 N CLARK ST   2010-02-01T00:00:00.000"
      ]
     },
     "execution_count": 26,
     "metadata": {},
     "output_type": "execute_result"
    }
   ],
   "source": [
    "dta.loc[:68091, [\"address\", \"inspection_date\"]]"
   ]
  },
  {
   "cell_type": "markdown",
   "metadata": {},
   "source": [
    "## Cleaning Data for Types"
   ]
  },
  {
   "cell_type": "markdown",
   "metadata": {},
   "source": [
    "So far, we've explicitly made an index. We may next want to convert to the dates to datetime types. Here we'll use the **apply** function to apply a function to each row of a Series."
   ]
  },
  {
   "cell_type": "code",
   "execution_count": 36,
   "metadata": {},
   "outputs": [
    {
     "name": "stdout",
     "output_type": "stream",
     "text": [
      "<class 'pandas.core.frame.DataFrame'>\n",
      "Int64Index: 25000 entries, 1965287 to 413268\n",
      "Data columns (total 16 columns):\n",
      "address            25000 non-null object\n",
      "aka_name           24709 non-null object\n",
      "city               24981 non-null object\n",
      "dba_name           25000 non-null object\n",
      "facility_type      24787 non-null object\n",
      "inspection_date    25000 non-null datetime64[ns]\n",
      "inspection_type    25000 non-null object\n",
      "latitude           24865 non-null float64\n",
      "license_           24996 non-null float64\n",
      "location           24865 non-null object\n",
      "longitude          24865 non-null float64\n",
      "results            25000 non-null object\n",
      "risk               24995 non-null object\n",
      "state              24994 non-null object\n",
      "violations         23908 non-null object\n",
      "zip                24990 non-null object\n",
      "dtypes: datetime64[ns](1), float64(3), object(12)\n",
      "memory usage: 3.9+ MB\n"
     ]
    }
   ],
   "source": [
    "dta.info()\n",
    "# pandas clobbered zip by making it a float"
   ]
  },
  {
   "cell_type": "code",
   "execution_count": 37,
   "metadata": {},
   "outputs": [],
   "source": [
    "dta.inspection_date = dta.inspection_date.apply(pd.to_datetime)"
   ]
  },
  {
   "cell_type": "code",
   "execution_count": 38,
   "metadata": {},
   "outputs": [
    {
     "data": {
      "text/plain": [
       "inspection_id\n",
       "1965287   2016-09-26\n",
       "1329698   2014-02-06\n",
       "470787    2010-12-03\n",
       "68091     2010-02-01\n",
       "1335320   2013-05-03\n",
       "Name: inspection_date, dtype: datetime64[ns]"
      ]
     },
     "execution_count": 38,
     "metadata": {},
     "output_type": "execute_result"
    }
   ],
   "source": [
    "dta.inspection_date.head()"
   ]
  },
  {
   "cell_type": "markdown",
   "metadata": {},
   "source": [
    "Now let's cast zip code from a float to a string. Some zip codes can start with 0 (not in Chicago), and we need to account for that."
   ]
  },
  {
   "cell_type": "code",
   "execution_count": 32,
   "metadata": {},
   "outputs": [],
   "source": [
    "import numpy as np\n",
    "\n",
    "\n",
    "def float_to_zip(zip_code):\n",
    "    if np.isnan(zip_code):\n",
    "        return np.nan\n",
    "    \n",
    "    # 0 makes sure to left-pad with zero\n",
    "    # zip codes have 5 digits\n",
    "    # .0 means, we don't want anything after the decimal\n",
    "    # f is for float\n",
    "    zip_code = \"{:05.0f}\".format(zip_code)\n",
    "    # {:  0: 0 pad if there are 5 digits; nothing after '.' is accepted}\n",
    "    return zip_code"
   ]
  },
  {
   "cell_type": "markdown",
   "metadata": {},
   "source": [
    "Here we use Python's **string formatting** facilities to convert from a numeric type to a string. Some of the zip codes are empty strings in the file. Pandas uses numpy's `NaN` to indicate missingness, so we'll return it here."
   ]
  },
  {
   "cell_type": "code",
   "execution_count": 33,
   "metadata": {},
   "outputs": [],
   "source": [
    "dta.zip = dta.zip.apply(float_to_zip)  # note use of apply again"
   ]
  },
  {
   "cell_type": "code",
   "execution_count": 34,
   "metadata": {},
   "outputs": [
    {
     "data": {
      "text/html": [
       "<div>\n",
       "<style scoped>\n",
       "    .dataframe tbody tr th:only-of-type {\n",
       "        vertical-align: middle;\n",
       "    }\n",
       "\n",
       "    .dataframe tbody tr th {\n",
       "        vertical-align: top;\n",
       "    }\n",
       "\n",
       "    .dataframe thead th {\n",
       "        text-align: right;\n",
       "    }\n",
       "</style>\n",
       "<table border=\"1\" class=\"dataframe\">\n",
       "  <thead>\n",
       "    <tr style=\"text-align: right;\">\n",
       "      <th></th>\n",
       "      <th>zip</th>\n",
       "    </tr>\n",
       "    <tr>\n",
       "      <th>inspection_id</th>\n",
       "      <th></th>\n",
       "    </tr>\n",
       "  </thead>\n",
       "  <tbody>\n",
       "    <tr>\n",
       "      <th>1965287</th>\n",
       "      <td>60644</td>\n",
       "    </tr>\n",
       "    <tr>\n",
       "      <th>1329698</th>\n",
       "      <td>60639</td>\n",
       "    </tr>\n",
       "    <tr>\n",
       "      <th>470787</th>\n",
       "      <td>60640</td>\n",
       "    </tr>\n",
       "    <tr>\n",
       "      <th>68091</th>\n",
       "      <td>60657</td>\n",
       "    </tr>\n",
       "    <tr>\n",
       "      <th>1335320</th>\n",
       "      <td>60647</td>\n",
       "    </tr>\n",
       "  </tbody>\n",
       "</table>\n",
       "</div>"
      ],
      "text/plain": [
       "                 zip\n",
       "inspection_id       \n",
       "1965287        60644\n",
       "1329698        60639\n",
       "470787         60640\n",
       "68091          60657\n",
       "1335320        60647"
      ]
     },
     "execution_count": 34,
     "metadata": {},
     "output_type": "execute_result"
    }
   ],
   "source": [
    "dta[['zip']].head()"
   ]
  },
  {
   "cell_type": "markdown",
   "metadata": {},
   "source": [
    "DataFrames have a `dtypes` attribute for checking the data types. Pandas relies on NumPy's dtypes objects. Here we see that the `object` dtype is used to hold strings. This for technical reasons."
   ]
  },
  {
   "cell_type": "code",
   "execution_count": 35,
   "metadata": {},
   "outputs": [
    {
     "data": {
      "text/plain": [
       "inspection_date    datetime64[ns]\n",
       "zip                        object\n",
       "dtype: object"
      ]
     },
     "execution_count": 35,
     "metadata": {},
     "output_type": "execute_result"
    }
   ],
   "source": [
    "dta.dtypes[['inspection_date', 'zip']]"
   ]
  },
  {
   "cell_type": "markdown",
   "metadata": {},
   "source": [
    "We can also convert variables' types, using `astype`. Here, we'll explicitly cast to pandas Categorical type, which is the only non-native numpy type."
   ]
  },
  {
   "cell_type": "code",
   "execution_count": 39,
   "metadata": {},
   "outputs": [
    {
     "name": "stdout",
     "output_type": "stream",
     "text": [
      "<class 'pandas.core.frame.DataFrame'>\n",
      "Int64Index: 25000 entries, 1965287 to 413268\n",
      "Data columns (total 16 columns):\n",
      "address            25000 non-null object\n",
      "aka_name           24709 non-null object\n",
      "city               24981 non-null object\n",
      "dba_name           25000 non-null object\n",
      "facility_type      24787 non-null object\n",
      "inspection_date    25000 non-null datetime64[ns]\n",
      "inspection_type    25000 non-null object\n",
      "latitude           24865 non-null float64\n",
      "license_           24996 non-null float64\n",
      "location           24865 non-null object\n",
      "longitude          24865 non-null float64\n",
      "results            25000 non-null object\n",
      "risk               24995 non-null object\n",
      "state              24994 non-null object\n",
      "violations         23908 non-null object\n",
      "zip                24990 non-null object\n",
      "dtypes: datetime64[ns](1), float64(3), object(12)\n",
      "memory usage: 3.9+ MB\n"
     ]
    }
   ],
   "source": [
    "dta.info()"
   ]
  },
  {
   "cell_type": "code",
   "execution_count": 42,
   "metadata": {},
   "outputs": [],
   "source": [
    "dta.results = dta.results.astype('category')\n",
    "dta.risk = dta.risk.astype('category')\n",
    "dta.inspection_type = dta.inspection_type.astype('category')\n",
    "dta.facility_type = dta.facility_type.astype('category')\n",
    "# by casting to a categorical - it can be internally represented as a 1/2/3/4 so its more efficent\n"
   ]
  },
  {
   "cell_type": "markdown",
   "metadata": {},
   "source": [
    "If we only select the categorical types, we can see some categorical variables descriptions."
   ]
  },
  {
   "cell_type": "markdown",
   "metadata": {},
   "source": [
    "We can use the `select_dtypes` method to pull out a DataFrame with only the asked for types."
   ]
  },
  {
   "cell_type": "code",
   "execution_count": 43,
   "metadata": {},
   "outputs": [
    {
     "data": {
      "text/html": [
       "<div>\n",
       "<style scoped>\n",
       "    .dataframe tbody tr th:only-of-type {\n",
       "        vertical-align: middle;\n",
       "    }\n",
       "\n",
       "    .dataframe tbody tr th {\n",
       "        vertical-align: top;\n",
       "    }\n",
       "\n",
       "    .dataframe thead th {\n",
       "        text-align: right;\n",
       "    }\n",
       "</style>\n",
       "<table border=\"1\" class=\"dataframe\">\n",
       "  <thead>\n",
       "    <tr style=\"text-align: right;\">\n",
       "      <th></th>\n",
       "      <th>facility_type</th>\n",
       "      <th>inspection_type</th>\n",
       "      <th>results</th>\n",
       "      <th>risk</th>\n",
       "    </tr>\n",
       "    <tr>\n",
       "      <th>inspection_id</th>\n",
       "      <th></th>\n",
       "      <th></th>\n",
       "      <th></th>\n",
       "      <th></th>\n",
       "    </tr>\n",
       "  </thead>\n",
       "  <tbody>\n",
       "    <tr>\n",
       "      <th>1965287</th>\n",
       "      <td>Restaurant</td>\n",
       "      <td>Canvass</td>\n",
       "      <td>Pass w/ Conditions</td>\n",
       "      <td>Risk 1 (High)</td>\n",
       "    </tr>\n",
       "    <tr>\n",
       "      <th>1329698</th>\n",
       "      <td>Restaurant</td>\n",
       "      <td>Canvass</td>\n",
       "      <td>Pass</td>\n",
       "      <td>Risk 1 (High)</td>\n",
       "    </tr>\n",
       "    <tr>\n",
       "      <th>470787</th>\n",
       "      <td>Restaurant</td>\n",
       "      <td>SFP</td>\n",
       "      <td>Fail</td>\n",
       "      <td>Risk 1 (High)</td>\n",
       "    </tr>\n",
       "    <tr>\n",
       "      <th>68091</th>\n",
       "      <td>Restaurant</td>\n",
       "      <td>Canvass</td>\n",
       "      <td>Pass</td>\n",
       "      <td>Risk 2 (Medium)</td>\n",
       "    </tr>\n",
       "    <tr>\n",
       "      <th>1335320</th>\n",
       "      <td>Mobile Food Dispenser</td>\n",
       "      <td>License Re-Inspection</td>\n",
       "      <td>Fail</td>\n",
       "      <td>Risk 3 (Low)</td>\n",
       "    </tr>\n",
       "  </tbody>\n",
       "</table>\n",
       "</div>"
      ],
      "text/plain": [
       "                       facility_type        inspection_type  \\\n",
       "inspection_id                                                 \n",
       "1965287                   Restaurant                Canvass   \n",
       "1329698                   Restaurant                Canvass   \n",
       "470787                    Restaurant                    SFP   \n",
       "68091                     Restaurant                Canvass   \n",
       "1335320        Mobile Food Dispenser  License Re-Inspection   \n",
       "\n",
       "                          results             risk  \n",
       "inspection_id                                       \n",
       "1965287        Pass w/ Conditions    Risk 1 (High)  \n",
       "1329698                      Pass    Risk 1 (High)  \n",
       "470787                       Fail    Risk 1 (High)  \n",
       "68091                        Pass  Risk 2 (Medium)  \n",
       "1335320                      Fail     Risk 3 (Low)  "
      ]
     },
     "execution_count": 43,
     "metadata": {},
     "output_type": "execute_result"
    }
   ],
   "source": [
    "dta.select_dtypes(['category']).head()"
   ]
  },
  {
   "cell_type": "markdown",
   "metadata": {},
   "source": [
    "Finally, we might want to exclude a column like `location` since we have the separate `latitude` and `longitude` columns. We can delete columns in a DataFrame using Python's built-in `del` statement."
   ]
  },
  {
   "cell_type": "code",
   "execution_count": null,
   "metadata": {},
   "outputs": [],
   "source": [
    "del dta['location']"
   ]
  },
  {
   "cell_type": "markdown",
   "metadata": {},
   "source": [
    "## Dealing with Types using csv Reader"
   ]
  },
  {
   "cell_type": "markdown",
   "metadata": {},
   "source": [
    "We can do everything that we did above by providing options to `pd.read_csv`.\n",
    "\n",
    "We saw before that `csv` reads everything in as strings, `json` does some type conversion with facility for doing more, and `pandas` does a bit more type conversion but it isn't always what we want. For example, we want the zip codes to stay strings."
   ]
  },
  {
   "cell_type": "markdown",
   "metadata": {},
   "source": [
    "Let's take a look at how to do with pandas `read_csv`. First, we can use the `parse_dates` argument to read in the larger inspections data sample and tell pandas that one of our columns is a date column. We'll also go ahead and make `inspection_id` the index."
   ]
  },
  {
   "cell_type": "code",
   "execution_count": 46,
   "metadata": {},
   "outputs": [],
   "source": [
    "dta = pd.read_csv(\n",
    "    \"data/health_inspection_chi.csv\", \n",
    "    index_col=\"inspection_id\",\n",
    "    parse_dates=[\"inspection_date\"]\n",
    ")\n",
    "# makes inspection_date a datetime object"
   ]
  },
  {
   "cell_type": "code",
   "execution_count": null,
   "metadata": {},
   "outputs": [],
   "source": []
  },
  {
   "cell_type": "markdown",
   "metadata": {},
   "source": [
    "Next, we want to turn the zip codes into strings. Here, we need to assume that the input (from the file) is a string as opposed to the above."
   ]
  },
  {
   "cell_type": "code",
   "execution_count": 47,
   "metadata": {},
   "outputs": [],
   "source": [
    "import numpy as np\n",
    "\n",
    "\n",
    "def float_to_zip(zip_code):\n",
    "    # convert from the string in the file to a float\n",
    "    try:\n",
    "        zip_code = float(zip_code)\n",
    "    except ValueError:  # some of them are empty\n",
    "        return np.nan\n",
    "    \n",
    "    # 0 makes sure to left-pad with zero\n",
    "    # zip codes have 5 digits\n",
    "    # .0 means, we don't want anything after the decimal\n",
    "    # f is for float\n",
    "    zip_code = \"{:05.0f}\".format(zip_code)\n",
    "    return zip_code"
   ]
  },
  {
   "cell_type": "code",
   "execution_count": 48,
   "metadata": {},
   "outputs": [
    {
     "data": {
      "text/plain": [
       "'01234'"
      ]
     },
     "execution_count": 48,
     "metadata": {},
     "output_type": "execute_result"
    }
   ],
   "source": [
    "float_to_zip('1234')"
   ]
  },
  {
   "cell_type": "code",
   "execution_count": 49,
   "metadata": {},
   "outputs": [
    {
     "data": {
      "text/plain": [
       "'123456'"
      ]
     },
     "execution_count": 49,
     "metadata": {},
     "output_type": "execute_result"
    }
   ],
   "source": [
    "float_to_zip('123456')"
   ]
  },
  {
   "cell_type": "markdown",
   "metadata": {},
   "source": [
    "As another example of defensive programming, we have to make sure that empty strings are handled."
   ]
  },
  {
   "cell_type": "code",
   "execution_count": 50,
   "metadata": {},
   "outputs": [
    {
     "data": {
      "text/plain": [
       "nan"
      ]
     },
     "execution_count": 50,
     "metadata": {},
     "output_type": "execute_result"
    }
   ],
   "source": [
    "float_to_zip('')"
   ]
  },
  {
   "cell_type": "markdown",
   "metadata": {},
   "source": [
    "We can supply this function to the `converters` argument."
   ]
  },
  {
   "cell_type": "code",
   "execution_count": null,
   "metadata": {},
   "outputs": [],
   "source": [
    "dta = pd.read_csv(\n",
    "    \"data/health_inspection_chi.csv\",\n",
    "    converters={\n",
    "        'zip': float_to_zip\n",
    "    },\n",
    ")"
   ]
  },
  {
   "cell_type": "code",
   "execution_count": null,
   "metadata": {},
   "outputs": [],
   "source": [
    "dta.head()"
   ]
  },
  {
   "cell_type": "markdown",
   "metadata": {},
   "source": [
    "To exclude location, we can take advantage of the fact that the `usecols` argument accepts a function to exclude `location`."
   ]
  },
  {
   "cell_type": "code",
   "execution_count": null,
   "metadata": {},
   "outputs": [],
   "source": [
    "dta = pd.read_csv(\n",
    "    \"data/health_inspection_chi.csv\",\n",
    "    usecols=lambda col: col != 'location'\n",
    ")"
   ]
  },
  {
   "cell_type": "markdown",
   "metadata": {},
   "source": [
    "Here we are using a **lambda function** that returns `False` for the location parameter. Lambda functions are what are known as anonymous functions, because they don't have a name. This kind of thing is precisely their intended use.\n",
    "\n",
    "Here we use a function `lambda x: x` to map the identity function over a list."
   ]
  },
  {
   "cell_type": "code",
   "execution_count": 53,
   "metadata": {},
   "outputs": [
    {
     "data": {
      "text/plain": [
       "[1, 2, 3]"
      ]
     },
     "execution_count": 53,
     "metadata": {},
     "output_type": "execute_result"
    }
   ],
   "source": [
    "list(map(lambda x: x, [1, 2, 3]))"
   ]
  },
  {
   "cell_type": "markdown",
   "metadata": {},
   "source": [
    "Finally, in a few cases we may want to take advantage of the pandas native `categorical` type. We can use the `dtype` argument for this, passing a dictionary of type mappings."
   ]
  },
  {
   "cell_type": "code",
   "execution_count": null,
   "metadata": {},
   "outputs": [],
   "source": [
    "dta = pd.read_csv(\n",
    "    \"data/health_inspection_chi.csv\",\n",
    "    dtype={\n",
    "        'results': 'category',\n",
    "        'risk': 'category',\n",
    "        'inspection_type': 'category',\n",
    "        'facility_type': 'category'\n",
    "    }\n",
    ")"
   ]
  },
  {
   "cell_type": "code",
   "execution_count": null,
   "metadata": {},
   "outputs": [],
   "source": [
    "dta.risk.head()"
   ]
  },
  {
   "cell_type": "markdown",
   "metadata": {},
   "source": [
    "## Exercise\n",
    "\n",
    "Put all of the above `read_csv` options together in a single call to `read_csv`."
   ]
  },
  {
   "cell_type": "code",
   "execution_count": null,
   "metadata": {},
   "outputs": [],
   "source": [
    "# Type your solution here"
   ]
  },
  {
   "cell_type": "code",
   "execution_count": null,
   "metadata": {},
   "outputs": [],
   "source": [
    "# %load solutions/pandas_read_csv.py\n",
    "import numpy as np\n",
    "import pandas as pd\n",
    "\n",
    "\n",
    "def float_to_zip(zip_code):\n",
    "    # convert from the string in the file to a float\n",
    "    try:\n",
    "        zip_code = float(zip_code)\n",
    "    except ValueError:  # some of them are empty\n",
    "        return np.nan\n",
    "\n",
    "    # 0 makes sure to left-pad with zero\n",
    "    # zip codes have 5 digits\n",
    "    # .0 means, we don't want anything after the decimal\n",
    "    # f is for float\n",
    "    zip_code = \"{:05.0f}\".format(zip_code)\n",
    "    return zip_code\n",
    "\n",
    "\n",
    "dta = pd.read_csv(\n",
    "    \"data/health_inspection_chi.csv\",\n",
    "    index_col='inspection_id',\n",
    "    parse_dates=['inspection_date'],\n",
    "    converters={\n",
    "        'zip': float_to_zip\n",
    "    },\n",
    "    usecols=lambda col: col != 'location',\n",
    "    dtype={\n",
    "        'results': 'category',\n",
    "        'risk': 'category',\n",
    "        'inspection_type': 'category',\n",
    "        'facility_type': 'category'\n",
    "    }\n",
    ")\n",
    "\n",
    "\n",
    "assert float_to_zip('1234')\n",
    "assert float_to_zip('123456')\n",
    "assert np.isnan(float_to_zip(''))\n"
   ]
  },
  {
   "cell_type": "markdown",
   "metadata": {},
   "source": [
    "## String Cleaning"
   ]
  },
  {
   "cell_type": "markdown",
   "metadata": {},
   "source": [
    "Ok, let's start to dig into the data a little bit more. One of the things we're going to be really interested in exploring is the free text of the violations field."
   ]
  },
  {
   "cell_type": "markdown",
   "metadata": {},
   "source": [
    "The first thing to notice is that the violations field has null values in it."
   ]
  },
  {
   "cell_type": "code",
   "execution_count": 55,
   "metadata": {},
   "outputs": [
    {
     "name": "stdout",
     "output_type": "stream",
     "text": [
      "<class 'pandas.core.frame.DataFrame'>\n",
      "Int64Index: 25000 entries, 1965287 to 413268\n",
      "Data columns (total 16 columns):\n",
      "address            25000 non-null object\n",
      "aka_name           24709 non-null object\n",
      "city               24981 non-null object\n",
      "dba_name           25000 non-null object\n",
      "facility_type      24787 non-null object\n",
      "inspection_date    25000 non-null datetime64[ns]\n",
      "inspection_type    25000 non-null object\n",
      "latitude           24865 non-null float64\n",
      "license_           24996 non-null float64\n",
      "location           24865 non-null object\n",
      "longitude          24865 non-null float64\n",
      "results            25000 non-null object\n",
      "risk               24995 non-null object\n",
      "state              24994 non-null object\n",
      "violations         23908 non-null object\n",
      "zip                24990 non-null float64\n",
      "dtypes: datetime64[ns](1), float64(4), object(11)\n",
      "memory usage: 3.2+ MB\n"
     ]
    }
   ],
   "source": [
    "dta.info()"
   ]
  },
  {
   "cell_type": "markdown",
   "metadata": {},
   "source": [
    "We may want to ask ourselves if these values are missing at random or if there is some reason there's no written violation field."
   ]
  },
  {
   "cell_type": "code",
   "execution_count": 56,
   "metadata": {},
   "outputs": [
    {
     "data": {
      "text/html": [
       "<div>\n",
       "<style scoped>\n",
       "    .dataframe tbody tr th:only-of-type {\n",
       "        vertical-align: middle;\n",
       "    }\n",
       "\n",
       "    .dataframe tbody tr th {\n",
       "        vertical-align: top;\n",
       "    }\n",
       "\n",
       "    .dataframe thead th {\n",
       "        text-align: right;\n",
       "    }\n",
       "</style>\n",
       "<table border=\"1\" class=\"dataframe\">\n",
       "  <thead>\n",
       "    <tr style=\"text-align: right;\">\n",
       "      <th></th>\n",
       "      <th>address</th>\n",
       "      <th>aka_name</th>\n",
       "      <th>city</th>\n",
       "      <th>dba_name</th>\n",
       "      <th>facility_type</th>\n",
       "      <th>inspection_date</th>\n",
       "      <th>inspection_type</th>\n",
       "      <th>latitude</th>\n",
       "      <th>license_</th>\n",
       "      <th>location</th>\n",
       "      <th>longitude</th>\n",
       "      <th>results</th>\n",
       "      <th>risk</th>\n",
       "      <th>state</th>\n",
       "      <th>violations</th>\n",
       "      <th>zip</th>\n",
       "    </tr>\n",
       "    <tr>\n",
       "      <th>inspection_id</th>\n",
       "      <th></th>\n",
       "      <th></th>\n",
       "      <th></th>\n",
       "      <th></th>\n",
       "      <th></th>\n",
       "      <th></th>\n",
       "      <th></th>\n",
       "      <th></th>\n",
       "      <th></th>\n",
       "      <th></th>\n",
       "      <th></th>\n",
       "      <th></th>\n",
       "      <th></th>\n",
       "      <th></th>\n",
       "      <th></th>\n",
       "      <th></th>\n",
       "    </tr>\n",
       "  </thead>\n",
       "  <tbody>\n",
       "    <tr>\n",
       "      <th>68091</th>\n",
       "      <td>2804 N CLARK ST</td>\n",
       "      <td>Wells Street Popcorn</td>\n",
       "      <td>CHICAGO</td>\n",
       "      <td>Wells Street Popcorn</td>\n",
       "      <td>Restaurant</td>\n",
       "      <td>2010-02-01</td>\n",
       "      <td>Canvass</td>\n",
       "      <td>41.932921</td>\n",
       "      <td>1954774.0</td>\n",
       "      <td>{'type': 'Point', 'coordinates': [-87.64515454...</td>\n",
       "      <td>-87.645155</td>\n",
       "      <td>Pass</td>\n",
       "      <td>Risk 2 (Medium)</td>\n",
       "      <td>IL</td>\n",
       "      <td>NaN</td>\n",
       "      <td>60657.0</td>\n",
       "    </tr>\n",
       "    <tr>\n",
       "      <th>233722</th>\n",
       "      <td>3121 W CERMAK RD</td>\n",
       "      <td>TAQUERIA EL PALMAR</td>\n",
       "      <td>CHICAGO</td>\n",
       "      <td>TAQUERIA EL PALMAR</td>\n",
       "      <td>NaN</td>\n",
       "      <td>2010-05-11</td>\n",
       "      <td>Canvass</td>\n",
       "      <td>41.851674</td>\n",
       "      <td>1243326.0</td>\n",
       "      <td>{'type': 'Point', 'coordinates': [-87.70378752...</td>\n",
       "      <td>-87.703788</td>\n",
       "      <td>Fail</td>\n",
       "      <td>Risk 1 (High)</td>\n",
       "      <td>IL</td>\n",
       "      <td>NaN</td>\n",
       "      <td>60623.0</td>\n",
       "    </tr>\n",
       "    <tr>\n",
       "      <th>284278</th>\n",
       "      <td>3813-3815 W CHICAGO AVE</td>\n",
       "      <td>SUGA RAY'S SPORTS GRILL</td>\n",
       "      <td>CHICAGO</td>\n",
       "      <td>SUGA RAY'S SPORTS GRILL</td>\n",
       "      <td>Restaurant</td>\n",
       "      <td>2010-08-12</td>\n",
       "      <td>Canvass</td>\n",
       "      <td>41.895297</td>\n",
       "      <td>1922230.0</td>\n",
       "      <td>{'type': 'Point', 'coordinates': [-87.72179977...</td>\n",
       "      <td>-87.721800</td>\n",
       "      <td>Out of Business</td>\n",
       "      <td>Risk 2 (Medium)</td>\n",
       "      <td>IL</td>\n",
       "      <td>NaN</td>\n",
       "      <td>60651.0</td>\n",
       "    </tr>\n",
       "    <tr>\n",
       "      <th>231272</th>\n",
       "      <td>1204 W 36TH PL</td>\n",
       "      <td>MOBILE TRUCK #13</td>\n",
       "      <td>CHICAGO</td>\n",
       "      <td>THUNDERBIRD CATERING</td>\n",
       "      <td>Mobile Food Dispenser</td>\n",
       "      <td>2010-03-22</td>\n",
       "      <td>License</td>\n",
       "      <td>41.828094</td>\n",
       "      <td>1476473.0</td>\n",
       "      <td>{'type': 'Point', 'coordinates': [-87.65585369...</td>\n",
       "      <td>-87.655854</td>\n",
       "      <td>Pass</td>\n",
       "      <td>Risk 3 (Low)</td>\n",
       "      <td>IL</td>\n",
       "      <td>NaN</td>\n",
       "      <td>60609.0</td>\n",
       "    </tr>\n",
       "    <tr>\n",
       "      <th>277874</th>\n",
       "      <td>2826 N LINCOLN AVE</td>\n",
       "      <td>MGM Catering</td>\n",
       "      <td>CHICAGO</td>\n",
       "      <td>MGM Catering</td>\n",
       "      <td>Catering</td>\n",
       "      <td>2010-08-02</td>\n",
       "      <td>License</td>\n",
       "      <td>41.933101</td>\n",
       "      <td>2037141.0</td>\n",
       "      <td>{'type': 'Point', 'coordinates': [-87.65968295...</td>\n",
       "      <td>-87.659683</td>\n",
       "      <td>Pass</td>\n",
       "      <td>Risk 1 (High)</td>\n",
       "      <td>IL</td>\n",
       "      <td>NaN</td>\n",
       "      <td>60657.0</td>\n",
       "    </tr>\n",
       "  </tbody>\n",
       "</table>\n",
       "</div>"
      ],
      "text/plain": [
       "                                address                 aka_name     city  \\\n",
       "inspection_id                                                               \n",
       "68091                  2804 N CLARK ST      Wells Street Popcorn  CHICAGO   \n",
       "233722                3121 W CERMAK RD        TAQUERIA EL PALMAR  CHICAGO   \n",
       "284278         3813-3815 W CHICAGO AVE   SUGA RAY'S SPORTS GRILL  CHICAGO   \n",
       "231272                  1204 W 36TH PL          MOBILE TRUCK #13  CHICAGO   \n",
       "277874              2826 N LINCOLN AVE              MGM Catering  CHICAGO   \n",
       "\n",
       "                              dba_name          facility_type inspection_date  \\\n",
       "inspection_id                                                                   \n",
       "68091             Wells Street Popcorn             Restaurant      2010-02-01   \n",
       "233722              TAQUERIA EL PALMAR                    NaN      2010-05-11   \n",
       "284278         SUGA RAY'S SPORTS GRILL             Restaurant      2010-08-12   \n",
       "231272            THUNDERBIRD CATERING  Mobile Food Dispenser      2010-03-22   \n",
       "277874                    MGM Catering               Catering      2010-08-02   \n",
       "\n",
       "              inspection_type   latitude   license_  \\\n",
       "inspection_id                                         \n",
       "68091                 Canvass  41.932921  1954774.0   \n",
       "233722                Canvass  41.851674  1243326.0   \n",
       "284278                Canvass  41.895297  1922230.0   \n",
       "231272                License  41.828094  1476473.0   \n",
       "277874                License  41.933101  2037141.0   \n",
       "\n",
       "                                                        location  longitude  \\\n",
       "inspection_id                                                                 \n",
       "68091          {'type': 'Point', 'coordinates': [-87.64515454... -87.645155   \n",
       "233722         {'type': 'Point', 'coordinates': [-87.70378752... -87.703788   \n",
       "284278         {'type': 'Point', 'coordinates': [-87.72179977... -87.721800   \n",
       "231272         {'type': 'Point', 'coordinates': [-87.65585369... -87.655854   \n",
       "277874         {'type': 'Point', 'coordinates': [-87.65968295... -87.659683   \n",
       "\n",
       "                       results             risk state violations      zip  \n",
       "inspection_id                                                              \n",
       "68091                     Pass  Risk 2 (Medium)    IL        NaN  60657.0  \n",
       "233722                    Fail    Risk 1 (High)    IL        NaN  60623.0  \n",
       "284278         Out of Business  Risk 2 (Medium)    IL        NaN  60651.0  \n",
       "231272                    Pass     Risk 3 (Low)    IL        NaN  60609.0  \n",
       "277874                    Pass    Risk 1 (High)    IL        NaN  60657.0  "
      ]
     },
     "execution_count": 56,
     "metadata": {},
     "output_type": "execute_result"
    }
   ],
   "source": [
    "dta.loc[dta.violations.isnull()].head()"
   ]
  },
  {
   "cell_type": "markdown",
   "metadata": {},
   "source": [
    "It looks like we're ok. The next thing to notice is that the violation field actually has a lot of violations in the same field for the same visit."
   ]
  },
  {
   "cell_type": "code",
   "execution_count": 57,
   "metadata": {},
   "outputs": [
    {
     "name": "stdout",
     "output_type": "stream",
     "text": [
      "inspection_id\n",
      "1965287    35. WALLS, CEILINGS, ATTACHED EQUIPMENT CONSTRUCTED PER CODE: GOOD REPAIR, SURFACES CLEAN AND DUST-LESS CLEANING METHODS - Comments: MUST CLEAN THE WALLS AT WALL BASE NEAR THE MIXER IN REAR OF PREMISES AND THE PREP AREA OF FOOD SPILLS AND CLEAN THE WALL VENT IN PREP AREA ,INSTRUCTED TO CLEAN AND MAINTAIN AREA | 33. FOOD AND NON-FOOD CONTACT EQUIPMENT UTENSILS CLEAN, FREE OF ABRASIVE DETERGENTS - Comments: MUST CLEAN THE INTERIOR PANEL OF THE ICE MACHINE IN REAR OF PREMISES | 34. FLOORS: CONS...\n",
      "1329698    33. FOOD AND NON-FOOD CONTACT EQUIPMENT UTENSILS CLEAN, FREE OF ABRASIVE DETERGENTS - Comments: Non food contact surfaces of ice machine not clean, needs cleaning. \\nNon food contact surfaces of cooler shelving/racks not clean, need cleaning. \\nPrep table lower shelving not clean, need detailed cleaning(crevices). | 34. FLOORS: CONSTRUCTED PER CODE, CLEANED, GOOD REPAIR, COVING INSTALLED, DUST-LESS CLEANING METHODS USED - Comments: Floors under heavy equipment, cooking equipment not clean, n...\n",
      "470787     6. HANDS WASHED AND CLEANED, GOOD HYGIENIC PRACTICES; NO BARE HAND CONTACT WITH READY-TO-EAT FOODS. - Comments: All employees who handle food shall wash their hands as often as necessary to maintain a high degree of personal cleanliness and should conform to hygienic practices prescribed by the Board of Health. \\n \\nPOOR HYGIENIC PRACTICES. OBSERVED EMPLOYEE ENTERING THE KITCHEN SET UP DIRTY DISHES IN A TRAY,PUT IT THROUGH THE  DISH MACHINE AND WITHOUT WASHING HANDS COLLECTED,AND STORED  CLE...\n",
      "68091                                                                                                                                                                                                                                                                                                                                                                                                                                                                                                                      NaN\n",
      "1335320    32. FOOD AND NON-FOOD CONTACT SURFACES PROPERLY DESIGNED, CONSTRUCTED AND MAINTAINED - Comments: THE PIPING MATERIAL USED FOR THE FRESH WATER SUPPLY INSIDE THE (MFD)TRUCK MUST BE FOOD GRADE/NSF APPROVED PROVIDE DOCUMENTATION. \\n | 38. VENTILATION: ROOMS AND EQUIPMENT VENTED AS REQUIRED: PLUMBING: INSTALLED AND MAINTAINED - Comments: MUST REPAIR WATER LEAK AT DRAIN PIPE BENEATH THE EXPOSED HANDSINK. | 9. WATER SOURCE: SAFE, HOT & COLD UNDER CITY PRESSURE - Comments: VIOLATION CORRECTED. | 12....\n",
      "Name: violations, dtype: object\n"
     ]
    }
   ],
   "source": [
    "with pd.option_context(\"display.max_colwidth\", 500):\n",
    "    print(dta.violations.head())"
   ]
  },
  {
   "cell_type": "markdown",
   "metadata": {},
   "source": [
    "Let's split these out to make a longer DataFrame where each violation is a single row. Pandas provides a nice way to munge string data through the `str` accessor on string columns.\n",
    "\n",
    "```python\n",
    "dta.violations.str.<TAB>\n",
    "```"
   ]
  },
  {
   "cell_type": "markdown",
   "metadata": {},
   "source": [
    "## Exercise\n",
    "\n",
    "Let's see how many violations we have per visit. What does the distribution of violations look like? Explore the methods on the `str` accessor and, perhaps, the `quantile` method."
   ]
  },
  {
   "cell_type": "code",
   "execution_count": 62,
   "metadata": {},
   "outputs": [
    {
     "data": {
      "text/plain": [
       "<bound method _pat_wrapper.<locals>.wrapper2 of <pandas.core.strings.StringMethods object at 0x1139872e8>>"
      ]
     },
     "execution_count": 62,
     "metadata": {},
     "output_type": "execute_result"
    }
   ],
   "source": [
    "# Type your solution here\n",
    "dta.violations.str."
   ]
  },
  {
   "cell_type": "code",
   "execution_count": 75,
   "metadata": {},
   "outputs": [
    {
     "data": {
      "text/plain": [
       "0.5     4.0\n",
       "1.0    19.0\n",
       "Name: violations, dtype: float64"
      ]
     },
     "execution_count": 75,
     "metadata": {},
     "output_type": "execute_result"
    }
   ],
   "source": [
    "# %load solutions/violation_distribution.py\n",
    "import numpy as np\n",
    "import pandas as pd\n",
    "\n",
    "\n",
    "def float_to_zip(zip_code):\n",
    "    # convert from the string in the file to a float\n",
    "    try:\n",
    "        zip_code = float(zip_code)\n",
    "    except ValueError:  # some of them are empty\n",
    "        return np.nan\n",
    "\n",
    "    # 0 makes sure to left-pad with zero\n",
    "    # zip codes have 5 digits\n",
    "    # .0 means, we don't want anything after the decimal\n",
    "    # f is for float\n",
    "    zip_code = \"{:05.0f}\".format(zip_code)\n",
    "    return zip_code\n",
    "\n",
    "\n",
    "dta = pd.read_csv(\n",
    "    \"data/health_inspection_chi.csv\",\n",
    "    index_col='inspection_id',\n",
    "    parse_dates=['inspection_date'],\n",
    "    converters={\n",
    "        'zip': float_to_zip\n",
    "    },\n",
    "    usecols=lambda col: col != 'location',\n",
    "    dtype={\n",
    "        'results': 'category',\n",
    "        'risk': 'category',\n",
    "        'inspection_type': 'category',\n",
    "        'facility_type': 'category'\n",
    "    }\n",
    ")\n",
    "\n",
    "\n",
    "quantiles = [.50, 1.00]\n",
    "(dta.violations.str.count(\"\\|\") + 1).quantile(quantiles)\n"
   ]
  },
  {
   "cell_type": "code",
   "execution_count": 77,
   "metadata": {},
   "outputs": [
    {
     "data": {
      "text/plain": [
       "19.0"
      ]
     },
     "execution_count": 77,
     "metadata": {},
     "output_type": "execute_result"
    }
   ],
   "source": [
    "(dta.violations.str.count(\"\\|\") + 1).max()"
   ]
  },
  {
   "cell_type": "markdown",
   "metadata": {},
   "source": [
    "Ok, we have a manageable number of violations. Let's split the violations and then turn them into a long DataFrame with a single row for each violation within each visit."
   ]
  },
  {
   "cell_type": "code",
   "execution_count": 96,
   "metadata": {},
   "outputs": [
    {
     "data": {
      "text/html": [
       "<div>\n",
       "<style scoped>\n",
       "    .dataframe tbody tr th:only-of-type {\n",
       "        vertical-align: middle;\n",
       "    }\n",
       "\n",
       "    .dataframe tbody tr th {\n",
       "        vertical-align: top;\n",
       "    }\n",
       "\n",
       "    .dataframe thead th {\n",
       "        text-align: right;\n",
       "    }\n",
       "</style>\n",
       "<table border=\"1\" class=\"dataframe\">\n",
       "  <thead>\n",
       "    <tr style=\"text-align: right;\">\n",
       "      <th></th>\n",
       "      <th>0</th>\n",
       "      <th>1</th>\n",
       "      <th>2</th>\n",
       "      <th>3</th>\n",
       "      <th>4</th>\n",
       "      <th>5</th>\n",
       "      <th>6</th>\n",
       "      <th>7</th>\n",
       "      <th>8</th>\n",
       "      <th>9</th>\n",
       "      <th>10</th>\n",
       "      <th>11</th>\n",
       "      <th>12</th>\n",
       "      <th>13</th>\n",
       "      <th>14</th>\n",
       "      <th>15</th>\n",
       "      <th>16</th>\n",
       "      <th>17</th>\n",
       "      <th>18</th>\n",
       "    </tr>\n",
       "    <tr>\n",
       "      <th>inspection_id</th>\n",
       "      <th></th>\n",
       "      <th></th>\n",
       "      <th></th>\n",
       "      <th></th>\n",
       "      <th></th>\n",
       "      <th></th>\n",
       "      <th></th>\n",
       "      <th></th>\n",
       "      <th></th>\n",
       "      <th></th>\n",
       "      <th></th>\n",
       "      <th></th>\n",
       "      <th></th>\n",
       "      <th></th>\n",
       "      <th></th>\n",
       "      <th></th>\n",
       "      <th></th>\n",
       "      <th></th>\n",
       "      <th></th>\n",
       "    </tr>\n",
       "  </thead>\n",
       "  <tbody>\n",
       "    <tr>\n",
       "      <th>1965287</th>\n",
       "      <td>35. WALLS, CEILINGS, ATTACHED EQUIPMENT CONSTR...</td>\n",
       "      <td>33. FOOD AND NON-FOOD CONTACT EQUIPMENT UTENS...</td>\n",
       "      <td>34. FLOORS: CONSTRUCTED PER CODE, CLEANED, GO...</td>\n",
       "      <td>36. LIGHTING: REQUIRED MINIMUM FOOT-CANDLES O...</td>\n",
       "      <td>22. DISH MACHINES: PROVIDED WITH ACCURATE THE...</td>\n",
       "      <td>40. REFRIGERATION AND METAL STEM THERMOMETERS...</td>\n",
       "      <td>None</td>\n",
       "      <td>None</td>\n",
       "      <td>None</td>\n",
       "      <td>None</td>\n",
       "      <td>None</td>\n",
       "      <td>None</td>\n",
       "      <td>None</td>\n",
       "      <td>None</td>\n",
       "      <td>None</td>\n",
       "      <td>None</td>\n",
       "      <td>None</td>\n",
       "      <td>None</td>\n",
       "      <td>None</td>\n",
       "    </tr>\n",
       "    <tr>\n",
       "      <th>1329698</th>\n",
       "      <td>33. FOOD AND NON-FOOD CONTACT EQUIPMENT UTENSI...</td>\n",
       "      <td>34. FLOORS: CONSTRUCTED PER CODE, CLEANED, GO...</td>\n",
       "      <td>36. LIGHTING: REQUIRED MINIMUM FOOT-CANDLES O...</td>\n",
       "      <td>38. VENTILATION: ROOMS AND EQUIPMENT VENTED A...</td>\n",
       "      <td>None</td>\n",
       "      <td>None</td>\n",
       "      <td>None</td>\n",
       "      <td>None</td>\n",
       "      <td>None</td>\n",
       "      <td>None</td>\n",
       "      <td>None</td>\n",
       "      <td>None</td>\n",
       "      <td>None</td>\n",
       "      <td>None</td>\n",
       "      <td>None</td>\n",
       "      <td>None</td>\n",
       "      <td>None</td>\n",
       "      <td>None</td>\n",
       "      <td>None</td>\n",
       "    </tr>\n",
       "    <tr>\n",
       "      <th>470787</th>\n",
       "      <td>6. HANDS WASHED AND CLEANED, GOOD HYGIENIC PRA...</td>\n",
       "      <td>11. ADEQUATE NUMBER, CONVENIENT, ACCESSIBLE, ...</td>\n",
       "      <td>19. OUTSIDE GARBAGE WASTE GREASE AND STORAGE ...</td>\n",
       "      <td>36. LIGHTING: REQUIRED MINIMUM FOOT-CANDLES O...</td>\n",
       "      <td>3. POTENTIALLY HAZARDOUS FOOD MEETS TEMPERATU...</td>\n",
       "      <td>33. FOOD AND NON-FOOD CONTACT EQUIPMENT UTENS...</td>\n",
       "      <td>32. FOOD AND NON-FOOD CONTACT SURFACES PROPER...</td>\n",
       "      <td>35. WALLS, CEILINGS, ATTACHED EQUIPMENT CONST...</td>\n",
       "      <td>40. REFRIGERATION AND METAL STEM THERMOMETERS...</td>\n",
       "      <td>None</td>\n",
       "      <td>None</td>\n",
       "      <td>None</td>\n",
       "      <td>None</td>\n",
       "      <td>None</td>\n",
       "      <td>None</td>\n",
       "      <td>None</td>\n",
       "      <td>None</td>\n",
       "      <td>None</td>\n",
       "      <td>None</td>\n",
       "    </tr>\n",
       "    <tr>\n",
       "      <th>68091</th>\n",
       "      <td>NaN</td>\n",
       "      <td>NaN</td>\n",
       "      <td>NaN</td>\n",
       "      <td>NaN</td>\n",
       "      <td>NaN</td>\n",
       "      <td>NaN</td>\n",
       "      <td>NaN</td>\n",
       "      <td>NaN</td>\n",
       "      <td>NaN</td>\n",
       "      <td>NaN</td>\n",
       "      <td>NaN</td>\n",
       "      <td>NaN</td>\n",
       "      <td>NaN</td>\n",
       "      <td>NaN</td>\n",
       "      <td>NaN</td>\n",
       "      <td>NaN</td>\n",
       "      <td>NaN</td>\n",
       "      <td>NaN</td>\n",
       "      <td>NaN</td>\n",
       "    </tr>\n",
       "    <tr>\n",
       "      <th>1335320</th>\n",
       "      <td>32. FOOD AND NON-FOOD CONTACT SURFACES PROPERL...</td>\n",
       "      <td>38. VENTILATION: ROOMS AND EQUIPMENT VENTED A...</td>\n",
       "      <td>9. WATER SOURCE: SAFE, HOT &amp; COLD UNDER CITY ...</td>\n",
       "      <td>12. HAND WASHING FACILITIES: WITH SOAP AND SA...</td>\n",
       "      <td>18. NO EVIDENCE OF RODENT OR INSECT OUTER OPE...</td>\n",
       "      <td>30. FOOD IN ORIGINAL CONTAINER, PROPERLY LABE...</td>\n",
       "      <td>None</td>\n",
       "      <td>None</td>\n",
       "      <td>None</td>\n",
       "      <td>None</td>\n",
       "      <td>None</td>\n",
       "      <td>None</td>\n",
       "      <td>None</td>\n",
       "      <td>None</td>\n",
       "      <td>None</td>\n",
       "      <td>None</td>\n",
       "      <td>None</td>\n",
       "      <td>None</td>\n",
       "      <td>None</td>\n",
       "    </tr>\n",
       "  </tbody>\n",
       "</table>\n",
       "</div>"
      ],
      "text/plain": [
       "                                                              0   \\\n",
       "inspection_id                                                      \n",
       "1965287        35. WALLS, CEILINGS, ATTACHED EQUIPMENT CONSTR...   \n",
       "1329698        33. FOOD AND NON-FOOD CONTACT EQUIPMENT UTENSI...   \n",
       "470787         6. HANDS WASHED AND CLEANED, GOOD HYGIENIC PRA...   \n",
       "68091                                                        NaN   \n",
       "1335320        32. FOOD AND NON-FOOD CONTACT SURFACES PROPERL...   \n",
       "\n",
       "                                                              1   \\\n",
       "inspection_id                                                      \n",
       "1965287         33. FOOD AND NON-FOOD CONTACT EQUIPMENT UTENS...   \n",
       "1329698         34. FLOORS: CONSTRUCTED PER CODE, CLEANED, GO...   \n",
       "470787          11. ADEQUATE NUMBER, CONVENIENT, ACCESSIBLE, ...   \n",
       "68091                                                        NaN   \n",
       "1335320         38. VENTILATION: ROOMS AND EQUIPMENT VENTED A...   \n",
       "\n",
       "                                                              2   \\\n",
       "inspection_id                                                      \n",
       "1965287         34. FLOORS: CONSTRUCTED PER CODE, CLEANED, GO...   \n",
       "1329698         36. LIGHTING: REQUIRED MINIMUM FOOT-CANDLES O...   \n",
       "470787          19. OUTSIDE GARBAGE WASTE GREASE AND STORAGE ...   \n",
       "68091                                                        NaN   \n",
       "1335320         9. WATER SOURCE: SAFE, HOT & COLD UNDER CITY ...   \n",
       "\n",
       "                                                              3   \\\n",
       "inspection_id                                                      \n",
       "1965287         36. LIGHTING: REQUIRED MINIMUM FOOT-CANDLES O...   \n",
       "1329698         38. VENTILATION: ROOMS AND EQUIPMENT VENTED A...   \n",
       "470787          36. LIGHTING: REQUIRED MINIMUM FOOT-CANDLES O...   \n",
       "68091                                                        NaN   \n",
       "1335320         12. HAND WASHING FACILITIES: WITH SOAP AND SA...   \n",
       "\n",
       "                                                              4   \\\n",
       "inspection_id                                                      \n",
       "1965287         22. DISH MACHINES: PROVIDED WITH ACCURATE THE...   \n",
       "1329698                                                     None   \n",
       "470787          3. POTENTIALLY HAZARDOUS FOOD MEETS TEMPERATU...   \n",
       "68091                                                        NaN   \n",
       "1335320         18. NO EVIDENCE OF RODENT OR INSECT OUTER OPE...   \n",
       "\n",
       "                                                              5   \\\n",
       "inspection_id                                                      \n",
       "1965287         40. REFRIGERATION AND METAL STEM THERMOMETERS...   \n",
       "1329698                                                     None   \n",
       "470787          33. FOOD AND NON-FOOD CONTACT EQUIPMENT UTENS...   \n",
       "68091                                                        NaN   \n",
       "1335320         30. FOOD IN ORIGINAL CONTAINER, PROPERLY LABE...   \n",
       "\n",
       "                                                              6   \\\n",
       "inspection_id                                                      \n",
       "1965287                                                     None   \n",
       "1329698                                                     None   \n",
       "470787          32. FOOD AND NON-FOOD CONTACT SURFACES PROPER...   \n",
       "68091                                                        NaN   \n",
       "1335320                                                     None   \n",
       "\n",
       "                                                              7   \\\n",
       "inspection_id                                                      \n",
       "1965287                                                     None   \n",
       "1329698                                                     None   \n",
       "470787          35. WALLS, CEILINGS, ATTACHED EQUIPMENT CONST...   \n",
       "68091                                                        NaN   \n",
       "1335320                                                     None   \n",
       "\n",
       "                                                              8     9     10  \\\n",
       "inspection_id                                                                  \n",
       "1965287                                                     None  None  None   \n",
       "1329698                                                     None  None  None   \n",
       "470787          40. REFRIGERATION AND METAL STEM THERMOMETERS...  None  None   \n",
       "68091                                                        NaN   NaN   NaN   \n",
       "1335320                                                     None  None  None   \n",
       "\n",
       "                 11    12    13    14    15    16    17    18  \n",
       "inspection_id                                                  \n",
       "1965287        None  None  None  None  None  None  None  None  \n",
       "1329698        None  None  None  None  None  None  None  None  \n",
       "470787         None  None  None  None  None  None  None  None  \n",
       "68091           NaN   NaN   NaN   NaN   NaN   NaN   NaN   NaN  \n",
       "1335320        None  None  None  None  None  None  None  None  "
      ]
     },
     "execution_count": 96,
     "metadata": {},
     "output_type": "execute_result"
    }
   ],
   "source": [
    "violations = dta.violations.str.split(\"\\|\", expand=True)\n",
    "violations.head()"
   ]
  },
  {
   "cell_type": "markdown",
   "metadata": {},
   "source": [
    "When we `unstack` the DataFrame, we're left with what's called a `MultiIndex`. This index has two *levels* now. One is the original `inspection_id`. The other is the, rather meaningless, column names."
   ]
  },
  {
   "cell_type": "code",
   "execution_count": 97,
   "metadata": {},
   "outputs": [
    {
     "data": {
      "text/plain": [
       "inspection_id   \n",
       "1965287        0    35. WALLS, CEILINGS, ATTACHED EQUIPMENT CONSTR...\n",
       "               1     33. FOOD AND NON-FOOD CONTACT EQUIPMENT UTENS...\n",
       "               2     34. FLOORS: CONSTRUCTED PER CODE, CLEANED, GO...\n",
       "               3     36. LIGHTING: REQUIRED MINIMUM FOOT-CANDLES O...\n",
       "               4     22. DISH MACHINES: PROVIDED WITH ACCURATE THE...\n",
       "               5     40. REFRIGERATION AND METAL STEM THERMOMETERS...\n",
       "1329698        0    33. FOOD AND NON-FOOD CONTACT EQUIPMENT UTENSI...\n",
       "               1     34. FLOORS: CONSTRUCTED PER CODE, CLEANED, GO...\n",
       "               2     36. LIGHTING: REQUIRED MINIMUM FOOT-CANDLES O...\n",
       "               3     38. VENTILATION: ROOMS AND EQUIPMENT VENTED A...\n",
       "470787         0    6. HANDS WASHED AND CLEANED, GOOD HYGIENIC PRA...\n",
       "               1     11. ADEQUATE NUMBER, CONVENIENT, ACCESSIBLE, ...\n",
       "               2     19. OUTSIDE GARBAGE WASTE GREASE AND STORAGE ...\n",
       "               3     36. LIGHTING: REQUIRED MINIMUM FOOT-CANDLES O...\n",
       "               4     3. POTENTIALLY HAZARDOUS FOOD MEETS TEMPERATU...\n",
       "dtype: object"
      ]
     },
     "execution_count": 97,
     "metadata": {},
     "output_type": "execute_result"
    }
   ],
   "source": [
    "violations.stack().head(15)"
   ]
  },
  {
   "cell_type": "markdown",
   "metadata": {},
   "source": [
    "Let's get rid of the empty rows first."
   ]
  },
  {
   "cell_type": "code",
   "execution_count": 98,
   "metadata": {},
   "outputs": [],
   "source": [
    "violations = violations.unstack().dropna()"
   ]
  },
  {
   "cell_type": "code",
   "execution_count": 99,
   "metadata": {},
   "outputs": [
    {
     "data": {
      "text/plain": [
       "   inspection_id\n",
       "0  1965287          35. WALLS, CEILINGS, ATTACHED EQUIPMENT CONSTR...\n",
       "   1329698          33. FOOD AND NON-FOOD CONTACT EQUIPMENT UTENSI...\n",
       "   470787           6. HANDS WASHED AND CLEANED, GOOD HYGIENIC PRA...\n",
       "   1335320          32. FOOD AND NON-FOOD CONTACT SURFACES PROPERL...\n",
       "   1228169          38. VENTILATION: ROOMS AND EQUIPMENT VENTED AS...\n",
       "dtype: object"
      ]
     },
     "execution_count": 99,
     "metadata": {},
     "output_type": "execute_result"
    }
   ],
   "source": [
    "violations.head()"
   ]
  },
  {
   "cell_type": "markdown",
   "metadata": {},
   "source": [
    "Now we can drop the column name level, which we don't need."
   ]
  },
  {
   "cell_type": "code",
   "execution_count": 100,
   "metadata": {},
   "outputs": [],
   "source": [
    "violations.reset_index(level=0, drop=True, inplace=True)"
   ]
  },
  {
   "cell_type": "code",
   "execution_count": 102,
   "metadata": {},
   "outputs": [],
   "source": [
    "violations.sort_index(inplace = True)"
   ]
  },
  {
   "cell_type": "code",
   "execution_count": 103,
   "metadata": {},
   "outputs": [
    {
     "data": {
      "text/plain": [
       "inspection_id\n",
       "44249     33. FOOD AND NON-FOOD CONTACT EQUIPMENT UTENS...\n",
       "44249    41. PREMISES MAINTAINED FREE OF LITTER, UNNECE...\n",
       "44249     35. WALLS, CEILINGS, ATTACHED EQUIPMENT CONST...\n",
       "44249     18. NO EVIDENCE OF RODENT OR INSECT OUTER OPE...\n",
       "44249     34. FLOORS: CONSTRUCTED PER CODE, CLEANED, GO...\n",
       "dtype: object"
      ]
     },
     "execution_count": 103,
     "metadata": {},
     "output_type": "execute_result"
    }
   ],
   "source": [
    "violations.head()"
   ]
  },
  {
   "cell_type": "markdown",
   "metadata": {},
   "source": [
    "One last cleaning step may be helpful here. When we split on the pipe ('`|`'), we likely kept some surrounding whitespace. We can remove that."
   ]
  },
  {
   "cell_type": "code",
   "execution_count": 104,
   "metadata": {},
   "outputs": [
    {
     "data": {
      "text/plain": [
       "True"
      ]
     },
     "execution_count": 104,
     "metadata": {},
     "output_type": "execute_result"
    }
   ],
   "source": [
    "violations.str.startswith(\" \").any()"
   ]
  },
  {
   "cell_type": "code",
   "execution_count": 105,
   "metadata": {},
   "outputs": [
    {
     "data": {
      "text/plain": [
       "inspection_id\n",
       "44249    33. FOOD AND NON-FOOD CONTACT EQUIPMENT UTENSI...\n",
       "44249    41. PREMISES MAINTAINED FREE OF LITTER, UNNECE...\n",
       "44249    35. WALLS, CEILINGS, ATTACHED EQUIPMENT CONSTR...\n",
       "44249    18. NO EVIDENCE OF RODENT OR INSECT OUTER OPEN...\n",
       "44249    34. FLOORS: CONSTRUCTED PER CODE, CLEANED, GOO...\n",
       "dtype: object"
      ]
     },
     "execution_count": 105,
     "metadata": {},
     "output_type": "execute_result"
    }
   ],
   "source": [
    "violations.str.strip().head()"
   ]
  },
  {
   "cell_type": "code",
   "execution_count": 106,
   "metadata": {},
   "outputs": [
    {
     "data": {
      "text/plain": [
       "inspection_id\n",
       "1965287     33. FOOD AND NON-FOOD CONTACT EQUIPMENT UTENS...\n",
       "1965287     34. FLOORS: CONSTRUCTED PER CODE, CLEANED, GO...\n",
       "1965287     40. REFRIGERATION AND METAL STEM THERMOMETERS...\n",
       "1965287    35. WALLS, CEILINGS, ATTACHED EQUIPMENT CONSTR...\n",
       "1965287     36. LIGHTING: REQUIRED MINIMUM FOOT-CANDLES O...\n",
       "1965287     22. DISH MACHINES: PROVIDED WITH ACCURATE THE...\n",
       "dtype: object"
      ]
     },
     "execution_count": 106,
     "metadata": {},
     "output_type": "execute_result"
    }
   ],
   "source": [
    "violations.loc[[1965287]]"
   ]
  },
  {
   "cell_type": "code",
   "execution_count": 107,
   "metadata": {},
   "outputs": [],
   "source": [
    "violations = violations.str.strip()"
   ]
  },
  {
   "cell_type": "code",
   "execution_count": 108,
   "metadata": {},
   "outputs": [
    {
     "data": {
      "text/plain": [
       "False"
      ]
     },
     "execution_count": 108,
     "metadata": {},
     "output_type": "execute_result"
    }
   ],
   "source": [
    "((violations.str.startswith(\" \").any()) | \n",
    " (violations.str.endswith(\" \").any()))"
   ]
  },
  {
   "cell_type": "code",
   "execution_count": 109,
   "metadata": {},
   "outputs": [
    {
     "data": {
      "text/plain": [
       "inspection_id\n",
       "1965287    33. FOOD AND NON-FOOD CONTACT EQUIPMENT UTENSI...\n",
       "1965287    34. FLOORS: CONSTRUCTED PER CODE, CLEANED, GOO...\n",
       "1965287    40. REFRIGERATION AND METAL STEM THERMOMETERS ...\n",
       "1965287    35. WALLS, CEILINGS, ATTACHED EQUIPMENT CONSTR...\n",
       "1965287    36. LIGHTING: REQUIRED MINIMUM FOOT-CANDLES OF...\n",
       "1965287    22. DISH MACHINES: PROVIDED WITH ACCURATE THER...\n",
       "dtype: object"
      ]
     },
     "execution_count": 109,
     "metadata": {},
     "output_type": "execute_result"
    }
   ],
   "source": [
    "violations.loc[[1965287]]"
   ]
  },
  {
   "cell_type": "markdown",
   "metadata": {},
   "source": [
    "Later, we'll see how to combine these violations back with our original data to do some analysis."
   ]
  },
  {
   "cell_type": "markdown",
   "metadata": {},
   "source": [
    "## Working with Dates and Categoricals"
   ]
  },
  {
   "cell_type": "markdown",
   "metadata": {},
   "source": [
    "Above, we used the `str` accessor on the DataFrame. This isn't the only convenient accessor that pandas provides. There is also the `dt` accessor for datetime types and the `cat` accessor for categorical types."
   ]
  },
  {
   "cell_type": "markdown",
   "metadata": {},
   "source": [
    "```python\n",
    "dta.inspection_date.dt.<TAB>\n",
    "```"
   ]
  },
  {
   "cell_type": "code",
   "execution_count": 110,
   "metadata": {},
   "outputs": [
    {
     "data": {
      "text/plain": [
       "inspection_id\n",
       "1965287   2016-09-26\n",
       "1329698   2014-02-06\n",
       "470787    2010-12-03\n",
       "68091     2010-02-01\n",
       "1335320   2013-05-03\n",
       "Name: inspection_date, dtype: datetime64[ns]"
      ]
     },
     "execution_count": 110,
     "metadata": {},
     "output_type": "execute_result"
    }
   ],
   "source": [
    "dta.inspection_date.head()"
   ]
  },
  {
   "cell_type": "code",
   "execution_count": 91,
   "metadata": {},
   "outputs": [
    {
     "data": {
      "text/plain": [
       "inspection_id\n",
       "1965287     9\n",
       "1329698     2\n",
       "470787     12\n",
       "68091       2\n",
       "1335320     5\n",
       "Name: inspection_date, dtype: int64"
      ]
     },
     "execution_count": 91,
     "metadata": {},
     "output_type": "execute_result"
    }
   ],
   "source": [
    "dta.inspection_date.dt.month.head()"
   ]
  },
  {
   "cell_type": "markdown",
   "metadata": {},
   "source": [
    "Now, let's take a look at the categorical types."
   ]
  },
  {
   "cell_type": "markdown",
   "metadata": {},
   "source": [
    "```python\n",
    "dta.risk.cat.<TAB>\n",
    "```"
   ]
  },
  {
   "cell_type": "code",
   "execution_count": 111,
   "metadata": {},
   "outputs": [
    {
     "data": {
      "text/plain": [
       "inspection_id\n",
       "1965287      Risk 1 (High)\n",
       "1329698      Risk 1 (High)\n",
       "470787       Risk 1 (High)\n",
       "68091      Risk 2 (Medium)\n",
       "1335320       Risk 3 (Low)\n",
       "Name: risk, dtype: category\n",
       "Categories (4, object): [All, Risk 1 (High), Risk 2 (Medium), Risk 3 (Low)]"
      ]
     },
     "execution_count": 111,
     "metadata": {},
     "output_type": "execute_result"
    }
   ],
   "source": [
    "dta.risk.head()"
   ]
  },
  {
   "cell_type": "code",
   "execution_count": 112,
   "metadata": {},
   "outputs": [
    {
     "data": {
      "text/plain": [
       "inspection_id\n",
       "1965287    1\n",
       "1329698    1\n",
       "470787     1\n",
       "68091      2\n",
       "1335320    3\n",
       "dtype: int8"
      ]
     },
     "execution_count": 112,
     "metadata": {},
     "output_type": "execute_result"
    }
   ],
   "source": [
    "dta.risk.cat.codes.head()"
   ]
  },
  {
   "cell_type": "code",
   "execution_count": null,
   "metadata": {},
   "outputs": [],
   "source": []
  }
 ],
 "metadata": {
  "kernelspec": {
   "display_name": "Python 3",
   "language": "python",
   "name": "python3"
  },
  "language_info": {
   "codemirror_mode": {
    "name": "ipython",
    "version": 3
   },
   "file_extension": ".py",
   "mimetype": "text/x-python",
   "name": "python",
   "nbconvert_exporter": "python",
   "pygments_lexer": "ipython3",
   "version": "3.6.8"
  }
 },
 "nbformat": 4,
 "nbformat_minor": 2
}
